{
  "nbformat": 4,
  "nbformat_minor": 0,
  "metadata": {
    "colab": {
      "name": "CNN_submit_1csv.ipynb",
      "provenance": [],
      "collapsed_sections": []
    },
    "kernelspec": {
      "name": "python3",
      "display_name": "Python 3"
    },
    "language_info": {
      "name": "python"
    }
  },
  "cells": [
    {
      "cell_type": "code",
      "execution_count": 1,
      "metadata": {
        "id": "E3NHcOhaMWY3"
      },
      "outputs": [],
      "source": [
        "from tensorflow.keras.preprocessing.text import Tokenizer\n",
        "from tensorflow.keras.preprocessing.sequence import pad_sequences"
      ]
    },
    {
      "cell_type": "code",
      "source": [
        "import numpy as np\n",
        "max_long = 25"
      ],
      "metadata": {
        "id": "04LHeI1KMgDg"
      },
      "execution_count": 2,
      "outputs": []
    },
    {
      "cell_type": "code",
      "source": [
        "from google.colab import drive\n",
        "drive.mount('/content/gdrive')"
      ],
      "metadata": {
        "colab": {
          "base_uri": "https://localhost:8080/"
        },
        "id": "DlfgqbAtMj_R",
        "outputId": "91151236-7cd2-45c0-c4dc-c7bb1696a0e5"
      },
      "execution_count": 3,
      "outputs": [
        {
          "output_type": "stream",
          "name": "stdout",
          "text": [
            "Mounted at /content/gdrive\n"
          ]
        }
      ]
    },
    {
      "cell_type": "code",
      "source": [
        "import sys\n",
        "sys.path.append('/content/gdrive/My Drive')"
      ],
      "metadata": {
        "id": "r_b4a-wBMqWT"
      },
      "execution_count": 4,
      "outputs": []
    },
    {
      "cell_type": "code",
      "source": [
        "!pip install unidecode"
      ],
      "metadata": {
        "colab": {
          "base_uri": "https://localhost:8080/"
        },
        "id": "1upxosMNMv3e",
        "outputId": "4f44f257-f7f1-42c9-9929-8cda09230cfb"
      },
      "execution_count": 5,
      "outputs": [
        {
          "output_type": "stream",
          "name": "stdout",
          "text": [
            "Collecting unidecode\n",
            "  Downloading Unidecode-1.3.4-py3-none-any.whl (235 kB)\n",
            "\u001b[?25l\r\u001b[K     |█▍                              | 10 kB 23.6 MB/s eta 0:00:01\r\u001b[K     |██▉                             | 20 kB 29.3 MB/s eta 0:00:01\r\u001b[K     |████▏                           | 30 kB 33.5 MB/s eta 0:00:01\r\u001b[K     |█████▋                          | 40 kB 12.6 MB/s eta 0:00:01\r\u001b[K     |███████                         | 51 kB 10.1 MB/s eta 0:00:01\r\u001b[K     |████████▍                       | 61 kB 11.6 MB/s eta 0:00:01\r\u001b[K     |█████████▊                      | 71 kB 11.3 MB/s eta 0:00:01\r\u001b[K     |███████████▏                    | 81 kB 12.0 MB/s eta 0:00:01\r\u001b[K     |████████████▌                   | 92 kB 13.3 MB/s eta 0:00:01\r\u001b[K     |██████████████                  | 102 kB 12.4 MB/s eta 0:00:01\r\u001b[K     |███████████████▎                | 112 kB 12.4 MB/s eta 0:00:01\r\u001b[K     |████████████████▊               | 122 kB 12.4 MB/s eta 0:00:01\r\u001b[K     |██████████████████              | 133 kB 12.4 MB/s eta 0:00:01\r\u001b[K     |███████████████████▌            | 143 kB 12.4 MB/s eta 0:00:01\r\u001b[K     |████████████████████▉           | 153 kB 12.4 MB/s eta 0:00:01\r\u001b[K     |██████████████████████▎         | 163 kB 12.4 MB/s eta 0:00:01\r\u001b[K     |███████████████████████▋        | 174 kB 12.4 MB/s eta 0:00:01\r\u001b[K     |█████████████████████████       | 184 kB 12.4 MB/s eta 0:00:01\r\u001b[K     |██████████████████████████▍     | 194 kB 12.4 MB/s eta 0:00:01\r\u001b[K     |███████████████████████████▉    | 204 kB 12.4 MB/s eta 0:00:01\r\u001b[K     |█████████████████████████████▏  | 215 kB 12.4 MB/s eta 0:00:01\r\u001b[K     |██████████████████████████████▋ | 225 kB 12.4 MB/s eta 0:00:01\r\u001b[K     |████████████████████████████████| 235 kB 12.4 MB/s eta 0:00:01\r\u001b[K     |████████████████████████████████| 235 kB 12.4 MB/s \n",
            "\u001b[?25hInstalling collected packages: unidecode\n",
            "Successfully installed unidecode-1.3.4\n"
          ]
        }
      ]
    },
    {
      "cell_type": "code",
      "source": [
        "import data\n",
        "data.get_data, data.clean_data"
      ],
      "metadata": {
        "colab": {
          "base_uri": "https://localhost:8080/"
        },
        "id": "dXK0lbrpMx2l",
        "outputId": "a2eb5961-025a-433a-9f65-554a9820e12f"
      },
      "execution_count": 6,
      "outputs": [
        {
          "output_type": "execute_result",
          "data": {
            "text/plain": [
              "(<function data.get_data>, <function data.clean_data>)"
            ]
          },
          "metadata": {},
          "execution_count": 6
        }
      ]
    },
    {
      "cell_type": "code",
      "source": [
        "import token_glove2\n",
        "token_glove2.create_list, token_glove2.token_ize, token_glove2.voc_token, token_glove2.dict_token, token_glove2.token_tweet, token_glove2.glove_vector"
      ],
      "metadata": {
        "colab": {
          "base_uri": "https://localhost:8080/"
        },
        "id": "eq9WBI45M0i8",
        "outputId": "23d2d5c3-7d39-46c5-aad8-14d371591ba3"
      },
      "execution_count": 7,
      "outputs": [
        {
          "output_type": "execute_result",
          "data": {
            "text/plain": [
              "(<function token_glove.create_list>,\n",
              " <function token_glove.token_ize>,\n",
              " <function token_glove.voc_token>,\n",
              " <function token_glove.dict_token>,\n",
              " <function token_glove.token_tweet>,\n",
              " <function token_glove.glove_vector>)"
            ]
          },
          "metadata": {},
          "execution_count": 7
        }
      ]
    },
    {
      "cell_type": "code",
      "source": [
        "import metrics\n",
        "metrics.recall_m, metrics.precision_m, metrics.f1_m"
      ],
      "metadata": {
        "colab": {
          "base_uri": "https://localhost:8080/"
        },
        "id": "yywkD2XOM3OE",
        "outputId": "bd48df38-98b2-4184-d4f2-78d82f320b06"
      },
      "execution_count": 8,
      "outputs": [
        {
          "output_type": "execute_result",
          "data": {
            "text/plain": [
              "(<function metrics.recall_m>,\n",
              " <function metrics.precision_m>,\n",
              " <function metrics.f1_m>)"
            ]
          },
          "metadata": {},
          "execution_count": 8
        }
      ]
    },
    {
      "cell_type": "code",
      "source": [
        "import nltk\n",
        "nltk.download('stopwords')\n",
        "nltk.download('wordnet')\n",
        "nltk.download('punkt')\n",
        "nltk.download('averaged_perceptron_tagger')"
      ],
      "metadata": {
        "colab": {
          "base_uri": "https://localhost:8080/"
        },
        "id": "CjETzcPbM5M1",
        "outputId": "6c6abfe9-1df5-42ad-9411-1672f6b69346"
      },
      "execution_count": 9,
      "outputs": [
        {
          "output_type": "stream",
          "name": "stdout",
          "text": [
            "[nltk_data] Downloading package stopwords to /root/nltk_data...\n",
            "[nltk_data]   Unzipping corpora/stopwords.zip.\n",
            "[nltk_data] Downloading package wordnet to /root/nltk_data...\n",
            "[nltk_data]   Unzipping corpora/wordnet.zip.\n",
            "[nltk_data] Downloading package punkt to /root/nltk_data...\n",
            "[nltk_data]   Unzipping tokenizers/punkt.zip.\n",
            "[nltk_data] Downloading package averaged_perceptron_tagger to\n",
            "[nltk_data]     /root/nltk_data...\n",
            "[nltk_data]   Unzipping taggers/averaged_perceptron_tagger.zip.\n"
          ]
        },
        {
          "output_type": "execute_result",
          "data": {
            "text/plain": [
              "True"
            ]
          },
          "metadata": {},
          "execution_count": 9
        }
      ]
    },
    {
      "cell_type": "code",
      "source": [
        "df = data.get_data()\n",
        "cleaned_df = data.clean_data(df)"
      ],
      "metadata": {
        "id": "lToUcBtUM7BW"
      },
      "execution_count": 10,
      "outputs": []
    },
    {
      "cell_type": "code",
      "source": [
        "text = token_glove2.create_list(cleaned_df['text'])\n",
        "token = token_glove2.token_ize(text)\n",
        "X = token_glove2.token_tweet(text, token)"
      ],
      "metadata": {
        "id": "9HhWN4-6M9Za"
      },
      "execution_count": 11,
      "outputs": []
    },
    {
      "cell_type": "code",
      "source": [
        "word_vector_matrix = token_glove2.glove_vector(token)"
      ],
      "metadata": {
        "id": "Ecw82wPcNAH7"
      },
      "execution_count": 12,
      "outputs": []
    },
    {
      "cell_type": "code",
      "source": [
        "from tensorflow.keras.preprocessing.text import Tokenizer\n",
        "from tensorflow.keras.preprocessing.sequence import pad_sequences\n",
        "from tensorflow.keras.models import Sequential\n",
        "from tensorflow.keras.layers import Dense, Flatten, Embedding, Activation, Dropout, LSTM\n",
        "from tensorflow.keras.layers import Conv1D, MaxPooling1D, GlobalMaxPooling1D\n",
        "from tensorflow.keras.optimizers import Adam\n",
        "from tensorflow.keras.callbacks import EarlyStopping\n",
        "from tensorflow.keras import backend as K\n",
        "\n",
        "from sklearn.model_selection import train_test_split\n",
        "from sklearn.metrics import f1_score\n",
        "\n",
        "import numpy as np\n",
        "from numpy import array\n",
        "import pandas as pd\n",
        "import matplotlib.pyplot as plt\n",
        "%matplotlib inline"
      ],
      "metadata": {
        "id": "m7taHkuzNCQd"
      },
      "execution_count": 13,
      "outputs": []
    },
    {
      "cell_type": "code",
      "source": [
        "vocab_size = token_glove.voc_token(token)\n",
        "vec_size = 200"
      ],
      "metadata": {
        "id": "2f0zN-_ANuJL"
      },
      "execution_count": 14,
      "outputs": []
    },
    {
      "cell_type": "code",
      "source": [
        "y = cleaned_df['target']"
      ],
      "metadata": {
        "id": "dGnLdKJiLgAQ"
      },
      "execution_count": 15,
      "outputs": []
    },
    {
      "cell_type": "code",
      "source": [
        "model = Sequential()\n",
        "\n",
        "es = EarlyStopping(patience=5,restore_best_weights= True)\n",
        "\n",
        "model.add(Embedding(vocab_size, vec_size, input_length=max_long, weights = [word_vector_matrix], trainable = True))\n",
        "model.add(Conv1D(128, 16, activation ='relu'))\n",
        "model.add(MaxPooling1D(2))\n",
        "model.add(Dropout(0.5))\n",
        "model.add(Dense(128, activation='relu'))\n",
        "model.add(Dropout(0.5))\n",
        "model.add(Dense(32, activation='relu'))\n",
        "model.add(Dropout(0.5))\n",
        "model.add(Dense(16, activation='relu'))\n",
        "model.add(GlobalMaxPooling1D())\n",
        "model.add(Dense(1, activation='sigmoid'))\n",
        "model.compile(loss='binary_crossentropy',optimizer=Adam(learning_rate = 0.0001),metrics=['accuracy'])\n",
        "history = model.fit(X, y, batch_size=16, epochs = 22, validation_split=0.1, callbacks = [es])"
      ],
      "metadata": {
        "id": "JAJkAKMpNyte",
        "colab": {
          "base_uri": "https://localhost:8080/"
        },
        "outputId": "9e83a0b9-88e0-4187-9f78-f066bc5f743a"
      },
      "execution_count": 16,
      "outputs": [
        {
          "output_type": "stream",
          "name": "stdout",
          "text": [
            "Epoch 1/22\n",
            "429/429 [==============================] - 15s 31ms/step - loss: 0.6814 - accuracy: 0.5751 - val_loss: 0.6029 - val_accuracy: 0.6798\n",
            "Epoch 2/22\n",
            "429/429 [==============================] - 14s 32ms/step - loss: 0.5659 - accuracy: 0.7269 - val_loss: 0.4991 - val_accuracy: 0.7979\n",
            "Epoch 3/22\n",
            "429/429 [==============================] - 13s 31ms/step - loss: 0.5053 - accuracy: 0.7701 - val_loss: 0.4687 - val_accuracy: 0.8045\n",
            "Epoch 4/22\n",
            "429/429 [==============================] - 13s 31ms/step - loss: 0.4784 - accuracy: 0.7916 - val_loss: 0.4456 - val_accuracy: 0.8097\n",
            "Epoch 5/22\n",
            "429/429 [==============================] - 13s 31ms/step - loss: 0.4504 - accuracy: 0.7994 - val_loss: 0.4387 - val_accuracy: 0.8045\n",
            "Epoch 6/22\n",
            "429/429 [==============================] - 13s 31ms/step - loss: 0.4322 - accuracy: 0.8140 - val_loss: 0.4356 - val_accuracy: 0.8045\n",
            "Epoch 7/22\n",
            "429/429 [==============================] - 13s 31ms/step - loss: 0.4099 - accuracy: 0.8260 - val_loss: 0.4343 - val_accuracy: 0.8031\n",
            "Epoch 8/22\n",
            "429/429 [==============================] - 14s 32ms/step - loss: 0.3873 - accuracy: 0.8377 - val_loss: 0.4360 - val_accuracy: 0.8018\n",
            "Epoch 9/22\n",
            "429/429 [==============================] - 13s 31ms/step - loss: 0.3754 - accuracy: 0.8437 - val_loss: 0.4334 - val_accuracy: 0.8045\n",
            "Epoch 10/22\n",
            "429/429 [==============================] - 14s 31ms/step - loss: 0.3546 - accuracy: 0.8548 - val_loss: 0.4334 - val_accuracy: 0.8058\n",
            "Epoch 11/22\n",
            "429/429 [==============================] - 14s 32ms/step - loss: 0.3365 - accuracy: 0.8628 - val_loss: 0.4352 - val_accuracy: 0.8150\n",
            "Epoch 12/22\n",
            "429/429 [==============================] - 14s 33ms/step - loss: 0.3174 - accuracy: 0.8748 - val_loss: 0.4433 - val_accuracy: 0.8084\n",
            "Epoch 13/22\n",
            "429/429 [==============================] - 16s 36ms/step - loss: 0.2992 - accuracy: 0.8860 - val_loss: 0.4522 - val_accuracy: 0.7992\n",
            "Epoch 14/22\n",
            "429/429 [==============================] - 15s 34ms/step - loss: 0.2816 - accuracy: 0.8924 - val_loss: 0.4490 - val_accuracy: 0.8084\n"
          ]
        }
      ]
    },
    {
      "cell_type": "markdown",
      "source": [
        "#Phase de Test"
      ],
      "metadata": {
        "id": "FFKzdah9Ndxh"
      }
    },
    {
      "cell_type": "code",
      "source": [
        "df = data.get_data(test=True)\n",
        "test_df = data.clean_data(df)"
      ],
      "metadata": {
        "id": "Y-En_56pL7e-"
      },
      "execution_count": 17,
      "outputs": []
    },
    {
      "cell_type": "code",
      "source": [
        "text_test = token_glove2.create_list(test_df['text'])\n",
        "token_test = token_glove2.token_ize(text_test)\n",
        "X_test = token_glove2.token_tweet(text_test, token_test)"
      ],
      "metadata": {
        "id": "tOqTx2XySdWI"
      },
      "execution_count": 18,
      "outputs": []
    },
    {
      "cell_type": "code",
      "source": [
        "results = model.predict(X_test)"
      ],
      "metadata": {
        "id": "qs2UQIQkN2UN"
      },
      "execution_count": 19,
      "outputs": []
    },
    {
      "cell_type": "code",
      "source": [
        "results"
      ],
      "metadata": {
        "colab": {
          "base_uri": "https://localhost:8080/"
        },
        "id": "4V7GzBI4SpeY",
        "outputId": "26ebff54-5792-4791-a609-38c191043a92"
      },
      "execution_count": 20,
      "outputs": [
        {
          "output_type": "execute_result",
          "data": {
            "text/plain": [
              "array([[0.3822587 ],\n",
              "       [0.7833698 ],\n",
              "       [0.8391292 ],\n",
              "       ...,\n",
              "       [0.24845475],\n",
              "       [0.4237923 ],\n",
              "       [0.27649465]], dtype=float32)"
            ]
          },
          "metadata": {},
          "execution_count": 20
        }
      ]
    },
    {
      "cell_type": "code",
      "source": [
        "def arrondi(n):\n",
        "  if n >= 0.5:\n",
        "    return 1\n",
        "  else :\n",
        "    return 0"
      ],
      "metadata": {
        "id": "pOdjfrj1ErQC"
      },
      "execution_count": 29,
      "outputs": []
    },
    {
      "cell_type": "code",
      "source": [
        "to_submit = [arrondi(x[0]) for x in results]"
      ],
      "metadata": {
        "id": "VIf-o2G2Fl_c"
      },
      "execution_count": 30,
      "outputs": []
    },
    {
      "cell_type": "code",
      "source": [
        "to_submit_df = pd.DataFrame(to_submit)"
      ],
      "metadata": {
        "id": "8yNVWeLXGTfS"
      },
      "execution_count": 31,
      "outputs": []
    },
    {
      "cell_type": "code",
      "source": [
        "to_submit_df.rename(columns={0: 'target'}, inplace=True)"
      ],
      "metadata": {
        "id": "k8wRTKpKdi8T"
      },
      "execution_count": 32,
      "outputs": []
    },
    {
      "cell_type": "code",
      "source": [
        "to_submit_df['id'] = test_df.id"
      ],
      "metadata": {
        "id": "6fpQy8w5brIn"
      },
      "execution_count": 33,
      "outputs": []
    },
    {
      "cell_type": "code",
      "source": [
        "to_submit_df = to_submit_df.set_index('id')"
      ],
      "metadata": {
        "id": "BfpaGD1XeKYw"
      },
      "execution_count": 34,
      "outputs": []
    },
    {
      "cell_type": "code",
      "source": [
        "to_submit_df['target'].value_counts()"
      ],
      "metadata": {
        "colab": {
          "base_uri": "https://localhost:8080/"
        },
        "id": "NeU2CvCTUlpq",
        "outputId": "ada18312-ff27-4d43-d504-fb5a581da8cd"
      },
      "execution_count": 40,
      "outputs": [
        {
          "output_type": "execute_result",
          "data": {
            "text/plain": [
              "0    1981\n",
              "1    1282\n",
              "Name: target, dtype: int64"
            ]
          },
          "metadata": {},
          "execution_count": 40
        }
      ]
    },
    {
      "cell_type": "code",
      "source": [
        "to_submit_df.to_csv('/content/gdrive/My Drive/submission6.csv')"
      ],
      "metadata": {
        "id": "GkmobIslHJD3"
      },
      "execution_count": 35,
      "outputs": []
    },
    {
      "cell_type": "code",
      "source": [
        "model.save('/content/gdrive/My Drive/CNN_camille_1CSV_v1')"
      ],
      "metadata": {
        "id": "vjvgC704drWt",
        "colab": {
          "base_uri": "https://localhost:8080/"
        },
        "outputId": "dddf90b7-b1b7-4f80-9875-c2de58d71905"
      },
      "execution_count": 28,
      "outputs": [
        {
          "output_type": "stream",
          "name": "stdout",
          "text": [
            "INFO:tensorflow:Assets written to: /content/gdrive/My Drive/CNN_camille_1CSV_v1/assets\n"
          ]
        }
      ]
    },
    {
      "cell_type": "code",
      "source": [
        ""
      ],
      "metadata": {
        "id": "p82u-Uh6zsfd"
      },
      "execution_count": null,
      "outputs": []
    }
  ]
}