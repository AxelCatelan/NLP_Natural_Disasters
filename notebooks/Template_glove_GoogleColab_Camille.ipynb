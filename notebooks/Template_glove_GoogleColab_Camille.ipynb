{
  "nbformat": 4,
  "nbformat_minor": 0,
  "metadata": {
    "colab": {
      "name": "Template_glove_GoogleColab.ipynb",
      "provenance": [],
      "collapsed_sections": []
    },
    "kernelspec": {
      "name": "python3",
      "display_name": "Python 3"
    },
    "language_info": {
      "name": "python"
    }
  },
  "cells": [
    {
      "cell_type": "code",
      "execution_count": 1,
      "metadata": {
        "id": "E3NHcOhaMWY3"
      },
      "outputs": [],
      "source": [
        "from tensorflow.keras.preprocessing.text import Tokenizer\n",
        "from tensorflow.keras.preprocessing.sequence import pad_sequences"
      ]
    },
    {
      "cell_type": "code",
      "source": [
        "import numpy as np\n",
        "max_long = 25"
      ],
      "metadata": {
        "id": "04LHeI1KMgDg"
      },
      "execution_count": 2,
      "outputs": []
    },
    {
      "cell_type": "code",
      "source": [
        "from google.colab import drive\n",
        "drive.mount('/content/gdrive')"
      ],
      "metadata": {
        "colab": {
          "base_uri": "https://localhost:8080/"
        },
        "id": "DlfgqbAtMj_R",
        "outputId": "3b59306f-a9d6-4b32-9e6f-81c5e3e782d0"
      },
      "execution_count": 3,
      "outputs": [
        {
          "output_type": "stream",
          "name": "stdout",
          "text": [
            "Mounted at /content/gdrive\n"
          ]
        }
      ]
    },
    {
      "cell_type": "code",
      "source": [
        "import sys\n",
        "sys.path.append('/content/gdrive/My Drive')"
      ],
      "metadata": {
        "id": "r_b4a-wBMqWT"
      },
      "execution_count": 4,
      "outputs": []
    },
    {
      "cell_type": "code",
      "source": [
        "!pip install unidecode"
      ],
      "metadata": {
        "colab": {
          "base_uri": "https://localhost:8080/"
        },
        "id": "1upxosMNMv3e",
        "outputId": "80181888-e5ae-4445-f271-94ec73b84ead"
      },
      "execution_count": 5,
      "outputs": [
        {
          "output_type": "stream",
          "name": "stdout",
          "text": [
            "Collecting unidecode\n",
            "  Downloading Unidecode-1.3.4-py3-none-any.whl (235 kB)\n",
            "\u001b[?25l\r\u001b[K     |█▍                              | 10 kB 17.2 MB/s eta 0:00:01\r\u001b[K     |██▉                             | 20 kB 21.8 MB/s eta 0:00:01\r\u001b[K     |████▏                           | 30 kB 11.9 MB/s eta 0:00:01\r\u001b[K     |█████▋                          | 40 kB 9.7 MB/s eta 0:00:01\r\u001b[K     |███████                         | 51 kB 4.5 MB/s eta 0:00:01\r\u001b[K     |████████▍                       | 61 kB 5.2 MB/s eta 0:00:01\r\u001b[K     |█████████▊                      | 71 kB 5.7 MB/s eta 0:00:01\r\u001b[K     |███████████▏                    | 81 kB 5.8 MB/s eta 0:00:01\r\u001b[K     |████████████▌                   | 92 kB 6.5 MB/s eta 0:00:01\r\u001b[K     |██████████████                  | 102 kB 5.1 MB/s eta 0:00:01\r\u001b[K     |███████████████▎                | 112 kB 5.1 MB/s eta 0:00:01\r\u001b[K     |████████████████▊               | 122 kB 5.1 MB/s eta 0:00:01\r\u001b[K     |██████████████████              | 133 kB 5.1 MB/s eta 0:00:01\r\u001b[K     |███████████████████▌            | 143 kB 5.1 MB/s eta 0:00:01\r\u001b[K     |████████████████████▉           | 153 kB 5.1 MB/s eta 0:00:01\r\u001b[K     |██████████████████████▎         | 163 kB 5.1 MB/s eta 0:00:01\r\u001b[K     |███████████████████████▋        | 174 kB 5.1 MB/s eta 0:00:01\r\u001b[K     |█████████████████████████       | 184 kB 5.1 MB/s eta 0:00:01\r\u001b[K     |██████████████████████████▍     | 194 kB 5.1 MB/s eta 0:00:01\r\u001b[K     |███████████████████████████▉    | 204 kB 5.1 MB/s eta 0:00:01\r\u001b[K     |█████████████████████████████▏  | 215 kB 5.1 MB/s eta 0:00:01\r\u001b[K     |██████████████████████████████▋ | 225 kB 5.1 MB/s eta 0:00:01\r\u001b[K     |████████████████████████████████| 235 kB 5.1 MB/s eta 0:00:01\r\u001b[K     |████████████████████████████████| 235 kB 5.1 MB/s \n",
            "\u001b[?25hInstalling collected packages: unidecode\n",
            "Successfully installed unidecode-1.3.4\n"
          ]
        }
      ]
    },
    {
      "cell_type": "code",
      "source": [
        "import data\n",
        "data.get_data, data.clean_data"
      ],
      "metadata": {
        "colab": {
          "base_uri": "https://localhost:8080/"
        },
        "id": "dXK0lbrpMx2l",
        "outputId": "a6e3e50b-d1e1-46dd-e4b5-dd4849e92519"
      },
      "execution_count": 6,
      "outputs": [
        {
          "output_type": "execute_result",
          "data": {
            "text/plain": [
              "(<function data.get_data>, <function data.clean_data>)"
            ]
          },
          "metadata": {},
          "execution_count": 6
        }
      ]
    },
    {
      "cell_type": "code",
      "source": [
        "import token_glove\n",
        "token_glove.create_list, token_glove.token_ize, token_glove.voc_token, token_glove.dict_token, token_glove.token_tweet, token_glove.glove_vector"
      ],
      "metadata": {
        "colab": {
          "base_uri": "https://localhost:8080/"
        },
        "id": "eq9WBI45M0i8",
        "outputId": "91012309-51a9-4c86-97c1-fad120b5c26c"
      },
      "execution_count": 7,
      "outputs": [
        {
          "output_type": "execute_result",
          "data": {
            "text/plain": [
              "(<function token_glove.create_list>,\n",
              " <function token_glove.token_ize>,\n",
              " <function token_glove.voc_token>,\n",
              " <function token_glove.dict_token>,\n",
              " <function token_glove.token_tweet>,\n",
              " <function token_glove.glove_vector>)"
            ]
          },
          "metadata": {},
          "execution_count": 7
        }
      ]
    },
    {
      "cell_type": "code",
      "source": [
        "import metrics\n",
        "metrics.recall_m, metrics.precision_m, metrics.f1_m"
      ],
      "metadata": {
        "colab": {
          "base_uri": "https://localhost:8080/"
        },
        "id": "yywkD2XOM3OE",
        "outputId": "3c80d6eb-b531-4ea8-c9b7-ba7ee984e76d"
      },
      "execution_count": 8,
      "outputs": [
        {
          "output_type": "execute_result",
          "data": {
            "text/plain": [
              "(<function metrics.recall_m>,\n",
              " <function metrics.precision_m>,\n",
              " <function metrics.f1_m>)"
            ]
          },
          "metadata": {},
          "execution_count": 8
        }
      ]
    },
    {
      "cell_type": "code",
      "source": [
        "import nltk\n",
        "nltk.download('stopwords')\n",
        "nltk.download('wordnet')\n",
        "nltk.download('punkt')\n",
        "nltk.download('averaged_perceptron_tagger')"
      ],
      "metadata": {
        "colab": {
          "base_uri": "https://localhost:8080/"
        },
        "id": "CjETzcPbM5M1",
        "outputId": "6cf8e527-6f10-4adf-d836-0a3ee847507c"
      },
      "execution_count": 9,
      "outputs": [
        {
          "output_type": "stream",
          "name": "stdout",
          "text": [
            "[nltk_data] Downloading package stopwords to /root/nltk_data...\n",
            "[nltk_data]   Unzipping corpora/stopwords.zip.\n",
            "[nltk_data] Downloading package wordnet to /root/nltk_data...\n",
            "[nltk_data]   Unzipping corpora/wordnet.zip.\n",
            "[nltk_data] Downloading package punkt to /root/nltk_data...\n",
            "[nltk_data]   Unzipping tokenizers/punkt.zip.\n",
            "[nltk_data] Downloading package averaged_perceptron_tagger to\n",
            "[nltk_data]     /root/nltk_data...\n",
            "[nltk_data]   Unzipping taggers/averaged_perceptron_tagger.zip.\n"
          ]
        },
        {
          "output_type": "execute_result",
          "data": {
            "text/plain": [
              "True"
            ]
          },
          "metadata": {},
          "execution_count": 9
        }
      ]
    },
    {
      "cell_type": "code",
      "source": [
        "df = data.get_data()\n",
        "cleaned_df = data.clean_data(df)"
      ],
      "metadata": {
        "id": "lToUcBtUM7BW"
      },
      "execution_count": 10,
      "outputs": []
    },
    {
      "cell_type": "code",
      "source": [
        "text = token_glove.create_list(cleaned_df['text'])\n",
        "token = token_glove.token_ize(text)\n",
        "X = token_glove.token_tweet(text, token)"
      ],
      "metadata": {
        "id": "9HhWN4-6M9Za"
      },
      "execution_count": 11,
      "outputs": []
    },
    {
      "cell_type": "code",
      "source": [
        "word_vector_matrix = token_glove.glove_vector(token)"
      ],
      "metadata": {
        "id": "Ecw82wPcNAH7"
      },
      "execution_count": 12,
      "outputs": []
    },
    {
      "cell_type": "code",
      "source": [
        "from tensorflow.keras.preprocessing.text import Tokenizer\n",
        "from tensorflow.keras.preprocessing.sequence import pad_sequences\n",
        "from tensorflow.keras.models import Sequential\n",
        "from tensorflow.keras.layers import Dense, Flatten, Embedding, Activation, Dropout, LSTM\n",
        "from tensorflow.keras.layers import Conv1D, MaxPooling1D, GlobalMaxPooling1D\n",
        "from tensorflow.keras.optimizers import Adam\n",
        "from tensorflow.keras.callbacks import EarlyStopping\n",
        "from tensorflow.keras import backend as K\n",
        "\n",
        "from sklearn.model_selection import train_test_split\n",
        "from sklearn.metrics import f1_score\n",
        "\n",
        "import numpy as np\n",
        "from numpy import array\n",
        "import pandas as pd\n",
        "import matplotlib.pyplot as plt\n",
        "%matplotlib inline"
      ],
      "metadata": {
        "id": "m7taHkuzNCQd"
      },
      "execution_count": 13,
      "outputs": []
    },
    {
      "cell_type": "code",
      "source": [
        "vocab_size = token_glove.voc_token(token)\n",
        "vec_size = 200"
      ],
      "metadata": {
        "id": "2f0zN-_ANuJL"
      },
      "execution_count": 14,
      "outputs": []
    },
    {
      "cell_type": "code",
      "source": [
        ""
      ],
      "metadata": {
        "id": "JAJkAKMpNyte"
      },
      "execution_count": null,
      "outputs": []
    }
  ]
}