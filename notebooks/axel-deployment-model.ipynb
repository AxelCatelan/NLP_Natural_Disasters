{
 "cells": [
  {
   "cell_type": "markdown",
   "id": "5b1880cc",
   "metadata": {
    "ExecuteTime": {
     "end_time": "2022-04-11T12:24:20.918287Z",
     "start_time": "2022-04-11T12:24:20.911235Z"
    }
   },
   "source": [
    "# MODELE EMBEDDING GLOVE avec .py"
   ]
  },
  {
   "cell_type": "markdown",
   "id": "084e5458",
   "metadata": {},
   "source": [
    "## **Librairies à importer**"
   ]
  },
  {
   "cell_type": "code",
   "execution_count": null,
   "id": "6ab7ad6d",
   "metadata": {
    "ExecuteTime": {
     "end_time": "2022-04-11T12:40:05.932665Z",
     "start_time": "2022-04-11T12:40:01.782881Z"
    }
   },
   "outputs": [],
   "source": [
    "from NLP_Natural_Disasters.data import get_data, clean_data\n",
    "from NLP_Natural_Disasters.token_glove import create_list, token_ize, voc_token, dict_token, token_tweet, glove_vector"
   ]
  },
  {
   "cell_type": "markdown",
   "id": "34afb6da",
   "metadata": {},
   "source": [
    "## Data Cleaning"
   ]
  },
  {
   "cell_type": "code",
   "execution_count": null,
   "id": "5989ac59",
   "metadata": {
    "ExecuteTime": {
     "end_time": "2022-04-11T12:40:10.844953Z",
     "start_time": "2022-04-11T12:40:08.056964Z"
    }
   },
   "outputs": [],
   "source": [
    "df = get_data()\n",
    "c_df = clean_data(df)"
   ]
  },
  {
   "cell_type": "markdown",
   "id": "1a6d1a78",
   "metadata": {},
   "source": [
    "## Token"
   ]
  },
  {
   "cell_type": "code",
   "execution_count": null,
   "id": "013d35fd",
   "metadata": {
    "ExecuteTime": {
     "end_time": "2022-04-11T12:41:12.750101Z",
     "start_time": "2022-04-11T12:41:12.554916Z"
    }
   },
   "outputs": [],
   "source": [
    "text = create_list(c_df['text'])\n",
    "token = token_ize()\n",
    "X = token_tweet(text, token)"
   ]
  },
  {
   "cell_type": "markdown",
   "id": "1355cc3c",
   "metadata": {},
   "source": [
    "## GloVE"
   ]
  },
  {
   "cell_type": "code",
   "execution_count": null,
   "id": "da223538",
   "metadata": {
    "ExecuteTime": {
     "end_time": "2022-04-11T12:42:09.374678Z",
     "start_time": "2022-04-11T12:41:25.008118Z"
    }
   },
   "outputs": [],
   "source": [
    "word_vector_matrix = glove_vector(token)"
   ]
  },
  {
   "cell_type": "markdown",
   "id": "a77c2d5f",
   "metadata": {},
   "source": [
    "# Test Functions Deployment"
   ]
  },
  {
   "cell_type": "code",
   "execution_count": 1,
   "id": "c8fb1377",
   "metadata": {
    "ExecuteTime": {
     "end_time": "2022-04-12T12:27:14.447759Z",
     "start_time": "2022-04-12T12:27:12.672198Z"
    }
   },
   "outputs": [
    {
     "name": "stderr",
     "output_type": "stream",
     "text": [
      "2022-04-12 14:27:13.362285: W tensorflow/stream_executor/platform/default/dso_loader.cc:64] Could not load dynamic library 'libcudart.so.11.0'; dlerror: libcudart.so.11.0: cannot open shared object file: No such file or directory\n",
      "2022-04-12 14:27:13.362326: I tensorflow/stream_executor/cuda/cudart_stub.cc:29] Ignore above cudart dlerror if you do not have a GPU set up on your machine.\n"
     ]
    }
   ],
   "source": [
    "import numpy as np\n",
    "import pandas as pd\n",
    "from NLP_Natural_Disasters.data import get_data, clean_data\n",
    "from NLP_Natural_Disasters.encoders import TextTokenization"
   ]
  },
  {
   "cell_type": "code",
   "execution_count": 2,
   "id": "b8beece5",
   "metadata": {
    "ExecuteTime": {
     "end_time": "2022-04-12T12:27:17.214274Z",
     "start_time": "2022-04-12T12:27:14.449764Z"
    }
   },
   "outputs": [
    {
     "data": {
      "text/html": [
       "<div>\n",
       "<style scoped>\n",
       "    .dataframe tbody tr th:only-of-type {\n",
       "        vertical-align: middle;\n",
       "    }\n",
       "\n",
       "    .dataframe tbody tr th {\n",
       "        vertical-align: top;\n",
       "    }\n",
       "\n",
       "    .dataframe thead th {\n",
       "        text-align: right;\n",
       "    }\n",
       "</style>\n",
       "<table border=\"1\" class=\"dataframe\">\n",
       "  <thead>\n",
       "    <tr style=\"text-align: right;\">\n",
       "      <th></th>\n",
       "      <th>id</th>\n",
       "      <th>text</th>\n",
       "      <th>target</th>\n",
       "    </tr>\n",
       "  </thead>\n",
       "  <tbody>\n",
       "    <tr>\n",
       "      <th>0</th>\n",
       "      <td>1</td>\n",
       "      <td>deed reason earthquake may allah forgive u</td>\n",
       "      <td>1</td>\n",
       "    </tr>\n",
       "    <tr>\n",
       "      <th>1</th>\n",
       "      <td>4</td>\n",
       "      <td>forest fire near la canada</td>\n",
       "      <td>1</td>\n",
       "    </tr>\n",
       "    <tr>\n",
       "      <th>2</th>\n",
       "      <td>5</td>\n",
       "      <td>resident asked shelter place officer evacuatio...</td>\n",
       "      <td>1</td>\n",
       "    </tr>\n",
       "    <tr>\n",
       "      <th>3</th>\n",
       "      <td>6</td>\n",
       "      <td>people receive wildfire evacuation order calif...</td>\n",
       "      <td>1</td>\n",
       "    </tr>\n",
       "    <tr>\n",
       "      <th>4</th>\n",
       "      <td>7</td>\n",
       "      <td>got sent photo alaska smoke wildfire school</td>\n",
       "      <td>1</td>\n",
       "    </tr>\n",
       "    <tr>\n",
       "      <th>...</th>\n",
       "      <td>...</td>\n",
       "      <td>...</td>\n",
       "      <td>...</td>\n",
       "    </tr>\n",
       "    <tr>\n",
       "      <th>7608</th>\n",
       "      <td>10869</td>\n",
       "      <td>two giant crane holding bridge collapse nearby...</td>\n",
       "      <td>1</td>\n",
       "    </tr>\n",
       "    <tr>\n",
       "      <th>7609</th>\n",
       "      <td>10870</td>\n",
       "      <td>control wild fire california even northern par...</td>\n",
       "      <td>1</td>\n",
       "    </tr>\n",
       "    <tr>\n",
       "      <th>7610</th>\n",
       "      <td>10871</td>\n",
       "      <td>utckm volcano hawaii</td>\n",
       "      <td>1</td>\n",
       "    </tr>\n",
       "    <tr>\n",
       "      <th>7611</th>\n",
       "      <td>10872</td>\n",
       "      <td>police investigating ebike collided car little...</td>\n",
       "      <td>1</td>\n",
       "    </tr>\n",
       "    <tr>\n",
       "      <th>7612</th>\n",
       "      <td>10873</td>\n",
       "      <td>latest home razed northern california wildfire...</td>\n",
       "      <td>1</td>\n",
       "    </tr>\n",
       "  </tbody>\n",
       "</table>\n",
       "<p>7603 rows × 3 columns</p>\n",
       "</div>"
      ],
      "text/plain": [
       "         id                                               text  target\n",
       "0         1         deed reason earthquake may allah forgive u       1\n",
       "1         4                         forest fire near la canada       1\n",
       "2         5  resident asked shelter place officer evacuatio...       1\n",
       "3         6  people receive wildfire evacuation order calif...       1\n",
       "4         7        got sent photo alaska smoke wildfire school       1\n",
       "...     ...                                                ...     ...\n",
       "7608  10869  two giant crane holding bridge collapse nearby...       1\n",
       "7609  10870  control wild fire california even northern par...       1\n",
       "7610  10871                               utckm volcano hawaii       1\n",
       "7611  10872  police investigating ebike collided car little...       1\n",
       "7612  10873  latest home razed northern california wildfire...       1\n",
       "\n",
       "[7603 rows x 3 columns]"
      ]
     },
     "execution_count": 2,
     "metadata": {},
     "output_type": "execute_result"
    }
   ],
   "source": [
    "c_df = clean_data(get_data())\n",
    "c_df"
   ]
  },
  {
   "cell_type": "code",
   "execution_count": 17,
   "id": "780d6ddc",
   "metadata": {
    "ExecuteTime": {
     "end_time": "2022-04-12T13:02:59.718000Z",
     "start_time": "2022-04-12T13:02:59.712237Z"
    }
   },
   "outputs": [
    {
     "data": {
      "text/html": [
       "<div>\n",
       "<style scoped>\n",
       "    .dataframe tbody tr th:only-of-type {\n",
       "        vertical-align: middle;\n",
       "    }\n",
       "\n",
       "    .dataframe tbody tr th {\n",
       "        vertical-align: top;\n",
       "    }\n",
       "\n",
       "    .dataframe thead th {\n",
       "        text-align: right;\n",
       "    }\n",
       "</style>\n",
       "<table border=\"1\" class=\"dataframe\">\n",
       "  <thead>\n",
       "    <tr style=\"text-align: right;\">\n",
       "      <th></th>\n",
       "      <th>text</th>\n",
       "    </tr>\n",
       "  </thead>\n",
       "  <tbody>\n",
       "    <tr>\n",
       "      <th>0</th>\n",
       "      <td>There is a fire in the a forest near the town</td>\n",
       "    </tr>\n",
       "    <tr>\n",
       "      <th>1</th>\n",
       "      <td>Everything is fine in rainbow town</td>\n",
       "    </tr>\n",
       "    <tr>\n",
       "      <th>2</th>\n",
       "      <td>There's an earthquake on the coast of Japan!</td>\n",
       "    </tr>\n",
       "  </tbody>\n",
       "</table>\n",
       "</div>"
      ],
      "text/plain": [
       "                                            text\n",
       "0  There is a fire in the a forest near the town\n",
       "1             Everything is fine in rainbow town\n",
       "2   There's an earthquake on the coast of Japan!"
      ]
     },
     "execution_count": 17,
     "metadata": {},
     "output_type": "execute_result"
    }
   ],
   "source": [
    "test = {\n",
    "    'text': [\n",
    "        \"There is a fire in the a forest near the town\",\n",
    "        \"Everything is fine in rainbow town\",\n",
    "        \"There's an earthquake on the coast of Japan!\"\n",
    "    ]\n",
    "}\n",
    "test_df = pd.DataFrame.from_dict(test)\n",
    "test_df"
   ]
  },
  {
   "cell_type": "code",
   "execution_count": 4,
   "id": "698fb9c2",
   "metadata": {
    "ExecuteTime": {
     "end_time": "2022-04-12T12:27:17.299185Z",
     "start_time": "2022-04-12T12:27:17.224702Z"
    }
   },
   "outputs": [
    {
     "data": {
      "text/plain": [
       "array([[2.140e+02, 1.000e+00, 1.100e+02, 1.480e+02, 6.690e+02, 0.000e+00,\n",
       "        0.000e+00, 0.000e+00, 0.000e+00, 0.000e+00, 0.000e+00, 0.000e+00,\n",
       "        0.000e+00, 0.000e+00, 0.000e+00, 0.000e+00, 0.000e+00, 0.000e+00,\n",
       "        0.000e+00, 0.000e+00, 0.000e+00, 0.000e+00, 0.000e+00, 0.000e+00,\n",
       "        0.000e+00],\n",
       "       [6.400e+02, 1.436e+03, 6.690e+02, 0.000e+00, 0.000e+00, 0.000e+00,\n",
       "        0.000e+00, 0.000e+00, 0.000e+00, 0.000e+00, 0.000e+00, 0.000e+00,\n",
       "        0.000e+00, 0.000e+00, 0.000e+00, 0.000e+00, 0.000e+00, 0.000e+00,\n",
       "        0.000e+00, 0.000e+00, 0.000e+00, 0.000e+00, 0.000e+00, 0.000e+00,\n",
       "        0.000e+00]], dtype=float32)"
      ]
     },
     "execution_count": 4,
     "metadata": {},
     "output_type": "execute_result"
    }
   ],
   "source": [
    "tmp = TextTokenization(c_df)\n",
    "tmp.transform(test_df)"
   ]
  },
  {
   "cell_type": "code",
   "execution_count": 18,
   "id": "65be1e9f",
   "metadata": {
    "ExecuteTime": {
     "end_time": "2022-04-12T13:03:13.215351Z",
     "start_time": "2022-04-12T13:03:09.686211Z"
    },
    "scrolled": true
   },
   "outputs": [
    {
     "name": "stderr",
     "output_type": "stream",
     "text": [
      "2022-04-12 15:03:11.327205: W tensorflow/core/common_runtime/graph_constructor.cc:803] Node 'cond/while' has 13 outputs but the _output_shapes attribute specifies shapes for 46 outputs. Output shapes may be inaccurate.\n",
      "2022-04-12 15:03:11.338612: W tensorflow/core/common_runtime/graph_constructor.cc:803] Node 'cond' has 5 outputs but the _output_shapes attribute specifies shapes for 46 outputs. Output shapes may be inaccurate.\n",
      "2022-04-12 15:03:11.355695: W tensorflow/core/common_runtime/graph_constructor.cc:803] Node 'cond/while' has 13 outputs but the _output_shapes attribute specifies shapes for 46 outputs. Output shapes may be inaccurate.\n",
      "2022-04-12 15:03:11.365688: W tensorflow/core/common_runtime/graph_constructor.cc:803] Node 'cond' has 5 outputs but the _output_shapes attribute specifies shapes for 46 outputs. Output shapes may be inaccurate.\n",
      "2022-04-12 15:03:11.560977: W tensorflow/core/common_runtime/graph_constructor.cc:803] Node 'cond/while' has 13 outputs but the _output_shapes attribute specifies shapes for 46 outputs. Output shapes may be inaccurate.\n",
      "2022-04-12 15:03:11.582559: W tensorflow/core/common_runtime/graph_constructor.cc:803] Node 'cond/while' has 13 outputs but the _output_shapes attribute specifies shapes for 46 outputs. Output shapes may be inaccurate.\n",
      "2022-04-12 15:03:11.592144: W tensorflow/core/common_runtime/graph_constructor.cc:803] Node 'cond' has 5 outputs but the _output_shapes attribute specifies shapes for 46 outputs. Output shapes may be inaccurate.\n",
      "2022-04-12 15:03:11.681940: W tensorflow/core/common_runtime/graph_constructor.cc:803] Node 'cond/while' has 13 outputs but the _output_shapes attribute specifies shapes for 46 outputs. Output shapes may be inaccurate.\n",
      "2022-04-12 15:03:11.691705: W tensorflow/core/common_runtime/graph_constructor.cc:803] Node 'cond' has 5 outputs but the _output_shapes attribute specifies shapes for 46 outputs. Output shapes may be inaccurate.\n",
      "2022-04-12 15:03:11.913408: W tensorflow/core/common_runtime/graph_constructor.cc:803] Node 'cond' has 5 outputs but the _output_shapes attribute specifies shapes for 46 outputs. Output shapes may be inaccurate.\n",
      "2022-04-12 15:03:12.443032: W tensorflow/core/common_runtime/graph_constructor.cc:803] Node 'cond/while' has 13 outputs but the _output_shapes attribute specifies shapes for 46 outputs. Output shapes may be inaccurate.\n",
      "2022-04-12 15:03:12.453680: W tensorflow/core/common_runtime/graph_constructor.cc:803] Node 'cond' has 5 outputs but the _output_shapes attribute specifies shapes for 46 outputs. Output shapes may be inaccurate.\n",
      "2022-04-12 15:03:12.558955: W tensorflow/core/common_runtime/graph_constructor.cc:803] Node 'cond/while' has 13 outputs but the _output_shapes attribute specifies shapes for 46 outputs. Output shapes may be inaccurate.\n",
      "2022-04-12 15:03:12.579492: W tensorflow/core/common_runtime/graph_constructor.cc:803] Node 'cond' has 5 outputs but the _output_shapes attribute specifies shapes for 46 outputs. Output shapes may be inaccurate.\n"
     ]
    }
   ],
   "source": [
    "import joblib\n",
    "pipeline = joblib.load(\"../model.joblib\")"
   ]
  },
  {
   "cell_type": "code",
   "execution_count": 23,
   "id": "7c6edd36",
   "metadata": {
    "ExecuteTime": {
     "end_time": "2022-04-12T13:46:16.820570Z",
     "start_time": "2022-04-12T13:46:16.695194Z"
    }
   },
   "outputs": [
    {
     "data": {
      "text/plain": [
       "array([[0.87537575],\n",
       "       [0.3851166 ],\n",
       "       [0.80071306]], dtype=float32)"
      ]
     },
     "execution_count": 23,
     "metadata": {},
     "output_type": "execute_result"
    }
   ],
   "source": [
    "pipeline.predict(test_df)"
   ]
  }
 ],
 "metadata": {
  "kernelspec": {
   "display_name": "Python 3 (ipykernel)",
   "language": "python",
   "name": "python3"
  },
  "language_info": {
   "codemirror_mode": {
    "name": "ipython",
    "version": 3
   },
   "file_extension": ".py",
   "mimetype": "text/x-python",
   "name": "python",
   "nbconvert_exporter": "python",
   "pygments_lexer": "ipython3",
   "version": "3.8.12"
  },
  "latex_envs": {
   "LaTeX_envs_menu_present": true,
   "autoclose": false,
   "autocomplete": true,
   "bibliofile": "biblio.bib",
   "cite_by": "apalike",
   "current_citInitial": 1,
   "eqLabelWithNumbers": true,
   "eqNumInitial": 1,
   "hotkeys": {
    "equation": "Ctrl-E",
    "itemize": "Ctrl-I"
   },
   "labels_anchors": false,
   "latex_user_defs": false,
   "report_style_numbering": false,
   "user_envs_cfg": false
  },
  "toc": {
   "base_numbering": 1,
   "nav_menu": {},
   "number_sections": true,
   "sideBar": true,
   "skip_h1_title": false,
   "title_cell": "Table of Contents",
   "title_sidebar": "Contents",
   "toc_cell": false,
   "toc_position": {},
   "toc_section_display": true,
   "toc_window_display": false
  }
 },
 "nbformat": 4,
 "nbformat_minor": 5
}
