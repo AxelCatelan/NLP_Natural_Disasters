{
  "nbformat": 4,
  "nbformat_minor": 0,
  "metadata": {
    "colab": {
      "name": "Glove Architecture.ipynb",
      "provenance": [],
      "collapsed_sections": []
    },
    "kernelspec": {
      "name": "python3",
      "display_name": "Python 3"
    },
    "language_info": {
      "name": "python"
    }
  },
  "cells": [
    {
      "cell_type": "code",
      "execution_count": 1,
      "metadata": {
        "id": "M1qtkMrtWGee"
      },
      "outputs": [],
      "source": [
        "from tensorflow.keras.preprocessing.text import Tokenizer\n",
        "from tensorflow.keras.preprocessing.sequence import pad_sequences"
      ]
    },
    {
      "cell_type": "code",
      "source": [
        "import numpy as np\n",
        "max_long = 25"
      ],
      "metadata": {
        "id": "O-f4uoDyWKhC"
      },
      "execution_count": 2,
      "outputs": []
    },
    {
      "cell_type": "code",
      "source": [
        "from google.colab import drive\n",
        "drive.mount('/content/gdrive')"
      ],
      "metadata": {
        "colab": {
          "base_uri": "https://localhost:8080/"
        },
        "id": "OQIpGuJHWW3U",
        "outputId": "67c906db-a645-489e-90f2-c6893023c51b"
      },
      "execution_count": 3,
      "outputs": [
        {
          "output_type": "stream",
          "name": "stdout",
          "text": [
            "Drive already mounted at /content/gdrive; to attempt to forcibly remount, call drive.mount(\"/content/gdrive\", force_remount=True).\n"
          ]
        }
      ]
    },
    {
      "cell_type": "code",
      "source": [
        "import sys\n",
        "sys.path.append('/content/gdrive/My Drive')"
      ],
      "metadata": {
        "id": "5E0GjC9eXkUv"
      },
      "execution_count": 4,
      "outputs": []
    },
    {
      "cell_type": "code",
      "source": [
        "!pip install unidecode"
      ],
      "metadata": {
        "colab": {
          "base_uri": "https://localhost:8080/"
        },
        "id": "J7d6BkmwYDIX",
        "outputId": "e4ea105a-a9b4-49f0-a578-d2e7f057bef5"
      },
      "execution_count": 5,
      "outputs": [
        {
          "output_type": "stream",
          "name": "stdout",
          "text": [
            "Requirement already satisfied: unidecode in /usr/local/lib/python3.7/dist-packages (1.3.4)\n"
          ]
        }
      ]
    },
    {
      "cell_type": "code",
      "source": [
        "import data\n",
        "data.get_data, data.clean_data"
      ],
      "metadata": {
        "colab": {
          "base_uri": "https://localhost:8080/"
        },
        "id": "-xpqx3rhX8i3",
        "outputId": "ebe1ebf2-0222-4fc6-9ee2-2c8aba22dd86"
      },
      "execution_count": 5,
      "outputs": [
        {
          "output_type": "execute_result",
          "data": {
            "text/plain": [
              "(<function data.get_data>, <function data.clean_data>)"
            ]
          },
          "metadata": {},
          "execution_count": 5
        }
      ]
    },
    {
      "cell_type": "code",
      "source": [
        "import token_glove\n",
        "token_glove.create_list, token_glove.token_ize, token_glove.voc_token, token_glove.dict_token, token_glove.token_tweet, token_glove.glove_vector"
      ],
      "metadata": {
        "colab": {
          "base_uri": "https://localhost:8080/"
        },
        "id": "WeYi0RmLYA_q",
        "outputId": "731ac623-ad5a-4975-d867-6bc0d74e0216"
      },
      "execution_count": 6,
      "outputs": [
        {
          "output_type": "execute_result",
          "data": {
            "text/plain": [
              "(<function token_glove.create_list>,\n",
              " <function token_glove.token_ize>,\n",
              " <function token_glove.voc_token>,\n",
              " <function token_glove.dict_token>,\n",
              " <function token_glove.token_tweet>,\n",
              " <function token_glove.glove_vector>)"
            ]
          },
          "metadata": {},
          "execution_count": 6
        }
      ]
    },
    {
      "cell_type": "code",
      "source": [
        "import metrics\n",
        "metrics.recall_m, metrics.precision_m, metrics.f1_m"
      ],
      "metadata": {
        "colab": {
          "base_uri": "https://localhost:8080/"
        },
        "id": "ZDLvwIQLhFUD",
        "outputId": "9c96b7f7-3201-41a4-aecc-206f58b3630e"
      },
      "execution_count": 23,
      "outputs": [
        {
          "output_type": "execute_result",
          "data": {
            "text/plain": [
              "(<function metrics.recall_m>,\n",
              " <function metrics.precision_m>,\n",
              " <function metrics.f1_m>)"
            ]
          },
          "metadata": {},
          "execution_count": 23
        }
      ]
    },
    {
      "cell_type": "code",
      "source": [
        "import nltk\n",
        "nltk.download('stopwords')\n",
        "nltk.download('wordnet')\n",
        "nltk.download('punkt')\n",
        "nltk.download('averaged_perceptron_tagger') "
      ],
      "metadata": {
        "colab": {
          "base_uri": "https://localhost:8080/"
        },
        "id": "o1-AX0PYYN-u",
        "outputId": "b33944a4-dc7b-46e1-b075-4348f35db929"
      },
      "execution_count": 7,
      "outputs": [
        {
          "output_type": "stream",
          "name": "stdout",
          "text": [
            "[nltk_data] Downloading package stopwords to /root/nltk_data...\n",
            "[nltk_data]   Package stopwords is already up-to-date!\n",
            "[nltk_data] Downloading package wordnet to /root/nltk_data...\n",
            "[nltk_data]   Package wordnet is already up-to-date!\n",
            "[nltk_data] Downloading package punkt to /root/nltk_data...\n",
            "[nltk_data]   Package punkt is already up-to-date!\n",
            "[nltk_data] Downloading package averaged_perceptron_tagger to\n",
            "[nltk_data]     /root/nltk_data...\n",
            "[nltk_data]   Package averaged_perceptron_tagger is already up-to-\n",
            "[nltk_data]       date!\n"
          ]
        },
        {
          "output_type": "execute_result",
          "data": {
            "text/plain": [
              "True"
            ]
          },
          "metadata": {},
          "execution_count": 7
        }
      ]
    },
    {
      "cell_type": "code",
      "source": [
        "df = data.get_data()\n",
        "cleaned_df = data.clean_data(df)"
      ],
      "metadata": {
        "id": "iou4gDbfZbpr"
      },
      "execution_count": 8,
      "outputs": []
    },
    {
      "cell_type": "code",
      "source": [
        "cleaned_df.head(1)"
      ],
      "metadata": {
        "colab": {
          "base_uri": "https://localhost:8080/",
          "height": 80
        },
        "id": "bVTqf2lWwGQ5",
        "outputId": "06853385-3c90-4f23-90ea-78941fd5818b"
      },
      "execution_count": 11,
      "outputs": [
        {
          "output_type": "execute_result",
          "data": {
            "text/plain": [
              "   id                                        text  target\n",
              "0   1  deed reason earthquake may allah forgive u       1"
            ],
            "text/html": [
              "\n",
              "  <div id=\"df-2d76ec0c-9ed0-45dc-bd5f-0ec5def5c7f1\">\n",
              "    <div class=\"colab-df-container\">\n",
              "      <div>\n",
              "<style scoped>\n",
              "    .dataframe tbody tr th:only-of-type {\n",
              "        vertical-align: middle;\n",
              "    }\n",
              "\n",
              "    .dataframe tbody tr th {\n",
              "        vertical-align: top;\n",
              "    }\n",
              "\n",
              "    .dataframe thead th {\n",
              "        text-align: right;\n",
              "    }\n",
              "</style>\n",
              "<table border=\"1\" class=\"dataframe\">\n",
              "  <thead>\n",
              "    <tr style=\"text-align: right;\">\n",
              "      <th></th>\n",
              "      <th>id</th>\n",
              "      <th>text</th>\n",
              "      <th>target</th>\n",
              "    </tr>\n",
              "  </thead>\n",
              "  <tbody>\n",
              "    <tr>\n",
              "      <th>0</th>\n",
              "      <td>1</td>\n",
              "      <td>deed reason earthquake may allah forgive u</td>\n",
              "      <td>1</td>\n",
              "    </tr>\n",
              "  </tbody>\n",
              "</table>\n",
              "</div>\n",
              "      <button class=\"colab-df-convert\" onclick=\"convertToInteractive('df-2d76ec0c-9ed0-45dc-bd5f-0ec5def5c7f1')\"\n",
              "              title=\"Convert this dataframe to an interactive table.\"\n",
              "              style=\"display:none;\">\n",
              "        \n",
              "  <svg xmlns=\"http://www.w3.org/2000/svg\" height=\"24px\"viewBox=\"0 0 24 24\"\n",
              "       width=\"24px\">\n",
              "    <path d=\"M0 0h24v24H0V0z\" fill=\"none\"/>\n",
              "    <path d=\"M18.56 5.44l.94 2.06.94-2.06 2.06-.94-2.06-.94-.94-2.06-.94 2.06-2.06.94zm-11 1L8.5 8.5l.94-2.06 2.06-.94-2.06-.94L8.5 2.5l-.94 2.06-2.06.94zm10 10l.94 2.06.94-2.06 2.06-.94-2.06-.94-.94-2.06-.94 2.06-2.06.94z\"/><path d=\"M17.41 7.96l-1.37-1.37c-.4-.4-.92-.59-1.43-.59-.52 0-1.04.2-1.43.59L10.3 9.45l-7.72 7.72c-.78.78-.78 2.05 0 2.83L4 21.41c.39.39.9.59 1.41.59.51 0 1.02-.2 1.41-.59l7.78-7.78 2.81-2.81c.8-.78.8-2.07 0-2.86zM5.41 20L4 18.59l7.72-7.72 1.47 1.35L5.41 20z\"/>\n",
              "  </svg>\n",
              "      </button>\n",
              "      \n",
              "  <style>\n",
              "    .colab-df-container {\n",
              "      display:flex;\n",
              "      flex-wrap:wrap;\n",
              "      gap: 12px;\n",
              "    }\n",
              "\n",
              "    .colab-df-convert {\n",
              "      background-color: #E8F0FE;\n",
              "      border: none;\n",
              "      border-radius: 50%;\n",
              "      cursor: pointer;\n",
              "      display: none;\n",
              "      fill: #1967D2;\n",
              "      height: 32px;\n",
              "      padding: 0 0 0 0;\n",
              "      width: 32px;\n",
              "    }\n",
              "\n",
              "    .colab-df-convert:hover {\n",
              "      background-color: #E2EBFA;\n",
              "      box-shadow: 0px 1px 2px rgba(60, 64, 67, 0.3), 0px 1px 3px 1px rgba(60, 64, 67, 0.15);\n",
              "      fill: #174EA6;\n",
              "    }\n",
              "\n",
              "    [theme=dark] .colab-df-convert {\n",
              "      background-color: #3B4455;\n",
              "      fill: #D2E3FC;\n",
              "    }\n",
              "\n",
              "    [theme=dark] .colab-df-convert:hover {\n",
              "      background-color: #434B5C;\n",
              "      box-shadow: 0px 1px 3px 1px rgba(0, 0, 0, 0.15);\n",
              "      filter: drop-shadow(0px 1px 2px rgba(0, 0, 0, 0.3));\n",
              "      fill: #FFFFFF;\n",
              "    }\n",
              "  </style>\n",
              "\n",
              "      <script>\n",
              "        const buttonEl =\n",
              "          document.querySelector('#df-2d76ec0c-9ed0-45dc-bd5f-0ec5def5c7f1 button.colab-df-convert');\n",
              "        buttonEl.style.display =\n",
              "          google.colab.kernel.accessAllowed ? 'block' : 'none';\n",
              "\n",
              "        async function convertToInteractive(key) {\n",
              "          const element = document.querySelector('#df-2d76ec0c-9ed0-45dc-bd5f-0ec5def5c7f1');\n",
              "          const dataTable =\n",
              "            await google.colab.kernel.invokeFunction('convertToInteractive',\n",
              "                                                     [key], {});\n",
              "          if (!dataTable) return;\n",
              "\n",
              "          const docLinkHtml = 'Like what you see? Visit the ' +\n",
              "            '<a target=\"_blank\" href=https://colab.research.google.com/notebooks/data_table.ipynb>data table notebook</a>'\n",
              "            + ' to learn more about interactive tables.';\n",
              "          element.innerHTML = '';\n",
              "          dataTable['output_type'] = 'display_data';\n",
              "          await google.colab.output.renderOutput(dataTable, element);\n",
              "          const docLink = document.createElement('div');\n",
              "          docLink.innerHTML = docLinkHtml;\n",
              "          element.appendChild(docLink);\n",
              "        }\n",
              "      </script>\n",
              "    </div>\n",
              "  </div>\n",
              "  "
            ]
          },
          "metadata": {},
          "execution_count": 11
        }
      ]
    },
    {
      "cell_type": "code",
      "source": [
        "text = token_glove.create_list(cleaned_df['text'])\n",
        "token = token_glove.token_ize(text)\n",
        "X = token_glove.token_tweet(text, token)"
      ],
      "metadata": {
        "id": "ZD9JnPDGZje3"
      },
      "execution_count": 9,
      "outputs": []
    },
    {
      "cell_type": "code",
      "source": [
        "word_vector_matrix = token_glove.glove_vector(token)"
      ],
      "metadata": {
        "id": "UXs7LCXaZqsC"
      },
      "execution_count": 10,
      "outputs": []
    },
    {
      "cell_type": "code",
      "source": [
        "cleaned_df"
      ],
      "metadata": {
        "colab": {
          "base_uri": "https://localhost:8080/",
          "height": 423
        },
        "id": "LxDb-iR08dbr",
        "outputId": "904ca485-5312-4a41-a00f-ac90d9f70a37"
      },
      "execution_count": 12,
      "outputs": [
        {
          "output_type": "execute_result",
          "data": {
            "text/plain": [
              "         id                                               text  target\n",
              "0         1         deed reason earthquake may allah forgive u       1\n",
              "1         4                         forest fire near la canada       1\n",
              "2         5  resident asked shelter place officer evacuatio...       1\n",
              "3         6  people receive wildfire evacuation order calif...       1\n",
              "4         7        got sent photo alaska smoke wildfire school       1\n",
              "...     ...                                                ...     ...\n",
              "7608  10869  two giant crane holding bridge collapse nearby...       1\n",
              "7609  10870  control wild fire california even northern par...       1\n",
              "7610  10871                               utckm volcano hawaii       1\n",
              "7611  10872  police investigating ebike collided car little...       1\n",
              "7612  10873  latest home razed northern california wildfire...       1\n",
              "\n",
              "[7603 rows x 3 columns]"
            ],
            "text/html": [
              "\n",
              "  <div id=\"df-55d49566-c3eb-4aef-9dd7-2d9350849f30\">\n",
              "    <div class=\"colab-df-container\">\n",
              "      <div>\n",
              "<style scoped>\n",
              "    .dataframe tbody tr th:only-of-type {\n",
              "        vertical-align: middle;\n",
              "    }\n",
              "\n",
              "    .dataframe tbody tr th {\n",
              "        vertical-align: top;\n",
              "    }\n",
              "\n",
              "    .dataframe thead th {\n",
              "        text-align: right;\n",
              "    }\n",
              "</style>\n",
              "<table border=\"1\" class=\"dataframe\">\n",
              "  <thead>\n",
              "    <tr style=\"text-align: right;\">\n",
              "      <th></th>\n",
              "      <th>id</th>\n",
              "      <th>text</th>\n",
              "      <th>target</th>\n",
              "    </tr>\n",
              "  </thead>\n",
              "  <tbody>\n",
              "    <tr>\n",
              "      <th>0</th>\n",
              "      <td>1</td>\n",
              "      <td>deed reason earthquake may allah forgive u</td>\n",
              "      <td>1</td>\n",
              "    </tr>\n",
              "    <tr>\n",
              "      <th>1</th>\n",
              "      <td>4</td>\n",
              "      <td>forest fire near la canada</td>\n",
              "      <td>1</td>\n",
              "    </tr>\n",
              "    <tr>\n",
              "      <th>2</th>\n",
              "      <td>5</td>\n",
              "      <td>resident asked shelter place officer evacuatio...</td>\n",
              "      <td>1</td>\n",
              "    </tr>\n",
              "    <tr>\n",
              "      <th>3</th>\n",
              "      <td>6</td>\n",
              "      <td>people receive wildfire evacuation order calif...</td>\n",
              "      <td>1</td>\n",
              "    </tr>\n",
              "    <tr>\n",
              "      <th>4</th>\n",
              "      <td>7</td>\n",
              "      <td>got sent photo alaska smoke wildfire school</td>\n",
              "      <td>1</td>\n",
              "    </tr>\n",
              "    <tr>\n",
              "      <th>...</th>\n",
              "      <td>...</td>\n",
              "      <td>...</td>\n",
              "      <td>...</td>\n",
              "    </tr>\n",
              "    <tr>\n",
              "      <th>7608</th>\n",
              "      <td>10869</td>\n",
              "      <td>two giant crane holding bridge collapse nearby...</td>\n",
              "      <td>1</td>\n",
              "    </tr>\n",
              "    <tr>\n",
              "      <th>7609</th>\n",
              "      <td>10870</td>\n",
              "      <td>control wild fire california even northern par...</td>\n",
              "      <td>1</td>\n",
              "    </tr>\n",
              "    <tr>\n",
              "      <th>7610</th>\n",
              "      <td>10871</td>\n",
              "      <td>utckm volcano hawaii</td>\n",
              "      <td>1</td>\n",
              "    </tr>\n",
              "    <tr>\n",
              "      <th>7611</th>\n",
              "      <td>10872</td>\n",
              "      <td>police investigating ebike collided car little...</td>\n",
              "      <td>1</td>\n",
              "    </tr>\n",
              "    <tr>\n",
              "      <th>7612</th>\n",
              "      <td>10873</td>\n",
              "      <td>latest home razed northern california wildfire...</td>\n",
              "      <td>1</td>\n",
              "    </tr>\n",
              "  </tbody>\n",
              "</table>\n",
              "<p>7603 rows × 3 columns</p>\n",
              "</div>\n",
              "      <button class=\"colab-df-convert\" onclick=\"convertToInteractive('df-55d49566-c3eb-4aef-9dd7-2d9350849f30')\"\n",
              "              title=\"Convert this dataframe to an interactive table.\"\n",
              "              style=\"display:none;\">\n",
              "        \n",
              "  <svg xmlns=\"http://www.w3.org/2000/svg\" height=\"24px\"viewBox=\"0 0 24 24\"\n",
              "       width=\"24px\">\n",
              "    <path d=\"M0 0h24v24H0V0z\" fill=\"none\"/>\n",
              "    <path d=\"M18.56 5.44l.94 2.06.94-2.06 2.06-.94-2.06-.94-.94-2.06-.94 2.06-2.06.94zm-11 1L8.5 8.5l.94-2.06 2.06-.94-2.06-.94L8.5 2.5l-.94 2.06-2.06.94zm10 10l.94 2.06.94-2.06 2.06-.94-2.06-.94-.94-2.06-.94 2.06-2.06.94z\"/><path d=\"M17.41 7.96l-1.37-1.37c-.4-.4-.92-.59-1.43-.59-.52 0-1.04.2-1.43.59L10.3 9.45l-7.72 7.72c-.78.78-.78 2.05 0 2.83L4 21.41c.39.39.9.59 1.41.59.51 0 1.02-.2 1.41-.59l7.78-7.78 2.81-2.81c.8-.78.8-2.07 0-2.86zM5.41 20L4 18.59l7.72-7.72 1.47 1.35L5.41 20z\"/>\n",
              "  </svg>\n",
              "      </button>\n",
              "      \n",
              "  <style>\n",
              "    .colab-df-container {\n",
              "      display:flex;\n",
              "      flex-wrap:wrap;\n",
              "      gap: 12px;\n",
              "    }\n",
              "\n",
              "    .colab-df-convert {\n",
              "      background-color: #E8F0FE;\n",
              "      border: none;\n",
              "      border-radius: 50%;\n",
              "      cursor: pointer;\n",
              "      display: none;\n",
              "      fill: #1967D2;\n",
              "      height: 32px;\n",
              "      padding: 0 0 0 0;\n",
              "      width: 32px;\n",
              "    }\n",
              "\n",
              "    .colab-df-convert:hover {\n",
              "      background-color: #E2EBFA;\n",
              "      box-shadow: 0px 1px 2px rgba(60, 64, 67, 0.3), 0px 1px 3px 1px rgba(60, 64, 67, 0.15);\n",
              "      fill: #174EA6;\n",
              "    }\n",
              "\n",
              "    [theme=dark] .colab-df-convert {\n",
              "      background-color: #3B4455;\n",
              "      fill: #D2E3FC;\n",
              "    }\n",
              "\n",
              "    [theme=dark] .colab-df-convert:hover {\n",
              "      background-color: #434B5C;\n",
              "      box-shadow: 0px 1px 3px 1px rgba(0, 0, 0, 0.15);\n",
              "      filter: drop-shadow(0px 1px 2px rgba(0, 0, 0, 0.3));\n",
              "      fill: #FFFFFF;\n",
              "    }\n",
              "  </style>\n",
              "\n",
              "      <script>\n",
              "        const buttonEl =\n",
              "          document.querySelector('#df-55d49566-c3eb-4aef-9dd7-2d9350849f30 button.colab-df-convert');\n",
              "        buttonEl.style.display =\n",
              "          google.colab.kernel.accessAllowed ? 'block' : 'none';\n",
              "\n",
              "        async function convertToInteractive(key) {\n",
              "          const element = document.querySelector('#df-55d49566-c3eb-4aef-9dd7-2d9350849f30');\n",
              "          const dataTable =\n",
              "            await google.colab.kernel.invokeFunction('convertToInteractive',\n",
              "                                                     [key], {});\n",
              "          if (!dataTable) return;\n",
              "\n",
              "          const docLinkHtml = 'Like what you see? Visit the ' +\n",
              "            '<a target=\"_blank\" href=https://colab.research.google.com/notebooks/data_table.ipynb>data table notebook</a>'\n",
              "            + ' to learn more about interactive tables.';\n",
              "          element.innerHTML = '';\n",
              "          dataTable['output_type'] = 'display_data';\n",
              "          await google.colab.output.renderOutput(dataTable, element);\n",
              "          const docLink = document.createElement('div');\n",
              "          docLink.innerHTML = docLinkHtml;\n",
              "          element.appendChild(docLink);\n",
              "        }\n",
              "      </script>\n",
              "    </div>\n",
              "  </div>\n",
              "  "
            ]
          },
          "metadata": {},
          "execution_count": 12
        }
      ]
    },
    {
      "cell_type": "code",
      "source": [
        "from tensorflow.keras.preprocessing.text import Tokenizer\n",
        "from tensorflow.keras.preprocessing.sequence import pad_sequences\n",
        "from tensorflow.keras.models import Sequential\n",
        "from tensorflow.keras.layers import Dense, Flatten, Embedding, Activation, Dropout, LSTM\n",
        "from tensorflow.keras.layers import Conv1D, MaxPooling1D, GlobalMaxPooling1D\n",
        "from tensorflow.keras.optimizers import Adam\n",
        "from tensorflow.keras.callbacks import EarlyStopping\n",
        "from tensorflow.keras import backend as K\n",
        "\n",
        "from sklearn.model_selection import train_test_split\n",
        "from sklearn.metrics import f1_score\n",
        "\n",
        "import numpy as np\n",
        "from numpy import array\n",
        "import pandas as pd\n",
        "import matplotlib.pyplot as plt\n",
        "%matplotlib inline"
      ],
      "metadata": {
        "id": "wI7b0oPdbrvi"
      },
      "execution_count": 13,
      "outputs": []
    },
    {
      "cell_type": "code",
      "source": [
        "vocab_size = token_glove.voc_token(token)\n",
        "vec_size = 200"
      ],
      "metadata": {
        "id": "r9Zd0cV9dZds"
      },
      "execution_count": 14,
      "outputs": []
    },
    {
      "cell_type": "code",
      "source": [
        "y = cleaned_df['target']\n",
        "X_train, X_test, y_train, y_test = train_test_split(X, y, random_state=42, test_size= 0.3, stratify = y)"
      ],
      "metadata": {
        "id": "MLghFg5Sesgi"
      },
      "execution_count": 33,
      "outputs": []
    },
    {
      "cell_type": "code",
      "source": [
        "model = Sequential()\n",
        "\n",
        "es = EarlyStopping(patience=10, restore_best_weights= True)\n",
        "\n",
        "model.add(Embedding(vocab_size, vec_size, input_length=max_long, weights = [word_vector_matrix], trainable = True))\n",
        "model.add(Conv1D(64, 8, activation ='relu'))\n",
        "model.add(MaxPooling1D(2))\n",
        "model.add(Dropout(0.5))\n",
        "model.add(Dense(32, activation='relu'))\n",
        "model.add(Dropout(0.5))\n",
        "model.add(Dense(16, activation='relu'))\n",
        "model.add(GlobalMaxPooling1D())\n",
        "model.add(Dense(1, activation='sigmoid'))\n",
        "model.compile(optimizer=Adam(learning_rate = 0.0001), loss = 'binary_crossentropy', metrics = [metrics.f1_m])\n",
        "history = model.fit(X_train, y_train, batch_size=64, epochs = 400, validation_data = (X_test, y_test), callbacks = [es])"
      ],
      "metadata": {
        "colab": {
          "base_uri": "https://localhost:8080/"
        },
        "id": "abtPso-wcrBi",
        "outputId": "93bcfb84-0529-46f1-fc9a-031df4af6e79"
      },
      "execution_count": 24,
      "outputs": [
        {
          "output_type": "stream",
          "name": "stdout",
          "text": [
            "Epoch 1/400\n",
            "96/96 [==============================] - 5s 46ms/step - loss: 0.6934 - f1_m: 0.4350 - val_loss: 0.6437 - val_f1_m: 0.6807\n",
            "Epoch 2/400\n",
            "96/96 [==============================] - 4s 42ms/step - loss: 0.6441 - f1_m: 0.5062 - val_loss: 0.5957 - val_f1_m: 0.7073\n",
            "Epoch 3/400\n",
            "96/96 [==============================] - 4s 46ms/step - loss: 0.6003 - f1_m: 0.5757 - val_loss: 0.5504 - val_f1_m: 0.7129\n",
            "Epoch 4/400\n",
            "96/96 [==============================] - 4s 42ms/step - loss: 0.5742 - f1_m: 0.6233 - val_loss: 0.5179 - val_f1_m: 0.7421\n",
            "Epoch 5/400\n",
            "96/96 [==============================] - 5s 47ms/step - loss: 0.5458 - f1_m: 0.6545 - val_loss: 0.4930 - val_f1_m: 0.7488\n",
            "Epoch 6/400\n",
            "96/96 [==============================] - 7s 76ms/step - loss: 0.5262 - f1_m: 0.6939 - val_loss: 0.4782 - val_f1_m: 0.7537\n",
            "Epoch 7/400\n",
            "96/96 [==============================] - 4s 42ms/step - loss: 0.5181 - f1_m: 0.6882 - val_loss: 0.4692 - val_f1_m: 0.7531\n",
            "Epoch 8/400\n",
            "96/96 [==============================] - 4s 42ms/step - loss: 0.5030 - f1_m: 0.6970 - val_loss: 0.4621 - val_f1_m: 0.7512\n",
            "Epoch 9/400\n",
            "96/96 [==============================] - 4s 42ms/step - loss: 0.4931 - f1_m: 0.7109 - val_loss: 0.4515 - val_f1_m: 0.7558\n",
            "Epoch 10/400\n",
            "96/96 [==============================] - 4s 43ms/step - loss: 0.4800 - f1_m: 0.7133 - val_loss: 0.4452 - val_f1_m: 0.7608\n",
            "Epoch 11/400\n",
            "96/96 [==============================] - 4s 41ms/step - loss: 0.4733 - f1_m: 0.7183 - val_loss: 0.4394 - val_f1_m: 0.7658\n",
            "Epoch 12/400\n",
            "96/96 [==============================] - 4s 43ms/step - loss: 0.4597 - f1_m: 0.7280 - val_loss: 0.4331 - val_f1_m: 0.7708\n",
            "Epoch 13/400\n",
            "96/96 [==============================] - 4s 42ms/step - loss: 0.4453 - f1_m: 0.7484 - val_loss: 0.4287 - val_f1_m: 0.7757\n",
            "Epoch 14/400\n",
            "96/96 [==============================] - 4s 43ms/step - loss: 0.4412 - f1_m: 0.7422 - val_loss: 0.4257 - val_f1_m: 0.7786\n",
            "Epoch 15/400\n",
            "96/96 [==============================] - 4s 42ms/step - loss: 0.4386 - f1_m: 0.7540 - val_loss: 0.4208 - val_f1_m: 0.7780\n",
            "Epoch 16/400\n",
            "96/96 [==============================] - 4s 41ms/step - loss: 0.4309 - f1_m: 0.7494 - val_loss: 0.4197 - val_f1_m: 0.7805\n",
            "Epoch 17/400\n",
            "96/96 [==============================] - 4s 42ms/step - loss: 0.4224 - f1_m: 0.7579 - val_loss: 0.4157 - val_f1_m: 0.7779\n",
            "Epoch 18/400\n",
            "96/96 [==============================] - 4s 40ms/step - loss: 0.4145 - f1_m: 0.7632 - val_loss: 0.4138 - val_f1_m: 0.7761\n",
            "Epoch 19/400\n",
            "96/96 [==============================] - 4s 42ms/step - loss: 0.4027 - f1_m: 0.7681 - val_loss: 0.4099 - val_f1_m: 0.7771\n",
            "Epoch 20/400\n",
            "96/96 [==============================] - 4s 44ms/step - loss: 0.4017 - f1_m: 0.7729 - val_loss: 0.4086 - val_f1_m: 0.7786\n",
            "Epoch 21/400\n",
            "96/96 [==============================] - 4s 42ms/step - loss: 0.3948 - f1_m: 0.7917 - val_loss: 0.4082 - val_f1_m: 0.7812\n",
            "Epoch 22/400\n",
            "96/96 [==============================] - 4s 41ms/step - loss: 0.3835 - f1_m: 0.7920 - val_loss: 0.4090 - val_f1_m: 0.7855\n",
            "Epoch 23/400\n",
            "96/96 [==============================] - 4s 42ms/step - loss: 0.3770 - f1_m: 0.7964 - val_loss: 0.4047 - val_f1_m: 0.7852\n",
            "Epoch 24/400\n",
            "96/96 [==============================] - 4s 42ms/step - loss: 0.3707 - f1_m: 0.7899 - val_loss: 0.4062 - val_f1_m: 0.7839\n",
            "Epoch 25/400\n",
            "96/96 [==============================] - 4s 43ms/step - loss: 0.3631 - f1_m: 0.7967 - val_loss: 0.4057 - val_f1_m: 0.7821\n",
            "Epoch 26/400\n",
            "96/96 [==============================] - 4s 42ms/step - loss: 0.3602 - f1_m: 0.8138 - val_loss: 0.4042 - val_f1_m: 0.7855\n",
            "Epoch 27/400\n",
            "96/96 [==============================] - 4s 42ms/step - loss: 0.3449 - f1_m: 0.8225 - val_loss: 0.4047 - val_f1_m: 0.7813\n",
            "Epoch 28/400\n",
            "96/96 [==============================] - 4s 41ms/step - loss: 0.3420 - f1_m: 0.8231 - val_loss: 0.4037 - val_f1_m: 0.7859\n",
            "Epoch 29/400\n",
            "96/96 [==============================] - 4s 43ms/step - loss: 0.3355 - f1_m: 0.8240 - val_loss: 0.4059 - val_f1_m: 0.7807\n",
            "Epoch 30/400\n",
            "96/96 [==============================] - 4s 41ms/step - loss: 0.3312 - f1_m: 0.8243 - val_loss: 0.4077 - val_f1_m: 0.7803\n",
            "Epoch 31/400\n",
            "96/96 [==============================] - 4s 41ms/step - loss: 0.3211 - f1_m: 0.8347 - val_loss: 0.4102 - val_f1_m: 0.7794\n",
            "Epoch 32/400\n",
            "96/96 [==============================] - 4s 44ms/step - loss: 0.3113 - f1_m: 0.8422 - val_loss: 0.4049 - val_f1_m: 0.7786\n",
            "Epoch 33/400\n",
            "96/96 [==============================] - 4s 41ms/step - loss: 0.3154 - f1_m: 0.8314 - val_loss: 0.4094 - val_f1_m: 0.7815\n",
            "Epoch 34/400\n",
            "96/96 [==============================] - 4s 43ms/step - loss: 0.2991 - f1_m: 0.8380 - val_loss: 0.4070 - val_f1_m: 0.7743\n",
            "Epoch 35/400\n",
            "96/96 [==============================] - 4s 42ms/step - loss: 0.2942 - f1_m: 0.8445 - val_loss: 0.4111 - val_f1_m: 0.7804\n",
            "Epoch 36/400\n",
            "96/96 [==============================] - 4s 42ms/step - loss: 0.2925 - f1_m: 0.8396 - val_loss: 0.4156 - val_f1_m: 0.7810\n",
            "Epoch 37/400\n",
            "96/96 [==============================] - 4s 43ms/step - loss: 0.2884 - f1_m: 0.8477 - val_loss: 0.4156 - val_f1_m: 0.7785\n",
            "Epoch 38/400\n",
            "96/96 [==============================] - 4s 43ms/step - loss: 0.2745 - f1_m: 0.8552 - val_loss: 0.4183 - val_f1_m: 0.7767\n"
          ]
        }
      ]
    },
    {
      "cell_type": "code",
      "source": [
        "model2 = Sequential()\n",
        "\n",
        "es = EarlyStopping(patience=5,restore_best_weights= True)\n",
        "\n",
        "model2.add(Embedding(vocab_size, vec_size, input_length=max_long, weights = [word_vector_matrix], trainable = True))\n",
        "model2.add(LSTM(20))\n",
        "model2.add(Dense(10, activation='relu'))\n",
        "model2.add(Dense(1, activation='sigmoid'))\n",
        "model2.compile(loss='binary_crossentropy',optimizer='rmsprop',metrics=[metrics.f1_m])\n",
        "history2 = model2.fit(X_train, y_train, batch_size=16, epochs = 400, validation_data = (X_test, y_test), callbacks = [es])"
      ],
      "metadata": {
        "colab": {
          "base_uri": "https://localhost:8080/"
        },
        "id": "v6wwplfycwXB",
        "outputId": "b7e904b7-2cd2-4c7d-f01c-444b4b218fc9"
      },
      "execution_count": 25,
      "outputs": [
        {
          "output_type": "stream",
          "name": "stdout",
          "text": [
            "Epoch 1/400\n",
            "381/381 [==============================] - 57s 117ms/step - loss: 0.5168 - f1_m: 0.6507 - val_loss: 0.4502 - val_f1_m: 0.7643\n",
            "Epoch 2/400\n",
            "381/381 [==============================] - 6s 16ms/step - loss: 0.4195 - f1_m: 0.7683 - val_loss: 0.4346 - val_f1_m: 0.7236\n",
            "Epoch 3/400\n",
            "381/381 [==============================] - 6s 16ms/step - loss: 0.3701 - f1_m: 0.7943 - val_loss: 0.4177 - val_f1_m: 0.7509\n",
            "Epoch 4/400\n",
            "381/381 [==============================] - 6s 15ms/step - loss: 0.3377 - f1_m: 0.8178 - val_loss: 0.4557 - val_f1_m: 0.7300\n",
            "Epoch 5/400\n",
            "381/381 [==============================] - 6s 15ms/step - loss: 0.3116 - f1_m: 0.8394 - val_loss: 0.4741 - val_f1_m: 0.7523\n",
            "Epoch 6/400\n",
            "381/381 [==============================] - 6s 16ms/step - loss: 0.2846 - f1_m: 0.8617 - val_loss: 0.4729 - val_f1_m: 0.7432\n",
            "Epoch 7/400\n",
            "381/381 [==============================] - 6s 15ms/step - loss: 0.2625 - f1_m: 0.8708 - val_loss: 0.4557 - val_f1_m: 0.7305\n",
            "Epoch 8/400\n",
            "381/381 [==============================] - 6s 16ms/step - loss: 0.2384 - f1_m: 0.8809 - val_loss: 0.5379 - val_f1_m: 0.7422\n"
          ]
        }
      ]
    },
    {
      "cell_type": "code",
      "source": [
        "model3 = Sequential()\n",
        "\n",
        "es = EarlyStopping(patience=5,restore_best_weights= True)\n",
        "\n",
        "model3.add(Embedding(vocab_size, vec_size, input_length=max_long, weights = [word_vector_matrix], trainable = True))\n",
        "model3.add(LSTM(20))\n",
        "model3.add(Dense(10, activation='relu'))\n",
        "model3.add(Dense(1, activation='sigmoid'))\n",
        "model3.compile(loss='binary_crossentropy',optimizer='Adam',metrics=[metrics.f1_m])\n",
        "history2 = model3.fit(X_train, y_train, batch_size=16, epochs = 400, validation_data = (X_test, y_test), callbacks = [es])"
      ],
      "metadata": {
        "colab": {
          "base_uri": "https://localhost:8080/"
        },
        "id": "7s0BsDaZzjK0",
        "outputId": "df806ff0-dbd3-4b40-f874-0e81aa4462ab"
      },
      "execution_count": 26,
      "outputs": [
        {
          "output_type": "stream",
          "name": "stdout",
          "text": [
            "Epoch 1/400\n",
            "381/381 [==============================] - 10s 22ms/step - loss: 0.5089 - f1_m: 0.6312 - val_loss: 0.4251 - val_f1_m: 0.7453\n",
            "Epoch 2/400\n",
            "381/381 [==============================] - 7s 20ms/step - loss: 0.3836 - f1_m: 0.7989 - val_loss: 0.4228 - val_f1_m: 0.7564\n",
            "Epoch 3/400\n",
            "381/381 [==============================] - 8s 20ms/step - loss: 0.3084 - f1_m: 0.8410 - val_loss: 0.4272 - val_f1_m: 0.7468\n",
            "Epoch 4/400\n",
            "381/381 [==============================] - 8s 20ms/step - loss: 0.2438 - f1_m: 0.8827 - val_loss: 0.5120 - val_f1_m: 0.7511\n",
            "Epoch 5/400\n",
            "381/381 [==============================] - 8s 20ms/step - loss: 0.1941 - f1_m: 0.9082 - val_loss: 0.6347 - val_f1_m: 0.7454\n",
            "Epoch 6/400\n",
            "381/381 [==============================] - 7s 19ms/step - loss: 0.1602 - f1_m: 0.9240 - val_loss: 0.6719 - val_f1_m: 0.7491\n",
            "Epoch 7/400\n",
            "381/381 [==============================] - 7s 19ms/step - loss: 0.1251 - f1_m: 0.9364 - val_loss: 0.7208 - val_f1_m: 0.7373\n"
          ]
        }
      ]
    },
    {
      "cell_type": "code",
      "source": [
        "model4 = Sequential()\n",
        "\n",
        "es = EarlyStopping(patience=5,restore_best_weights= True)\n",
        "\n",
        "model4.add(Embedding(vocab_size, vec_size, input_length=max_long, weights = [word_vector_matrix], trainable = True))\n",
        "model4.add(LSTM(256,return_sequences = True))\n",
        "model4.add(Dropout(0.5))\n",
        "model4.add(LSTM(128,return_sequences = True))\n",
        "model4.add(Dropout(0.5))\n",
        "model4.add(LSTM(64, return_sequences = True))\n",
        "model4.add(Dropout(0.5))\n",
        "model4.add(LSTM(32, return_sequences = False))\n",
        "model4.add(Dropout(0.4))\n",
        "model4.add(Dense(256, activation = 'relu'))\n",
        "model4.add(Dropout(0.2))\n",
        "model4.add(Dense(16, activation = 'relu'))\n",
        "model4.add(Dropout(0.1))  \n",
        "model4.add(Dense(1, activation = 'sigmoid'))\n",
        "model4.compile(loss='binary_crossentropy',optimizer=Adam(learning_rate = 0.0001),metrics=[metrics.f1_m])\n",
        "history2 = model3.fit(X_train, y_train, batch_size=16, epochs = 400, validation_data = (X_test, y_test), callbacks = [es])"
      ],
      "metadata": {
        "colab": {
          "base_uri": "https://localhost:8080/"
        },
        "id": "kIv9sCzLJsGt",
        "outputId": "da836303-ad5d-41ed-a091-af33bde4d940"
      },
      "execution_count": 34,
      "outputs": [
        {
          "output_type": "stream",
          "name": "stdout",
          "text": [
            "Epoch 1/400\n",
            "333/333 [==============================] - 7s 21ms/step - loss: 0.2020 - f1_m: 0.9098 - val_loss: 0.4846 - val_f1_m: 0.7858\n",
            "Epoch 2/400\n",
            "333/333 [==============================] - 7s 21ms/step - loss: 0.1545 - f1_m: 0.9348 - val_loss: 0.5122 - val_f1_m: 0.7886\n",
            "Epoch 3/400\n",
            "333/333 [==============================] - 7s 21ms/step - loss: 0.1384 - f1_m: 0.9366 - val_loss: 0.6241 - val_f1_m: 0.7761\n",
            "Epoch 4/400\n",
            "333/333 [==============================] - 7s 20ms/step - loss: 0.1196 - f1_m: 0.9461 - val_loss: 0.5985 - val_f1_m: 0.7663\n",
            "Epoch 5/400\n",
            "333/333 [==============================] - 7s 22ms/step - loss: 0.0985 - f1_m: 0.9526 - val_loss: 0.7355 - val_f1_m: 0.7745\n",
            "Epoch 6/400\n",
            "333/333 [==============================] - 8s 23ms/step - loss: 0.0827 - f1_m: 0.9576 - val_loss: 0.7900 - val_f1_m: 0.7665\n"
          ]
        }
      ]
    },
    {
      "cell_type": "code",
      "source": [
        ""
      ],
      "metadata": {
        "id": "hlQxyispPHlR"
      },
      "execution_count": null,
      "outputs": []
    }
  ]
}