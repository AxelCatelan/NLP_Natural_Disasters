{
 "cells": [
  {
   "cell_type": "code",
   "execution_count": 175,
   "id": "0ed6e182",
   "metadata": {
    "ExecuteTime": {
     "end_time": "2022-04-04T15:56:24.481703Z",
     "start_time": "2022-04-04T15:56:24.468866Z"
    }
   },
   "outputs": [],
   "source": [
    "import re\n",
    "import string\n",
    "import numpy as np\n",
    "import pandas as pd"
   ]
  },
  {
   "cell_type": "code",
   "execution_count": 176,
   "id": "8b6a82b9",
   "metadata": {
    "ExecuteTime": {
     "end_time": "2022-04-04T15:56:24.498899Z",
     "start_time": "2022-04-04T15:56:24.484373Z"
    }
   },
   "outputs": [],
   "source": [
    "pd.set_option('display.max_colwidth', None)"
   ]
  },
  {
   "cell_type": "code",
   "execution_count": 177,
   "id": "dadd1273",
   "metadata": {
    "ExecuteTime": {
     "end_time": "2022-04-04T15:56:24.823815Z",
     "start_time": "2022-04-04T15:56:24.501026Z"
    }
   },
   "outputs": [
    {
     "name": "stderr",
     "output_type": "stream",
     "text": [
      "[nltk_data] Downloading package stopwords to /home/axelc/nltk_data...\n",
      "[nltk_data]   Package stopwords is already up-to-date!\n",
      "[nltk_data] Downloading package punkt to /home/axelc/nltk_data...\n",
      "[nltk_data]   Package punkt is already up-to-date!\n",
      "[nltk_data] Downloading package wordnet to /home/axelc/nltk_data...\n",
      "[nltk_data]   Package wordnet is already up-to-date!\n",
      "[nltk_data] Downloading package omw-1.4 to /home/axelc/nltk_data...\n",
      "[nltk_data]   Package omw-1.4 is already up-to-date!\n"
     ]
    },
    {
     "data": {
      "text/plain": [
       "True"
      ]
     },
     "execution_count": 177,
     "metadata": {},
     "output_type": "execute_result"
    }
   ],
   "source": [
    "import nltk\n",
    "nltk.download('stopwords')\n",
    "nltk.download('punkt')\n",
    "nltk.download('wordnet')\n",
    "nltk.download('omw-1.4')"
   ]
  },
  {
   "cell_type": "code",
   "execution_count": 178,
   "id": "97b3f6fc",
   "metadata": {
    "ExecuteTime": {
     "end_time": "2022-04-04T15:56:24.829677Z",
     "start_time": "2022-04-04T15:56:24.825350Z"
    }
   },
   "outputs": [],
   "source": [
    "from nltk.corpus import stopwords \n",
    "from nltk.tokenize import word_tokenize\n",
    "from nltk.stem import WordNetLemmatizer\n",
    "from nltk.stem.porter import PorterStemmer"
   ]
  },
  {
   "cell_type": "code",
   "execution_count": 179,
   "id": "149e2904",
   "metadata": {
    "ExecuteTime": {
     "end_time": "2022-04-04T15:56:24.904014Z",
     "start_time": "2022-04-04T15:56:24.832610Z"
    }
   },
   "outputs": [],
   "source": [
    "df = pd.read_csv('../raw_data/train.csv')\n",
    "cleaned_df = df.drop(columns=['location', 'keyword'])"
   ]
  },
  {
   "cell_type": "code",
   "execution_count": 180,
   "id": "d1e4abce",
   "metadata": {
    "ExecuteTime": {
     "end_time": "2022-04-04T15:56:24.920537Z",
     "start_time": "2022-04-04T15:56:24.906010Z"
    }
   },
   "outputs": [
    {
     "data": {
      "text/html": [
       "<div>\n",
       "<style scoped>\n",
       "    .dataframe tbody tr th:only-of-type {\n",
       "        vertical-align: middle;\n",
       "    }\n",
       "\n",
       "    .dataframe tbody tr th {\n",
       "        vertical-align: top;\n",
       "    }\n",
       "\n",
       "    .dataframe thead th {\n",
       "        text-align: right;\n",
       "    }\n",
       "</style>\n",
       "<table border=\"1\" class=\"dataframe\">\n",
       "  <thead>\n",
       "    <tr style=\"text-align: right;\">\n",
       "      <th></th>\n",
       "      <th>id</th>\n",
       "      <th>text</th>\n",
       "      <th>target</th>\n",
       "    </tr>\n",
       "  </thead>\n",
       "  <tbody>\n",
       "    <tr>\n",
       "      <th>0</th>\n",
       "      <td>1</td>\n",
       "      <td>Our Deeds are the Reason of this #earthquake May ALLAH Forgive us all</td>\n",
       "      <td>1</td>\n",
       "    </tr>\n",
       "    <tr>\n",
       "      <th>1</th>\n",
       "      <td>4</td>\n",
       "      <td>Forest fire near La Ronge Sask. Canada</td>\n",
       "      <td>1</td>\n",
       "    </tr>\n",
       "    <tr>\n",
       "      <th>2</th>\n",
       "      <td>5</td>\n",
       "      <td>All residents asked to 'shelter in place' are being notified by officers. No other evacuation or shelter in place orders are expected</td>\n",
       "      <td>1</td>\n",
       "    </tr>\n",
       "    <tr>\n",
       "      <th>3</th>\n",
       "      <td>6</td>\n",
       "      <td>13,000 people receive #wildfires evacuation orders in California</td>\n",
       "      <td>1</td>\n",
       "    </tr>\n",
       "    <tr>\n",
       "      <th>4</th>\n",
       "      <td>7</td>\n",
       "      <td>Just got sent this photo from Ruby #Alaska as smoke from #wildfires pours into a school</td>\n",
       "      <td>1</td>\n",
       "    </tr>\n",
       "    <tr>\n",
       "      <th>...</th>\n",
       "      <td>...</td>\n",
       "      <td>...</td>\n",
       "      <td>...</td>\n",
       "    </tr>\n",
       "    <tr>\n",
       "      <th>7608</th>\n",
       "      <td>10869</td>\n",
       "      <td>Two giant cranes holding a bridge collapse into nearby homes http://t.co/STfMbbZFB5</td>\n",
       "      <td>1</td>\n",
       "    </tr>\n",
       "    <tr>\n",
       "      <th>7609</th>\n",
       "      <td>10870</td>\n",
       "      <td>@aria_ahrary @TheTawniest The out of control wild fires in California even in the Northern part of the state. Very troubling.</td>\n",
       "      <td>1</td>\n",
       "    </tr>\n",
       "    <tr>\n",
       "      <th>7610</th>\n",
       "      <td>10871</td>\n",
       "      <td>M1.94 [01:04 UTC]?5km S of Volcano Hawaii. http://t.co/zDtoyd8EbJ</td>\n",
       "      <td>1</td>\n",
       "    </tr>\n",
       "    <tr>\n",
       "      <th>7611</th>\n",
       "      <td>10872</td>\n",
       "      <td>Police investigating after an e-bike collided with a car in Little Portugal. E-bike rider suffered serious non-life threatening injuries.</td>\n",
       "      <td>1</td>\n",
       "    </tr>\n",
       "    <tr>\n",
       "      <th>7612</th>\n",
       "      <td>10873</td>\n",
       "      <td>The Latest: More Homes Razed by Northern California Wildfire - ABC News http://t.co/YmY4rSkQ3d</td>\n",
       "      <td>1</td>\n",
       "    </tr>\n",
       "  </tbody>\n",
       "</table>\n",
       "<p>7613 rows × 3 columns</p>\n",
       "</div>"
      ],
      "text/plain": [
       "         id  \\\n",
       "0         1   \n",
       "1         4   \n",
       "2         5   \n",
       "3         6   \n",
       "4         7   \n",
       "...     ...   \n",
       "7608  10869   \n",
       "7609  10870   \n",
       "7610  10871   \n",
       "7611  10872   \n",
       "7612  10873   \n",
       "\n",
       "                                                                                                                                           text  \\\n",
       "0                                                                         Our Deeds are the Reason of this #earthquake May ALLAH Forgive us all   \n",
       "1                                                                                                        Forest fire near La Ronge Sask. Canada   \n",
       "2         All residents asked to 'shelter in place' are being notified by officers. No other evacuation or shelter in place orders are expected   \n",
       "3                                                                             13,000 people receive #wildfires evacuation orders in California    \n",
       "4                                                      Just got sent this photo from Ruby #Alaska as smoke from #wildfires pours into a school    \n",
       "...                                                                                                                                         ...   \n",
       "7608                                                        Two giant cranes holding a bridge collapse into nearby homes http://t.co/STfMbbZFB5   \n",
       "7609              @aria_ahrary @TheTawniest The out of control wild fires in California even in the Northern part of the state. Very troubling.   \n",
       "7610                                                                          M1.94 [01:04 UTC]?5km S of Volcano Hawaii. http://t.co/zDtoyd8EbJ   \n",
       "7611  Police investigating after an e-bike collided with a car in Little Portugal. E-bike rider suffered serious non-life threatening injuries.   \n",
       "7612                                             The Latest: More Homes Razed by Northern California Wildfire - ABC News http://t.co/YmY4rSkQ3d   \n",
       "\n",
       "      target  \n",
       "0          1  \n",
       "1          1  \n",
       "2          1  \n",
       "3          1  \n",
       "4          1  \n",
       "...      ...  \n",
       "7608       1  \n",
       "7609       1  \n",
       "7610       1  \n",
       "7611       1  \n",
       "7612       1  \n",
       "\n",
       "[7613 rows x 3 columns]"
      ]
     },
     "execution_count": 180,
     "metadata": {},
     "output_type": "execute_result"
    }
   ],
   "source": [
    "cleaned_df"
   ]
  },
  {
   "cell_type": "code",
   "execution_count": 181,
   "id": "07cf5aa5",
   "metadata": {
    "ExecuteTime": {
     "end_time": "2022-04-04T15:56:24.925128Z",
     "start_time": "2022-04-04T15:56:24.922407Z"
    }
   },
   "outputs": [],
   "source": [
    "def remove_punctuation(text):\n",
    "    for p in string.punctuation:\n",
    "        text = text.replace(p, '') \n",
    "    return text"
   ]
  },
  {
   "cell_type": "code",
   "execution_count": 182,
   "id": "90d2e8d2",
   "metadata": {
    "ExecuteTime": {
     "end_time": "2022-04-04T15:56:24.931711Z",
     "start_time": "2022-04-04T15:56:24.927150Z"
    }
   },
   "outputs": [],
   "source": [
    "def remove_digit(text):\n",
    "    return ''.join(c for c in text if not c.isdigit())"
   ]
  },
  {
   "cell_type": "code",
   "execution_count": 183,
   "id": "5a34b665",
   "metadata": {
    "ExecuteTime": {
     "end_time": "2022-04-04T15:56:24.938654Z",
     "start_time": "2022-04-04T15:56:24.934886Z"
    }
   },
   "outputs": [],
   "source": [
    "def expand_words(text):\n",
    "    expansion_dict = {\n",
    "        \"ain't\": \"are not\", \n",
    "        \"'s\": \" is\", \n",
    "        \"aren't\": \"are not\", \n",
    "        \"don't\": \"do not\",\n",
    "        \"didn't\": \"did not\", \n",
    "        \"won't\": \"will not\",\n",
    "        \"can't\": \"cannot\"\n",
    "    }\n",
    "    for word, exp in expansion_dict.items():\n",
    "        text = text.replace(word, exp)\n",
    "    return text"
   ]
  },
  {
   "cell_type": "code",
   "execution_count": 184,
   "id": "a3715b49",
   "metadata": {
    "ExecuteTime": {
     "end_time": "2022-04-04T15:56:24.944212Z",
     "start_time": "2022-04-04T15:56:24.940789Z"
    }
   },
   "outputs": [],
   "source": [
    "def remove_stopwords(text, language='english'):\n",
    "    stop_words = set(stopwords.words(language))\n",
    "    return [w for w in word_tokenize(text) if not w in stop_words]"
   ]
  },
  {
   "cell_type": "code",
   "execution_count": 185,
   "id": "f18b6d2a",
   "metadata": {
    "ExecuteTime": {
     "end_time": "2022-04-04T15:56:24.950361Z",
     "start_time": "2022-04-04T15:56:24.946416Z"
    }
   },
   "outputs": [],
   "source": [
    "def lemmatize_text(text):\n",
    "    lemmatizer  = WordNetLemmatizer()\n",
    "    return ' '.join([lemmatizer.lemmatize(word) for word in text])"
   ]
  },
  {
   "cell_type": "code",
   "execution_count": 186,
   "id": "5a9171cf",
   "metadata": {
    "ExecuteTime": {
     "end_time": "2022-04-04T15:56:26.531908Z",
     "start_time": "2022-04-04T15:56:24.951745Z"
    }
   },
   "outputs": [
    {
     "data": {
      "text/html": [
       "<div>\n",
       "<style scoped>\n",
       "    .dataframe tbody tr th:only-of-type {\n",
       "        vertical-align: middle;\n",
       "    }\n",
       "\n",
       "    .dataframe tbody tr th {\n",
       "        vertical-align: top;\n",
       "    }\n",
       "\n",
       "    .dataframe thead th {\n",
       "        text-align: right;\n",
       "    }\n",
       "</style>\n",
       "<table border=\"1\" class=\"dataframe\">\n",
       "  <thead>\n",
       "    <tr style=\"text-align: right;\">\n",
       "      <th></th>\n",
       "      <th>id</th>\n",
       "      <th>text</th>\n",
       "      <th>target</th>\n",
       "    </tr>\n",
       "  </thead>\n",
       "  <tbody>\n",
       "    <tr>\n",
       "      <th>0</th>\n",
       "      <td>1</td>\n",
       "      <td>deed reason earthquake may allah forgive u</td>\n",
       "      <td>1</td>\n",
       "    </tr>\n",
       "    <tr>\n",
       "      <th>1</th>\n",
       "      <td>4</td>\n",
       "      <td>forest fire near la ronge sask canada</td>\n",
       "      <td>1</td>\n",
       "    </tr>\n",
       "    <tr>\n",
       "      <th>2</th>\n",
       "      <td>5</td>\n",
       "      <td>resident asked shelter place notified officer evacuation shelter place order expected</td>\n",
       "      <td>1</td>\n",
       "    </tr>\n",
       "    <tr>\n",
       "      <th>3</th>\n",
       "      <td>6</td>\n",
       "      <td>people receive wildfire evacuation order california</td>\n",
       "      <td>1</td>\n",
       "    </tr>\n",
       "    <tr>\n",
       "      <th>4</th>\n",
       "      <td>7</td>\n",
       "      <td>got sent photo ruby alaska smoke wildfire pours school</td>\n",
       "      <td>1</td>\n",
       "    </tr>\n",
       "    <tr>\n",
       "      <th>...</th>\n",
       "      <td>...</td>\n",
       "      <td>...</td>\n",
       "      <td>...</td>\n",
       "    </tr>\n",
       "    <tr>\n",
       "      <th>7608</th>\n",
       "      <td>10869</td>\n",
       "      <td>two giant crane holding bridge collapse nearby home</td>\n",
       "      <td>1</td>\n",
       "    </tr>\n",
       "    <tr>\n",
       "      <th>7609</th>\n",
       "      <td>10870</td>\n",
       "      <td>ariaahrary thetawniest control wild fire california even northern part state troubling</td>\n",
       "      <td>1</td>\n",
       "    </tr>\n",
       "    <tr>\n",
       "      <th>7610</th>\n",
       "      <td>10871</td>\n",
       "      <td>utckm volcano hawaii</td>\n",
       "      <td>1</td>\n",
       "    </tr>\n",
       "    <tr>\n",
       "      <th>7611</th>\n",
       "      <td>10872</td>\n",
       "      <td>police investigating ebike collided car little portugal ebike rider suffered serious nonlife threatening injury</td>\n",
       "      <td>1</td>\n",
       "    </tr>\n",
       "    <tr>\n",
       "      <th>7612</th>\n",
       "      <td>10873</td>\n",
       "      <td>latest home razed northern california wildfire abc news</td>\n",
       "      <td>1</td>\n",
       "    </tr>\n",
       "  </tbody>\n",
       "</table>\n",
       "<p>7613 rows × 3 columns</p>\n",
       "</div>"
      ],
      "text/plain": [
       "         id  \\\n",
       "0         1   \n",
       "1         4   \n",
       "2         5   \n",
       "3         6   \n",
       "4         7   \n",
       "...     ...   \n",
       "7608  10869   \n",
       "7609  10870   \n",
       "7610  10871   \n",
       "7611  10872   \n",
       "7612  10873   \n",
       "\n",
       "                                                                                                                 text  \\\n",
       "0                                                                          deed reason earthquake may allah forgive u   \n",
       "1                                                                               forest fire near la ronge sask canada   \n",
       "2                               resident asked shelter place notified officer evacuation shelter place order expected   \n",
       "3                                                                 people receive wildfire evacuation order california   \n",
       "4                                                              got sent photo ruby alaska smoke wildfire pours school   \n",
       "...                                                                                                               ...   \n",
       "7608                                                              two giant crane holding bridge collapse nearby home   \n",
       "7609                           ariaahrary thetawniest control wild fire california even northern part state troubling   \n",
       "7610                                                                                             utckm volcano hawaii   \n",
       "7611  police investigating ebike collided car little portugal ebike rider suffered serious nonlife threatening injury   \n",
       "7612                                                          latest home razed northern california wildfire abc news   \n",
       "\n",
       "      target  \n",
       "0          1  \n",
       "1          1  \n",
       "2          1  \n",
       "3          1  \n",
       "4          1  \n",
       "...      ...  \n",
       "7608       1  \n",
       "7609       1  \n",
       "7610       1  \n",
       "7611       1  \n",
       "7612       1  \n",
       "\n",
       "[7613 rows x 3 columns]"
      ]
     },
     "execution_count": 186,
     "metadata": {},
     "output_type": "execute_result"
    }
   ],
   "source": [
    "cleaned_df['text'] = cleaned_df['text'].apply(lambda text: re.sub(r'http\\S+', '', text))\n",
    "cleaned_df['text'] = cleaned_df['text'].apply(remove_punctuation)\n",
    "cleaned_df['text'] = cleaned_df['text'].apply(remove_digit)\n",
    "cleaned_df['text'] = cleaned_df['text'].apply(lambda text: text.lower())\n",
    "cleaned_df['text'] = cleaned_df['text'].apply(expand_words)\n",
    "cleaned_df['text'] = cleaned_df['text'].apply(lambda text: text.strip())\n",
    "\n",
    "cleaned_df['text'] = cleaned_df['text'].apply(remove_stopwords)\n",
    "cleaned_df['text'] = cleaned_df['text'].apply(lemmatize_text)\n",
    "\n",
    "cleaned_df"
   ]
  }
 ],
 "metadata": {
  "kernelspec": {
   "display_name": "Python 3 (ipykernel)",
   "language": "python",
   "name": "python3"
  },
  "language_info": {
   "codemirror_mode": {
    "name": "ipython",
    "version": 3
   },
   "file_extension": ".py",
   "mimetype": "text/x-python",
   "name": "python",
   "nbconvert_exporter": "python",
   "pygments_lexer": "ipython3",
   "version": "3.8.12"
  },
  "toc": {
   "base_numbering": 1,
   "nav_menu": {},
   "number_sections": true,
   "sideBar": true,
   "skip_h1_title": false,
   "title_cell": "Table of Contents",
   "title_sidebar": "Contents",
   "toc_cell": false,
   "toc_position": {},
   "toc_section_display": true,
   "toc_window_display": false
  }
 },
 "nbformat": 4,
 "nbformat_minor": 5
}
