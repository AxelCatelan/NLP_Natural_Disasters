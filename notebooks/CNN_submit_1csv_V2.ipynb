{
  "nbformat": 4,
  "nbformat_minor": 0,
  "metadata": {
    "colab": {
      "name": "CNN_submit_1csv_V2.ipynb",
      "provenance": [],
      "collapsed_sections": []
    },
    "kernelspec": {
      "name": "python3",
      "display_name": "Python 3"
    },
    "language_info": {
      "name": "python"
    }
  },
  "cells": [
    {
      "cell_type": "code",
      "execution_count": 1,
      "metadata": {
        "id": "E3NHcOhaMWY3"
      },
      "outputs": [],
      "source": [
        "from tensorflow.keras.preprocessing.text import Tokenizer\n",
        "from tensorflow.keras.preprocessing.sequence import pad_sequences"
      ]
    },
    {
      "cell_type": "code",
      "source": [
        "import numpy as np\n",
        "max_long = 25"
      ],
      "metadata": {
        "id": "04LHeI1KMgDg"
      },
      "execution_count": 2,
      "outputs": []
    },
    {
      "cell_type": "code",
      "source": [
        "from google.colab import drive\n",
        "drive.mount('/content/gdrive')"
      ],
      "metadata": {
        "colab": {
          "base_uri": "https://localhost:8080/"
        },
        "id": "DlfgqbAtMj_R",
        "outputId": "3d63a357-0cfe-4cff-84ce-f5b932c0113d"
      },
      "execution_count": 3,
      "outputs": [
        {
          "output_type": "stream",
          "name": "stdout",
          "text": [
            "Drive already mounted at /content/gdrive; to attempt to forcibly remount, call drive.mount(\"/content/gdrive\", force_remount=True).\n"
          ]
        }
      ]
    },
    {
      "cell_type": "code",
      "source": [
        "import sys\n",
        "sys.path.append('/content/gdrive/My Drive')"
      ],
      "metadata": {
        "id": "r_b4a-wBMqWT"
      },
      "execution_count": 4,
      "outputs": []
    },
    {
      "cell_type": "code",
      "source": [
        "!pip install unidecode"
      ],
      "metadata": {
        "colab": {
          "base_uri": "https://localhost:8080/"
        },
        "id": "1upxosMNMv3e",
        "outputId": "7c8bf668-e9d7-46bd-c5cb-d4a16387ac21"
      },
      "execution_count": 5,
      "outputs": [
        {
          "output_type": "stream",
          "name": "stdout",
          "text": [
            "Requirement already satisfied: unidecode in /usr/local/lib/python3.7/dist-packages (1.3.4)\n"
          ]
        }
      ]
    },
    {
      "cell_type": "code",
      "source": [
        "import data\n",
        "data.get_data, data.clean_data"
      ],
      "metadata": {
        "colab": {
          "base_uri": "https://localhost:8080/"
        },
        "id": "dXK0lbrpMx2l",
        "outputId": "4e45a54b-c017-4dd1-8fb3-67b5f4eb35d2"
      },
      "execution_count": 6,
      "outputs": [
        {
          "output_type": "execute_result",
          "data": {
            "text/plain": [
              "(<function data.get_data>, <function data.clean_data>)"
            ]
          },
          "metadata": {},
          "execution_count": 6
        }
      ]
    },
    {
      "cell_type": "code",
      "source": [
        "import token_glove2\n",
        "token_glove2.create_list, token_glove2.token_ize, token_glove2.voc_token, token_glove2.dict_token, token_glove2.token_tweet, token_glove2.glove_vector"
      ],
      "metadata": {
        "colab": {
          "base_uri": "https://localhost:8080/"
        },
        "id": "eq9WBI45M0i8",
        "outputId": "b7ea0ccf-0cd7-4c1f-8805-b0b8f4153749"
      },
      "execution_count": 8,
      "outputs": [
        {
          "output_type": "execute_result",
          "data": {
            "text/plain": [
              "(<function token_glove2.create_list>,\n",
              " <function token_glove2.token_ize>,\n",
              " <function token_glove2.voc_token>,\n",
              " <function token_glove2.dict_token>,\n",
              " <function token_glove2.token_tweet>,\n",
              " <function token_glove2.glove_vector>)"
            ]
          },
          "metadata": {},
          "execution_count": 8
        }
      ]
    },
    {
      "cell_type": "code",
      "source": [
        "import metrics\n",
        "metrics.recall_m, metrics.precision_m, metrics.f1_m"
      ],
      "metadata": {
        "colab": {
          "base_uri": "https://localhost:8080/"
        },
        "id": "yywkD2XOM3OE",
        "outputId": "515977cb-6c35-4ab0-ccba-00e3e3c3263f"
      },
      "execution_count": 9,
      "outputs": [
        {
          "output_type": "execute_result",
          "data": {
            "text/plain": [
              "(<function metrics.recall_m>,\n",
              " <function metrics.precision_m>,\n",
              " <function metrics.f1_m>)"
            ]
          },
          "metadata": {},
          "execution_count": 9
        }
      ]
    },
    {
      "cell_type": "code",
      "source": [
        "import nltk\n",
        "nltk.download('stopwords')\n",
        "nltk.download('wordnet')\n",
        "nltk.download('punkt')\n",
        "nltk.download('averaged_perceptron_tagger')"
      ],
      "metadata": {
        "colab": {
          "base_uri": "https://localhost:8080/"
        },
        "id": "CjETzcPbM5M1",
        "outputId": "e11ab91f-37cc-4b9f-9823-75c90fd71e7c"
      },
      "execution_count": 10,
      "outputs": [
        {
          "output_type": "stream",
          "name": "stdout",
          "text": [
            "[nltk_data] Downloading package stopwords to /root/nltk_data...\n",
            "[nltk_data]   Package stopwords is already up-to-date!\n",
            "[nltk_data] Downloading package wordnet to /root/nltk_data...\n",
            "[nltk_data]   Package wordnet is already up-to-date!\n",
            "[nltk_data] Downloading package punkt to /root/nltk_data...\n",
            "[nltk_data]   Package punkt is already up-to-date!\n",
            "[nltk_data] Downloading package averaged_perceptron_tagger to\n",
            "[nltk_data]     /root/nltk_data...\n",
            "[nltk_data]   Package averaged_perceptron_tagger is already up-to-\n",
            "[nltk_data]       date!\n"
          ]
        },
        {
          "output_type": "execute_result",
          "data": {
            "text/plain": [
              "True"
            ]
          },
          "metadata": {},
          "execution_count": 10
        }
      ]
    },
    {
      "cell_type": "code",
      "source": [
        "df = data.get_data()\n",
        "cleaned_df = data.clean_data(df)"
      ],
      "metadata": {
        "id": "lToUcBtUM7BW"
      },
      "execution_count": 11,
      "outputs": []
    },
    {
      "cell_type": "code",
      "source": [
        "text = token_glove2.create_list(cleaned_df['text'])\n",
        "token = token_glove2.token_ize(text)\n",
        "X,token_izer = token_glove2.token_tweet(text, token)"
      ],
      "metadata": {
        "id": "9HhWN4-6M9Za"
      },
      "execution_count": 12,
      "outputs": []
    },
    {
      "cell_type": "code",
      "source": [
        "word_vector_matrix = token_glove2.glove_vector(token)"
      ],
      "metadata": {
        "id": "Ecw82wPcNAH7"
      },
      "execution_count": 14,
      "outputs": []
    },
    {
      "cell_type": "code",
      "source": [
        "from tensorflow.keras.preprocessing.text import Tokenizer\n",
        "from tensorflow.keras.preprocessing.sequence import pad_sequences\n",
        "from tensorflow.keras.models import Sequential\n",
        "from tensorflow.keras.layers import Dense, Flatten, Embedding, Activation, Dropout, LSTM\n",
        "from tensorflow.keras.layers import Conv1D, MaxPooling1D, GlobalMaxPooling1D\n",
        "from tensorflow.keras.optimizers import Adam\n",
        "from tensorflow.keras.callbacks import EarlyStopping\n",
        "from tensorflow.keras import backend as K\n",
        "\n",
        "from sklearn.model_selection import train_test_split\n",
        "from sklearn.metrics import f1_score\n",
        "\n",
        "import numpy as np\n",
        "from numpy import array\n",
        "import pandas as pd\n",
        "import matplotlib.pyplot as plt\n",
        "%matplotlib inline"
      ],
      "metadata": {
        "id": "m7taHkuzNCQd"
      },
      "execution_count": 15,
      "outputs": []
    },
    {
      "cell_type": "code",
      "source": [
        "vocab_size = token_glove2.voc_token(token)\n",
        "vec_size = 200"
      ],
      "metadata": {
        "id": "2f0zN-_ANuJL"
      },
      "execution_count": 17,
      "outputs": []
    },
    {
      "cell_type": "code",
      "source": [
        "y = cleaned_df['target']"
      ],
      "metadata": {
        "id": "dGnLdKJiLgAQ"
      },
      "execution_count": 18,
      "outputs": []
    },
    {
      "cell_type": "code",
      "source": [
        "model = Sequential()\n",
        "\n",
        "es = EarlyStopping(patience=5,restore_best_weights= True)\n",
        "\n",
        "model.add(Embedding(vocab_size, vec_size, input_length=max_long, weights = [word_vector_matrix], trainable = True))\n",
        "model.add(Conv1D(128, 16, activation ='relu'))\n",
        "model.add(MaxPooling1D(2))\n",
        "model.add(Dropout(0.5))\n",
        "model.add(Dense(128, activation='relu'))\n",
        "model.add(Dropout(0.5))\n",
        "model.add(Dense(32, activation='relu'))\n",
        "model.add(Dropout(0.5))\n",
        "model.add(Dense(16, activation='relu'))\n",
        "model.add(GlobalMaxPooling1D())\n",
        "model.add(Dense(1, activation='sigmoid'))\n",
        "model.compile(loss='binary_crossentropy',optimizer=Adam(learning_rate = 0.0001),metrics=['accuracy'])\n",
        "history = model.fit(X, y, batch_size=16, epochs = 22, validation_split=0.1, callbacks = [es])"
      ],
      "metadata": {
        "id": "JAJkAKMpNyte",
        "colab": {
          "base_uri": "https://localhost:8080/"
        },
        "outputId": "67bddf16-d76e-4212-caeb-05805af465ea"
      },
      "execution_count": 19,
      "outputs": [
        {
          "output_type": "stream",
          "name": "stdout",
          "text": [
            "Epoch 1/22\n",
            "429/429 [==============================] - 17s 37ms/step - loss: 0.6849 - accuracy: 0.5663 - val_loss: 0.6293 - val_accuracy: 0.7480\n",
            "Epoch 2/22\n",
            "429/429 [==============================] - 16s 36ms/step - loss: 0.5950 - accuracy: 0.7043 - val_loss: 0.5211 - val_accuracy: 0.8045\n",
            "Epoch 3/22\n",
            "429/429 [==============================] - 15s 36ms/step - loss: 0.5306 - accuracy: 0.7538 - val_loss: 0.4881 - val_accuracy: 0.8071\n",
            "Epoch 4/22\n",
            "429/429 [==============================] - 15s 36ms/step - loss: 0.4969 - accuracy: 0.7759 - val_loss: 0.4732 - val_accuracy: 0.8071\n",
            "Epoch 5/22\n",
            "429/429 [==============================] - 16s 37ms/step - loss: 0.4650 - accuracy: 0.7942 - val_loss: 0.4556 - val_accuracy: 0.8058\n",
            "Epoch 6/22\n",
            "429/429 [==============================] - 16s 38ms/step - loss: 0.4447 - accuracy: 0.8101 - val_loss: 0.4522 - val_accuracy: 0.8097\n",
            "Epoch 7/22\n",
            "429/429 [==============================] - 16s 38ms/step - loss: 0.4182 - accuracy: 0.8240 - val_loss: 0.4458 - val_accuracy: 0.8150\n",
            "Epoch 8/22\n",
            "429/429 [==============================] - 16s 37ms/step - loss: 0.4040 - accuracy: 0.8292 - val_loss: 0.4443 - val_accuracy: 0.7979\n",
            "Epoch 9/22\n",
            "429/429 [==============================] - 15s 36ms/step - loss: 0.3802 - accuracy: 0.8438 - val_loss: 0.4429 - val_accuracy: 0.8058\n",
            "Epoch 10/22\n",
            "429/429 [==============================] - 16s 37ms/step - loss: 0.3603 - accuracy: 0.8526 - val_loss: 0.4440 - val_accuracy: 0.8045\n",
            "Epoch 11/22\n",
            "429/429 [==============================] - 16s 37ms/step - loss: 0.3425 - accuracy: 0.8590 - val_loss: 0.4411 - val_accuracy: 0.8018\n",
            "Epoch 12/22\n",
            "429/429 [==============================] - 16s 36ms/step - loss: 0.3262 - accuracy: 0.8704 - val_loss: 0.4446 - val_accuracy: 0.8045\n",
            "Epoch 13/22\n",
            "429/429 [==============================] - 16s 36ms/step - loss: 0.3035 - accuracy: 0.8818 - val_loss: 0.4515 - val_accuracy: 0.8058\n",
            "Epoch 14/22\n",
            "429/429 [==============================] - 15s 36ms/step - loss: 0.2802 - accuracy: 0.8927 - val_loss: 0.4677 - val_accuracy: 0.8031\n",
            "Epoch 15/22\n",
            "429/429 [==============================] - 15s 36ms/step - loss: 0.2642 - accuracy: 0.8967 - val_loss: 0.4610 - val_accuracy: 0.8071\n",
            "Epoch 16/22\n",
            "429/429 [==============================] - 16s 36ms/step - loss: 0.2470 - accuracy: 0.9072 - val_loss: 0.4705 - val_accuracy: 0.8110\n"
          ]
        }
      ]
    },
    {
      "cell_type": "markdown",
      "source": [
        "#Phase de Test"
      ],
      "metadata": {
        "id": "FFKzdah9Ndxh"
      }
    },
    {
      "cell_type": "code",
      "source": [
        "df = data.get_data(test=True)\n",
        "test_df = data.clean_data(df)"
      ],
      "metadata": {
        "id": "Y-En_56pL7e-"
      },
      "execution_count": 21,
      "outputs": []
    },
    {
      "cell_type": "code",
      "source": [
        "text_test = token_glove2.create_list(test_df['text'])\n",
        "encoded_text_test = token_izer.texts_to_sequences(text_test)\n",
        "X_test = pad_sequences(encoded_text_test, maxlen=max_long, padding='post')"
      ],
      "metadata": {
        "id": "tOqTx2XySdWI"
      },
      "execution_count": 22,
      "outputs": []
    },
    {
      "cell_type": "code",
      "source": [
        "results = model.predict(X_test)"
      ],
      "metadata": {
        "id": "qs2UQIQkN2UN"
      },
      "execution_count": 23,
      "outputs": []
    },
    {
      "cell_type": "code",
      "source": [
        "results"
      ],
      "metadata": {
        "colab": {
          "base_uri": "https://localhost:8080/"
        },
        "id": "4V7GzBI4SpeY",
        "outputId": "562cbf75-7588-438b-a4ea-7aec45fef3ca"
      },
      "execution_count": 24,
      "outputs": [
        {
          "output_type": "execute_result",
          "data": {
            "text/plain": [
              "array([[0.6388107 ],\n",
              "       [0.84428406],\n",
              "       [0.87397337],\n",
              "       ...,\n",
              "       [0.927103  ],\n",
              "       [0.7617718 ],\n",
              "       [0.5499463 ]], dtype=float32)"
            ]
          },
          "metadata": {},
          "execution_count": 24
        }
      ]
    },
    {
      "cell_type": "code",
      "source": [
        "def arrondi(n):\n",
        "  if n >= 0.5:\n",
        "    return 1\n",
        "  else :\n",
        "    return 0"
      ],
      "metadata": {
        "id": "pOdjfrj1ErQC"
      },
      "execution_count": 25,
      "outputs": []
    },
    {
      "cell_type": "code",
      "source": [
        "to_submit = [arrondi(x[0]) for x in results]"
      ],
      "metadata": {
        "id": "VIf-o2G2Fl_c"
      },
      "execution_count": 26,
      "outputs": []
    },
    {
      "cell_type": "code",
      "source": [
        "to_submit_df = pd.DataFrame(to_submit)"
      ],
      "metadata": {
        "id": "8yNVWeLXGTfS"
      },
      "execution_count": 27,
      "outputs": []
    },
    {
      "cell_type": "code",
      "source": [
        "to_submit_df.rename(columns={0: 'target'}, inplace=True)"
      ],
      "metadata": {
        "id": "k8wRTKpKdi8T"
      },
      "execution_count": 28,
      "outputs": []
    },
    {
      "cell_type": "code",
      "source": [
        "to_submit_df['id'] = test_df.id"
      ],
      "metadata": {
        "id": "6fpQy8w5brIn"
      },
      "execution_count": 29,
      "outputs": []
    },
    {
      "cell_type": "code",
      "source": [
        "to_submit_df = to_submit_df.set_index('id')"
      ],
      "metadata": {
        "id": "BfpaGD1XeKYw"
      },
      "execution_count": 30,
      "outputs": []
    },
    {
      "cell_type": "code",
      "source": [
        "to_submit_df['target'].value_counts()"
      ],
      "metadata": {
        "colab": {
          "base_uri": "https://localhost:8080/"
        },
        "id": "NeU2CvCTUlpq",
        "outputId": "65baf39c-f681-47bb-a50b-c9709670dada"
      },
      "execution_count": 31,
      "outputs": [
        {
          "output_type": "execute_result",
          "data": {
            "text/plain": [
              "0    2053\n",
              "1    1210\n",
              "Name: target, dtype: int64"
            ]
          },
          "metadata": {},
          "execution_count": 31
        }
      ]
    },
    {
      "cell_type": "code",
      "source": [
        "to_submit_df.to_csv('/content/gdrive/My Drive/submission8.csv')"
      ],
      "metadata": {
        "id": "GkmobIslHJD3"
      },
      "execution_count": 32,
      "outputs": []
    },
    {
      "cell_type": "code",
      "source": [
        "model.save('/content/gdrive/My Drive/CNN_camille_version_finale')"
      ],
      "metadata": {
        "id": "vjvgC704drWt",
        "colab": {
          "base_uri": "https://localhost:8080/"
        },
        "outputId": "f016598f-5aff-4c25-9bab-ca958434b5b9"
      },
      "execution_count": 33,
      "outputs": [
        {
          "output_type": "stream",
          "name": "stdout",
          "text": [
            "INFO:tensorflow:Assets written to: /content/gdrive/My Drive/CNN_camille_version_finale/assets\n"
          ]
        }
      ]
    },
    {
      "cell_type": "code",
      "source": [
        ""
      ],
      "metadata": {
        "id": "p82u-Uh6zsfd"
      },
      "execution_count": null,
      "outputs": []
    }
  ]
}