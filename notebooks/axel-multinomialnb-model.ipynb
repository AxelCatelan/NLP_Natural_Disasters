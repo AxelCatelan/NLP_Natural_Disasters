{
 "cells": [
  {
   "cell_type": "markdown",
   "id": "acfb96b8",
   "metadata": {
    "heading_collapsed": true
   },
   "source": [
    "# Data Cleaning"
   ]
  },
  {
   "cell_type": "code",
   "execution_count": null,
   "id": "1b233820",
   "metadata": {
    "ExecuteTime": {
     "end_time": "2022-04-07T08:05:01.434673Z",
     "start_time": "2022-04-07T08:05:01.418777Z"
    },
    "hidden": true
   },
   "outputs": [],
   "source": [
    "%load_ext autoreload\n",
    "%autoreload 2"
   ]
  },
  {
   "cell_type": "code",
   "execution_count": null,
   "id": "0ed6e182",
   "metadata": {
    "ExecuteTime": {
     "end_time": "2022-04-07T08:05:01.453400Z",
     "start_time": "2022-04-07T08:05:01.436462Z"
    },
    "hidden": true
   },
   "outputs": [],
   "source": [
    "import re\n",
    "import string\n",
    "import numpy as np\n",
    "import pandas as pd"
   ]
  },
  {
   "cell_type": "code",
   "execution_count": null,
   "id": "dadd1273",
   "metadata": {
    "ExecuteTime": {
     "end_time": "2022-04-07T08:05:01.473311Z",
     "start_time": "2022-04-07T08:05:01.454945Z"
    },
    "hidden": true
   },
   "outputs": [],
   "source": [
    "import nltk\n",
    "nltk.download('stopwords')\n",
    "nltk.download('punkt')\n",
    "nltk.download('wordnet')\n",
    "nltk.download('omw-1.4')"
   ]
  },
  {
   "cell_type": "code",
   "execution_count": null,
   "id": "97b3f6fc",
   "metadata": {
    "ExecuteTime": {
     "end_time": "2022-04-07T08:05:01.495070Z",
     "start_time": "2022-04-07T08:05:01.475352Z"
    },
    "hidden": true
   },
   "outputs": [],
   "source": [
    "from nltk.corpus import stopwords \n",
    "from nltk.tokenize import word_tokenize\n",
    "from nltk.stem import WordNetLemmatizer\n",
    "from nltk.stem.porter import PorterStemmer"
   ]
  },
  {
   "cell_type": "code",
   "execution_count": null,
   "id": "8fb2e6e9",
   "metadata": {
    "ExecuteTime": {
     "end_time": "2022-04-07T08:05:01.513052Z",
     "start_time": "2022-04-07T08:05:01.496451Z"
    },
    "hidden": true
   },
   "outputs": [],
   "source": [
    "pd.set_option(\"display.max_rows\", None, \"display.max_columns\", None)"
   ]
  },
  {
   "cell_type": "code",
   "execution_count": null,
   "id": "fe6de440",
   "metadata": {
    "ExecuteTime": {
     "end_time": "2022-04-07T08:05:01.530531Z",
     "start_time": "2022-04-07T08:05:01.514894Z"
    },
    "hidden": true
   },
   "outputs": [],
   "source": [
    "pd.set_option('display.max_colwidth', None)"
   ]
  },
  {
   "cell_type": "code",
   "execution_count": null,
   "id": "149e2904",
   "metadata": {
    "ExecuteTime": {
     "end_time": "2022-04-07T08:05:01.561312Z",
     "start_time": "2022-04-07T08:05:01.532286Z"
    },
    "hidden": true
   },
   "outputs": [],
   "source": [
    "df = pd.read_csv('../raw_data/train.csv')\n",
    "cleaned_df = df.drop(columns=['location', 'keyword'])"
   ]
  },
  {
   "cell_type": "code",
   "execution_count": null,
   "id": "d1e4abce",
   "metadata": {
    "ExecuteTime": {
     "end_time": "2022-04-07T08:05:01.579388Z",
     "start_time": "2022-04-07T08:05:01.562956Z"
    },
    "hidden": true
   },
   "outputs": [],
   "source": [
    "cleaned_df.head()"
   ]
  },
  {
   "cell_type": "code",
   "execution_count": null,
   "id": "07cf5aa5",
   "metadata": {
    "ExecuteTime": {
     "end_time": "2022-04-07T08:05:01.595389Z",
     "start_time": "2022-04-07T08:05:01.581213Z"
    },
    "hidden": true
   },
   "outputs": [],
   "source": [
    "def remove_punctuation(text):\n",
    "    for p in string.punctuation:\n",
    "        text = text.replace(p, '') \n",
    "    return text"
   ]
  },
  {
   "cell_type": "code",
   "execution_count": null,
   "id": "90d2e8d2",
   "metadata": {
    "ExecuteTime": {
     "end_time": "2022-04-07T08:05:01.610758Z",
     "start_time": "2022-04-07T08:05:01.597676Z"
    },
    "hidden": true
   },
   "outputs": [],
   "source": [
    "def remove_digit(text):\n",
    "    return ''.join(c for c in text if not c.isdigit())"
   ]
  },
  {
   "cell_type": "code",
   "execution_count": null,
   "id": "5a34b665",
   "metadata": {
    "ExecuteTime": {
     "end_time": "2022-04-07T08:05:01.627888Z",
     "start_time": "2022-04-07T08:05:01.612736Z"
    },
    "hidden": true
   },
   "outputs": [],
   "source": [
    "def expand_words(text):\n",
    "    expansion_dict = {\n",
    "        \"ain't\": \"are not\", \n",
    "        \"'s\": \" is\", \n",
    "        \"aren't\": \"are not\", \n",
    "        \"don't\": \"do not\",\n",
    "        \"didn't\": \"did not\", \n",
    "        \"won't\": \"will not\",\n",
    "        \"can't\": \"cannot\"\n",
    "    }\n",
    "    for word, exp in expansion_dict.items():\n",
    "        text = text.replace(word, exp)\n",
    "    return text"
   ]
  },
  {
   "cell_type": "code",
   "execution_count": null,
   "id": "a3715b49",
   "metadata": {
    "ExecuteTime": {
     "end_time": "2022-04-07T08:05:01.643607Z",
     "start_time": "2022-04-07T08:05:01.629852Z"
    },
    "hidden": true
   },
   "outputs": [],
   "source": [
    "def remove_stopwords(text, language='english'):\n",
    "    stop_words = set(stopwords.words(language))\n",
    "    return [w for w in word_tokenize(text) if not w in stop_words]"
   ]
  },
  {
   "cell_type": "code",
   "execution_count": null,
   "id": "f18b6d2a",
   "metadata": {
    "ExecuteTime": {
     "end_time": "2022-04-07T08:05:01.660334Z",
     "start_time": "2022-04-07T08:05:01.645260Z"
    },
    "hidden": true
   },
   "outputs": [],
   "source": [
    "def lemmatize_text(text):\n",
    "    lemmatizer  = WordNetLemmatizer()\n",
    "    return ' '.join([lemmatizer.lemmatize(word) for word in text])"
   ]
  },
  {
   "cell_type": "code",
   "execution_count": null,
   "id": "1d721608",
   "metadata": {
    "ExecuteTime": {
     "end_time": "2022-04-07T08:05:01.676313Z",
     "start_time": "2022-04-07T08:05:01.661825Z"
    },
    "hidden": true
   },
   "outputs": [],
   "source": [
    "def remove_repeated_char(words):\n",
    "    for w in words:\n",
    "        if re.search(r'(.)\\1{2}', w):\n",
    "            words.remove(w)\n",
    "    return words"
   ]
  },
  {
   "cell_type": "code",
   "execution_count": null,
   "id": "5a9171cf",
   "metadata": {
    "ExecuteTime": {
     "end_time": "2022-04-07T08:05:03.216481Z",
     "start_time": "2022-04-07T08:05:01.678035Z"
    },
    "hidden": true,
    "scrolled": true
   },
   "outputs": [],
   "source": [
    "cleaned_df['text'] = cleaned_df['text'].apply(lambda text: re.sub(r'http\\S+', '', text))\n",
    "cleaned_df['text'] = cleaned_df['text'].apply(remove_punctuation)\n",
    "cleaned_df['text'] = cleaned_df['text'].apply(remove_digit)\n",
    "cleaned_df['text'] = cleaned_df['text'].apply(lambda text: text.lower())\n",
    "cleaned_df['text'] = cleaned_df['text'].apply(expand_words)\n",
    "cleaned_df['text'] = cleaned_df['text'].apply(lambda text: text.strip())\n",
    "\n",
    "cleaned_df['text'] = cleaned_df['text'].apply(remove_stopwords)\n",
    "cleaned_df['text'] = cleaned_df['text'].apply(remove_repeated_char)\n",
    "cleaned_df['text'] = cleaned_df['text'].apply(lemmatize_text)\n",
    "\n",
    "cleaned_df.head(20)"
   ]
  },
  {
   "cell_type": "markdown",
   "id": "9878bcd1",
   "metadata": {},
   "source": [
    "# MultinomialNB Model"
   ]
  },
  {
   "cell_type": "code",
   "execution_count": 221,
   "id": "1e96f5ad",
   "metadata": {
    "ExecuteTime": {
     "end_time": "2022-04-07T11:40:38.322716Z",
     "start_time": "2022-04-07T11:40:38.319679Z"
    }
   },
   "outputs": [],
   "source": [
    "from NLP_Natural_Disasters.data import get_data, clean_data"
   ]
  },
  {
   "cell_type": "code",
   "execution_count": 222,
   "id": "8c88532b",
   "metadata": {
    "ExecuteTime": {
     "end_time": "2022-04-07T11:40:39.991045Z",
     "start_time": "2022-04-07T11:40:38.480004Z"
    }
   },
   "outputs": [
    {
     "data": {
      "text/plain": [
       "(7613, 3)"
      ]
     },
     "execution_count": 222,
     "metadata": {},
     "output_type": "execute_result"
    }
   ],
   "source": [
    "cleaned_df = clean_data(get_data())\n",
    "cleaned_df.shape"
   ]
  },
  {
   "cell_type": "code",
   "execution_count": 223,
   "id": "fce76cf1",
   "metadata": {
    "ExecuteTime": {
     "end_time": "2022-04-07T11:40:39.995949Z",
     "start_time": "2022-04-07T11:40:39.993193Z"
    }
   },
   "outputs": [],
   "source": [
    "from sklearn.feature_extraction.text import CountVectorizer\n",
    "from sklearn.feature_extraction.text import TfidfVectorizer\n",
    "from sklearn.naive_bayes import MultinomialNB\n",
    "from sklearn.model_selection import cross_validate, train_test_split"
   ]
  },
  {
   "cell_type": "code",
   "execution_count": 224,
   "id": "6c073567",
   "metadata": {
    "ExecuteTime": {
     "end_time": "2022-04-07T11:40:40.219067Z",
     "start_time": "2022-04-07T11:40:39.998137Z"
    }
   },
   "outputs": [],
   "source": [
    "vectorizer = TfidfVectorizer(max_features=3000, min_df=0.0007, max_df=0.8, ngram_range=(1,2))\n",
    "X = vectorizer.fit_transform(cleaned_df['text'])\n",
    "y = cleaned_df['target']"
   ]
  },
  {
   "cell_type": "code",
   "execution_count": 225,
   "id": "675506c3",
   "metadata": {
    "ExecuteTime": {
     "end_time": "2022-04-07T11:40:40.233690Z",
     "start_time": "2022-04-07T11:40:40.221081Z"
    }
   },
   "outputs": [
    {
     "name": "stderr",
     "output_type": "stream",
     "text": [
      "/home/axelc/.pyenv/versions/3.8.12/envs/nlp_project/lib/python3.8/site-packages/sklearn/utils/deprecation.py:87: FutureWarning: Function get_feature_names is deprecated; get_feature_names is deprecated in 1.0 and will be removed in 1.2. Please use get_feature_names_out instead.\n",
      "  warnings.warn(msg, category=FutureWarning)\n"
     ]
    },
    {
     "data": {
      "text/plain": [
       "['aba',\n",
       " 'aba woman',\n",
       " 'abandoned',\n",
       " 'abandoned aircraft',\n",
       " 'abc',\n",
       " 'abc news',\n",
       " 'abcnews',\n",
       " 'ablaze',\n",
       " 'able',\n",
       " 'absolutely',\n",
       " 'abstorm',\n",
       " 'abuse',\n",
       " 'access',\n",
       " 'accident',\n",
       " 'accident expert',\n",
       " 'accident man',\n",
       " 'according',\n",
       " 'account',\n",
       " 'acre',\n",
       " 'across',\n",
       " 'act',\n",
       " 'action',\n",
       " 'action year',\n",
       " 'activity',\n",
       " 'actually',\n",
       " 'add',\n",
       " 'added',\n",
       " 'added video',\n",
       " 'address',\n",
       " 'admits',\n",
       " 'admits arson',\n",
       " 'adult',\n",
       " 'advance',\n",
       " 'advisory',\n",
       " 'af',\n",
       " 'affected',\n",
       " 'affected fatal',\n",
       " 'afghan',\n",
       " 'afghanistan',\n",
       " 'africa',\n",
       " 'afternoon',\n",
       " 'aftershock',\n",
       " 'aftershock djicemoon',\n",
       " 'age',\n",
       " 'ago',\n",
       " 'agree',\n",
       " 'ah',\n",
       " 'ahead',\n",
       " 'aid',\n",
       " 'aim',\n",
       " 'aint',\n",
       " 'air',\n",
       " 'air accident',\n",
       " 'air ambulance',\n",
       " 'aircraft',\n",
       " 'aircraft debris',\n",
       " 'airline',\n",
       " 'airplane',\n",
       " 'airplane accident',\n",
       " 'airplane debris',\n",
       " 'airport',\n",
       " 'airport get',\n",
       " 'aka',\n",
       " 'al',\n",
       " 'alabama',\n",
       " 'alabama home',\n",
       " 'alarm',\n",
       " 'alaska',\n",
       " 'album',\n",
       " 'alert',\n",
       " 'alive',\n",
       " 'allah',\n",
       " 'alleged',\n",
       " 'allow',\n",
       " 'allows',\n",
       " 'allows parole',\n",
       " 'almost',\n",
       " 'alone',\n",
       " 'along',\n",
       " 'already',\n",
       " 'also',\n",
       " 'always',\n",
       " 'amazing',\n",
       " 'amazon',\n",
       " 'ambulance',\n",
       " 'ambulance helicopter',\n",
       " 'america',\n",
       " 'american',\n",
       " 'amid',\n",
       " 'amid crisis',\n",
       " 'among',\n",
       " 'amp',\n",
       " 'amp flood',\n",
       " 'ancient',\n",
       " 'ancient canaanite',\n",
       " 'ancient mayan',\n",
       " 'angel',\n",
       " 'angry',\n",
       " 'animal',\n",
       " 'animalrescue',\n",
       " 'annihilated',\n",
       " 'annihilation',\n",
       " 'annihilation salt',\n",
       " 'anniversary',\n",
       " 'anniversary devastation',\n",
       " 'anniversary hiroshima',\n",
       " 'annual',\n",
       " 'another',\n",
       " 'another standuser',\n",
       " 'answer',\n",
       " 'anthrax',\n",
       " 'anthrax lab',\n",
       " 'anti',\n",
       " 'antioch',\n",
       " 'anymore',\n",
       " 'anyone',\n",
       " 'anything',\n",
       " 'ap',\n",
       " 'apartment',\n",
       " 'apc',\n",
       " 'apc pdp',\n",
       " 'apocalypse',\n",
       " 'apollo',\n",
       " 'apollo brown',\n",
       " 'app',\n",
       " 'apparently',\n",
       " 'appears',\n",
       " 'appears blast',\n",
       " 'apply',\n",
       " 'approach',\n",
       " 'ar',\n",
       " 'arabia',\n",
       " 'area',\n",
       " 'arent',\n",
       " 'arianagrande',\n",
       " 'arm',\n",
       " 'armageddon',\n",
       " 'army',\n",
       " 'army beyhive',\n",
       " 'army directioners',\n",
       " 'army trench',\n",
       " 'around',\n",
       " 'arrested',\n",
       " 'arrive',\n",
       " 'arrived',\n",
       " 'arson',\n",
       " 'arson scheme',\n",
       " 'arson suspect',\n",
       " 'arsonist',\n",
       " 'art',\n",
       " 'article',\n",
       " 'as',\n",
       " 'ash',\n",
       " 'ash australia',\n",
       " 'ask',\n",
       " 'asked',\n",
       " 'asking',\n",
       " 'associated',\n",
       " 'atomic',\n",
       " 'atomic bomb',\n",
       " 'atomic bombing',\n",
       " 'attack',\n",
       " 'attack enemy',\n",
       " 'attack police',\n",
       " 'attacked',\n",
       " 'attacked muslim',\n",
       " 'attention',\n",
       " 'auction',\n",
       " 'audio',\n",
       " 'aug',\n",
       " 'august',\n",
       " 'august pm',\n",
       " 'aussie',\n",
       " 'australia',\n",
       " 'australian',\n",
       " 'authority',\n",
       " 'automatic',\n",
       " 'avalanche',\n",
       " 'ave',\n",
       " 'averted',\n",
       " 'avoid',\n",
       " 'avoiding',\n",
       " 'avoiding microlight',\n",
       " 'away',\n",
       " 'awesome',\n",
       " 'awful',\n",
       " 'baby',\n",
       " 'baby without',\n",
       " 'back',\n",
       " 'bad',\n",
       " 'bag',\n",
       " 'bag woman',\n",
       " 'bagging',\n",
       " 'bagging meek',\n",
       " 'ball',\n",
       " 'ban',\n",
       " 'band',\n",
       " 'bang',\n",
       " 'bang nearby',\n",
       " 'bank',\n",
       " 'banned',\n",
       " 'banned quarantined',\n",
       " 'bar',\n",
       " 'bar admits',\n",
       " 'bar offroad',\n",
       " 'baseball',\n",
       " 'based',\n",
       " 'bat',\n",
       " 'bathroom',\n",
       " 'battle',\n",
       " 'battle occurred',\n",
       " 'battlefield',\n",
       " 'bay',\n",
       " 'bayelsa',\n",
       " 'bayelsa patience',\n",
       " 'bb',\n",
       " 'bbc',\n",
       " 'bbc cnn',\n",
       " 'bbc news',\n",
       " 'bc',\n",
       " 'be',\n",
       " 'beach',\n",
       " 'bear',\n",
       " 'beat',\n",
       " 'beautiful',\n",
       " 'become',\n",
       " 'bed',\n",
       " 'bee',\n",
       " 'began',\n",
       " 'begin',\n",
       " 'begin examining',\n",
       " 'beginning',\n",
       " 'behind',\n",
       " 'believe',\n",
       " 'bell',\n",
       " 'ben',\n",
       " 'best',\n",
       " 'bestnaijamade',\n",
       " 'bestnaijamade be',\n",
       " 'bestnaijamade bestnaijamade',\n",
       " 'bestnaijamade yr',\n",
       " 'bet',\n",
       " 'better',\n",
       " 'beyhive',\n",
       " 'beyonce',\n",
       " 'beyonce pick',\n",
       " 'beyond',\n",
       " 'bicyclist',\n",
       " 'bicyclist injured',\n",
       " 'big',\n",
       " 'bigger',\n",
       " 'bigger projected',\n",
       " 'biggest',\n",
       " 'bin',\n",
       " 'bin laden',\n",
       " 'bioterror',\n",
       " 'bioterror germ',\n",
       " 'bioterror pathogen',\n",
       " 'bioterrorism',\n",
       " 'birthday',\n",
       " 'bit',\n",
       " 'bitch',\n",
       " 'black',\n",
       " 'black eye',\n",
       " 'black hat',\n",
       " 'blame',\n",
       " 'blamed',\n",
       " 'blast',\n",
       " 'blast lack',\n",
       " 'blast wind',\n",
       " 'blaze',\n",
       " 'blazing',\n",
       " 'bleeding',\n",
       " 'blessing',\n",
       " 'blew',\n",
       " 'blight',\n",
       " 'blizzard',\n",
       " 'blk',\n",
       " 'block',\n",
       " 'blocked',\n",
       " 'blocked lord',\n",
       " 'blog',\n",
       " 'blood',\n",
       " 'bloody',\n",
       " 'blow',\n",
       " 'blown',\n",
       " 'blue',\n",
       " 'bluejays',\n",
       " 'blvd',\n",
       " 'board',\n",
       " 'boat',\n",
       " 'boat capsizes',\n",
       " 'boat carrying',\n",
       " 'body',\n",
       " 'body bag',\n",
       " 'body bagging',\n",
       " 'body water',\n",
       " 'bomb',\n",
       " 'bomb bestnaijamade',\n",
       " 'bomb japan',\n",
       " 'bomb turkey',\n",
       " 'bombed',\n",
       " 'bomber',\n",
       " 'bomber detonated',\n",
       " 'bomber kill',\n",
       " 'bombing',\n",
       " 'bombing still',\n",
       " 'book',\n",
       " 'boston',\n",
       " 'bottom',\n",
       " 'bought',\n",
       " 'bound',\n",
       " 'bout',\n",
       " 'box',\n",
       " 'boy',\n",
       " 'boy charged',\n",
       " 'brain',\n",
       " 'brazil',\n",
       " 'break',\n",
       " 'breaking',\n",
       " 'breaking news',\n",
       " 'bridge',\n",
       " 'bridge collapse',\n",
       " 'bring',\n",
       " 'british',\n",
       " 'bro',\n",
       " 'broad',\n",
       " 'broadway',\n",
       " 'broke',\n",
       " 'broken',\n",
       " 'brooklyn',\n",
       " 'brother',\n",
       " 'brought',\n",
       " 'brown',\n",
       " 'brown detonate',\n",
       " 'browser',\n",
       " 'browser hijacker',\n",
       " 'bruh',\n",
       " 'budget',\n",
       " 'buffalo',\n",
       " 'bug',\n",
       " 'build',\n",
       " 'building',\n",
       " 'building burning',\n",
       " 'building fire',\n",
       " 'bullet',\n",
       " 'burn',\n",
       " 'burned',\n",
       " 'burning',\n",
       " 'burning building',\n",
       " 'burst',\n",
       " 'bus',\n",
       " 'bus hijacker',\n",
       " 'bush',\n",
       " 'bush fire',\n",
       " 'business',\n",
       " 'business deluged',\n",
       " 'button',\n",
       " 'buy',\n",
       " 'by',\n",
       " 'ca',\n",
       " 'cable',\n",
       " 'cable tv',\n",
       " 'cake',\n",
       " 'calgary',\n",
       " 'calif',\n",
       " 'california',\n",
       " 'california school',\n",
       " 'california time',\n",
       " 'california wildfire',\n",
       " 'call',\n",
       " 'called',\n",
       " 'calling',\n",
       " 'calm',\n",
       " 'calorie',\n",
       " 'came',\n",
       " 'came land',\n",
       " 'cameroon',\n",
       " 'camp',\n",
       " 'can',\n",
       " 'can ûªt',\n",
       " 'canaanite',\n",
       " 'canada',\n",
       " 'cancel',\n",
       " 'cancer',\n",
       " 'cant',\n",
       " 'cant believe',\n",
       " 'cant wait',\n",
       " 'canyon',\n",
       " 'canyon crew',\n",
       " 'capsizes',\n",
       " 'capsizes libya',\n",
       " 'capture',\n",
       " 'car',\n",
       " 'car engulfed',\n",
       " 'card',\n",
       " 'care',\n",
       " 'career',\n",
       " 'careful',\n",
       " 'carry',\n",
       " 'carrying',\n",
       " 'case',\n",
       " 'casualty',\n",
       " 'cat',\n",
       " 'catastrophe',\n",
       " 'catastrophic',\n",
       " 'catastrophic effect',\n",
       " 'catastrophic eruption',\n",
       " 'catch',\n",
       " 'caught',\n",
       " 'caught northern',\n",
       " 'cause',\n",
       " 'caused',\n",
       " 'caused structural',\n",
       " 'causing',\n",
       " 'cdt',\n",
       " 'center',\n",
       " 'central',\n",
       " 'centre',\n",
       " 'ceo',\n",
       " 'certain',\n",
       " 'challenge',\n",
       " 'chance',\n",
       " 'change',\n",
       " 'change windstorm',\n",
       " 'channel',\n",
       " 'character',\n",
       " 'charge',\n",
       " 'charged',\n",
       " 'charged manslaughter',\n",
       " 'charging',\n",
       " 'charity',\n",
       " 'check',\n",
       " 'cheese',\n",
       " 'chemical',\n",
       " 'chicago',\n",
       " 'chicagoarea',\n",
       " 'chicagoarea gay',\n",
       " 'chief',\n",
       " 'child',\n",
       " 'chile',\n",
       " 'chill',\n",
       " 'china',\n",
       " 'china stock',\n",
       " 'china ûªs',\n",
       " 'chinese',\n",
       " 'choice',\n",
       " 'christian',\n",
       " 'christian attacked',\n",
       " 'christmas',\n",
       " 'church',\n",
       " 'cinema',\n",
       " 'city',\n",
       " 'civil',\n",
       " 'civilian',\n",
       " 'civilian casualty',\n",
       " 'claim',\n",
       " 'class',\n",
       " 'clear',\n",
       " 'click',\n",
       " 'client',\n",
       " 'cliff',\n",
       " 'climate',\n",
       " 'climate change',\n",
       " 'clinton',\n",
       " 'clip',\n",
       " 'close',\n",
       " 'closed',\n",
       " 'cloud',\n",
       " 'club',\n",
       " 'clutch',\n",
       " 'cnn',\n",
       " 'cnn islam',\n",
       " 'co',\n",
       " 'coach',\n",
       " 'coach train',\n",
       " 'coast',\n",
       " 'coffee',\n",
       " 'cold',\n",
       " 'collapse',\n",
       " 'collapse nearby',\n",
       " 'collapse trent',\n",
       " 'collapsed',\n",
       " 'collection',\n",
       " 'collide',\n",
       " 'collided',\n",
       " 'collision',\n",
       " 'collision broadway',\n",
       " 'colorado',\n",
       " 'colour',\n",
       " 'colour shape',\n",
       " 'combo',\n",
       " 'combo inch',\n",
       " 'come',\n",
       " 'coming',\n",
       " 'coming soon',\n",
       " 'comment',\n",
       " 'comment rule',\n",
       " 'commercial',\n",
       " 'common',\n",
       " 'community',\n",
       " 'company',\n",
       " 'complete',\n",
       " 'completely',\n",
       " 'computer',\n",
       " 'computer send',\n",
       " 'concern',\n",
       " 'concerned',\n",
       " 'concert',\n",
       " 'conclusively',\n",
       " 'conclusively confirmed',\n",
       " 'condition',\n",
       " 'conference',\n",
       " 'confirm',\n",
       " 'confirmed',\n",
       " 'confirmed mh',\n",
       " 'confirms',\n",
       " 'conflict',\n",
       " 'congress',\n",
       " 'consider',\n",
       " 'content',\n",
       " 'content policy',\n",
       " 'continue',\n",
       " 'continues',\n",
       " 'control',\n",
       " 'conversation',\n",
       " 'cook',\n",
       " 'cool',\n",
       " 'cop',\n",
       " 'copilot',\n",
       " 'copycat',\n",
       " 'cost',\n",
       " 'costlier',\n",
       " 'costlier bigger',\n",
       " 'could',\n",
       " 'couldnt',\n",
       " 'country',\n",
       " 'county',\n",
       " 'couple',\n",
       " 'course',\n",
       " 'court',\n",
       " 'cousin',\n",
       " 'cover',\n",
       " 'covered',\n",
       " 'crack',\n",
       " 'cramer',\n",
       " 'crane',\n",
       " 'crane holding',\n",
       " 'crap',\n",
       " 'crash',\n",
       " 'crash caused',\n",
       " 'crash course',\n",
       " 'crash gem',\n",
       " 'crash summer',\n",
       " 'crashed',\n",
       " 'crashed avoiding',\n",
       " 'crazy',\n",
       " 'cream',\n",
       " 'create',\n",
       " 'created',\n",
       " 'cree',\n",
       " 'cree led',\n",
       " 'crematorium',\n",
       " 'crematorium provoke',\n",
       " 'crew',\n",
       " 'crew investigating',\n",
       " 'crime',\n",
       " 'criminal',\n",
       " 'crisis',\n",
       " 'crisis famine',\n",
       " 'cross',\n",
       " 'cross body',\n",
       " 'crossed',\n",
       " 'crush',\n",
       " 'crushed',\n",
       " 'cruz',\n",
       " 'cry',\n",
       " 'cup',\n",
       " 'curfew',\n",
       " 'currently',\n",
       " 'curved',\n",
       " 'curved cree',\n",
       " 'cut',\n",
       " 'cute',\n",
       " 'cuz',\n",
       " 'cyclist',\n",
       " 'cyclone',\n",
       " 'da',\n",
       " 'dad',\n",
       " 'daily',\n",
       " 'damage',\n",
       " 'damaged',\n",
       " 'damn',\n",
       " 'dan',\n",
       " 'dance',\n",
       " 'dance ices',\n",
       " 'danger',\n",
       " 'dangerous',\n",
       " 'dark',\n",
       " 'data',\n",
       " 'data sound',\n",
       " 'date',\n",
       " 'date charity',\n",
       " 'daughter',\n",
       " 'david',\n",
       " 'day',\n",
       " 'dc',\n",
       " 'de',\n",
       " 'dead',\n",
       " 'dead exchanging',\n",
       " 'deadly',\n",
       " 'deal',\n",
       " 'dear',\n",
       " 'death',\n",
       " 'death second',\n",
       " 'debate',\n",
       " 'debris',\n",
       " 'debris found',\n",
       " 'debt',\n",
       " 'decision',\n",
       " 'declaration',\n",
       " 'declaration northern',\n",
       " 'declares',\n",
       " 'declares disaster',\n",
       " 'deep',\n",
       " 'defense',\n",
       " 'degree',\n",
       " 'delay',\n",
       " 'delivers',\n",
       " 'delivers baby',\n",
       " 'deluge',\n",
       " 'deluged',\n",
       " 'deluged invoice',\n",
       " 'demolish',\n",
       " 'demolished',\n",
       " 'demolition',\n",
       " 'denver',\n",
       " 'denver collision',\n",
       " 'department',\n",
       " 'deputy',\n",
       " 'derail',\n",
       " 'derail ur',\n",
       " 'derailed',\n",
       " 'derailment',\n",
       " 'derailment village',\n",
       " 'description',\n",
       " 'design',\n",
       " 'desire',\n",
       " 'desolate',\n",
       " 'desolation',\n",
       " 'desolation smaug',\n",
       " 'destiny',\n",
       " 'destiny blocked',\n",
       " 'destroy',\n",
       " 'destroyed',\n",
       " 'destroys',\n",
       " 'destruction',\n",
       " 'detail',\n",
       " 'detonate',\n",
       " 'detonate killer',\n",
       " 'detonated',\n",
       " 'detonated bomb',\n",
       " 'detonation',\n",
       " 'detonation sensor',\n",
       " 'detonation sensorsenso',\n",
       " 'devastated',\n",
       " 'devastation',\n",
       " 'devastation wrought',\n",
       " 'di',\n",
       " 'didnt',\n",
       " 'die',\n",
       " 'died',\n",
       " 'died wing',\n",
       " 'different',\n",
       " 'direction',\n",
       " 'direction pick',\n",
       " 'directioners',\n",
       " 'dis',\n",
       " 'disaster',\n",
       " 'disaster declaration',\n",
       " 'disaster typhoondevastated',\n",
       " 'disco',\n",
       " 'discovered',\n",
       " 'disea',\n",
       " 'disease',\n",
       " 'disney',\n",
       " 'disney stock',\n",
       " 'displaced',\n",
       " 'disrupts',\n",
       " 'distance',\n",
       " 'diving',\n",
       " 'djicemoon',\n",
       " 'djicemoon dubstep',\n",
       " 'dnb',\n",
       " 'dnb edm',\n",
       " 'doctor',\n",
       " 'document',\n",
       " 'doesnt',\n",
       " 'dog',\n",
       " 'dollar',\n",
       " 'don',\n",
       " 'don ûªt',\n",
       " 'done',\n",
       " 'dont',\n",
       " 'dont get',\n",
       " 'dont know',\n",
       " 'dont let',\n",
       " 'dont think',\n",
       " 'dont want',\n",
       " 'dont worry',\n",
       " 'door',\n",
       " 'double',\n",
       " 'download',\n",
       " 'download video',\n",
       " 'downtown',\n",
       " 'dozen',\n",
       " 'dr',\n",
       " 'drake',\n",
       " 'dramatic',\n",
       " 'dream',\n",
       " 'drill',\n",
       " 'drink',\n",
       " 'drinking',\n",
       " 'drive',\n",
       " 'driver',\n",
       " 'driving',\n",
       " 'drone',\n",
       " 'drop',\n",
       " 'dropped',\n",
       " 'drought',\n",
       " 'drown',\n",
       " 'drowned',\n",
       " 'drowning',\n",
       " 'drug',\n",
       " 'drunk',\n",
       " 'dry',\n",
       " 'dubstep',\n",
       " 'dubstep trapmusic',\n",
       " 'dude',\n",
       " 'due',\n",
       " 'dust',\n",
       " 'dust storm',\n",
       " 'duty',\n",
       " 'dvd',\n",
       " 'dy',\n",
       " 'dying',\n",
       " 'ear',\n",
       " 'earlier',\n",
       " 'early',\n",
       " 'earth',\n",
       " 'earthquake',\n",
       " 'earthquake km',\n",
       " 'east',\n",
       " 'easy',\n",
       " 'eat',\n",
       " 'ebay',\n",
       " 'ebola',\n",
       " 'ebola case',\n",
       " 'economic',\n",
       " 'economy',\n",
       " 'edition',\n",
       " 'edm',\n",
       " 'edm dance',\n",
       " 'edt',\n",
       " 'effect',\n",
       " 'effect hiroshima',\n",
       " 'effect many',\n",
       " 'effort',\n",
       " 'either',\n",
       " 'el',\n",
       " 'election',\n",
       " 'electrocute',\n",
       " 'electrocuted',\n",
       " 'electronic',\n",
       " 'elephant',\n",
       " 'else',\n",
       " 'em',\n",
       " 'emergency',\n",
       " 'emergency department',\n",
       " 'emergency plan',\n",
       " 'emergency service',\n",
       " 'emmerdale',\n",
       " 'emotion',\n",
       " 'emotional',\n",
       " 'end',\n",
       " 'ended',\n",
       " 'enemy',\n",
       " 'enemy derail',\n",
       " 'energy',\n",
       " 'england',\n",
       " 'engulfed',\n",
       " 'engulfed flame',\n",
       " 'engulfed tribal',\n",
       " 'enjoy',\n",
       " 'enough',\n",
       " 'entertainment',\n",
       " 'entire',\n",
       " 'enugu',\n",
       " 'ep',\n",
       " 'epic',\n",
       " 'epicentre',\n",
       " 'episode',\n",
       " 'equipment',\n",
       " 'eruption',\n",
       " 'escape',\n",
       " 'escape car',\n",
       " 'especially',\n",
       " 'estimate',\n",
       " 'etc',\n",
       " 'evacuate',\n",
       " 'evacuated',\n",
       " 'evacuation',\n",
       " 'evacuation abandoned',\n",
       " 'evacuation order',\n",
       " 'even',\n",
       " 'even giving',\n",
       " 'evening',\n",
       " 'event',\n",
       " 'ever',\n",
       " 'every',\n",
       " 'every time',\n",
       " 'everyday',\n",
       " 'everyone',\n",
       " 'everything',\n",
       " 'everywhere',\n",
       " 'evil',\n",
       " 'exactly',\n",
       " 'examining',\n",
       " 'examining airplane',\n",
       " 'except',\n",
       " 'exchange',\n",
       " 'exchanging',\n",
       " 'exchanging shot',\n",
       " 'executive',\n",
       " 'executive prosecuted',\n",
       " 'exit',\n",
       " 'exp',\n",
       " 'expect',\n",
       " 'expected',\n",
       " 'experience',\n",
       " 'expert',\n",
       " 'expert france',\n",
       " 'explode',\n",
       " 'exploded',\n",
       " 'exploration',\n",
       " 'explosion',\n",
       " 'express',\n",
       " 'external',\n",
       " 'extreme',\n",
       " 'extremely',\n",
       " 'eye',\n",
       " 'eye space',\n",
       " 'eyewitness',\n",
       " 'eyewitness account',\n",
       " 'eyewitness news',\n",
       " 'faan',\n",
       " 'face',\n",
       " 'face photo',\n",
       " 'facebook',\n",
       " 'fact',\n",
       " 'fail',\n",
       " 'failed',\n",
       " 'failure',\n",
       " 'failure copilot',\n",
       " 'fake',\n",
       " 'fall',\n",
       " 'fall cliff',\n",
       " 'falling',\n",
       " 'false',\n",
       " 'family',\n",
       " 'family affected',\n",
       " 'family plane',\n",
       " 'family sue',\n",
       " 'famine',\n",
       " 'famine memory',\n",
       " 'fan',\n",
       " 'fan army',\n",
       " 'fantasy',\n",
       " 'far',\n",
       " 'fashion',\n",
       " 'fast',\n",
       " 'fat',\n",
       " 'fatal',\n",
       " 'fatal outbreak',\n",
       " 'fatal sh',\n",
       " 'fatality',\n",
       " 'father',\n",
       " 'faux',\n",
       " 'faux leather',\n",
       " 'favorite',\n",
       " 'fear',\n",
       " 'fear missing',\n",
       " 'feared',\n",
       " 'feared drowned',\n",
       " 'feared killed',\n",
       " 'feat',\n",
       " 'fedex',\n",
       " 'fedex longer',\n",
       " 'feed',\n",
       " 'feel',\n",
       " 'feel like',\n",
       " 'feeling',\n",
       " 'feeling you',\n",
       " 'fell',\n",
       " 'felt',\n",
       " 'felt today',\n",
       " 'feminist',\n",
       " 'feminist world',\n",
       " 'ferguson',\n",
       " 'festival',\n",
       " 'fight',\n",
       " 'fighter',\n",
       " 'fighting',\n",
       " 'film',\n",
       " 'final',\n",
       " 'finally',\n",
       " 'financial',\n",
       " 'find',\n",
       " 'fine',\n",
       " 'finger',\n",
       " 'finnish',\n",
       " 'fire',\n",
       " 'fire alarm',\n",
       " 'fire caught',\n",
       " 'fire truck',\n",
       " 'fired',\n",
       " 'firefighter',\n",
       " 'first',\n",
       " 'first responder',\n",
       " 'first time',\n",
       " 'fish',\n",
       " 'fit',\n",
       " 'five',\n",
       " 'fix',\n",
       " 'flag',\n",
       " 'flag via',\n",
       " 'flame',\n",
       " 'flame parley',\n",
       " 'flash',\n",
       " 'flash flood',\n",
       " 'flat',\n",
       " 'flattened',\n",
       " 'fleet',\n",
       " 'fleet totaling',\n",
       " 'flight',\n",
       " 'flight mh',\n",
       " 'flood',\n",
       " 'flood combo',\n",
       " 'flood ur',\n",
       " 'flooding',\n",
       " 'floor',\n",
       " 'florida',\n",
       " 'focus',\n",
       " 'fog',\n",
       " 'fog lamp',\n",
       " 'follow',\n",
       " 'follower',\n",
       " 'following',\n",
       " 'food',\n",
       " 'food crematorium',\n",
       " 'foot',\n",
       " 'football',\n",
       " 'force',\n",
       " 'forced',\n",
       " 'forecast',\n",
       " 'forest',\n",
       " 'forest fire',\n",
       " 'forest service',\n",
       " 'forest stop',\n",
       " 'forever',\n",
       " 'forget',\n",
       " 'former',\n",
       " 'former executive',\n",
       " 'fort',\n",
       " 'found',\n",
       " 'found la',\n",
       " 'found reunion',\n",
       " 'four',\n",
       " 'fox',\n",
       " 'foxnews',\n",
       " 'france',\n",
       " 'france begin',\n",
       " 'freak',\n",
       " 'freak accident',\n",
       " 'freakiest',\n",
       " 'freakiest freak',\n",
       " 'free',\n",
       " 'french',\n",
       " 'french air',\n",
       " 'friday',\n",
       " 'friend',\n",
       " 'front',\n",
       " 'fruit',\n",
       " 'ft',\n",
       " 'fuck',\n",
       " 'fucking',\n",
       " 'fuel',\n",
       " 'fukushima',\n",
       " 'fukushima nuclear',\n",
       " 'full',\n",
       " ...]"
      ]
     },
     "execution_count": 225,
     "metadata": {},
     "output_type": "execute_result"
    }
   ],
   "source": [
    "vectorizer.get_feature_names()"
   ]
  },
  {
   "cell_type": "code",
   "execution_count": 226,
   "id": "48506f88",
   "metadata": {
    "ExecuteTime": {
     "end_time": "2022-04-07T11:40:40.239597Z",
     "start_time": "2022-04-07T11:40:40.235392Z"
    }
   },
   "outputs": [],
   "source": [
    "X_train, X_test, y_train, y_test = train_test_split(X, y, test_size=0.2)"
   ]
  },
  {
   "cell_type": "code",
   "execution_count": 227,
   "id": "eaf33247",
   "metadata": {
    "ExecuteTime": {
     "end_time": "2022-04-07T11:40:40.246570Z",
     "start_time": "2022-04-07T11:40:40.241324Z"
    }
   },
   "outputs": [
    {
     "data": {
      "text/plain": [
       "MultinomialNB(alpha=0.1)"
      ]
     },
     "execution_count": 227,
     "metadata": {},
     "output_type": "execute_result"
    }
   ],
   "source": [
    "nb_model = MultinomialNB(alpha=0.1)\n",
    "nb_model.fit(X_train, y_train)"
   ]
  },
  {
   "cell_type": "code",
   "execution_count": 228,
   "id": "1aa53302",
   "metadata": {
    "ExecuteTime": {
     "end_time": "2022-04-07T11:40:41.012149Z",
     "start_time": "2022-04-07T11:40:40.983734Z"
    }
   },
   "outputs": [
    {
     "name": "stdout",
     "output_type": "stream",
     "text": [
      "F1 Score: 0.6366071824456155\n",
      "F1 Score: 0.7009152694169041\n"
     ]
    }
   ],
   "source": [
    "cv_score = cross_validate(nb_model, X, y, cv=5, scoring=['f1', 'accuracy'])\n",
    "print('F1 Score:', cv_score['test_f1'].mean())\n",
    "print('F1 Score:', cv_score['test_accuracy'].mean())"
   ]
  },
  {
   "cell_type": "code",
   "execution_count": 210,
   "id": "7f374346",
   "metadata": {
    "ExecuteTime": {
     "end_time": "2022-04-07T11:38:24.062802Z",
     "start_time": "2022-04-07T11:38:24.059539Z"
    }
   },
   "outputs": [],
   "source": [
    "y_pred = nb_model.predict(X_test)"
   ]
  },
  {
   "cell_type": "code",
   "execution_count": 218,
   "id": "7a7c1292",
   "metadata": {
    "ExecuteTime": {
     "end_time": "2022-04-07T11:38:58.849677Z",
     "start_time": "2022-04-07T11:38:58.844020Z"
    },
    "scrolled": true
   },
   "outputs": [
    {
     "data": {
      "text/plain": [
       "array([0, 1, 0, 0])"
      ]
     },
     "execution_count": 218,
     "metadata": {},
     "output_type": "execute_result"
    }
   ],
   "source": [
    "tmp = [\n",
    "    \"The house is fine\",\n",
    "    \"OH NO AN EARTHQUAKE\",\n",
    "    \"Rengoku was ablaze at the end\",\n",
    "    \"This is a nice little fire\"\n",
    "]\n",
    "\n",
    "tmp_vec = vectorizer.transform(tmp)\n",
    "nb_model.predict(tmp_vec)"
   ]
  },
  {
   "cell_type": "markdown",
   "id": "4c60431b",
   "metadata": {},
   "source": [
    "# GRID SEARCH"
   ]
  },
  {
   "cell_type": "code",
   "execution_count": 44,
   "id": "feae6f58",
   "metadata": {
    "ExecuteTime": {
     "end_time": "2022-04-07T10:37:34.083604Z",
     "start_time": "2022-04-07T10:37:34.080697Z"
    }
   },
   "outputs": [],
   "source": [
    "from NLP_Natural_Disasters.data import get_data, clean_data"
   ]
  },
  {
   "cell_type": "code",
   "execution_count": 57,
   "id": "90979243",
   "metadata": {
    "ExecuteTime": {
     "end_time": "2022-04-07T10:52:29.652148Z",
     "start_time": "2022-04-07T10:52:28.104964Z"
    }
   },
   "outputs": [
    {
     "data": {
      "text/plain": [
       "(7613, 3)"
      ]
     },
     "execution_count": 57,
     "metadata": {},
     "output_type": "execute_result"
    }
   ],
   "source": [
    "cleaned_df = clean_data(get_data())\n",
    "cleaned_df.shape"
   ]
  },
  {
   "cell_type": "code",
   "execution_count": 58,
   "id": "6442cdf2",
   "metadata": {
    "ExecuteTime": {
     "end_time": "2022-04-07T10:52:29.656555Z",
     "start_time": "2022-04-07T10:52:29.654095Z"
    }
   },
   "outputs": [],
   "source": [
    "from sklearn.model_selection import GridSearchCV\n",
    "from sklearn.pipeline import Pipeline"
   ]
  },
  {
   "cell_type": "code",
   "execution_count": 59,
   "id": "42093676",
   "metadata": {
    "ExecuteTime": {
     "end_time": "2022-04-07T10:52:29.669522Z",
     "start_time": "2022-04-07T10:52:29.658141Z"
    }
   },
   "outputs": [],
   "source": [
    "X = cleaned_df['text']\n",
    "y = cleaned_df['target']"
   ]
  },
  {
   "cell_type": "code",
   "execution_count": 60,
   "id": "5b51aacb",
   "metadata": {
    "ExecuteTime": {
     "end_time": "2022-04-07T10:52:29.675534Z",
     "start_time": "2022-04-07T10:52:29.671505Z"
    }
   },
   "outputs": [],
   "source": [
    "X_train, X_test, y_train, y_test = train_test_split(X, y, test_size=0.2)"
   ]
  },
  {
   "cell_type": "code",
   "execution_count": 61,
   "id": "41a00091",
   "metadata": {
    "ExecuteTime": {
     "end_time": "2022-04-07T10:56:49.666974Z",
     "start_time": "2022-04-07T10:52:30.136635Z"
    }
   },
   "outputs": [
    {
     "name": "stdout",
     "output_type": "stream",
     "text": [
      "Fitting 5 folds for each of 1800 candidates, totalling 9000 fits\n"
     ]
    },
    {
     "data": {
      "text/plain": [
       "GridSearchCV(cv=5,\n",
       "             estimator=Pipeline(steps=[('vec', TfidfVectorizer()),\n",
       "                                       ('nb', MultinomialNB())]),\n",
       "             n_jobs=-1,\n",
       "             param_grid={'nb__alpha': (0.1, 1, 10),\n",
       "                         'vec__max_df': (0.8, 0.9, 0.95, 0.99, 1.0),\n",
       "                         'vec__max_features': (1000, 1500, 2000, 2500, 3000),\n",
       "                         'vec__min_df': (0.0007, 0.0008, 0.0009, 0.001),\n",
       "                         'vec__ngram_range': ((1, 1), (1, 2), (2, 2), (1, 3),\n",
       "                                              (2, 3), (3, 3))},\n",
       "             scoring='f1', verbose=1)"
      ]
     },
     "execution_count": 61,
     "metadata": {},
     "output_type": "execute_result"
    }
   ],
   "source": [
    "pipeline = Pipeline([\n",
    "    ('vec', TfidfVectorizer()),\n",
    "    ('nb', MultinomialNB()),\n",
    "])\n",
    "\n",
    "parameters = {\n",
    "    'vec__ngram_range': ((1,1), (1,2), (2,2), (1,3), (2,3), (3,3)),\n",
    "    'vec__min_df': (0.0007, 0.0008, 0.0009, 0.001),\n",
    "    'vec__max_df': (0.8, 0.9, 0.95, 0.99, 1.0),\n",
    "    'vec__max_features': (1000, 1500, 2000, 2500, 3000),\n",
    "    'nb__alpha': (0.1,1,10),\n",
    "}\n",
    "\n",
    "grid_search = GridSearchCV(pipeline, parameters, n_jobs=-1, \n",
    "                           verbose=1, scoring = \"f1\",\n",
    "                           refit=True, cv=5)\n",
    "\n",
    "grid_search.fit(X_train, y_train)"
   ]
  },
  {
   "cell_type": "code",
   "execution_count": 62,
   "id": "e1e54e83",
   "metadata": {
    "ExecuteTime": {
     "end_time": "2022-04-07T10:58:12.569263Z",
     "start_time": "2022-04-07T10:58:12.564809Z"
    }
   },
   "outputs": [
    {
     "data": {
      "text/plain": [
       "{'nb__alpha': 0.1,\n",
       " 'vec__max_df': 0.8,\n",
       " 'vec__max_features': 3000,\n",
       " 'vec__min_df': 0.0007,\n",
       " 'vec__ngram_range': (1, 2)}"
      ]
     },
     "execution_count": 62,
     "metadata": {},
     "output_type": "execute_result"
    }
   ],
   "source": [
    "grid_search.best_params_"
   ]
  },
  {
   "cell_type": "code",
   "execution_count": 130,
   "id": "4002d8d1",
   "metadata": {
    "ExecuteTime": {
     "end_time": "2022-04-07T11:05:14.224043Z",
     "start_time": "2022-04-07T11:05:14.219547Z"
    }
   },
   "outputs": [
    {
     "data": {
      "text/plain": [
       "0.7424518478861719"
      ]
     },
     "execution_count": 130,
     "metadata": {},
     "output_type": "execute_result"
    }
   ],
   "source": [
    "grid_search.best_score_"
   ]
  }
 ],
 "metadata": {
  "kernelspec": {
   "display_name": "Python 3 (ipykernel)",
   "language": "python",
   "name": "python3"
  },
  "language_info": {
   "codemirror_mode": {
    "name": "ipython",
    "version": 3
   },
   "file_extension": ".py",
   "mimetype": "text/x-python",
   "name": "python",
   "nbconvert_exporter": "python",
   "pygments_lexer": "ipython3",
   "version": "3.8.12"
  },
  "toc": {
   "base_numbering": 1,
   "nav_menu": {},
   "number_sections": true,
   "sideBar": true,
   "skip_h1_title": false,
   "title_cell": "Table of Contents",
   "title_sidebar": "Contents",
   "toc_cell": false,
   "toc_position": {},
   "toc_section_display": true,
   "toc_window_display": false
  }
 },
 "nbformat": 4,
 "nbformat_minor": 5
}
