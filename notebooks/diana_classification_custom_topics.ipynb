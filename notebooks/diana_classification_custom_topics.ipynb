{
 "cells": [
  {
   "cell_type": "code",
   "execution_count": 153,
   "id": "f866fbb5",
   "metadata": {},
   "outputs": [
    {
     "name": "stderr",
     "output_type": "stream",
     "text": [
      "/home/dianavo/.pyenv/versions/3.8.12/envs/nlp_project/lib/python3.8/site-packages/seaborn/rcmod.py:82: DeprecationWarning: distutils Version classes are deprecated. Use packaging.version instead.\n",
      "  if LooseVersion(mpl.__version__) >= \"3.0\":\n",
      "/home/dianavo/.pyenv/versions/3.8.12/envs/nlp_project/lib/python3.8/site-packages/setuptools/_distutils/version.py:351: DeprecationWarning: distutils Version classes are deprecated. Use packaging.version instead.\n",
      "  other = LooseVersion(other)\n"
     ]
    }
   ],
   "source": [
    "import os\n",
    "import numpy as np\n",
    "import pandas as pd\n",
    "from tqdm.notebook import tqdm\n",
    "\n",
    "from sklearn.feature_extraction.text import CountVectorizer\n",
    "from nltk.stem import PorterStemmer\n",
    "from nltk import word_tokenize\n",
    "\n",
    "# from gensim.models.ldamulticore import LdaMulticore  # for big dataset, use multiple core machine\n",
    "import gensim\n",
    "from gensim.test.utils import common_texts\n",
    "from gensim import corpora, models\n",
    "from gensim.corpora.dictionary import Dictionary\n",
    "from gensim.models import Phrases\n",
    "from gensim.models import CoherenceModel\n",
    "from gensim.models.ldamodel import LdaModel\n",
    "\n",
    "from nltk.corpus import stopwords\n",
    "stops = stopwords.words(\"english\")\n",
    "import re\n",
    "\n",
    "import matplotlib.pyplot as plt\n",
    "from matplotlib.lines import Line2D\n",
    "%matplotlib inline\n",
    "# import pyLDAvis\n",
    "# import pyLDAvis.gensim_models as gensimvis"
   ]
  },
  {
   "cell_type": "markdown",
   "id": "251c20c8",
   "metadata": {
    "collapsed": true
   },
   "source": [
    "!pip install ipywidgets"
   ]
  },
  {
   "cell_type": "code",
   "execution_count": 2,
   "id": "3d6517aa",
   "metadata": {},
   "outputs": [],
   "source": [
    "pd.set_option('display.max_colwidth', None)\n",
    "pd.set_option('display.max_rows', None)"
   ]
  },
  {
   "cell_type": "code",
   "execution_count": 3,
   "id": "4734b1b9",
   "metadata": {},
   "outputs": [],
   "source": [
    "from NLP_Natural_Disasters.data import get_data, clean_data"
   ]
  },
  {
   "cell_type": "markdown",
   "id": "5c59006e",
   "metadata": {
    "heading_collapsed": true
   },
   "source": [
    "### exemple Semi-suppervised LDA sur Kaggle"
   ]
  },
  {
   "cell_type": "markdown",
   "id": "39a8bd37",
   "metadata": {
    "hidden": true
   },
   "source": [
    "https://www.kaggle.com/code/vanguarde/semi-supervised-lda"
   ]
  },
  {
   "cell_type": "code",
   "execution_count": 13,
   "id": "6fb65137",
   "metadata": {
    "hidden": true
   },
   "outputs": [
    {
     "data": {
      "application/vnd.jupyter.widget-view+json": {
       "model_id": "1c0a25fd704e4f2c82fc72424734ffdc",
       "version_major": 2,
       "version_minor": 0
      },
      "text/plain": [
       "  0%|          | 0/7613 [00:00<?, ?it/s]"
      ]
     },
     "metadata": {},
     "output_type": "display_data"
    }
   ],
   "source": [
    "def text_cleaning(texts):\n",
    "    texts_cleaning = []\n",
    "    for txt in tqdm(texts):\n",
    "        url = re.compile(r'https?://\\S+|www\\.\\S+')\n",
    "        html = re.compile(r'<.*?>')\n",
    "        emoji_pattern = re.compile(\"[\"\n",
    "                               u\"\\U0001F600-\\U0001F64F\"  # emoticons\n",
    "                               u\"\\U0001F300-\\U0001F5FF\"  # symbols & pictographs\n",
    "                               u\"\\U0001F680-\\U0001F6FF\"  # transport & map symbols\n",
    "                               u\"\\U0001F1E0-\\U0001F1FF\"  # flags (iOS)\n",
    "                               u\"\\U00002702-\\U000027B0\"\n",
    "                               u\"\\U000024C2-\\U0001F251\"\n",
    "                               \"]+\", flags=re.UNICODE)\n",
    "        txt = emoji_pattern.sub(r'', txt)\n",
    "        txt = html.sub(r'',txt)\n",
    "        txt = url.sub(r'',txt)\n",
    "        txt = re.sub('[^A-Za-z\\s]', '', txt)\n",
    "        \n",
    "        texts_cleaning.append(txt.lower())\n",
    "    return texts_cleaning\n",
    "text = text_cleaning(train_df.text.tolist())"
   ]
  },
  {
   "cell_type": "code",
   "execution_count": 14,
   "id": "5feaee6d",
   "metadata": {
    "hidden": true
   },
   "outputs": [
    {
     "data": {
      "application/vnd.jupyter.widget-view+json": {
       "model_id": "d375f78edb9946fc97199157bf80efae",
       "version_major": 2,
       "version_minor": 0
      },
      "text/plain": [
       "  0%|          | 0/7613 [00:00<?, ?it/s]"
      ]
     },
     "metadata": {},
     "output_type": "display_data"
    }
   ],
   "source": [
    "from nltk.stem import PorterStemmer\n",
    "text = [t.split() for t in text]\n",
    "stemmed_text = []\n",
    "ps = PorterStemmer()\n",
    "for sentence in tqdm(text):\n",
    "    sent = []\n",
    "    for word in sentence:\n",
    "        sent.append(ps.stem(word))\n",
    "    stemmed_text.append(sent)"
   ]
  },
  {
   "cell_type": "code",
   "execution_count": 15,
   "id": "83119537",
   "metadata": {
    "hidden": true
   },
   "outputs": [
    {
     "name": "stdout",
     "output_type": "stream",
     "text": [
      "rockyfir updat california hwi close in both direct due to lake counti fire cafir wildfir\n",
      "rockyfire update california hwy closed in both directions due to lake county fire cafire wildfires\n"
     ]
    }
   ],
   "source": [
    "print(*stemmed_text[5][:20])\n",
    "print(*text[5][:20])"
   ]
  },
  {
   "cell_type": "code",
   "execution_count": 16,
   "id": "9438d8a5",
   "metadata": {
    "hidden": true
   },
   "outputs": [],
   "source": [
    "dictionary = gensim.corpora.Dictionary(text_split)"
   ]
  },
  {
   "cell_type": "markdown",
   "id": "c24759b0",
   "metadata": {
    "hidden": true
   },
   "source": [
    "IF doesn't work : dictionary.doc2bow  --> tqdm\n",
    "tried solution :\n",
    "conda install -c conda-forge ipywidgets\n",
    "jupyter nbextension enable --py widgetsnbextension\n",
    "SOLUTION : remove 'in tqdm' add a splitted list of sentences"
   ]
  },
  {
   "cell_type": "code",
   "execution_count": 17,
   "id": "4a3e0363",
   "metadata": {
    "hidden": true
   },
   "outputs": [],
   "source": [
    "stopword_ids = map(dictionary.token2id.get, stops)\n",
    "dictionary.filter_tokens(bad_ids=stopword_ids)\n",
    "dictionary.filter_extremes(no_below=20, no_above=0.7, keep_n=None)\n",
    "dictionary.compactify() # remove gaps in id sequence\n",
    "bow = [dictionary.doc2bow(line) for line in text_split]"
   ]
  },
  {
   "cell_type": "code",
   "execution_count": 18,
   "id": "41f92c42",
   "metadata": {
    "hidden": true
   },
   "outputs": [],
   "source": [
    "disasters = ['disaster', 'bloodbath', 'collapse', 'crash', 'meltdown', 'doomsday', 'convulsion', 'accident', 'casualty', 'fatality', \n",
    "            'blast', 'catastrophe', 'traffic','hybrid', 'engine', 'license', \n",
    "            'tsunami', 'volcano','tornado','avalanche','earthquake','blizzard','drought','bushfire','tremor','magma','twister',\n",
    "            'windstorm','cyclone','flood','fire','hailstorm','lava','lightning','hail','hurricane','seismic','erosion','whirlpool','whirlwind',\n",
    "            'cloud','thunderstorm','barometer','gale','blackout','gust','force','volt','snowstorm','rainstorm','storm','nimbus','violent storm',\n",
    "            'sandstorm','fatal','cumulonimbus','death','lost','destruction','money','tension','cataclysm','damage','uproot','underground',\n",
    "            'destroy','arsonist','wind scale','arson','rescue','permafrost','fault','shelter', 'bomb', 'suicide', 'tragedy', 'weapon']\n",
    "\n",
    "disasters = [ps.stem(word) for word in disasters]\n",
    "\n",
    "# add more topics later on"
   ]
  },
  {
   "cell_type": "code",
   "execution_count": 19,
   "id": "0fd1004f",
   "metadata": {
    "hidden": true
   },
   "outputs": [],
   "source": [
    "seed_topics = {}\n",
    "for word in disasters:\n",
    "    seed_topics[word] = 0"
   ]
  },
  {
   "cell_type": "code",
   "execution_count": 20,
   "id": "4a9e1a1e",
   "metadata": {
    "hidden": true
   },
   "outputs": [],
   "source": [
    "def create_eta(priors, etadict, ntopics):\n",
    "    eta = np.full(shape=(ntopics, len(etadict)), fill_value=1) # create a (ntopics, nterms) matrix and fill with 1\n",
    "    for word, topic in priors.items(): # for each word in the list of priors\n",
    "        keyindex = [index for index,term in etadict.items() if term==word] # look up the word in the dictionary\n",
    "        if (len(keyindex)>0): # if it's in the dictionary\n",
    "            eta[topic,keyindex[0]] = 1e7  # put a large number in there\n",
    "    eta = np.divide(eta, eta.sum(axis=0)) # normalize so that the probabilities sum to 1 over all topics\n",
    "    return eta"
   ]
  },
  {
   "cell_type": "code",
   "execution_count": 21,
   "id": "166cd162",
   "metadata": {
    "hidden": true
   },
   "outputs": [],
   "source": [
    "eta = create_eta(seed_topics, dictionary, 2)"
   ]
  },
  {
   "cell_type": "code",
   "execution_count": 22,
   "id": "b4fe32d4",
   "metadata": {
    "hidden": true
   },
   "outputs": [
    {
     "data": {
      "text/plain": [
       "array([[5.000000e-01, 5.000000e-01, 5.000000e-01, ..., 9.999999e-01,\n",
       "        5.000000e-01, 5.000000e-01],\n",
       "       [5.000000e-01, 5.000000e-01, 5.000000e-01, ..., 9.999999e-08,\n",
       "        5.000000e-01, 5.000000e-01]])"
      ]
     },
     "execution_count": 22,
     "metadata": {},
     "output_type": "execute_result"
    }
   ],
   "source": [
    "eta"
   ]
  },
  {
   "cell_type": "markdown",
   "id": "746c3e4d",
   "metadata": {
    "hidden": true
   },
   "source": [
    "For now, Number of topics = 2: disasters , common topic"
   ]
  },
  {
   "cell_type": "code",
   "execution_count": 23,
   "id": "578bac7c",
   "metadata": {
    "hidden": true
   },
   "outputs": [],
   "source": [
    "# random_state=42\n",
    "lda_model_core = LdaMulticore(corpus=bow, #bag of words\n",
    "                         id2word=dictionary, #our common dict, need for print words in topics, not numbers from bow\n",
    "                         num_topics=2,\n",
    "                         eta=eta, #our eta matrix\n",
    "                         chunksize=2000,\n",
    "                         passes=10,\n",
    "                         random_state=42,\n",
    "                         alpha='symmetric', #param of LDA distribution. If you dont know use symmetric\n",
    "                         per_word_topics=True)"
   ]
  },
  {
   "cell_type": "code",
   "execution_count": 24,
   "id": "56994ed2",
   "metadata": {
    "hidden": true
   },
   "outputs": [
    {
     "name": "stdout",
     "output_type": "stream",
     "text": [
      "0: 0.018*\"fire\" + 0.014*\"u\" + 0.013*\"storm\" + 0.013*\"weapon\" + 0.012*\"amp\" + 0.012*\"video\" + 0.011*\"new\" + 0.010*\"bomb\" + 0.009*\"disaster\" + 0.007*\"siren\"\n",
      "\n",
      "1: 0.017*\"like\" + 0.015*\"im\" + 0.011*\"suicide\" + 0.011*\"get\" + 0.009*\"one\" + 0.009*\"dont\" + 0.008*\"people\" + 0.008*\"police\" + 0.008*\"look\" + 0.007*\"news\"\n",
      "\n"
     ]
    }
   ],
   "source": [
    "for num, params in lda_model_core.print_topics():\n",
    "    print(f'{num}: {params}\\n')"
   ]
  },
  {
   "cell_type": "markdown",
   "id": "4e285633",
   "metadata": {},
   "source": [
    "### LDA Topic Modelisation avec Gensim :  Creer des topics (pertinent!) , analyse mot -> classifier"
   ]
  },
  {
   "cell_type": "code",
   "execution_count": 99,
   "id": "360289d5",
   "metadata": {},
   "outputs": [
    {
     "data": {
      "text/html": [
       "<div>\n",
       "<style scoped>\n",
       "    .dataframe tbody tr th:only-of-type {\n",
       "        vertical-align: middle;\n",
       "    }\n",
       "\n",
       "    .dataframe tbody tr th {\n",
       "        vertical-align: top;\n",
       "    }\n",
       "\n",
       "    .dataframe thead th {\n",
       "        text-align: right;\n",
       "    }\n",
       "</style>\n",
       "<table border=\"1\" class=\"dataframe\">\n",
       "  <thead>\n",
       "    <tr style=\"text-align: right;\">\n",
       "      <th></th>\n",
       "      <th>id</th>\n",
       "      <th>text</th>\n",
       "      <th>target</th>\n",
       "    </tr>\n",
       "  </thead>\n",
       "  <tbody>\n",
       "    <tr>\n",
       "      <th>0</th>\n",
       "      <td>1</td>\n",
       "      <td>deed reason earthquake may allah forgive u</td>\n",
       "      <td>1</td>\n",
       "    </tr>\n",
       "    <tr>\n",
       "      <th>1</th>\n",
       "      <td>4</td>\n",
       "      <td>forest fire near la canada</td>\n",
       "      <td>1</td>\n",
       "    </tr>\n",
       "    <tr>\n",
       "      <th>2</th>\n",
       "      <td>5</td>\n",
       "      <td>resident asked shelter place officer evacuation shelter place order expected</td>\n",
       "      <td>1</td>\n",
       "    </tr>\n",
       "    <tr>\n",
       "      <th>3</th>\n",
       "      <td>6</td>\n",
       "      <td>people receive wildfire evacuation order california</td>\n",
       "      <td>1</td>\n",
       "    </tr>\n",
       "    <tr>\n",
       "      <th>4</th>\n",
       "      <td>7</td>\n",
       "      <td>got sent photo alaska smoke wildfire school</td>\n",
       "      <td>1</td>\n",
       "    </tr>\n",
       "  </tbody>\n",
       "</table>\n",
       "</div>"
      ],
      "text/plain": [
       "   id  \\\n",
       "0   1   \n",
       "1   4   \n",
       "2   5   \n",
       "3   6   \n",
       "4   7   \n",
       "\n",
       "                                                                           text  \\\n",
       "0                                    deed reason earthquake may allah forgive u   \n",
       "1                                                    forest fire near la canada   \n",
       "2  resident asked shelter place officer evacuation shelter place order expected   \n",
       "3                           people receive wildfire evacuation order california   \n",
       "4                                   got sent photo alaska smoke wildfire school   \n",
       "\n",
       "   target  \n",
       "0       1  \n",
       "1       1  \n",
       "2       1  \n",
       "3       1  \n",
       "4       1  "
      ]
     },
     "execution_count": 99,
     "metadata": {},
     "output_type": "execute_result"
    }
   ],
   "source": [
    "## EDA cleaning process\n",
    "\n",
    "data = get_data()\n",
    "data_clean = clean_data(data)\n",
    "\n",
    "#data_clean.head()"
   ]
  },
  {
   "cell_type": "code",
   "execution_count": 100,
   "id": "4f3dea6d",
   "metadata": {},
   "outputs": [],
   "source": [
    "X_train = data_clean['text']\n",
    "\n",
    "# transform to a list, split to get list of each sentence splitted for gensim.corpora.Dict\n",
    "list_tweet = X_train.tolist()\n",
    "text_split = [x.split() for x in list_tweet]\n",
    "\n",
    "dictionary = gensim.corpora.Dictionary(text_split)"
   ]
  },
  {
   "cell_type": "code",
   "execution_count": 101,
   "id": "abad03dd",
   "metadata": {},
   "outputs": [],
   "source": [
    "# Transformation to create a Bag of Words .doc2bow for LdaModel later\n",
    "stopword_ids = map(dictionary.token2id.get, stops)\n",
    "dictionary.filter_tokens(bad_ids=stopword_ids)\n",
    "dictionary.filter_extremes(no_below=20, no_above=0.7, keep_n=None)\n",
    "dictionary.compactify() # remove gaps in id sequence\n",
    "bow = [dictionary.doc2bow(line) for line in text_split]"
   ]
  },
  {
   "cell_type": "markdown",
   "id": "822a2dbc",
   "metadata": {
    "heading_collapsed": true
   },
   "source": [
    "### Topic analysis : Raw data"
   ]
  },
  {
   "cell_type": "code",
   "execution_count": null,
   "id": "798dfb80",
   "metadata": {
    "hidden": true
   },
   "outputs": [],
   "source": [
    "target_1_raw = data[data['target']==1]\n",
    "target_1_raw = target_1_raw['text'] "
   ]
  },
  {
   "cell_type": "code",
   "execution_count": null,
   "id": "66b6fdc5",
   "metadata": {
    "hidden": true
   },
   "outputs": [],
   "source": [
    "pd.DataFrame(target_1_raw)"
   ]
  },
  {
   "cell_type": "markdown",
   "id": "9dbedf8e",
   "metadata": {
    "heading_collapsed": true
   },
   "source": [
    "### Gensim LDA model syntax tuto"
   ]
  },
  {
   "cell_type": "markdown",
   "id": "a0cddc63",
   "metadata": {
    "hidden": true
   },
   "source": [
    "https://radimrehurek.com/gensim/models/ldamodel.html#gensim.models.ldamodel.LdaModel"
   ]
  },
  {
   "cell_type": "code",
   "execution_count": null,
   "id": "e3b503f7",
   "metadata": {
    "hidden": true
   },
   "outputs": [],
   "source": [
    "\"\"\"Train an LDA model using a Gensim corpus\"\"\"\n",
    "\n",
    "# Create a corpus from a list of texts\n",
    "common_dictionary = Dictionary(common_texts)\n",
    "common_corpus = [common_dictionary.doc2bow(text) for text in common_texts]\n",
    "\n",
    "# Train the model on the corpus.\n",
    "lda = LdaModel(common_corpus, num_topics=10)\n",
    "\n",
    "\n",
    "    \"\"\"Save a model to disk, or reload a pre-trained model\"\"\"\n",
    "from gensim.test.utils import datapath\n",
    "\n",
    "# Save model to disk.\n",
    "temp_file = datapath(\"model\")\n",
    "lda.save(temp_file)\n",
    "\n",
    "# Load a potentially pretrained model from disk.\n",
    "lda = LdaModel.load(temp_file)\n",
    "\n",
    "\n",
    "    \"\"\"Query, the model using new, unseen documents\"\"\"\n",
    "# Create a new corpus, made of previously unseen documents.\n",
    "other_texts = [\n",
    "    ['computer', 'time', 'graph'],\n",
    "    ['survey', 'response', 'eps'],\n",
    "    ['human', 'system', 'computer']\n",
    "]\n",
    "other_corpus = [common_dictionary.doc2bow(text) for text in other_texts]\n",
    "\n",
    "unseen_doc = other_corpus[0]\n",
    "vector = lda[unseen_doc]  # get topic probability distribution for a document\n",
    "\n",
    "\n",
    "    \"\"\"Update the model by incrementally training on the new corpus\"\"\"\n",
    "lda.update(other_corpus)\n",
    "vector = lda[unseen_doc]\n",
    "\n",
    "\n",
    "    \"\"\"A lot of parameters can be tuned to optimize training for your specific case\"\"\"\n",
    "lda = LdaModel(common_corpus, num_topics=50, alpha='auto', eval_every=5)  # learn asymmetric alpha from data"
   ]
  },
  {
   "cell_type": "markdown",
   "id": "5099d555",
   "metadata": {},
   "source": [
    "### Create my own topics"
   ]
  },
  {
   "cell_type": "markdown",
   "id": "821158fc",
   "metadata": {},
   "source": [
    "> countvectoriser most_commun : tableau avec le compte totalde chaque mot et son occurence "
   ]
  },
  {
   "cell_type": "code",
   "execution_count": 83,
   "id": "24893e47",
   "metadata": {},
   "outputs": [],
   "source": [
    "# list to create my 3 topic, 3rd is random other subjects\n",
    "\n",
    "# this list means need forces intervention or involved\n",
    "forces_intervention = ['accident', 'officers', 'evacuation', 'shelter', 'wildfire', 'wildfires', 'smoke', 'fire', 'emergency', 'die', 'died' 'ablaze', 'burn', 'burned',\n",
    "'crash', 'accident', 'traffic', 'damage', 'deadly', 'kill', 'killed', 'explosion', 'death', 'ambulance', 'drunk', 'crime', 'attack', 'attacked', 'victim', 'stabbed', 'stabbing', 'arson',\n",
    "'arrested', 'arrestation', 'burning', 'arsonist', 'collided', 'collision', 'police', 'suicide', 'bombing', 'injured', 'terrorist', 'avalanche', 'army', 'derailed', 'stab', 'blew', 'collapse']\n",
    "\n",
    "weather_phenomen = ['eruption', 'earthquake', 'catastrophic effect','heavy', 'rain', 'flood', 'tornado', 'heat', 'tsunami', 'volcano','tornado', 'magma', 'windstorm','cyclone','hailstorm','lava','hail','hurricane','seismic','erosion',\n",
    "'whirlwind', 'cloud','thunderstorm','barometer','gale','blackout','gust','snowstorm','rainstorm','storm','nimbus','violent storm', 'sandstorm','cumulonimbus']\n",
    "\n",
    "forces_intervention = [ps.stem(word) for word in forces_intervention]\n",
    "weather_phenomen = [ps.stem(word) for word in weather_phenomen]"
   ]
  },
  {
   "cell_type": "markdown",
   "id": "3b43d8ed",
   "metadata": {},
   "source": [
    "**Placé dans target1**\n",
    "'star wars',  'Indeed!! I am fully aware of that battle! I support you in that fight!'\n",
    "\n",
    "menace : 'you can stab me in the back but I promise you'll be the one bleeding'\n",
    "\n",
    "news : 'transport bioterror germs in wake of anthrax'\n",
    "\n",
    "suspect = ['afraid', 'hate', 'bomb']"
   ]
  },
  {
   "cell_type": "code",
   "execution_count": 84,
   "id": "5a8470f1",
   "metadata": {},
   "outputs": [],
   "source": [
    "# initialize value 0 to each word to go through,then we'll use create_eta() function to add a big value if word in lists above\n",
    "\n",
    "seed_topics_forces = {}\n",
    "\n",
    "for word in forces_intervention:\n",
    "    seed_topics_forces[word] = 0\n",
    "    \n",
    "seed_topics_weather = {}\n",
    "\n",
    "for word in weather_phenomen:\n",
    "    seed_topics_weather[word] = 1"
   ]
  },
  {
   "cell_type": "code",
   "execution_count": 85,
   "id": "5fcf2675",
   "metadata": {
    "scrolled": true
   },
   "outputs": [
    {
     "data": {
      "text/plain": [
       "{'accid': 0,\n",
       " 'offic': 0,\n",
       " 'evacu': 0,\n",
       " 'shelter': 0,\n",
       " 'wildfir': 0,\n",
       " 'smoke': 0,\n",
       " 'fire': 0,\n",
       " 'emerg': 0,\n",
       " 'die': 0,\n",
       " 'diedablaz': 0,\n",
       " 'burn': 0,\n",
       " 'crash': 0,\n",
       " 'traffic': 0,\n",
       " 'damag': 0,\n",
       " 'deadli': 0,\n",
       " 'kill': 0,\n",
       " 'explos': 0,\n",
       " 'death': 0,\n",
       " 'ambul': 0,\n",
       " 'drunk': 0,\n",
       " 'crime': 0,\n",
       " 'attack': 0,\n",
       " 'victim': 0,\n",
       " 'stab': 0,\n",
       " 'arson': 0,\n",
       " 'arrest': 0,\n",
       " 'arsonist': 0,\n",
       " 'collid': 0,\n",
       " 'collis': 0,\n",
       " 'polic': 0,\n",
       " 'suicid': 0,\n",
       " 'bomb': 0,\n",
       " 'injur': 0,\n",
       " 'terrorist': 0,\n",
       " 'avalanch': 0,\n",
       " 'armi': 0,\n",
       " 'derail': 0,\n",
       " 'blew': 0,\n",
       " 'collaps': 0}"
      ]
     },
     "execution_count": 85,
     "metadata": {},
     "output_type": "execute_result"
    }
   ],
   "source": [
    "seed_topics_forces"
   ]
  },
  {
   "cell_type": "markdown",
   "id": "dc1f3f1e",
   "metadata": {},
   "source": [
    "> Custom eta parameter of gensim.models.ldamodel.LdaModel"
   ]
  },
  {
   "cell_type": "code",
   "execution_count": 102,
   "id": "3b75d436",
   "metadata": {},
   "outputs": [],
   "source": [
    "def create_eta(dict_priors, etadict, ntopics):\n",
    "    \"\"\" create 'eta' parameter in LdaModel,\n",
    "    dict_priors  is a list of dicts from see_topics \"\"\"\n",
    "    eta = np.full(shape=(ntopics, len(etadict)), fill_value=1) # create a (ntopics, nterms) matrix and fill with 1\n",
    "    \n",
    "    for dict_prior in dict_priors:\n",
    "        \n",
    "        for word, topic in dict_prior.items(): # for each word in the list of priors\n",
    "            \n",
    "            keyindex = [index for index,term in etadict.items() if term==word] # look up the word in the dictionary\n",
    "            if (len(keyindex)>0): # if it's in the dictionary\n",
    "                eta[topic,keyindex[0]] = 1e7  # put a large number in there\n",
    "                \n",
    "    eta = np.divide(eta, eta.sum(axis=0)) # normalize so that the probabilities sum to 1 over all topics\n",
    "    return eta"
   ]
  },
  {
   "cell_type": "code",
   "execution_count": 103,
   "id": "25fb7f72",
   "metadata": {},
   "outputs": [],
   "source": [
    "# create my own eta, affect a big value to a word in my seed_topics_force, seed_topic_weather\n",
    "# IF is in my lists created above (force_intervention, weather_phenomen')\n",
    "eta = create_eta([seed_topics_forces, seed_topics_weather], dictionary, 3)"
   ]
  },
  {
   "cell_type": "markdown",
   "id": "2ad49aaf",
   "metadata": {},
   "source": [
    "Define LdModel() : gensim.models.ldamodel.LdaModel"
   ]
  },
  {
   "cell_type": "markdown",
   "id": "58166c08",
   "metadata": {},
   "source": [
    "### LDA model custom"
   ]
  },
  {
   "cell_type": "markdown",
   "id": "fd90da90",
   "metadata": {},
   "source": [
    "class **gensim.models.ldamodel.LdaModel**(corpus=None, num_topics=100, id2word=None, distributed=False, chunksize=2000, passes=1, update_every=1, alpha='symmetric', eta=None, decay=0.5, offset=1.0, eval_every=10, iterations=50, gamma_threshold=0.001, minimum_probability=0.01, random_state=None, ns_conf=None, minimum_phi_value=0.01, per_word_topics=False, callbacks=None, dtype=<class 'numpy.float32'>)"
   ]
  },
  {
   "cell_type": "markdown",
   "id": "aa7430dc",
   "metadata": {},
   "source": [
    "**random_state** ({np.random.RandomState, int}, optional) – Either a randomState object or a seed to generate one. Useful for reproducibility.\n",
    "random_state - this serves as a seed (in case you wanted to repeat exactly the training process)\n",
    "**chunksize** - number of documents to consider at once (affects the memory consumption)\n",
    "\n",
    "**update_every** - update the model every update_every chunksize chunks (essentially, this is for memory consumption optimization)\n",
    "\n",
    "**passes** - how many times the algorithm is supposed to pass over the whole corpus"
   ]
  },
  {
   "cell_type": "markdown",
   "id": "a5d53a56",
   "metadata": {},
   "source": [
    "chunksize - number of documents to consider at once (affects the memory consumption)"
   ]
  },
  {
   "cell_type": "code",
   "execution_count": 158,
   "id": "05393395",
   "metadata": {},
   "outputs": [],
   "source": [
    "num_topics=3\n",
    "chunksize=2000\n",
    "passes = 25\n",
    "random_state = 100"
   ]
  },
  {
   "cell_type": "code",
   "execution_count": 159,
   "id": "415f505d",
   "metadata": {},
   "outputs": [],
   "source": [
    "lda_model = gensim.models.ldamodel.LdaModel(corpus=bow, #bag of words\n",
    "                         id2word=dictionary, #our common dict, need for print words in topics, not numbers from bow\n",
    "                         num_topics=num_topics,\n",
    "                         eta=eta, #our eta matrix\n",
    "                         chunksize=chunksize,\n",
    "                        update_every = 1,\n",
    "                         passes=passes,\n",
    "                         random_state=random_state,\n",
    "                         alpha='asymmetric', #param of LDA distribution. If you dont know use symmetric\n",
    "                        minimum_probability = 0.0,\n",
    "                         per_word_topics=True)\n",
    "\n",
    "# --> alpha='symmetric' SAME result, auto : diff results, \n",
    "# random_state : serves as a seed (in case you wanted to repeat exactly the training process)\n",
    "# n_jobs = -1\n",
    "# update_every = 1\n",
    "# per_word_topics=True\n",
    "# random_state=100,"
   ]
  },
  {
   "cell_type": "code",
   "execution_count": 142,
   "id": "631be990",
   "metadata": {},
   "outputs": [
    {
     "name": "stdout",
     "output_type": "stream",
     "text": [
      "0: 0.033*\"fire\" + 0.020*\"news\" + 0.017*\"video\" + 0.017*\"via\" + 0.015*\"suicide\" + 0.014*\"california\" + 0.013*\"year\" + 0.013*\"home\" + 0.013*\"still\" + 0.012*\"look\"\n",
      "\n",
      "1: 0.026*\"u\" + 0.023*\"amp\" + 0.016*\"disaster\" + 0.015*\"storm\" + 0.015*\"police\" + 0.014*\"family\" + 0.013*\"time\" + 0.013*\"pm\" + 0.013*\"wreck\" + 0.011*\"nuclear\"\n",
      "\n",
      "2: 0.030*\"like\" + 0.025*\"im\" + 0.019*\"get\" + 0.018*\"weapon\" + 0.017*\"new\" + 0.017*\"one\" + 0.015*\"people\" + 0.015*\"dont\" + 0.012*\"day\" + 0.010*\"go\"\n",
      "\n"
     ]
    }
   ],
   "source": [
    "# print 10 words and its percentage in each topics (0-2)\n",
    "for num, params in lda_model.print_topics():\n",
    "    print(f'{num}: {params}\\n')"
   ]
  },
  {
   "cell_type": "markdown",
   "id": "b43d48c7",
   "metadata": {},
   "source": [
    "**Premier essai : FAILED ! (code deleted)**"
   ]
  },
  {
   "cell_type": "markdown",
   "id": "54585767",
   "metadata": {
    "heading_collapsed": true
   },
   "source": [
    "### Visualizing the entity recongnizer¶"
   ]
  },
  {
   "cell_type": "code",
   "execution_count": 30,
   "id": "4788d104",
   "metadata": {
    "hidden": true
   },
   "outputs": [],
   "source": [
    "import spacy\n",
    "from spacy import displacy\n",
    "from spacy.matcher import Matcher\n",
    "\n",
    "# 1. Loading the language library\n",
    "nlp = spacy.load('en_core_web_sm')\n",
    "text = u'''\n",
    "Elon Musk, the billionaire CEO of Tesla and SpaceX, is now the richest person in the world, surpassing former titleholder and Amazon chief Jeff Bezos with a net worth of $189.7 billion, according to Forbes’s real-time billionaire net-worth estimates on Jan. 8, 2021 at 1pm.\n",
    "2 - Since March, Musk’s wealth has grown almost seven-fold, up a staggering $163.1 billion.\n",
    "'''\n",
    "# 2. Building a Pipline Object\n",
    "doc = nlp(text)\n"
   ]
  },
  {
   "cell_type": "code",
   "execution_count": 31,
   "id": "0d41c506",
   "metadata": {
    "hidden": true
   },
   "outputs": [
    {
     "data": {
      "text/html": [
       "<span class=\"tex2jax_ignore\"><svg xmlns=\"http://www.w3.org/2000/svg\" xmlns:xlink=\"http://www.w3.org/1999/xlink\" xml:lang=\"en\" id=\"7cbe018fb9f54ca8b71e6b3fcda40669-0\" class=\"displacy\" width=\"6350\" height=\"632.0\" direction=\"ltr\" style=\"max-width: none; height: 632.0px; color: #000000; background: #ffffff; font-family: Arial; direction: ltr\">\n",
       "<text class=\"displacy-token\" fill=\"currentColor\" text-anchor=\"middle\" y=\"542.0\">\n",
       "    <tspan class=\"displacy-word\" fill=\"currentColor\" x=\"50\">\n",
       "</tspan>\n",
       "    <tspan class=\"displacy-tag\" dy=\"2em\" fill=\"currentColor\" x=\"50\">SPACE</tspan>\n",
       "</text>\n",
       "\n",
       "<text class=\"displacy-token\" fill=\"currentColor\" text-anchor=\"middle\" y=\"542.0\">\n",
       "    <tspan class=\"displacy-word\" fill=\"currentColor\" x=\"140\">Elon</tspan>\n",
       "    <tspan class=\"displacy-tag\" dy=\"2em\" fill=\"currentColor\" x=\"140\">PROPN</tspan>\n",
       "</text>\n",
       "\n",
       "<text class=\"displacy-token\" fill=\"currentColor\" text-anchor=\"middle\" y=\"542.0\">\n",
       "    <tspan class=\"displacy-word\" fill=\"currentColor\" x=\"230\">Musk,</tspan>\n",
       "    <tspan class=\"displacy-tag\" dy=\"2em\" fill=\"currentColor\" x=\"230\">PROPN</tspan>\n",
       "</text>\n",
       "\n",
       "<text class=\"displacy-token\" fill=\"currentColor\" text-anchor=\"middle\" y=\"542.0\">\n",
       "    <tspan class=\"displacy-word\" fill=\"currentColor\" x=\"320\">the</tspan>\n",
       "    <tspan class=\"displacy-tag\" dy=\"2em\" fill=\"currentColor\" x=\"320\">DET</tspan>\n",
       "</text>\n",
       "\n",
       "<text class=\"displacy-token\" fill=\"currentColor\" text-anchor=\"middle\" y=\"542.0\">\n",
       "    <tspan class=\"displacy-word\" fill=\"currentColor\" x=\"410\">billionaire</tspan>\n",
       "    <tspan class=\"displacy-tag\" dy=\"2em\" fill=\"currentColor\" x=\"410\">NOUN</tspan>\n",
       "</text>\n",
       "\n",
       "<text class=\"displacy-token\" fill=\"currentColor\" text-anchor=\"middle\" y=\"542.0\">\n",
       "    <tspan class=\"displacy-word\" fill=\"currentColor\" x=\"500\">CEO</tspan>\n",
       "    <tspan class=\"displacy-tag\" dy=\"2em\" fill=\"currentColor\" x=\"500\">PROPN</tspan>\n",
       "</text>\n",
       "\n",
       "<text class=\"displacy-token\" fill=\"currentColor\" text-anchor=\"middle\" y=\"542.0\">\n",
       "    <tspan class=\"displacy-word\" fill=\"currentColor\" x=\"590\">of</tspan>\n",
       "    <tspan class=\"displacy-tag\" dy=\"2em\" fill=\"currentColor\" x=\"590\">ADP</tspan>\n",
       "</text>\n",
       "\n",
       "<text class=\"displacy-token\" fill=\"currentColor\" text-anchor=\"middle\" y=\"542.0\">\n",
       "    <tspan class=\"displacy-word\" fill=\"currentColor\" x=\"680\">Tesla</tspan>\n",
       "    <tspan class=\"displacy-tag\" dy=\"2em\" fill=\"currentColor\" x=\"680\">PROPN</tspan>\n",
       "</text>\n",
       "\n",
       "<text class=\"displacy-token\" fill=\"currentColor\" text-anchor=\"middle\" y=\"542.0\">\n",
       "    <tspan class=\"displacy-word\" fill=\"currentColor\" x=\"770\">and</tspan>\n",
       "    <tspan class=\"displacy-tag\" dy=\"2em\" fill=\"currentColor\" x=\"770\">CCONJ</tspan>\n",
       "</text>\n",
       "\n",
       "<text class=\"displacy-token\" fill=\"currentColor\" text-anchor=\"middle\" y=\"542.0\">\n",
       "    <tspan class=\"displacy-word\" fill=\"currentColor\" x=\"860\">SpaceX,</tspan>\n",
       "    <tspan class=\"displacy-tag\" dy=\"2em\" fill=\"currentColor\" x=\"860\">PUNCT</tspan>\n",
       "</text>\n",
       "\n",
       "<text class=\"displacy-token\" fill=\"currentColor\" text-anchor=\"middle\" y=\"542.0\">\n",
       "    <tspan class=\"displacy-word\" fill=\"currentColor\" x=\"950\">is</tspan>\n",
       "    <tspan class=\"displacy-tag\" dy=\"2em\" fill=\"currentColor\" x=\"950\">AUX</tspan>\n",
       "</text>\n",
       "\n",
       "<text class=\"displacy-token\" fill=\"currentColor\" text-anchor=\"middle\" y=\"542.0\">\n",
       "    <tspan class=\"displacy-word\" fill=\"currentColor\" x=\"1040\">now</tspan>\n",
       "    <tspan class=\"displacy-tag\" dy=\"2em\" fill=\"currentColor\" x=\"1040\">ADV</tspan>\n",
       "</text>\n",
       "\n",
       "<text class=\"displacy-token\" fill=\"currentColor\" text-anchor=\"middle\" y=\"542.0\">\n",
       "    <tspan class=\"displacy-word\" fill=\"currentColor\" x=\"1130\">the</tspan>\n",
       "    <tspan class=\"displacy-tag\" dy=\"2em\" fill=\"currentColor\" x=\"1130\">DET</tspan>\n",
       "</text>\n",
       "\n",
       "<text class=\"displacy-token\" fill=\"currentColor\" text-anchor=\"middle\" y=\"542.0\">\n",
       "    <tspan class=\"displacy-word\" fill=\"currentColor\" x=\"1220\">richest</tspan>\n",
       "    <tspan class=\"displacy-tag\" dy=\"2em\" fill=\"currentColor\" x=\"1220\">ADJ</tspan>\n",
       "</text>\n",
       "\n",
       "<text class=\"displacy-token\" fill=\"currentColor\" text-anchor=\"middle\" y=\"542.0\">\n",
       "    <tspan class=\"displacy-word\" fill=\"currentColor\" x=\"1310\">person</tspan>\n",
       "    <tspan class=\"displacy-tag\" dy=\"2em\" fill=\"currentColor\" x=\"1310\">NOUN</tspan>\n",
       "</text>\n",
       "\n",
       "<text class=\"displacy-token\" fill=\"currentColor\" text-anchor=\"middle\" y=\"542.0\">\n",
       "    <tspan class=\"displacy-word\" fill=\"currentColor\" x=\"1400\">in</tspan>\n",
       "    <tspan class=\"displacy-tag\" dy=\"2em\" fill=\"currentColor\" x=\"1400\">ADP</tspan>\n",
       "</text>\n",
       "\n",
       "<text class=\"displacy-token\" fill=\"currentColor\" text-anchor=\"middle\" y=\"542.0\">\n",
       "    <tspan class=\"displacy-word\" fill=\"currentColor\" x=\"1490\">the</tspan>\n",
       "    <tspan class=\"displacy-tag\" dy=\"2em\" fill=\"currentColor\" x=\"1490\">DET</tspan>\n",
       "</text>\n",
       "\n",
       "<text class=\"displacy-token\" fill=\"currentColor\" text-anchor=\"middle\" y=\"542.0\">\n",
       "    <tspan class=\"displacy-word\" fill=\"currentColor\" x=\"1580\">world,</tspan>\n",
       "    <tspan class=\"displacy-tag\" dy=\"2em\" fill=\"currentColor\" x=\"1580\">NOUN</tspan>\n",
       "</text>\n",
       "\n",
       "<text class=\"displacy-token\" fill=\"currentColor\" text-anchor=\"middle\" y=\"542.0\">\n",
       "    <tspan class=\"displacy-word\" fill=\"currentColor\" x=\"1670\">surpassing</tspan>\n",
       "    <tspan class=\"displacy-tag\" dy=\"2em\" fill=\"currentColor\" x=\"1670\">VERB</tspan>\n",
       "</text>\n",
       "\n",
       "<text class=\"displacy-token\" fill=\"currentColor\" text-anchor=\"middle\" y=\"542.0\">\n",
       "    <tspan class=\"displacy-word\" fill=\"currentColor\" x=\"1760\">former</tspan>\n",
       "    <tspan class=\"displacy-tag\" dy=\"2em\" fill=\"currentColor\" x=\"1760\">ADJ</tspan>\n",
       "</text>\n",
       "\n",
       "<text class=\"displacy-token\" fill=\"currentColor\" text-anchor=\"middle\" y=\"542.0\">\n",
       "    <tspan class=\"displacy-word\" fill=\"currentColor\" x=\"1850\">titleholder</tspan>\n",
       "    <tspan class=\"displacy-tag\" dy=\"2em\" fill=\"currentColor\" x=\"1850\">NOUN</tspan>\n",
       "</text>\n",
       "\n",
       "<text class=\"displacy-token\" fill=\"currentColor\" text-anchor=\"middle\" y=\"542.0\">\n",
       "    <tspan class=\"displacy-word\" fill=\"currentColor\" x=\"1940\">and</tspan>\n",
       "    <tspan class=\"displacy-tag\" dy=\"2em\" fill=\"currentColor\" x=\"1940\">CCONJ</tspan>\n",
       "</text>\n",
       "\n",
       "<text class=\"displacy-token\" fill=\"currentColor\" text-anchor=\"middle\" y=\"542.0\">\n",
       "    <tspan class=\"displacy-word\" fill=\"currentColor\" x=\"2030\">Amazon</tspan>\n",
       "    <tspan class=\"displacy-tag\" dy=\"2em\" fill=\"currentColor\" x=\"2030\">PROPN</tspan>\n",
       "</text>\n",
       "\n",
       "<text class=\"displacy-token\" fill=\"currentColor\" text-anchor=\"middle\" y=\"542.0\">\n",
       "    <tspan class=\"displacy-word\" fill=\"currentColor\" x=\"2120\">chief</tspan>\n",
       "    <tspan class=\"displacy-tag\" dy=\"2em\" fill=\"currentColor\" x=\"2120\">NOUN</tspan>\n",
       "</text>\n",
       "\n",
       "<text class=\"displacy-token\" fill=\"currentColor\" text-anchor=\"middle\" y=\"542.0\">\n",
       "    <tspan class=\"displacy-word\" fill=\"currentColor\" x=\"2210\">Jeff</tspan>\n",
       "    <tspan class=\"displacy-tag\" dy=\"2em\" fill=\"currentColor\" x=\"2210\">PROPN</tspan>\n",
       "</text>\n",
       "\n",
       "<text class=\"displacy-token\" fill=\"currentColor\" text-anchor=\"middle\" y=\"542.0\">\n",
       "    <tspan class=\"displacy-word\" fill=\"currentColor\" x=\"2300\">Bezos</tspan>\n",
       "    <tspan class=\"displacy-tag\" dy=\"2em\" fill=\"currentColor\" x=\"2300\">PROPN</tspan>\n",
       "</text>\n",
       "\n",
       "<text class=\"displacy-token\" fill=\"currentColor\" text-anchor=\"middle\" y=\"542.0\">\n",
       "    <tspan class=\"displacy-word\" fill=\"currentColor\" x=\"2390\">with</tspan>\n",
       "    <tspan class=\"displacy-tag\" dy=\"2em\" fill=\"currentColor\" x=\"2390\">ADP</tspan>\n",
       "</text>\n",
       "\n",
       "<text class=\"displacy-token\" fill=\"currentColor\" text-anchor=\"middle\" y=\"542.0\">\n",
       "    <tspan class=\"displacy-word\" fill=\"currentColor\" x=\"2480\">a</tspan>\n",
       "    <tspan class=\"displacy-tag\" dy=\"2em\" fill=\"currentColor\" x=\"2480\">DET</tspan>\n",
       "</text>\n",
       "\n",
       "<text class=\"displacy-token\" fill=\"currentColor\" text-anchor=\"middle\" y=\"542.0\">\n",
       "    <tspan class=\"displacy-word\" fill=\"currentColor\" x=\"2570\">net</tspan>\n",
       "    <tspan class=\"displacy-tag\" dy=\"2em\" fill=\"currentColor\" x=\"2570\">ADJ</tspan>\n",
       "</text>\n",
       "\n",
       "<text class=\"displacy-token\" fill=\"currentColor\" text-anchor=\"middle\" y=\"542.0\">\n",
       "    <tspan class=\"displacy-word\" fill=\"currentColor\" x=\"2660\">worth</tspan>\n",
       "    <tspan class=\"displacy-tag\" dy=\"2em\" fill=\"currentColor\" x=\"2660\">NOUN</tspan>\n",
       "</text>\n",
       "\n",
       "<text class=\"displacy-token\" fill=\"currentColor\" text-anchor=\"middle\" y=\"542.0\">\n",
       "    <tspan class=\"displacy-word\" fill=\"currentColor\" x=\"2750\">of</tspan>\n",
       "    <tspan class=\"displacy-tag\" dy=\"2em\" fill=\"currentColor\" x=\"2750\">ADP</tspan>\n",
       "</text>\n",
       "\n",
       "<text class=\"displacy-token\" fill=\"currentColor\" text-anchor=\"middle\" y=\"542.0\">\n",
       "    <tspan class=\"displacy-word\" fill=\"currentColor\" x=\"2840\">$</tspan>\n",
       "    <tspan class=\"displacy-tag\" dy=\"2em\" fill=\"currentColor\" x=\"2840\">SYM</tspan>\n",
       "</text>\n",
       "\n",
       "<text class=\"displacy-token\" fill=\"currentColor\" text-anchor=\"middle\" y=\"542.0\">\n",
       "    <tspan class=\"displacy-word\" fill=\"currentColor\" x=\"2930\">189.7</tspan>\n",
       "    <tspan class=\"displacy-tag\" dy=\"2em\" fill=\"currentColor\" x=\"2930\">NUM</tspan>\n",
       "</text>\n",
       "\n",
       "<text class=\"displacy-token\" fill=\"currentColor\" text-anchor=\"middle\" y=\"542.0\">\n",
       "    <tspan class=\"displacy-word\" fill=\"currentColor\" x=\"3020\">billion,</tspan>\n",
       "    <tspan class=\"displacy-tag\" dy=\"2em\" fill=\"currentColor\" x=\"3020\">NUM</tspan>\n",
       "</text>\n",
       "\n",
       "<text class=\"displacy-token\" fill=\"currentColor\" text-anchor=\"middle\" y=\"542.0\">\n",
       "    <tspan class=\"displacy-word\" fill=\"currentColor\" x=\"3110\">according</tspan>\n",
       "    <tspan class=\"displacy-tag\" dy=\"2em\" fill=\"currentColor\" x=\"3110\">VERB</tspan>\n",
       "</text>\n",
       "\n",
       "<text class=\"displacy-token\" fill=\"currentColor\" text-anchor=\"middle\" y=\"542.0\">\n",
       "    <tspan class=\"displacy-word\" fill=\"currentColor\" x=\"3200\">to</tspan>\n",
       "    <tspan class=\"displacy-tag\" dy=\"2em\" fill=\"currentColor\" x=\"3200\">ADP</tspan>\n",
       "</text>\n",
       "\n",
       "<text class=\"displacy-token\" fill=\"currentColor\" text-anchor=\"middle\" y=\"542.0\">\n",
       "    <tspan class=\"displacy-word\" fill=\"currentColor\" x=\"3290\">Forbes</tspan>\n",
       "    <tspan class=\"displacy-tag\" dy=\"2em\" fill=\"currentColor\" x=\"3290\">PROPN</tspan>\n",
       "</text>\n",
       "\n",
       "<text class=\"displacy-token\" fill=\"currentColor\" text-anchor=\"middle\" y=\"542.0\">\n",
       "    <tspan class=\"displacy-word\" fill=\"currentColor\" x=\"3380\">’s</tspan>\n",
       "    <tspan class=\"displacy-tag\" dy=\"2em\" fill=\"currentColor\" x=\"3380\">PART</tspan>\n",
       "</text>\n",
       "\n",
       "<text class=\"displacy-token\" fill=\"currentColor\" text-anchor=\"middle\" y=\"542.0\">\n",
       "    <tspan class=\"displacy-word\" fill=\"currentColor\" x=\"3470\">real-</tspan>\n",
       "    <tspan class=\"displacy-tag\" dy=\"2em\" fill=\"currentColor\" x=\"3470\">ADJ</tspan>\n",
       "</text>\n",
       "\n",
       "<text class=\"displacy-token\" fill=\"currentColor\" text-anchor=\"middle\" y=\"542.0\">\n",
       "    <tspan class=\"displacy-word\" fill=\"currentColor\" x=\"3560\">time</tspan>\n",
       "    <tspan class=\"displacy-tag\" dy=\"2em\" fill=\"currentColor\" x=\"3560\">NOUN</tspan>\n",
       "</text>\n",
       "\n",
       "<text class=\"displacy-token\" fill=\"currentColor\" text-anchor=\"middle\" y=\"542.0\">\n",
       "    <tspan class=\"displacy-word\" fill=\"currentColor\" x=\"3650\">billionaire</tspan>\n",
       "    <tspan class=\"displacy-tag\" dy=\"2em\" fill=\"currentColor\" x=\"3650\">NOUN</tspan>\n",
       "</text>\n",
       "\n",
       "<text class=\"displacy-token\" fill=\"currentColor\" text-anchor=\"middle\" y=\"542.0\">\n",
       "    <tspan class=\"displacy-word\" fill=\"currentColor\" x=\"3740\">net-</tspan>\n",
       "    <tspan class=\"displacy-tag\" dy=\"2em\" fill=\"currentColor\" x=\"3740\">ADJ</tspan>\n",
       "</text>\n",
       "\n",
       "<text class=\"displacy-token\" fill=\"currentColor\" text-anchor=\"middle\" y=\"542.0\">\n",
       "    <tspan class=\"displacy-word\" fill=\"currentColor\" x=\"3830\">worth</tspan>\n",
       "    <tspan class=\"displacy-tag\" dy=\"2em\" fill=\"currentColor\" x=\"3830\">ADJ</tspan>\n",
       "</text>\n",
       "\n",
       "<text class=\"displacy-token\" fill=\"currentColor\" text-anchor=\"middle\" y=\"542.0\">\n",
       "    <tspan class=\"displacy-word\" fill=\"currentColor\" x=\"3920\">estimates</tspan>\n",
       "    <tspan class=\"displacy-tag\" dy=\"2em\" fill=\"currentColor\" x=\"3920\">NOUN</tspan>\n",
       "</text>\n",
       "\n",
       "<text class=\"displacy-token\" fill=\"currentColor\" text-anchor=\"middle\" y=\"542.0\">\n",
       "    <tspan class=\"displacy-word\" fill=\"currentColor\" x=\"4010\">on</tspan>\n",
       "    <tspan class=\"displacy-tag\" dy=\"2em\" fill=\"currentColor\" x=\"4010\">ADP</tspan>\n",
       "</text>\n",
       "\n",
       "<text class=\"displacy-token\" fill=\"currentColor\" text-anchor=\"middle\" y=\"542.0\">\n",
       "    <tspan class=\"displacy-word\" fill=\"currentColor\" x=\"4100\">Jan.</tspan>\n",
       "    <tspan class=\"displacy-tag\" dy=\"2em\" fill=\"currentColor\" x=\"4100\">PROPN</tspan>\n",
       "</text>\n",
       "\n",
       "<text class=\"displacy-token\" fill=\"currentColor\" text-anchor=\"middle\" y=\"542.0\">\n",
       "    <tspan class=\"displacy-word\" fill=\"currentColor\" x=\"4190\">8,</tspan>\n",
       "    <tspan class=\"displacy-tag\" dy=\"2em\" fill=\"currentColor\" x=\"4190\">NUM</tspan>\n",
       "</text>\n",
       "\n",
       "<text class=\"displacy-token\" fill=\"currentColor\" text-anchor=\"middle\" y=\"542.0\">\n",
       "    <tspan class=\"displacy-word\" fill=\"currentColor\" x=\"4280\">2021</tspan>\n",
       "    <tspan class=\"displacy-tag\" dy=\"2em\" fill=\"currentColor\" x=\"4280\">NUM</tspan>\n",
       "</text>\n",
       "\n",
       "<text class=\"displacy-token\" fill=\"currentColor\" text-anchor=\"middle\" y=\"542.0\">\n",
       "    <tspan class=\"displacy-word\" fill=\"currentColor\" x=\"4370\">at</tspan>\n",
       "    <tspan class=\"displacy-tag\" dy=\"2em\" fill=\"currentColor\" x=\"4370\">ADP</tspan>\n",
       "</text>\n",
       "\n",
       "<text class=\"displacy-token\" fill=\"currentColor\" text-anchor=\"middle\" y=\"542.0\">\n",
       "    <tspan class=\"displacy-word\" fill=\"currentColor\" x=\"4460\">1</tspan>\n",
       "    <tspan class=\"displacy-tag\" dy=\"2em\" fill=\"currentColor\" x=\"4460\">NUM</tspan>\n",
       "</text>\n",
       "\n",
       "<text class=\"displacy-token\" fill=\"currentColor\" text-anchor=\"middle\" y=\"542.0\">\n",
       "    <tspan class=\"displacy-word\" fill=\"currentColor\" x=\"4550\">pm.</tspan>\n",
       "    <tspan class=\"displacy-tag\" dy=\"2em\" fill=\"currentColor\" x=\"4550\">NOUN</tspan>\n",
       "</text>\n",
       "\n",
       "<text class=\"displacy-token\" fill=\"currentColor\" text-anchor=\"middle\" y=\"542.0\">\n",
       "    <tspan class=\"displacy-word\" fill=\"currentColor\" x=\"4640\">\n",
       "</tspan>\n",
       "    <tspan class=\"displacy-tag\" dy=\"2em\" fill=\"currentColor\" x=\"4640\">SPACE</tspan>\n",
       "</text>\n",
       "\n",
       "<text class=\"displacy-token\" fill=\"currentColor\" text-anchor=\"middle\" y=\"542.0\">\n",
       "    <tspan class=\"displacy-word\" fill=\"currentColor\" x=\"4730\">2 -</tspan>\n",
       "    <tspan class=\"displacy-tag\" dy=\"2em\" fill=\"currentColor\" x=\"4730\">NUM</tspan>\n",
       "</text>\n",
       "\n",
       "<text class=\"displacy-token\" fill=\"currentColor\" text-anchor=\"middle\" y=\"542.0\">\n",
       "    <tspan class=\"displacy-word\" fill=\"currentColor\" x=\"4820\">Since</tspan>\n",
       "    <tspan class=\"displacy-tag\" dy=\"2em\" fill=\"currentColor\" x=\"4820\">SCONJ</tspan>\n",
       "</text>\n",
       "\n",
       "<text class=\"displacy-token\" fill=\"currentColor\" text-anchor=\"middle\" y=\"542.0\">\n",
       "    <tspan class=\"displacy-word\" fill=\"currentColor\" x=\"4910\">March,</tspan>\n",
       "    <tspan class=\"displacy-tag\" dy=\"2em\" fill=\"currentColor\" x=\"4910\">PROPN</tspan>\n",
       "</text>\n",
       "\n",
       "<text class=\"displacy-token\" fill=\"currentColor\" text-anchor=\"middle\" y=\"542.0\">\n",
       "    <tspan class=\"displacy-word\" fill=\"currentColor\" x=\"5000\">Musk</tspan>\n",
       "    <tspan class=\"displacy-tag\" dy=\"2em\" fill=\"currentColor\" x=\"5000\">PROPN</tspan>\n",
       "</text>\n",
       "\n",
       "<text class=\"displacy-token\" fill=\"currentColor\" text-anchor=\"middle\" y=\"542.0\">\n",
       "    <tspan class=\"displacy-word\" fill=\"currentColor\" x=\"5090\">’s</tspan>\n",
       "    <tspan class=\"displacy-tag\" dy=\"2em\" fill=\"currentColor\" x=\"5090\">PART</tspan>\n",
       "</text>\n",
       "\n",
       "<text class=\"displacy-token\" fill=\"currentColor\" text-anchor=\"middle\" y=\"542.0\">\n",
       "    <tspan class=\"displacy-word\" fill=\"currentColor\" x=\"5180\">wealth</tspan>\n",
       "    <tspan class=\"displacy-tag\" dy=\"2em\" fill=\"currentColor\" x=\"5180\">NOUN</tspan>\n",
       "</text>\n",
       "\n",
       "<text class=\"displacy-token\" fill=\"currentColor\" text-anchor=\"middle\" y=\"542.0\">\n",
       "    <tspan class=\"displacy-word\" fill=\"currentColor\" x=\"5270\">has</tspan>\n",
       "    <tspan class=\"displacy-tag\" dy=\"2em\" fill=\"currentColor\" x=\"5270\">AUX</tspan>\n",
       "</text>\n",
       "\n",
       "<text class=\"displacy-token\" fill=\"currentColor\" text-anchor=\"middle\" y=\"542.0\">\n",
       "    <tspan class=\"displacy-word\" fill=\"currentColor\" x=\"5360\">grown</tspan>\n",
       "    <tspan class=\"displacy-tag\" dy=\"2em\" fill=\"currentColor\" x=\"5360\">VERB</tspan>\n",
       "</text>\n",
       "\n",
       "<text class=\"displacy-token\" fill=\"currentColor\" text-anchor=\"middle\" y=\"542.0\">\n",
       "    <tspan class=\"displacy-word\" fill=\"currentColor\" x=\"5450\">almost</tspan>\n",
       "    <tspan class=\"displacy-tag\" dy=\"2em\" fill=\"currentColor\" x=\"5450\">ADV</tspan>\n",
       "</text>\n",
       "\n",
       "<text class=\"displacy-token\" fill=\"currentColor\" text-anchor=\"middle\" y=\"542.0\">\n",
       "    <tspan class=\"displacy-word\" fill=\"currentColor\" x=\"5540\">seven-</tspan>\n",
       "    <tspan class=\"displacy-tag\" dy=\"2em\" fill=\"currentColor\" x=\"5540\">NUM</tspan>\n",
       "</text>\n",
       "\n",
       "<text class=\"displacy-token\" fill=\"currentColor\" text-anchor=\"middle\" y=\"542.0\">\n",
       "    <tspan class=\"displacy-word\" fill=\"currentColor\" x=\"5630\">fold,</tspan>\n",
       "    <tspan class=\"displacy-tag\" dy=\"2em\" fill=\"currentColor\" x=\"5630\">ADV</tspan>\n",
       "</text>\n",
       "\n",
       "<text class=\"displacy-token\" fill=\"currentColor\" text-anchor=\"middle\" y=\"542.0\">\n",
       "    <tspan class=\"displacy-word\" fill=\"currentColor\" x=\"5720\">up</tspan>\n",
       "    <tspan class=\"displacy-tag\" dy=\"2em\" fill=\"currentColor\" x=\"5720\">ADV</tspan>\n",
       "</text>\n",
       "\n",
       "<text class=\"displacy-token\" fill=\"currentColor\" text-anchor=\"middle\" y=\"542.0\">\n",
       "    <tspan class=\"displacy-word\" fill=\"currentColor\" x=\"5810\">a</tspan>\n",
       "    <tspan class=\"displacy-tag\" dy=\"2em\" fill=\"currentColor\" x=\"5810\">DET</tspan>\n",
       "</text>\n",
       "\n",
       "<text class=\"displacy-token\" fill=\"currentColor\" text-anchor=\"middle\" y=\"542.0\">\n",
       "    <tspan class=\"displacy-word\" fill=\"currentColor\" x=\"5900\">staggering</tspan>\n",
       "    <tspan class=\"displacy-tag\" dy=\"2em\" fill=\"currentColor\" x=\"5900\">ADJ</tspan>\n",
       "</text>\n",
       "\n",
       "<text class=\"displacy-token\" fill=\"currentColor\" text-anchor=\"middle\" y=\"542.0\">\n",
       "    <tspan class=\"displacy-word\" fill=\"currentColor\" x=\"5990\">$</tspan>\n",
       "    <tspan class=\"displacy-tag\" dy=\"2em\" fill=\"currentColor\" x=\"5990\">SYM</tspan>\n",
       "</text>\n",
       "\n",
       "<text class=\"displacy-token\" fill=\"currentColor\" text-anchor=\"middle\" y=\"542.0\">\n",
       "    <tspan class=\"displacy-word\" fill=\"currentColor\" x=\"6080\">163.1</tspan>\n",
       "    <tspan class=\"displacy-tag\" dy=\"2em\" fill=\"currentColor\" x=\"6080\">NUM</tspan>\n",
       "</text>\n",
       "\n",
       "<text class=\"displacy-token\" fill=\"currentColor\" text-anchor=\"middle\" y=\"542.0\">\n",
       "    <tspan class=\"displacy-word\" fill=\"currentColor\" x=\"6170\">billion.</tspan>\n",
       "    <tspan class=\"displacy-tag\" dy=\"2em\" fill=\"currentColor\" x=\"6170\">NUM</tspan>\n",
       "</text>\n",
       "\n",
       "<text class=\"displacy-token\" fill=\"currentColor\" text-anchor=\"middle\" y=\"542.0\">\n",
       "    <tspan class=\"displacy-word\" fill=\"currentColor\" x=\"6260\">\n",
       "</tspan>\n",
       "    <tspan class=\"displacy-tag\" dy=\"2em\" fill=\"currentColor\" x=\"6260\">SPACE</tspan>\n",
       "</text>\n",
       "\n",
       "<g class=\"displacy-arrow\">\n",
       "    <path class=\"displacy-arc\" id=\"arrow-7cbe018fb9f54ca8b71e6b3fcda40669-0-0\" stroke-width=\"2px\" d=\"M70,497.0 C70,2.0 5360.0,2.0 5360.0,497.0\" fill=\"none\" stroke=\"currentColor\"/>\n",
       "    <text dy=\"1.25em\" style=\"font-size: 0.8em; letter-spacing: 1px\">\n",
       "        <textPath xlink:href=\"#arrow-7cbe018fb9f54ca8b71e6b3fcda40669-0-0\" class=\"displacy-label\" startOffset=\"50%\" side=\"left\" fill=\"currentColor\" text-anchor=\"middle\">dep</textPath>\n",
       "    </text>\n",
       "    <path class=\"displacy-arrowhead\" d=\"M70,499.0 L62,487.0 78,487.0\" fill=\"currentColor\"/>\n",
       "</g>\n",
       "\n",
       "<g class=\"displacy-arrow\">\n",
       "    <path class=\"displacy-arc\" id=\"arrow-7cbe018fb9f54ca8b71e6b3fcda40669-0-1\" stroke-width=\"2px\" d=\"M160,497.0 C160,452.0 180.0,452.0 180.0,497.0\" fill=\"none\" stroke=\"currentColor\"/>\n",
       "    <text dy=\"1.25em\" style=\"font-size: 0.8em; letter-spacing: 1px\">\n",
       "        <textPath xlink:href=\"#arrow-7cbe018fb9f54ca8b71e6b3fcda40669-0-1\" class=\"displacy-label\" startOffset=\"50%\" side=\"left\" fill=\"currentColor\" text-anchor=\"middle\">compound</textPath>\n",
       "    </text>\n",
       "    <path class=\"displacy-arrowhead\" d=\"M160,499.0 L152,487.0 168,487.0\" fill=\"currentColor\"/>\n",
       "</g>\n",
       "\n",
       "<g class=\"displacy-arrow\">\n",
       "    <path class=\"displacy-arc\" id=\"arrow-7cbe018fb9f54ca8b71e6b3fcda40669-0-2\" stroke-width=\"2px\" d=\"M250,497.0 C250,137.0 935.0,137.0 935.0,497.0\" fill=\"none\" stroke=\"currentColor\"/>\n",
       "    <text dy=\"1.25em\" style=\"font-size: 0.8em; letter-spacing: 1px\">\n",
       "        <textPath xlink:href=\"#arrow-7cbe018fb9f54ca8b71e6b3fcda40669-0-2\" class=\"displacy-label\" startOffset=\"50%\" side=\"left\" fill=\"currentColor\" text-anchor=\"middle\">nsubj</textPath>\n",
       "    </text>\n",
       "    <path class=\"displacy-arrowhead\" d=\"M250,499.0 L242,487.0 258,487.0\" fill=\"currentColor\"/>\n",
       "</g>\n",
       "\n",
       "<g class=\"displacy-arrow\">\n",
       "    <path class=\"displacy-arc\" id=\"arrow-7cbe018fb9f54ca8b71e6b3fcda40669-0-3\" stroke-width=\"2px\" d=\"M340,497.0 C340,407.0 455.0,407.0 455.0,497.0\" fill=\"none\" stroke=\"currentColor\"/>\n",
       "    <text dy=\"1.25em\" style=\"font-size: 0.8em; letter-spacing: 1px\">\n",
       "        <textPath xlink:href=\"#arrow-7cbe018fb9f54ca8b71e6b3fcda40669-0-3\" class=\"displacy-label\" startOffset=\"50%\" side=\"left\" fill=\"currentColor\" text-anchor=\"middle\">det</textPath>\n",
       "    </text>\n",
       "    <path class=\"displacy-arrowhead\" d=\"M340,499.0 L332,487.0 348,487.0\" fill=\"currentColor\"/>\n",
       "</g>\n",
       "\n",
       "<g class=\"displacy-arrow\">\n",
       "    <path class=\"displacy-arc\" id=\"arrow-7cbe018fb9f54ca8b71e6b3fcda40669-0-4\" stroke-width=\"2px\" d=\"M430,497.0 C430,452.0 450.0,452.0 450.0,497.0\" fill=\"none\" stroke=\"currentColor\"/>\n",
       "    <text dy=\"1.25em\" style=\"font-size: 0.8em; letter-spacing: 1px\">\n",
       "        <textPath xlink:href=\"#arrow-7cbe018fb9f54ca8b71e6b3fcda40669-0-4\" class=\"displacy-label\" startOffset=\"50%\" side=\"left\" fill=\"currentColor\" text-anchor=\"middle\">compound</textPath>\n",
       "    </text>\n",
       "    <path class=\"displacy-arrowhead\" d=\"M430,499.0 L422,487.0 438,487.0\" fill=\"currentColor\"/>\n",
       "</g>\n",
       "\n",
       "<g class=\"displacy-arrow\">\n",
       "    <path class=\"displacy-arc\" id=\"arrow-7cbe018fb9f54ca8b71e6b3fcda40669-0-5\" stroke-width=\"2px\" d=\"M250,497.0 C250,362.0 460.0,362.0 460.0,497.0\" fill=\"none\" stroke=\"currentColor\"/>\n",
       "    <text dy=\"1.25em\" style=\"font-size: 0.8em; letter-spacing: 1px\">\n",
       "        <textPath xlink:href=\"#arrow-7cbe018fb9f54ca8b71e6b3fcda40669-0-5\" class=\"displacy-label\" startOffset=\"50%\" side=\"left\" fill=\"currentColor\" text-anchor=\"middle\">appos</textPath>\n",
       "    </text>\n",
       "    <path class=\"displacy-arrowhead\" d=\"M460.0,499.0 L468.0,487.0 452.0,487.0\" fill=\"currentColor\"/>\n",
       "</g>\n",
       "\n",
       "<g class=\"displacy-arrow\">\n",
       "    <path class=\"displacy-arc\" id=\"arrow-7cbe018fb9f54ca8b71e6b3fcda40669-0-6\" stroke-width=\"2px\" d=\"M520,497.0 C520,452.0 540.0,452.0 540.0,497.0\" fill=\"none\" stroke=\"currentColor\"/>\n",
       "    <text dy=\"1.25em\" style=\"font-size: 0.8em; letter-spacing: 1px\">\n",
       "        <textPath xlink:href=\"#arrow-7cbe018fb9f54ca8b71e6b3fcda40669-0-6\" class=\"displacy-label\" startOffset=\"50%\" side=\"left\" fill=\"currentColor\" text-anchor=\"middle\">prep</textPath>\n",
       "    </text>\n",
       "    <path class=\"displacy-arrowhead\" d=\"M540.0,499.0 L548.0,487.0 532.0,487.0\" fill=\"currentColor\"/>\n",
       "</g>\n",
       "\n",
       "<g class=\"displacy-arrow\">\n",
       "    <path class=\"displacy-arc\" id=\"arrow-7cbe018fb9f54ca8b71e6b3fcda40669-0-7\" stroke-width=\"2px\" d=\"M610,497.0 C610,452.0 630.0,452.0 630.0,497.0\" fill=\"none\" stroke=\"currentColor\"/>\n",
       "    <text dy=\"1.25em\" style=\"font-size: 0.8em; letter-spacing: 1px\">\n",
       "        <textPath xlink:href=\"#arrow-7cbe018fb9f54ca8b71e6b3fcda40669-0-7\" class=\"displacy-label\" startOffset=\"50%\" side=\"left\" fill=\"currentColor\" text-anchor=\"middle\">pobj</textPath>\n",
       "    </text>\n",
       "    <path class=\"displacy-arrowhead\" d=\"M630.0,499.0 L638.0,487.0 622.0,487.0\" fill=\"currentColor\"/>\n",
       "</g>\n",
       "\n",
       "<g class=\"displacy-arrow\">\n",
       "    <path class=\"displacy-arc\" id=\"arrow-7cbe018fb9f54ca8b71e6b3fcda40669-0-8\" stroke-width=\"2px\" d=\"M520,497.0 C520,362.0 730.0,362.0 730.0,497.0\" fill=\"none\" stroke=\"currentColor\"/>\n",
       "    <text dy=\"1.25em\" style=\"font-size: 0.8em; letter-spacing: 1px\">\n",
       "        <textPath xlink:href=\"#arrow-7cbe018fb9f54ca8b71e6b3fcda40669-0-8\" class=\"displacy-label\" startOffset=\"50%\" side=\"left\" fill=\"currentColor\" text-anchor=\"middle\">cc</textPath>\n",
       "    </text>\n",
       "    <path class=\"displacy-arrowhead\" d=\"M730.0,499.0 L738.0,487.0 722.0,487.0\" fill=\"currentColor\"/>\n",
       "</g>\n",
       "\n",
       "<g class=\"displacy-arrow\">\n",
       "    <path class=\"displacy-arc\" id=\"arrow-7cbe018fb9f54ca8b71e6b3fcda40669-0-9\" stroke-width=\"2px\" d=\"M520,497.0 C520,317.0 825.0,317.0 825.0,497.0\" fill=\"none\" stroke=\"currentColor\"/>\n",
       "    <text dy=\"1.25em\" style=\"font-size: 0.8em; letter-spacing: 1px\">\n",
       "        <textPath xlink:href=\"#arrow-7cbe018fb9f54ca8b71e6b3fcda40669-0-9\" class=\"displacy-label\" startOffset=\"50%\" side=\"left\" fill=\"currentColor\" text-anchor=\"middle\">conj</textPath>\n",
       "    </text>\n",
       "    <path class=\"displacy-arrowhead\" d=\"M825.0,499.0 L833.0,487.0 817.0,487.0\" fill=\"currentColor\"/>\n",
       "</g>\n",
       "\n",
       "<g class=\"displacy-arrow\">\n",
       "    <path class=\"displacy-arc\" id=\"arrow-7cbe018fb9f54ca8b71e6b3fcda40669-0-10\" stroke-width=\"2px\" d=\"M970,497.0 C970,47.0 5355.0,47.0 5355.0,497.0\" fill=\"none\" stroke=\"currentColor\"/>\n",
       "    <text dy=\"1.25em\" style=\"font-size: 0.8em; letter-spacing: 1px\">\n",
       "        <textPath xlink:href=\"#arrow-7cbe018fb9f54ca8b71e6b3fcda40669-0-10\" class=\"displacy-label\" startOffset=\"50%\" side=\"left\" fill=\"currentColor\" text-anchor=\"middle\">ccomp</textPath>\n",
       "    </text>\n",
       "    <path class=\"displacy-arrowhead\" d=\"M970,499.0 L962,487.0 978,487.0\" fill=\"currentColor\"/>\n",
       "</g>\n",
       "\n",
       "<g class=\"displacy-arrow\">\n",
       "    <path class=\"displacy-arc\" id=\"arrow-7cbe018fb9f54ca8b71e6b3fcda40669-0-11\" stroke-width=\"2px\" d=\"M970,497.0 C970,452.0 990.0,452.0 990.0,497.0\" fill=\"none\" stroke=\"currentColor\"/>\n",
       "    <text dy=\"1.25em\" style=\"font-size: 0.8em; letter-spacing: 1px\">\n",
       "        <textPath xlink:href=\"#arrow-7cbe018fb9f54ca8b71e6b3fcda40669-0-11\" class=\"displacy-label\" startOffset=\"50%\" side=\"left\" fill=\"currentColor\" text-anchor=\"middle\">advmod</textPath>\n",
       "    </text>\n",
       "    <path class=\"displacy-arrowhead\" d=\"M990.0,499.0 L998.0,487.0 982.0,487.0\" fill=\"currentColor\"/>\n",
       "</g>\n",
       "\n",
       "<g class=\"displacy-arrow\">\n",
       "    <path class=\"displacy-arc\" id=\"arrow-7cbe018fb9f54ca8b71e6b3fcda40669-0-12\" stroke-width=\"2px\" d=\"M1150,497.0 C1150,407.0 1265.0,407.0 1265.0,497.0\" fill=\"none\" stroke=\"currentColor\"/>\n",
       "    <text dy=\"1.25em\" style=\"font-size: 0.8em; letter-spacing: 1px\">\n",
       "        <textPath xlink:href=\"#arrow-7cbe018fb9f54ca8b71e6b3fcda40669-0-12\" class=\"displacy-label\" startOffset=\"50%\" side=\"left\" fill=\"currentColor\" text-anchor=\"middle\">det</textPath>\n",
       "    </text>\n",
       "    <path class=\"displacy-arrowhead\" d=\"M1150,499.0 L1142,487.0 1158,487.0\" fill=\"currentColor\"/>\n",
       "</g>\n",
       "\n",
       "<g class=\"displacy-arrow\">\n",
       "    <path class=\"displacy-arc\" id=\"arrow-7cbe018fb9f54ca8b71e6b3fcda40669-0-13\" stroke-width=\"2px\" d=\"M1240,497.0 C1240,452.0 1260.0,452.0 1260.0,497.0\" fill=\"none\" stroke=\"currentColor\"/>\n",
       "    <text dy=\"1.25em\" style=\"font-size: 0.8em; letter-spacing: 1px\">\n",
       "        <textPath xlink:href=\"#arrow-7cbe018fb9f54ca8b71e6b3fcda40669-0-13\" class=\"displacy-label\" startOffset=\"50%\" side=\"left\" fill=\"currentColor\" text-anchor=\"middle\">amod</textPath>\n",
       "    </text>\n",
       "    <path class=\"displacy-arrowhead\" d=\"M1240,499.0 L1232,487.0 1248,487.0\" fill=\"currentColor\"/>\n",
       "</g>\n",
       "\n",
       "<g class=\"displacy-arrow\">\n",
       "    <path class=\"displacy-arc\" id=\"arrow-7cbe018fb9f54ca8b71e6b3fcda40669-0-14\" stroke-width=\"2px\" d=\"M970,497.0 C970,317.0 1275.0,317.0 1275.0,497.0\" fill=\"none\" stroke=\"currentColor\"/>\n",
       "    <text dy=\"1.25em\" style=\"font-size: 0.8em; letter-spacing: 1px\">\n",
       "        <textPath xlink:href=\"#arrow-7cbe018fb9f54ca8b71e6b3fcda40669-0-14\" class=\"displacy-label\" startOffset=\"50%\" side=\"left\" fill=\"currentColor\" text-anchor=\"middle\">attr</textPath>\n",
       "    </text>\n",
       "    <path class=\"displacy-arrowhead\" d=\"M1275.0,499.0 L1283.0,487.0 1267.0,487.0\" fill=\"currentColor\"/>\n",
       "</g>\n",
       "\n",
       "<g class=\"displacy-arrow\">\n",
       "    <path class=\"displacy-arc\" id=\"arrow-7cbe018fb9f54ca8b71e6b3fcda40669-0-15\" stroke-width=\"2px\" d=\"M1330,497.0 C1330,452.0 1350.0,452.0 1350.0,497.0\" fill=\"none\" stroke=\"currentColor\"/>\n",
       "    <text dy=\"1.25em\" style=\"font-size: 0.8em; letter-spacing: 1px\">\n",
       "        <textPath xlink:href=\"#arrow-7cbe018fb9f54ca8b71e6b3fcda40669-0-15\" class=\"displacy-label\" startOffset=\"50%\" side=\"left\" fill=\"currentColor\" text-anchor=\"middle\">prep</textPath>\n",
       "    </text>\n",
       "    <path class=\"displacy-arrowhead\" d=\"M1350.0,499.0 L1358.0,487.0 1342.0,487.0\" fill=\"currentColor\"/>\n",
       "</g>\n",
       "\n",
       "<g class=\"displacy-arrow\">\n",
       "    <path class=\"displacy-arc\" id=\"arrow-7cbe018fb9f54ca8b71e6b3fcda40669-0-16\" stroke-width=\"2px\" d=\"M1510,497.0 C1510,452.0 1530.0,452.0 1530.0,497.0\" fill=\"none\" stroke=\"currentColor\"/>\n",
       "    <text dy=\"1.25em\" style=\"font-size: 0.8em; letter-spacing: 1px\">\n",
       "        <textPath xlink:href=\"#arrow-7cbe018fb9f54ca8b71e6b3fcda40669-0-16\" class=\"displacy-label\" startOffset=\"50%\" side=\"left\" fill=\"currentColor\" text-anchor=\"middle\">det</textPath>\n",
       "    </text>\n",
       "    <path class=\"displacy-arrowhead\" d=\"M1510,499.0 L1502,487.0 1518,487.0\" fill=\"currentColor\"/>\n",
       "</g>\n",
       "\n",
       "<g class=\"displacy-arrow\">\n",
       "    <path class=\"displacy-arc\" id=\"arrow-7cbe018fb9f54ca8b71e6b3fcda40669-0-17\" stroke-width=\"2px\" d=\"M1420,497.0 C1420,407.0 1535.0,407.0 1535.0,497.0\" fill=\"none\" stroke=\"currentColor\"/>\n",
       "    <text dy=\"1.25em\" style=\"font-size: 0.8em; letter-spacing: 1px\">\n",
       "        <textPath xlink:href=\"#arrow-7cbe018fb9f54ca8b71e6b3fcda40669-0-17\" class=\"displacy-label\" startOffset=\"50%\" side=\"left\" fill=\"currentColor\" text-anchor=\"middle\">pobj</textPath>\n",
       "    </text>\n",
       "    <path class=\"displacy-arrowhead\" d=\"M1535.0,499.0 L1543.0,487.0 1527.0,487.0\" fill=\"currentColor\"/>\n",
       "</g>\n",
       "\n",
       "<g class=\"displacy-arrow\">\n",
       "    <path class=\"displacy-arc\" id=\"arrow-7cbe018fb9f54ca8b71e6b3fcda40669-0-18\" stroke-width=\"2px\" d=\"M970,497.0 C970,137.0 1655.0,137.0 1655.0,497.0\" fill=\"none\" stroke=\"currentColor\"/>\n",
       "    <text dy=\"1.25em\" style=\"font-size: 0.8em; letter-spacing: 1px\">\n",
       "        <textPath xlink:href=\"#arrow-7cbe018fb9f54ca8b71e6b3fcda40669-0-18\" class=\"displacy-label\" startOffset=\"50%\" side=\"left\" fill=\"currentColor\" text-anchor=\"middle\">advcl</textPath>\n",
       "    </text>\n",
       "    <path class=\"displacy-arrowhead\" d=\"M1655.0,499.0 L1663.0,487.0 1647.0,487.0\" fill=\"currentColor\"/>\n",
       "</g>\n",
       "\n",
       "<g class=\"displacy-arrow\">\n",
       "    <path class=\"displacy-arc\" id=\"arrow-7cbe018fb9f54ca8b71e6b3fcda40669-0-19\" stroke-width=\"2px\" d=\"M1780,497.0 C1780,452.0 1800.0,452.0 1800.0,497.0\" fill=\"none\" stroke=\"currentColor\"/>\n",
       "    <text dy=\"1.25em\" style=\"font-size: 0.8em; letter-spacing: 1px\">\n",
       "        <textPath xlink:href=\"#arrow-7cbe018fb9f54ca8b71e6b3fcda40669-0-19\" class=\"displacy-label\" startOffset=\"50%\" side=\"left\" fill=\"currentColor\" text-anchor=\"middle\">amod</textPath>\n",
       "    </text>\n",
       "    <path class=\"displacy-arrowhead\" d=\"M1780,499.0 L1772,487.0 1788,487.0\" fill=\"currentColor\"/>\n",
       "</g>\n",
       "\n",
       "<g class=\"displacy-arrow\">\n",
       "    <path class=\"displacy-arc\" id=\"arrow-7cbe018fb9f54ca8b71e6b3fcda40669-0-20\" stroke-width=\"2px\" d=\"M1690,497.0 C1690,407.0 1805.0,407.0 1805.0,497.0\" fill=\"none\" stroke=\"currentColor\"/>\n",
       "    <text dy=\"1.25em\" style=\"font-size: 0.8em; letter-spacing: 1px\">\n",
       "        <textPath xlink:href=\"#arrow-7cbe018fb9f54ca8b71e6b3fcda40669-0-20\" class=\"displacy-label\" startOffset=\"50%\" side=\"left\" fill=\"currentColor\" text-anchor=\"middle\">dobj</textPath>\n",
       "    </text>\n",
       "    <path class=\"displacy-arrowhead\" d=\"M1805.0,499.0 L1813.0,487.0 1797.0,487.0\" fill=\"currentColor\"/>\n",
       "</g>\n",
       "\n",
       "<g class=\"displacy-arrow\">\n",
       "    <path class=\"displacy-arc\" id=\"arrow-7cbe018fb9f54ca8b71e6b3fcda40669-0-21\" stroke-width=\"2px\" d=\"M1870,497.0 C1870,452.0 1890.0,452.0 1890.0,497.0\" fill=\"none\" stroke=\"currentColor\"/>\n",
       "    <text dy=\"1.25em\" style=\"font-size: 0.8em; letter-spacing: 1px\">\n",
       "        <textPath xlink:href=\"#arrow-7cbe018fb9f54ca8b71e6b3fcda40669-0-21\" class=\"displacy-label\" startOffset=\"50%\" side=\"left\" fill=\"currentColor\" text-anchor=\"middle\">cc</textPath>\n",
       "    </text>\n",
       "    <path class=\"displacy-arrowhead\" d=\"M1890.0,499.0 L1898.0,487.0 1882.0,487.0\" fill=\"currentColor\"/>\n",
       "</g>\n",
       "\n",
       "<g class=\"displacy-arrow\">\n",
       "    <path class=\"displacy-arc\" id=\"arrow-7cbe018fb9f54ca8b71e6b3fcda40669-0-22\" stroke-width=\"2px\" d=\"M2050,497.0 C2050,452.0 2070.0,452.0 2070.0,497.0\" fill=\"none\" stroke=\"currentColor\"/>\n",
       "    <text dy=\"1.25em\" style=\"font-size: 0.8em; letter-spacing: 1px\">\n",
       "        <textPath xlink:href=\"#arrow-7cbe018fb9f54ca8b71e6b3fcda40669-0-22\" class=\"displacy-label\" startOffset=\"50%\" side=\"left\" fill=\"currentColor\" text-anchor=\"middle\">compound</textPath>\n",
       "    </text>\n",
       "    <path class=\"displacy-arrowhead\" d=\"M2050,499.0 L2042,487.0 2058,487.0\" fill=\"currentColor\"/>\n",
       "</g>\n",
       "\n",
       "<g class=\"displacy-arrow\">\n",
       "    <path class=\"displacy-arc\" id=\"arrow-7cbe018fb9f54ca8b71e6b3fcda40669-0-23\" stroke-width=\"2px\" d=\"M2140,497.0 C2140,407.0 2255.0,407.0 2255.0,497.0\" fill=\"none\" stroke=\"currentColor\"/>\n",
       "    <text dy=\"1.25em\" style=\"font-size: 0.8em; letter-spacing: 1px\">\n",
       "        <textPath xlink:href=\"#arrow-7cbe018fb9f54ca8b71e6b3fcda40669-0-23\" class=\"displacy-label\" startOffset=\"50%\" side=\"left\" fill=\"currentColor\" text-anchor=\"middle\">compound</textPath>\n",
       "    </text>\n",
       "    <path class=\"displacy-arrowhead\" d=\"M2140,499.0 L2132,487.0 2148,487.0\" fill=\"currentColor\"/>\n",
       "</g>\n",
       "\n",
       "<g class=\"displacy-arrow\">\n",
       "    <path class=\"displacy-arc\" id=\"arrow-7cbe018fb9f54ca8b71e6b3fcda40669-0-24\" stroke-width=\"2px\" d=\"M2230,497.0 C2230,452.0 2250.0,452.0 2250.0,497.0\" fill=\"none\" stroke=\"currentColor\"/>\n",
       "    <text dy=\"1.25em\" style=\"font-size: 0.8em; letter-spacing: 1px\">\n",
       "        <textPath xlink:href=\"#arrow-7cbe018fb9f54ca8b71e6b3fcda40669-0-24\" class=\"displacy-label\" startOffset=\"50%\" side=\"left\" fill=\"currentColor\" text-anchor=\"middle\">compound</textPath>\n",
       "    </text>\n",
       "    <path class=\"displacy-arrowhead\" d=\"M2230,499.0 L2222,487.0 2238,487.0\" fill=\"currentColor\"/>\n",
       "</g>\n",
       "\n",
       "<g class=\"displacy-arrow\">\n",
       "    <path class=\"displacy-arc\" id=\"arrow-7cbe018fb9f54ca8b71e6b3fcda40669-0-25\" stroke-width=\"2px\" d=\"M1870,497.0 C1870,272.0 2270.0,272.0 2270.0,497.0\" fill=\"none\" stroke=\"currentColor\"/>\n",
       "    <text dy=\"1.25em\" style=\"font-size: 0.8em; letter-spacing: 1px\">\n",
       "        <textPath xlink:href=\"#arrow-7cbe018fb9f54ca8b71e6b3fcda40669-0-25\" class=\"displacy-label\" startOffset=\"50%\" side=\"left\" fill=\"currentColor\" text-anchor=\"middle\">conj</textPath>\n",
       "    </text>\n",
       "    <path class=\"displacy-arrowhead\" d=\"M2270.0,499.0 L2278.0,487.0 2262.0,487.0\" fill=\"currentColor\"/>\n",
       "</g>\n",
       "\n",
       "<g class=\"displacy-arrow\">\n",
       "    <path class=\"displacy-arc\" id=\"arrow-7cbe018fb9f54ca8b71e6b3fcda40669-0-26\" stroke-width=\"2px\" d=\"M1690,497.0 C1690,137.0 2375.0,137.0 2375.0,497.0\" fill=\"none\" stroke=\"currentColor\"/>\n",
       "    <text dy=\"1.25em\" style=\"font-size: 0.8em; letter-spacing: 1px\">\n",
       "        <textPath xlink:href=\"#arrow-7cbe018fb9f54ca8b71e6b3fcda40669-0-26\" class=\"displacy-label\" startOffset=\"50%\" side=\"left\" fill=\"currentColor\" text-anchor=\"middle\">prep</textPath>\n",
       "    </text>\n",
       "    <path class=\"displacy-arrowhead\" d=\"M2375.0,499.0 L2383.0,487.0 2367.0,487.0\" fill=\"currentColor\"/>\n",
       "</g>\n",
       "\n",
       "<g class=\"displacy-arrow\">\n",
       "    <path class=\"displacy-arc\" id=\"arrow-7cbe018fb9f54ca8b71e6b3fcda40669-0-27\" stroke-width=\"2px\" d=\"M2500,497.0 C2500,407.0 2615.0,407.0 2615.0,497.0\" fill=\"none\" stroke=\"currentColor\"/>\n",
       "    <text dy=\"1.25em\" style=\"font-size: 0.8em; letter-spacing: 1px\">\n",
       "        <textPath xlink:href=\"#arrow-7cbe018fb9f54ca8b71e6b3fcda40669-0-27\" class=\"displacy-label\" startOffset=\"50%\" side=\"left\" fill=\"currentColor\" text-anchor=\"middle\">det</textPath>\n",
       "    </text>\n",
       "    <path class=\"displacy-arrowhead\" d=\"M2500,499.0 L2492,487.0 2508,487.0\" fill=\"currentColor\"/>\n",
       "</g>\n",
       "\n",
       "<g class=\"displacy-arrow\">\n",
       "    <path class=\"displacy-arc\" id=\"arrow-7cbe018fb9f54ca8b71e6b3fcda40669-0-28\" stroke-width=\"2px\" d=\"M2590,497.0 C2590,452.0 2610.0,452.0 2610.0,497.0\" fill=\"none\" stroke=\"currentColor\"/>\n",
       "    <text dy=\"1.25em\" style=\"font-size: 0.8em; letter-spacing: 1px\">\n",
       "        <textPath xlink:href=\"#arrow-7cbe018fb9f54ca8b71e6b3fcda40669-0-28\" class=\"displacy-label\" startOffset=\"50%\" side=\"left\" fill=\"currentColor\" text-anchor=\"middle\">amod</textPath>\n",
       "    </text>\n",
       "    <path class=\"displacy-arrowhead\" d=\"M2590,499.0 L2582,487.0 2598,487.0\" fill=\"currentColor\"/>\n",
       "</g>\n",
       "\n",
       "<g class=\"displacy-arrow\">\n",
       "    <path class=\"displacy-arc\" id=\"arrow-7cbe018fb9f54ca8b71e6b3fcda40669-0-29\" stroke-width=\"2px\" d=\"M2410,497.0 C2410,362.0 2620.0,362.0 2620.0,497.0\" fill=\"none\" stroke=\"currentColor\"/>\n",
       "    <text dy=\"1.25em\" style=\"font-size: 0.8em; letter-spacing: 1px\">\n",
       "        <textPath xlink:href=\"#arrow-7cbe018fb9f54ca8b71e6b3fcda40669-0-29\" class=\"displacy-label\" startOffset=\"50%\" side=\"left\" fill=\"currentColor\" text-anchor=\"middle\">pobj</textPath>\n",
       "    </text>\n",
       "    <path class=\"displacy-arrowhead\" d=\"M2620.0,499.0 L2628.0,487.0 2612.0,487.0\" fill=\"currentColor\"/>\n",
       "</g>\n",
       "\n",
       "<g class=\"displacy-arrow\">\n",
       "    <path class=\"displacy-arc\" id=\"arrow-7cbe018fb9f54ca8b71e6b3fcda40669-0-30\" stroke-width=\"2px\" d=\"M2680,497.0 C2680,452.0 2700.0,452.0 2700.0,497.0\" fill=\"none\" stroke=\"currentColor\"/>\n",
       "    <text dy=\"1.25em\" style=\"font-size: 0.8em; letter-spacing: 1px\">\n",
       "        <textPath xlink:href=\"#arrow-7cbe018fb9f54ca8b71e6b3fcda40669-0-30\" class=\"displacy-label\" startOffset=\"50%\" side=\"left\" fill=\"currentColor\" text-anchor=\"middle\">prep</textPath>\n",
       "    </text>\n",
       "    <path class=\"displacy-arrowhead\" d=\"M2700.0,499.0 L2708.0,487.0 2692.0,487.0\" fill=\"currentColor\"/>\n",
       "</g>\n",
       "\n",
       "<g class=\"displacy-arrow\">\n",
       "    <path class=\"displacy-arc\" id=\"arrow-7cbe018fb9f54ca8b71e6b3fcda40669-0-31\" stroke-width=\"2px\" d=\"M2860,497.0 C2860,407.0 2975.0,407.0 2975.0,497.0\" fill=\"none\" stroke=\"currentColor\"/>\n",
       "    <text dy=\"1.25em\" style=\"font-size: 0.8em; letter-spacing: 1px\">\n",
       "        <textPath xlink:href=\"#arrow-7cbe018fb9f54ca8b71e6b3fcda40669-0-31\" class=\"displacy-label\" startOffset=\"50%\" side=\"left\" fill=\"currentColor\" text-anchor=\"middle\">quantmod</textPath>\n",
       "    </text>\n",
       "    <path class=\"displacy-arrowhead\" d=\"M2860,499.0 L2852,487.0 2868,487.0\" fill=\"currentColor\"/>\n",
       "</g>\n",
       "\n",
       "<g class=\"displacy-arrow\">\n",
       "    <path class=\"displacy-arc\" id=\"arrow-7cbe018fb9f54ca8b71e6b3fcda40669-0-32\" stroke-width=\"2px\" d=\"M2950,497.0 C2950,452.0 2970.0,452.0 2970.0,497.0\" fill=\"none\" stroke=\"currentColor\"/>\n",
       "    <text dy=\"1.25em\" style=\"font-size: 0.8em; letter-spacing: 1px\">\n",
       "        <textPath xlink:href=\"#arrow-7cbe018fb9f54ca8b71e6b3fcda40669-0-32\" class=\"displacy-label\" startOffset=\"50%\" side=\"left\" fill=\"currentColor\" text-anchor=\"middle\">compound</textPath>\n",
       "    </text>\n",
       "    <path class=\"displacy-arrowhead\" d=\"M2950,499.0 L2942,487.0 2958,487.0\" fill=\"currentColor\"/>\n",
       "</g>\n",
       "\n",
       "<g class=\"displacy-arrow\">\n",
       "    <path class=\"displacy-arc\" id=\"arrow-7cbe018fb9f54ca8b71e6b3fcda40669-0-33\" stroke-width=\"2px\" d=\"M2770,497.0 C2770,362.0 2980.0,362.0 2980.0,497.0\" fill=\"none\" stroke=\"currentColor\"/>\n",
       "    <text dy=\"1.25em\" style=\"font-size: 0.8em; letter-spacing: 1px\">\n",
       "        <textPath xlink:href=\"#arrow-7cbe018fb9f54ca8b71e6b3fcda40669-0-33\" class=\"displacy-label\" startOffset=\"50%\" side=\"left\" fill=\"currentColor\" text-anchor=\"middle\">pobj</textPath>\n",
       "    </text>\n",
       "    <path class=\"displacy-arrowhead\" d=\"M2980.0,499.0 L2988.0,487.0 2972.0,487.0\" fill=\"currentColor\"/>\n",
       "</g>\n",
       "\n",
       "<g class=\"displacy-arrow\">\n",
       "    <path class=\"displacy-arc\" id=\"arrow-7cbe018fb9f54ca8b71e6b3fcda40669-0-34\" stroke-width=\"2px\" d=\"M970,497.0 C970,92.0 3100.0,92.0 3100.0,497.0\" fill=\"none\" stroke=\"currentColor\"/>\n",
       "    <text dy=\"1.25em\" style=\"font-size: 0.8em; letter-spacing: 1px\">\n",
       "        <textPath xlink:href=\"#arrow-7cbe018fb9f54ca8b71e6b3fcda40669-0-34\" class=\"displacy-label\" startOffset=\"50%\" side=\"left\" fill=\"currentColor\" text-anchor=\"middle\">prep</textPath>\n",
       "    </text>\n",
       "    <path class=\"displacy-arrowhead\" d=\"M3100.0,499.0 L3108.0,487.0 3092.0,487.0\" fill=\"currentColor\"/>\n",
       "</g>\n",
       "\n",
       "<g class=\"displacy-arrow\">\n",
       "    <path class=\"displacy-arc\" id=\"arrow-7cbe018fb9f54ca8b71e6b3fcda40669-0-35\" stroke-width=\"2px\" d=\"M3130,497.0 C3130,452.0 3150.0,452.0 3150.0,497.0\" fill=\"none\" stroke=\"currentColor\"/>\n",
       "    <text dy=\"1.25em\" style=\"font-size: 0.8em; letter-spacing: 1px\">\n",
       "        <textPath xlink:href=\"#arrow-7cbe018fb9f54ca8b71e6b3fcda40669-0-35\" class=\"displacy-label\" startOffset=\"50%\" side=\"left\" fill=\"currentColor\" text-anchor=\"middle\">prep</textPath>\n",
       "    </text>\n",
       "    <path class=\"displacy-arrowhead\" d=\"M3150.0,499.0 L3158.0,487.0 3142.0,487.0\" fill=\"currentColor\"/>\n",
       "</g>\n",
       "\n",
       "<g class=\"displacy-arrow\">\n",
       "    <path class=\"displacy-arc\" id=\"arrow-7cbe018fb9f54ca8b71e6b3fcda40669-0-36\" stroke-width=\"2px\" d=\"M3310,497.0 C3310,182.0 3900.0,182.0 3900.0,497.0\" fill=\"none\" stroke=\"currentColor\"/>\n",
       "    <text dy=\"1.25em\" style=\"font-size: 0.8em; letter-spacing: 1px\">\n",
       "        <textPath xlink:href=\"#arrow-7cbe018fb9f54ca8b71e6b3fcda40669-0-36\" class=\"displacy-label\" startOffset=\"50%\" side=\"left\" fill=\"currentColor\" text-anchor=\"middle\">poss</textPath>\n",
       "    </text>\n",
       "    <path class=\"displacy-arrowhead\" d=\"M3310,499.0 L3302,487.0 3318,487.0\" fill=\"currentColor\"/>\n",
       "</g>\n",
       "\n",
       "<g class=\"displacy-arrow\">\n",
       "    <path class=\"displacy-arc\" id=\"arrow-7cbe018fb9f54ca8b71e6b3fcda40669-0-37\" stroke-width=\"2px\" d=\"M3310,497.0 C3310,452.0 3330.0,452.0 3330.0,497.0\" fill=\"none\" stroke=\"currentColor\"/>\n",
       "    <text dy=\"1.25em\" style=\"font-size: 0.8em; letter-spacing: 1px\">\n",
       "        <textPath xlink:href=\"#arrow-7cbe018fb9f54ca8b71e6b3fcda40669-0-37\" class=\"displacy-label\" startOffset=\"50%\" side=\"left\" fill=\"currentColor\" text-anchor=\"middle\">case</textPath>\n",
       "    </text>\n",
       "    <path class=\"displacy-arrowhead\" d=\"M3330.0,499.0 L3338.0,487.0 3322.0,487.0\" fill=\"currentColor\"/>\n",
       "</g>\n",
       "\n",
       "<g class=\"displacy-arrow\">\n",
       "    <path class=\"displacy-arc\" id=\"arrow-7cbe018fb9f54ca8b71e6b3fcda40669-0-38\" stroke-width=\"2px\" d=\"M3490,497.0 C3490,452.0 3510.0,452.0 3510.0,497.0\" fill=\"none\" stroke=\"currentColor\"/>\n",
       "    <text dy=\"1.25em\" style=\"font-size: 0.8em; letter-spacing: 1px\">\n",
       "        <textPath xlink:href=\"#arrow-7cbe018fb9f54ca8b71e6b3fcda40669-0-38\" class=\"displacy-label\" startOffset=\"50%\" side=\"left\" fill=\"currentColor\" text-anchor=\"middle\">amod</textPath>\n",
       "    </text>\n",
       "    <path class=\"displacy-arrowhead\" d=\"M3490,499.0 L3482,487.0 3498,487.0\" fill=\"currentColor\"/>\n",
       "</g>\n",
       "\n",
       "<g class=\"displacy-arrow\">\n",
       "    <path class=\"displacy-arc\" id=\"arrow-7cbe018fb9f54ca8b71e6b3fcda40669-0-39\" stroke-width=\"2px\" d=\"M3580,497.0 C3580,362.0 3790.0,362.0 3790.0,497.0\" fill=\"none\" stroke=\"currentColor\"/>\n",
       "    <text dy=\"1.25em\" style=\"font-size: 0.8em; letter-spacing: 1px\">\n",
       "        <textPath xlink:href=\"#arrow-7cbe018fb9f54ca8b71e6b3fcda40669-0-39\" class=\"displacy-label\" startOffset=\"50%\" side=\"left\" fill=\"currentColor\" text-anchor=\"middle\">compound</textPath>\n",
       "    </text>\n",
       "    <path class=\"displacy-arrowhead\" d=\"M3580,499.0 L3572,487.0 3588,487.0\" fill=\"currentColor\"/>\n",
       "</g>\n",
       "\n",
       "<g class=\"displacy-arrow\">\n",
       "    <path class=\"displacy-arc\" id=\"arrow-7cbe018fb9f54ca8b71e6b3fcda40669-0-40\" stroke-width=\"2px\" d=\"M3670,497.0 C3670,407.0 3785.0,407.0 3785.0,497.0\" fill=\"none\" stroke=\"currentColor\"/>\n",
       "    <text dy=\"1.25em\" style=\"font-size: 0.8em; letter-spacing: 1px\">\n",
       "        <textPath xlink:href=\"#arrow-7cbe018fb9f54ca8b71e6b3fcda40669-0-40\" class=\"displacy-label\" startOffset=\"50%\" side=\"left\" fill=\"currentColor\" text-anchor=\"middle\">compound</textPath>\n",
       "    </text>\n",
       "    <path class=\"displacy-arrowhead\" d=\"M3670,499.0 L3662,487.0 3678,487.0\" fill=\"currentColor\"/>\n",
       "</g>\n",
       "\n",
       "<g class=\"displacy-arrow\">\n",
       "    <path class=\"displacy-arc\" id=\"arrow-7cbe018fb9f54ca8b71e6b3fcda40669-0-41\" stroke-width=\"2px\" d=\"M3760,497.0 C3760,452.0 3780.0,452.0 3780.0,497.0\" fill=\"none\" stroke=\"currentColor\"/>\n",
       "    <text dy=\"1.25em\" style=\"font-size: 0.8em; letter-spacing: 1px\">\n",
       "        <textPath xlink:href=\"#arrow-7cbe018fb9f54ca8b71e6b3fcda40669-0-41\" class=\"displacy-label\" startOffset=\"50%\" side=\"left\" fill=\"currentColor\" text-anchor=\"middle\">amod</textPath>\n",
       "    </text>\n",
       "    <path class=\"displacy-arrowhead\" d=\"M3760,499.0 L3752,487.0 3768,487.0\" fill=\"currentColor\"/>\n",
       "</g>\n",
       "\n",
       "<g class=\"displacy-arrow\">\n",
       "    <path class=\"displacy-arc\" id=\"arrow-7cbe018fb9f54ca8b71e6b3fcda40669-0-42\" stroke-width=\"2px\" d=\"M3850,497.0 C3850,452.0 3870.0,452.0 3870.0,497.0\" fill=\"none\" stroke=\"currentColor\"/>\n",
       "    <text dy=\"1.25em\" style=\"font-size: 0.8em; letter-spacing: 1px\">\n",
       "        <textPath xlink:href=\"#arrow-7cbe018fb9f54ca8b71e6b3fcda40669-0-42\" class=\"displacy-label\" startOffset=\"50%\" side=\"left\" fill=\"currentColor\" text-anchor=\"middle\">amod</textPath>\n",
       "    </text>\n",
       "    <path class=\"displacy-arrowhead\" d=\"M3850,499.0 L3842,487.0 3858,487.0\" fill=\"currentColor\"/>\n",
       "</g>\n",
       "\n",
       "<g class=\"displacy-arrow\">\n",
       "    <path class=\"displacy-arc\" id=\"arrow-7cbe018fb9f54ca8b71e6b3fcda40669-0-43\" stroke-width=\"2px\" d=\"M3220,497.0 C3220,137.0 3905.0,137.0 3905.0,497.0\" fill=\"none\" stroke=\"currentColor\"/>\n",
       "    <text dy=\"1.25em\" style=\"font-size: 0.8em; letter-spacing: 1px\">\n",
       "        <textPath xlink:href=\"#arrow-7cbe018fb9f54ca8b71e6b3fcda40669-0-43\" class=\"displacy-label\" startOffset=\"50%\" side=\"left\" fill=\"currentColor\" text-anchor=\"middle\">pobj</textPath>\n",
       "    </text>\n",
       "    <path class=\"displacy-arrowhead\" d=\"M3905.0,499.0 L3913.0,487.0 3897.0,487.0\" fill=\"currentColor\"/>\n",
       "</g>\n",
       "\n",
       "<g class=\"displacy-arrow\">\n",
       "    <path class=\"displacy-arc\" id=\"arrow-7cbe018fb9f54ca8b71e6b3fcda40669-0-44\" stroke-width=\"2px\" d=\"M3940,497.0 C3940,452.0 3960.0,452.0 3960.0,497.0\" fill=\"none\" stroke=\"currentColor\"/>\n",
       "    <text dy=\"1.25em\" style=\"font-size: 0.8em; letter-spacing: 1px\">\n",
       "        <textPath xlink:href=\"#arrow-7cbe018fb9f54ca8b71e6b3fcda40669-0-44\" class=\"displacy-label\" startOffset=\"50%\" side=\"left\" fill=\"currentColor\" text-anchor=\"middle\">prep</textPath>\n",
       "    </text>\n",
       "    <path class=\"displacy-arrowhead\" d=\"M3960.0,499.0 L3968.0,487.0 3952.0,487.0\" fill=\"currentColor\"/>\n",
       "</g>\n",
       "\n",
       "<g class=\"displacy-arrow\">\n",
       "    <path class=\"displacy-arc\" id=\"arrow-7cbe018fb9f54ca8b71e6b3fcda40669-0-45\" stroke-width=\"2px\" d=\"M4030,497.0 C4030,452.0 4050.0,452.0 4050.0,497.0\" fill=\"none\" stroke=\"currentColor\"/>\n",
       "    <text dy=\"1.25em\" style=\"font-size: 0.8em; letter-spacing: 1px\">\n",
       "        <textPath xlink:href=\"#arrow-7cbe018fb9f54ca8b71e6b3fcda40669-0-45\" class=\"displacy-label\" startOffset=\"50%\" side=\"left\" fill=\"currentColor\" text-anchor=\"middle\">pobj</textPath>\n",
       "    </text>\n",
       "    <path class=\"displacy-arrowhead\" d=\"M4050.0,499.0 L4058.0,487.0 4042.0,487.0\" fill=\"currentColor\"/>\n",
       "</g>\n",
       "\n",
       "<g class=\"displacy-arrow\">\n",
       "    <path class=\"displacy-arc\" id=\"arrow-7cbe018fb9f54ca8b71e6b3fcda40669-0-46\" stroke-width=\"2px\" d=\"M4120,497.0 C4120,452.0 4140.0,452.0 4140.0,497.0\" fill=\"none\" stroke=\"currentColor\"/>\n",
       "    <text dy=\"1.25em\" style=\"font-size: 0.8em; letter-spacing: 1px\">\n",
       "        <textPath xlink:href=\"#arrow-7cbe018fb9f54ca8b71e6b3fcda40669-0-46\" class=\"displacy-label\" startOffset=\"50%\" side=\"left\" fill=\"currentColor\" text-anchor=\"middle\">nummod</textPath>\n",
       "    </text>\n",
       "    <path class=\"displacy-arrowhead\" d=\"M4140.0,499.0 L4148.0,487.0 4132.0,487.0\" fill=\"currentColor\"/>\n",
       "</g>\n",
       "\n",
       "<g class=\"displacy-arrow\">\n",
       "    <path class=\"displacy-arc\" id=\"arrow-7cbe018fb9f54ca8b71e6b3fcda40669-0-47\" stroke-width=\"2px\" d=\"M4120,497.0 C4120,407.0 4235.0,407.0 4235.0,497.0\" fill=\"none\" stroke=\"currentColor\"/>\n",
       "    <text dy=\"1.25em\" style=\"font-size: 0.8em; letter-spacing: 1px\">\n",
       "        <textPath xlink:href=\"#arrow-7cbe018fb9f54ca8b71e6b3fcda40669-0-47\" class=\"displacy-label\" startOffset=\"50%\" side=\"left\" fill=\"currentColor\" text-anchor=\"middle\">nummod</textPath>\n",
       "    </text>\n",
       "    <path class=\"displacy-arrowhead\" d=\"M4235.0,499.0 L4243.0,487.0 4227.0,487.0\" fill=\"currentColor\"/>\n",
       "</g>\n",
       "\n",
       "<g class=\"displacy-arrow\">\n",
       "    <path class=\"displacy-arc\" id=\"arrow-7cbe018fb9f54ca8b71e6b3fcda40669-0-48\" stroke-width=\"2px\" d=\"M3940,497.0 C3940,272.0 4340.0,272.0 4340.0,497.0\" fill=\"none\" stroke=\"currentColor\"/>\n",
       "    <text dy=\"1.25em\" style=\"font-size: 0.8em; letter-spacing: 1px\">\n",
       "        <textPath xlink:href=\"#arrow-7cbe018fb9f54ca8b71e6b3fcda40669-0-48\" class=\"displacy-label\" startOffset=\"50%\" side=\"left\" fill=\"currentColor\" text-anchor=\"middle\">prep</textPath>\n",
       "    </text>\n",
       "    <path class=\"displacy-arrowhead\" d=\"M4340.0,499.0 L4348.0,487.0 4332.0,487.0\" fill=\"currentColor\"/>\n",
       "</g>\n",
       "\n",
       "<g class=\"displacy-arrow\">\n",
       "    <path class=\"displacy-arc\" id=\"arrow-7cbe018fb9f54ca8b71e6b3fcda40669-0-49\" stroke-width=\"2px\" d=\"M4480,497.0 C4480,452.0 4500.0,452.0 4500.0,497.0\" fill=\"none\" stroke=\"currentColor\"/>\n",
       "    <text dy=\"1.25em\" style=\"font-size: 0.8em; letter-spacing: 1px\">\n",
       "        <textPath xlink:href=\"#arrow-7cbe018fb9f54ca8b71e6b3fcda40669-0-49\" class=\"displacy-label\" startOffset=\"50%\" side=\"left\" fill=\"currentColor\" text-anchor=\"middle\">nummod</textPath>\n",
       "    </text>\n",
       "    <path class=\"displacy-arrowhead\" d=\"M4480,499.0 L4472,487.0 4488,487.0\" fill=\"currentColor\"/>\n",
       "</g>\n",
       "\n",
       "<g class=\"displacy-arrow\">\n",
       "    <path class=\"displacy-arc\" id=\"arrow-7cbe018fb9f54ca8b71e6b3fcda40669-0-50\" stroke-width=\"2px\" d=\"M4390,497.0 C4390,407.0 4505.0,407.0 4505.0,497.0\" fill=\"none\" stroke=\"currentColor\"/>\n",
       "    <text dy=\"1.25em\" style=\"font-size: 0.8em; letter-spacing: 1px\">\n",
       "        <textPath xlink:href=\"#arrow-7cbe018fb9f54ca8b71e6b3fcda40669-0-50\" class=\"displacy-label\" startOffset=\"50%\" side=\"left\" fill=\"currentColor\" text-anchor=\"middle\">pobj</textPath>\n",
       "    </text>\n",
       "    <path class=\"displacy-arrowhead\" d=\"M4505.0,499.0 L4513.0,487.0 4497.0,487.0\" fill=\"currentColor\"/>\n",
       "</g>\n",
       "\n",
       "<g class=\"displacy-arrow\">\n",
       "    <path class=\"displacy-arc\" id=\"arrow-7cbe018fb9f54ca8b71e6b3fcda40669-0-51\" stroke-width=\"2px\" d=\"M4390,497.0 C4390,362.0 4600.0,362.0 4600.0,497.0\" fill=\"none\" stroke=\"currentColor\"/>\n",
       "    <text dy=\"1.25em\" style=\"font-size: 0.8em; letter-spacing: 1px\">\n",
       "        <textPath xlink:href=\"#arrow-7cbe018fb9f54ca8b71e6b3fcda40669-0-51\" class=\"displacy-label\" startOffset=\"50%\" side=\"left\" fill=\"currentColor\" text-anchor=\"middle\">dep</textPath>\n",
       "    </text>\n",
       "    <path class=\"displacy-arrowhead\" d=\"M4600.0,499.0 L4608.0,487.0 4592.0,487.0\" fill=\"currentColor\"/>\n",
       "</g>\n",
       "\n",
       "<g class=\"displacy-arrow\">\n",
       "    <path class=\"displacy-arc\" id=\"arrow-7cbe018fb9f54ca8b71e6b3fcda40669-0-52\" stroke-width=\"2px\" d=\"M4660,497.0 C4660,452.0 4680.0,452.0 4680.0,497.0\" fill=\"none\" stroke=\"currentColor\"/>\n",
       "    <text dy=\"1.25em\" style=\"font-size: 0.8em; letter-spacing: 1px\">\n",
       "        <textPath xlink:href=\"#arrow-7cbe018fb9f54ca8b71e6b3fcda40669-0-52\" class=\"displacy-label\" startOffset=\"50%\" side=\"left\" fill=\"currentColor\" text-anchor=\"middle\">nummod</textPath>\n",
       "    </text>\n",
       "    <path class=\"displacy-arrowhead\" d=\"M4680.0,499.0 L4688.0,487.0 4672.0,487.0\" fill=\"currentColor\"/>\n",
       "</g>\n",
       "\n",
       "<g class=\"displacy-arrow\">\n",
       "    <path class=\"displacy-arc\" id=\"arrow-7cbe018fb9f54ca8b71e6b3fcda40669-0-53\" stroke-width=\"2px\" d=\"M4840,497.0 C4840,227.0 5335.0,227.0 5335.0,497.0\" fill=\"none\" stroke=\"currentColor\"/>\n",
       "    <text dy=\"1.25em\" style=\"font-size: 0.8em; letter-spacing: 1px\">\n",
       "        <textPath xlink:href=\"#arrow-7cbe018fb9f54ca8b71e6b3fcda40669-0-53\" class=\"displacy-label\" startOffset=\"50%\" side=\"left\" fill=\"currentColor\" text-anchor=\"middle\">prep</textPath>\n",
       "    </text>\n",
       "    <path class=\"displacy-arrowhead\" d=\"M4840,499.0 L4832,487.0 4848,487.0\" fill=\"currentColor\"/>\n",
       "</g>\n",
       "\n",
       "<g class=\"displacy-arrow\">\n",
       "    <path class=\"displacy-arc\" id=\"arrow-7cbe018fb9f54ca8b71e6b3fcda40669-0-54\" stroke-width=\"2px\" d=\"M4840,497.0 C4840,452.0 4860.0,452.0 4860.0,497.0\" fill=\"none\" stroke=\"currentColor\"/>\n",
       "    <text dy=\"1.25em\" style=\"font-size: 0.8em; letter-spacing: 1px\">\n",
       "        <textPath xlink:href=\"#arrow-7cbe018fb9f54ca8b71e6b3fcda40669-0-54\" class=\"displacy-label\" startOffset=\"50%\" side=\"left\" fill=\"currentColor\" text-anchor=\"middle\">pobj</textPath>\n",
       "    </text>\n",
       "    <path class=\"displacy-arrowhead\" d=\"M4860.0,499.0 L4868.0,487.0 4852.0,487.0\" fill=\"currentColor\"/>\n",
       "</g>\n",
       "\n",
       "<g class=\"displacy-arrow\">\n",
       "    <path class=\"displacy-arc\" id=\"arrow-7cbe018fb9f54ca8b71e6b3fcda40669-0-55\" stroke-width=\"2px\" d=\"M5020,497.0 C5020,407.0 5135.0,407.0 5135.0,497.0\" fill=\"none\" stroke=\"currentColor\"/>\n",
       "    <text dy=\"1.25em\" style=\"font-size: 0.8em; letter-spacing: 1px\">\n",
       "        <textPath xlink:href=\"#arrow-7cbe018fb9f54ca8b71e6b3fcda40669-0-55\" class=\"displacy-label\" startOffset=\"50%\" side=\"left\" fill=\"currentColor\" text-anchor=\"middle\">poss</textPath>\n",
       "    </text>\n",
       "    <path class=\"displacy-arrowhead\" d=\"M5020,499.0 L5012,487.0 5028,487.0\" fill=\"currentColor\"/>\n",
       "</g>\n",
       "\n",
       "<g class=\"displacy-arrow\">\n",
       "    <path class=\"displacy-arc\" id=\"arrow-7cbe018fb9f54ca8b71e6b3fcda40669-0-56\" stroke-width=\"2px\" d=\"M5020,497.0 C5020,452.0 5040.0,452.0 5040.0,497.0\" fill=\"none\" stroke=\"currentColor\"/>\n",
       "    <text dy=\"1.25em\" style=\"font-size: 0.8em; letter-spacing: 1px\">\n",
       "        <textPath xlink:href=\"#arrow-7cbe018fb9f54ca8b71e6b3fcda40669-0-56\" class=\"displacy-label\" startOffset=\"50%\" side=\"left\" fill=\"currentColor\" text-anchor=\"middle\">case</textPath>\n",
       "    </text>\n",
       "    <path class=\"displacy-arrowhead\" d=\"M5040.0,499.0 L5048.0,487.0 5032.0,487.0\" fill=\"currentColor\"/>\n",
       "</g>\n",
       "\n",
       "<g class=\"displacy-arrow\">\n",
       "    <path class=\"displacy-arc\" id=\"arrow-7cbe018fb9f54ca8b71e6b3fcda40669-0-57\" stroke-width=\"2px\" d=\"M5200,497.0 C5200,407.0 5315.0,407.0 5315.0,497.0\" fill=\"none\" stroke=\"currentColor\"/>\n",
       "    <text dy=\"1.25em\" style=\"font-size: 0.8em; letter-spacing: 1px\">\n",
       "        <textPath xlink:href=\"#arrow-7cbe018fb9f54ca8b71e6b3fcda40669-0-57\" class=\"displacy-label\" startOffset=\"50%\" side=\"left\" fill=\"currentColor\" text-anchor=\"middle\">nsubj</textPath>\n",
       "    </text>\n",
       "    <path class=\"displacy-arrowhead\" d=\"M5200,499.0 L5192,487.0 5208,487.0\" fill=\"currentColor\"/>\n",
       "</g>\n",
       "\n",
       "<g class=\"displacy-arrow\">\n",
       "    <path class=\"displacy-arc\" id=\"arrow-7cbe018fb9f54ca8b71e6b3fcda40669-0-58\" stroke-width=\"2px\" d=\"M5290,497.0 C5290,452.0 5310.0,452.0 5310.0,497.0\" fill=\"none\" stroke=\"currentColor\"/>\n",
       "    <text dy=\"1.25em\" style=\"font-size: 0.8em; letter-spacing: 1px\">\n",
       "        <textPath xlink:href=\"#arrow-7cbe018fb9f54ca8b71e6b3fcda40669-0-58\" class=\"displacy-label\" startOffset=\"50%\" side=\"left\" fill=\"currentColor\" text-anchor=\"middle\">aux</textPath>\n",
       "    </text>\n",
       "    <path class=\"displacy-arrowhead\" d=\"M5290,499.0 L5282,487.0 5298,487.0\" fill=\"currentColor\"/>\n",
       "</g>\n",
       "\n",
       "<g class=\"displacy-arrow\">\n",
       "    <path class=\"displacy-arc\" id=\"arrow-7cbe018fb9f54ca8b71e6b3fcda40669-0-59\" stroke-width=\"2px\" d=\"M5470,497.0 C5470,452.0 5490.0,452.0 5490.0,497.0\" fill=\"none\" stroke=\"currentColor\"/>\n",
       "    <text dy=\"1.25em\" style=\"font-size: 0.8em; letter-spacing: 1px\">\n",
       "        <textPath xlink:href=\"#arrow-7cbe018fb9f54ca8b71e6b3fcda40669-0-59\" class=\"displacy-label\" startOffset=\"50%\" side=\"left\" fill=\"currentColor\" text-anchor=\"middle\">advmod</textPath>\n",
       "    </text>\n",
       "    <path class=\"displacy-arrowhead\" d=\"M5470,499.0 L5462,487.0 5478,487.0\" fill=\"currentColor\"/>\n",
       "</g>\n",
       "\n",
       "<g class=\"displacy-arrow\">\n",
       "    <path class=\"displacy-arc\" id=\"arrow-7cbe018fb9f54ca8b71e6b3fcda40669-0-60\" stroke-width=\"2px\" d=\"M5380,497.0 C5380,407.0 5495.0,407.0 5495.0,497.0\" fill=\"none\" stroke=\"currentColor\"/>\n",
       "    <text dy=\"1.25em\" style=\"font-size: 0.8em; letter-spacing: 1px\">\n",
       "        <textPath xlink:href=\"#arrow-7cbe018fb9f54ca8b71e6b3fcda40669-0-60\" class=\"displacy-label\" startOffset=\"50%\" side=\"left\" fill=\"currentColor\" text-anchor=\"middle\">dobj</textPath>\n",
       "    </text>\n",
       "    <path class=\"displacy-arrowhead\" d=\"M5495.0,499.0 L5503.0,487.0 5487.0,487.0\" fill=\"currentColor\"/>\n",
       "</g>\n",
       "\n",
       "<g class=\"displacy-arrow\">\n",
       "    <path class=\"displacy-arc\" id=\"arrow-7cbe018fb9f54ca8b71e6b3fcda40669-0-61\" stroke-width=\"2px\" d=\"M5380,497.0 C5380,362.0 5590.0,362.0 5590.0,497.0\" fill=\"none\" stroke=\"currentColor\"/>\n",
       "    <text dy=\"1.25em\" style=\"font-size: 0.8em; letter-spacing: 1px\">\n",
       "        <textPath xlink:href=\"#arrow-7cbe018fb9f54ca8b71e6b3fcda40669-0-61\" class=\"displacy-label\" startOffset=\"50%\" side=\"left\" fill=\"currentColor\" text-anchor=\"middle\">advmod</textPath>\n",
       "    </text>\n",
       "    <path class=\"displacy-arrowhead\" d=\"M5590.0,499.0 L5598.0,487.0 5582.0,487.0\" fill=\"currentColor\"/>\n",
       "</g>\n",
       "\n",
       "<g class=\"displacy-arrow\">\n",
       "    <path class=\"displacy-arc\" id=\"arrow-7cbe018fb9f54ca8b71e6b3fcda40669-0-62\" stroke-width=\"2px\" d=\"M5380,497.0 C5380,317.0 5685.0,317.0 5685.0,497.0\" fill=\"none\" stroke=\"currentColor\"/>\n",
       "    <text dy=\"1.25em\" style=\"font-size: 0.8em; letter-spacing: 1px\">\n",
       "        <textPath xlink:href=\"#arrow-7cbe018fb9f54ca8b71e6b3fcda40669-0-62\" class=\"displacy-label\" startOffset=\"50%\" side=\"left\" fill=\"currentColor\" text-anchor=\"middle\">advmod</textPath>\n",
       "    </text>\n",
       "    <path class=\"displacy-arrowhead\" d=\"M5685.0,499.0 L5693.0,487.0 5677.0,487.0\" fill=\"currentColor\"/>\n",
       "</g>\n",
       "\n",
       "<g class=\"displacy-arrow\">\n",
       "    <path class=\"displacy-arc\" id=\"arrow-7cbe018fb9f54ca8b71e6b3fcda40669-0-63\" stroke-width=\"2px\" d=\"M5830,497.0 C5830,317.0 6135.0,317.0 6135.0,497.0\" fill=\"none\" stroke=\"currentColor\"/>\n",
       "    <text dy=\"1.25em\" style=\"font-size: 0.8em; letter-spacing: 1px\">\n",
       "        <textPath xlink:href=\"#arrow-7cbe018fb9f54ca8b71e6b3fcda40669-0-63\" class=\"displacy-label\" startOffset=\"50%\" side=\"left\" fill=\"currentColor\" text-anchor=\"middle\">det</textPath>\n",
       "    </text>\n",
       "    <path class=\"displacy-arrowhead\" d=\"M5830,499.0 L5822,487.0 5838,487.0\" fill=\"currentColor\"/>\n",
       "</g>\n",
       "\n",
       "<g class=\"displacy-arrow\">\n",
       "    <path class=\"displacy-arc\" id=\"arrow-7cbe018fb9f54ca8b71e6b3fcda40669-0-64\" stroke-width=\"2px\" d=\"M5920,497.0 C5920,362.0 6130.0,362.0 6130.0,497.0\" fill=\"none\" stroke=\"currentColor\"/>\n",
       "    <text dy=\"1.25em\" style=\"font-size: 0.8em; letter-spacing: 1px\">\n",
       "        <textPath xlink:href=\"#arrow-7cbe018fb9f54ca8b71e6b3fcda40669-0-64\" class=\"displacy-label\" startOffset=\"50%\" side=\"left\" fill=\"currentColor\" text-anchor=\"middle\">amod</textPath>\n",
       "    </text>\n",
       "    <path class=\"displacy-arrowhead\" d=\"M5920,499.0 L5912,487.0 5928,487.0\" fill=\"currentColor\"/>\n",
       "</g>\n",
       "\n",
       "<g class=\"displacy-arrow\">\n",
       "    <path class=\"displacy-arc\" id=\"arrow-7cbe018fb9f54ca8b71e6b3fcda40669-0-65\" stroke-width=\"2px\" d=\"M6010,497.0 C6010,407.0 6125.0,407.0 6125.0,497.0\" fill=\"none\" stroke=\"currentColor\"/>\n",
       "    <text dy=\"1.25em\" style=\"font-size: 0.8em; letter-spacing: 1px\">\n",
       "        <textPath xlink:href=\"#arrow-7cbe018fb9f54ca8b71e6b3fcda40669-0-65\" class=\"displacy-label\" startOffset=\"50%\" side=\"left\" fill=\"currentColor\" text-anchor=\"middle\">quantmod</textPath>\n",
       "    </text>\n",
       "    <path class=\"displacy-arrowhead\" d=\"M6010,499.0 L6002,487.0 6018,487.0\" fill=\"currentColor\"/>\n",
       "</g>\n",
       "\n",
       "<g class=\"displacy-arrow\">\n",
       "    <path class=\"displacy-arc\" id=\"arrow-7cbe018fb9f54ca8b71e6b3fcda40669-0-66\" stroke-width=\"2px\" d=\"M6100,497.0 C6100,452.0 6120.0,452.0 6120.0,497.0\" fill=\"none\" stroke=\"currentColor\"/>\n",
       "    <text dy=\"1.25em\" style=\"font-size: 0.8em; letter-spacing: 1px\">\n",
       "        <textPath xlink:href=\"#arrow-7cbe018fb9f54ca8b71e6b3fcda40669-0-66\" class=\"displacy-label\" startOffset=\"50%\" side=\"left\" fill=\"currentColor\" text-anchor=\"middle\">compound</textPath>\n",
       "    </text>\n",
       "    <path class=\"displacy-arrowhead\" d=\"M6100,499.0 L6092,487.0 6108,487.0\" fill=\"currentColor\"/>\n",
       "</g>\n",
       "\n",
       "<g class=\"displacy-arrow\">\n",
       "    <path class=\"displacy-arc\" id=\"arrow-7cbe018fb9f54ca8b71e6b3fcda40669-0-67\" stroke-width=\"2px\" d=\"M5740,497.0 C5740,272.0 6140.0,272.0 6140.0,497.0\" fill=\"none\" stroke=\"currentColor\"/>\n",
       "    <text dy=\"1.25em\" style=\"font-size: 0.8em; letter-spacing: 1px\">\n",
       "        <textPath xlink:href=\"#arrow-7cbe018fb9f54ca8b71e6b3fcda40669-0-67\" class=\"displacy-label\" startOffset=\"50%\" side=\"left\" fill=\"currentColor\" text-anchor=\"middle\">npadvmod</textPath>\n",
       "    </text>\n",
       "    <path class=\"displacy-arrowhead\" d=\"M6140.0,499.0 L6148.0,487.0 6132.0,487.0\" fill=\"currentColor\"/>\n",
       "</g>\n",
       "</svg></span>"
      ],
      "text/plain": [
       "<IPython.core.display.HTML object>"
      ]
     },
     "metadata": {},
     "output_type": "display_data"
    }
   ],
   "source": [
    "displacy.render(doc, style='dep', jupyter=True, options={'distance':90})"
   ]
  },
  {
   "cell_type": "code",
   "execution_count": 32,
   "id": "7ee28feb",
   "metadata": {
    "hidden": true
   },
   "outputs": [
    {
     "data": {
      "text/html": [
       "<span class=\"tex2jax_ignore\"><div class=\"entities\" style=\"line-height: 2.5; direction: ltr\"></br>\n",
       "<mark class=\"entity\" style=\"background: #aa9cfc; padding: 0.45em 0.6em; margin: 0 0.25em; line-height: 1; border-radius: 0.35em;\">\n",
       "    Elon Musk\n",
       "    <span style=\"font-size: 0.8em; font-weight: bold; line-height: 1; border-radius: 0.35em; vertical-align: middle; margin-left: 0.5rem\">PERSON</span>\n",
       "</mark>\n",
       ", the billionaire CEO of \n",
       "<mark class=\"entity\" style=\"background: #7aecec; padding: 0.45em 0.6em; margin: 0 0.25em; line-height: 1; border-radius: 0.35em;\">\n",
       "    Tesla\n",
       "    <span style=\"font-size: 0.8em; font-weight: bold; line-height: 1; border-radius: 0.35em; vertical-align: middle; margin-left: 0.5rem\">ORG</span>\n",
       "</mark>\n",
       " and SpaceX, is now the richest person in the world, surpassing former titleholder and \n",
       "<mark class=\"entity\" style=\"background: #7aecec; padding: 0.45em 0.6em; margin: 0 0.25em; line-height: 1; border-radius: 0.35em;\">\n",
       "    Amazon\n",
       "    <span style=\"font-size: 0.8em; font-weight: bold; line-height: 1; border-radius: 0.35em; vertical-align: middle; margin-left: 0.5rem\">ORG</span>\n",
       "</mark>\n",
       " chief \n",
       "<mark class=\"entity\" style=\"background: #aa9cfc; padding: 0.45em 0.6em; margin: 0 0.25em; line-height: 1; border-radius: 0.35em;\">\n",
       "    Jeff Bezos\n",
       "    <span style=\"font-size: 0.8em; font-weight: bold; line-height: 1; border-radius: 0.35em; vertical-align: middle; margin-left: 0.5rem\">PERSON</span>\n",
       "</mark>\n",
       " with a net worth of \n",
       "<mark class=\"entity\" style=\"background: #e4e7d2; padding: 0.45em 0.6em; margin: 0 0.25em; line-height: 1; border-radius: 0.35em;\">\n",
       "    $189.7 billion\n",
       "    <span style=\"font-size: 0.8em; font-weight: bold; line-height: 1; border-radius: 0.35em; vertical-align: middle; margin-left: 0.5rem\">MONEY</span>\n",
       "</mark>\n",
       ", according to \n",
       "<mark class=\"entity\" style=\"background: #7aecec; padding: 0.45em 0.6em; margin: 0 0.25em; line-height: 1; border-radius: 0.35em;\">\n",
       "    Forbes\n",
       "    <span style=\"font-size: 0.8em; font-weight: bold; line-height: 1; border-radius: 0.35em; vertical-align: middle; margin-left: 0.5rem\">ORG</span>\n",
       "</mark>\n",
       "’s real-time billionaire net-worth estimates on \n",
       "<mark class=\"entity\" style=\"background: #bfe1d9; padding: 0.45em 0.6em; margin: 0 0.25em; line-height: 1; border-radius: 0.35em;\">\n",
       "    Jan. 8, 2021\n",
       "    <span style=\"font-size: 0.8em; font-weight: bold; line-height: 1; border-radius: 0.35em; vertical-align: middle; margin-left: 0.5rem\">DATE</span>\n",
       "</mark>\n",
       " at \n",
       "<mark class=\"entity\" style=\"background: #bfe1d9; padding: 0.45em 0.6em; margin: 0 0.25em; line-height: 1; border-radius: 0.35em;\">\n",
       "    1pm\n",
       "    <span style=\"font-size: 0.8em; font-weight: bold; line-height: 1; border-radius: 0.35em; vertical-align: middle; margin-left: 0.5rem\">TIME</span>\n",
       "</mark>\n",
       ".</br>2 - Since \n",
       "<mark class=\"entity\" style=\"background: #bfe1d9; padding: 0.45em 0.6em; margin: 0 0.25em; line-height: 1; border-radius: 0.35em;\">\n",
       "    March\n",
       "    <span style=\"font-size: 0.8em; font-weight: bold; line-height: 1; border-radius: 0.35em; vertical-align: middle; margin-left: 0.5rem\">DATE</span>\n",
       "</mark>\n",
       ", \n",
       "<mark class=\"entity\" style=\"background: #aa9cfc; padding: 0.45em 0.6em; margin: 0 0.25em; line-height: 1; border-radius: 0.35em;\">\n",
       "    Musk\n",
       "    <span style=\"font-size: 0.8em; font-weight: bold; line-height: 1; border-radius: 0.35em; vertical-align: middle; margin-left: 0.5rem\">PERSON</span>\n",
       "</mark>\n",
       "’s wealth has grown \n",
       "<mark class=\"entity\" style=\"background: #e4e7d2; padding: 0.45em 0.6em; margin: 0 0.25em; line-height: 1; border-radius: 0.35em;\">\n",
       "    almost seven-fold\n",
       "    <span style=\"font-size: 0.8em; font-weight: bold; line-height: 1; border-radius: 0.35em; vertical-align: middle; margin-left: 0.5rem\">CARDINAL</span>\n",
       "</mark>\n",
       ", up a staggering \n",
       "<mark class=\"entity\" style=\"background: #e4e7d2; padding: 0.45em 0.6em; margin: 0 0.25em; line-height: 1; border-radius: 0.35em;\">\n",
       "    $163.1 billion\n",
       "    <span style=\"font-size: 0.8em; font-weight: bold; line-height: 1; border-radius: 0.35em; vertical-align: middle; margin-left: 0.5rem\">MONEY</span>\n",
       "</mark>\n",
       ".</br></div></span>"
      ],
      "text/plain": [
       "<IPython.core.display.HTML object>"
      ]
     },
     "metadata": {},
     "output_type": "display_data"
    }
   ],
   "source": [
    "displacy.render(doc, style='ent', jupyter=True)"
   ]
  },
  {
   "cell_type": "markdown",
   "id": "f5394c6b",
   "metadata": {
    "hidden": true
   },
   "source": [
    "Autre plot fancy :"
   ]
  },
  {
   "cell_type": "code",
   "execution_count": 33,
   "id": "b01e25e7",
   "metadata": {
    "hidden": true
   },
   "outputs": [
    {
     "name": "stdout",
     "output_type": "stream",
     "text": [
      "Extracting tf features for LDA...\n",
      "done in 0.216s.\n",
      "\n",
      "\n",
      "\n",
      " Fitting LDA models with tf features, n_samples=2000 and n_features=1000...\n",
      "done in 13.520s.\n"
     ]
    },
    {
     "data": {
      "image/png": "[encoded data removed]",
      "text/plain": [
       "<Figure size 2160x1080 with 3 Axes>"
      ]
     },
     "metadata": {
      "needs_background": "light"
     },
     "output_type": "display_data"
    }
   ],
   "source": [
    "\n",
    "from time import time\n",
    "import matplotlib.pyplot as plt\n",
    "\n",
    "from sklearn.feature_extraction.text import TfidfVectorizer, CountVectorizer\n",
    "from sklearn.decomposition import NMF, LatentDirichletAllocation\n",
    "from sklearn.datasets import fetch_20newsgroups\n",
    "\n",
    "n_samples = 2000\n",
    "n_features = 1000\n",
    "n_components = 3\n",
    "n_top_words = 20\n",
    "\n",
    "\n",
    "def plot_top_words(model, feature_names, n_top_words, title):\n",
    "    fig, axes = plt.subplots(1, 3, figsize=(30, 15), sharex=True)\n",
    "    axes = axes.flatten()\n",
    "    for topic_idx, topic in enumerate(model.components_):\n",
    "        top_features_ind = topic.argsort()[: -n_top_words - 1 : -1]\n",
    "        top_features = [feature_names[i] for i in top_features_ind]\n",
    "        weights = topic[top_features_ind]\n",
    "\n",
    "        ax = axes[topic_idx]\n",
    "        ax.barh(top_features, weights, height=0.7)\n",
    "        ax.set_title(f\"Topic {topic_idx +1}\", fontdict={\"fontsize\": 30})\n",
    "        ax.invert_yaxis()\n",
    "        ax.tick_params(axis=\"both\", which=\"major\", labelsize=20)\n",
    "        for i in \"top right left\".split():\n",
    "            ax.spines[i].set_visible(False)\n",
    "        fig.suptitle(title, fontsize=40)\n",
    "\n",
    "    plt.subplots_adjust(top=0.90, bottom=0.05, wspace=0.90, hspace=0.3)\n",
    "    plt.show()\n",
    "\n",
    "data_samples = list_tweet\n",
    "\n",
    "# Use tf (raw term count) features for LDA.\n",
    "print(\"Extracting tf features for LDA...\")\n",
    "tf_vectorizer = CountVectorizer(\n",
    "    max_df=0.95, min_df=2, max_features=n_features, stop_words=\"english\"\n",
    ")\n",
    "t0 = time()\n",
    "tf = tf_vectorizer.fit_transform(data_samples)\n",
    "print(\"done in %0.3fs.\" % (time() - t0))\n",
    "print()\n",
    "\n",
    "\n",
    "print(\n",
    "    \"\\n\" * 2,\n",
    "    \"Fitting LDA models with tf features, n_samples=%d and n_features=%d...\"\n",
    "    % (n_samples, n_features),\n",
    ")\n",
    "lda = LatentDirichletAllocation(\n",
    "    n_components=n_components,\n",
    "    max_iter=5,\n",
    "    learning_method=\"online\",\n",
    "    learning_offset=50.0,\n",
    "    random_state=0,\n",
    ")\n",
    "t0 = time()\n",
    "lda.fit(tf)\n",
    "print(\"done in %0.3fs.\" % (time() - t0))\n",
    "\n",
    "tf_feature_names = tf_vectorizer.get_feature_names_out()\n",
    "plot_top_words(lda, tf_feature_names, n_top_words, \"Topics in LDA model\")"
   ]
  },
  {
   "cell_type": "markdown",
   "id": "36e7cae3",
   "metadata": {},
   "source": [
    "### Get_document_topics :    Exemple with an input test"
   ]
  },
  {
   "cell_type": "markdown",
   "id": "c71f5a9a",
   "metadata": {},
   "source": [
    "\"objectif : comprendre parfaitement gensim.ldamodel\"\n",
    "\n",
    "faire marcher la pred\n",
    "\n",
    "afficher rps de chaque topic avec les methodes du model, conclusions, si topic utilise les bon mots ?\n",
    "\n",
    "sinon, regler alpha pour la distribution des topics \n",
    "\n",
    "bien classer : countvectoriser pour determiner l'occurence des mot en pair, les mettre dans mes list de topics\n"
   ]
  },
  {
   "cell_type": "markdown",
   "id": "693f7202",
   "metadata": {},
   "source": [
    "> **get_document_topics** : Get the most relevant topics to the given word."
   ]
  },
  {
   "cell_type": "code",
   "execution_count": 63,
   "id": "b1a81b1f",
   "metadata": {},
   "outputs": [],
   "source": [
    "def countvecto(allsentences):\n",
    "    \"\"\"Vectorise sentences, transform to array\"\"\"\n",
    "    vectorizer = CountVectorizer()\n",
    "    # tokenize and build vocab    \n",
    "    X = vectorizer.fit_transform(allsentences)\n",
    "    return X.toarray()\n",
    "\n",
    "def split_sentence(sentence):\n",
    "    \"\"\"split ONE sentence in individual words\"\"\"\n",
    "    sentence_spl = [x.split() for x in sentence]\n",
    "    return sentence_spl\n",
    "\n",
    "def predict_topic(splitted_sentences):\n",
    "    \"\"\"Predict the corresponding topic with a list of sentences cleaned (stopwords) and splitted\"\"\"\n",
    "    dictionary_pred = corpora.Dictionary(splitted_sentences)\n",
    "    # dictionary.filter_extremes(no_below=20, no_above=0.7, keep_n=None)\n",
    "    bow_pred = dictionary_pred.doc2bow(splitted_sentences)\n",
    "    \n",
    "    predict_topic = lda_model.get_document_topics(bow_pred)\n",
    "    \n",
    "    return predict_topic"
   ]
  },
  {
   "cell_type": "markdown",
   "id": "90b74664",
   "metadata": {},
   "source": [
    "> steps : lower, tokenize, doc2bow, get_document_topics"
   ]
  },
  {
   "cell_type": "code",
   "execution_count": 135,
   "id": "504ee0f2",
   "metadata": {},
   "outputs": [],
   "source": [
    "## INPUT an exemple as a list of ONE + CLEAN sentence ['man put fire school']\n",
    "exemple = ['horrible accident man died in wings of airplane eruption earthquake catastrophic effect heavy rain flood']\n",
    "# exemple = ['love fruit going work']"
   ]
  },
  {
   "cell_type": "code",
   "execution_count": 136,
   "id": "4c02e5e1",
   "metadata": {},
   "outputs": [],
   "source": [
    "my_exemple_splitted = split_sentence(exemple)"
   ]
  },
  {
   "cell_type": "code",
   "execution_count": 137,
   "id": "a111f4c0",
   "metadata": {},
   "outputs": [
    {
     "data": {
      "text/plain": [
       "[['horrible',\n",
       "  'accident',\n",
       "  'man',\n",
       "  'died',\n",
       "  'in',\n",
       "  'wings',\n",
       "  'of',\n",
       "  'airplane',\n",
       "  'eruption',\n",
       "  'earthquake',\n",
       "  'catastrophic',\n",
       "  'effect',\n",
       "  'heavy',\n",
       "  'rain',\n",
       "  'flood']]"
      ]
     },
     "execution_count": 137,
     "metadata": {},
     "output_type": "execute_result"
    }
   ],
   "source": [
    "my_exemple_splitted"
   ]
  },
  {
   "cell_type": "code",
   "execution_count": 138,
   "id": "cfda2c9a",
   "metadata": {},
   "outputs": [],
   "source": [
    "# use the function countvecto() to vectorize the sentence\n",
    "exemple_vecto = countvecto(my_exemple_splitted[0])"
   ]
  },
  {
   "cell_type": "code",
   "execution_count": 145,
   "id": "d143aa9c",
   "metadata": {},
   "outputs": [
    {
     "data": {
      "text/plain": [
       "[(0, 0.4766271), (1, 0.3021695), (2, 0.22120342)]"
      ]
     },
     "execution_count": 145,
     "metadata": {},
     "output_type": "execute_result"
    }
   ],
   "source": [
    "# predict the probability in each topic using predict_topic()\n",
    "predict_topic(exemple_vecto)"
   ]
  },
  {
   "cell_type": "code",
   "execution_count": 168,
   "id": "3a37f5b9",
   "metadata": {},
   "outputs": [
    {
     "data": {
      "text/plain": [
       "[0.4766271, 0.3021695, 0.22120342]"
      ]
     },
     "execution_count": 168,
     "metadata": {},
     "output_type": "execute_result"
    }
   ],
   "source": [
    "# print properly :\n",
    "final_predic = predict_topic(exemple_vecto)\n",
    "\n",
    "pourcentage = [element[1] for element in final_predic]\n",
    "pourcentage"
   ]
  },
  {
   "cell_type": "code",
   "execution_count": 170,
   "id": "50950438",
   "metadata": {},
   "outputs": [
    {
     "name": "stdout",
     "output_type": "stream",
     "text": [
      "topic 1 : 0.47699999809265137 %\n",
      "topic 2 : 0.3021695017814636 %\n",
      "topic 3 : 0.22120341658592224 %\n"
     ]
    }
   ],
   "source": [
    "print(f\"topic 1 : {pourcentage[0]} %\")\n",
    "print(f\"topic 2 : {pourcentage[1]} %\")\n",
    "print(f\"topic 3 : {pourcentage[2]} %\")"
   ]
  },
  {
   "cell_type": "code",
   "execution_count": 174,
   "id": "99326d4a",
   "metadata": {
    "collapsed": true
   },
   "outputs": [
    {
     "ename": "TypeError",
     "evalue": "prepare() missing 2 required positional arguments: 'vocab' and 'term_frequency'",
     "output_type": "error",
     "traceback": [
      "\u001b[0;31m---------------------------------------------------------------------------\u001b[0m",
      "\u001b[0;31mTypeError\u001b[0m                                 Traceback (most recent call last)",
      "Input \u001b[0;32mIn [174]\u001b[0m, in \u001b[0;36m<cell line: 3>\u001b[0;34m()\u001b[0m\n\u001b[1;32m      1\u001b[0m \u001b[38;5;66;03m# To plot at Jupyter notebook\u001b[39;00m\n\u001b[1;32m      2\u001b[0m pyLDAvis\u001b[38;5;241m.\u001b[39menable_notebook()\n\u001b[0;32m----> 3\u001b[0m plot \u001b[38;5;241m=\u001b[39m \u001b[43mpyLDAvis\u001b[49m\u001b[38;5;241;43m.\u001b[39;49m\u001b[43mprepare\u001b[49m\u001b[43m(\u001b[49m\u001b[43mlda_model\u001b[49m\u001b[43m,\u001b[49m\u001b[43m \u001b[49m\u001b[43mbow\u001b[49m\u001b[43m,\u001b[49m\u001b[43m \u001b[49m\u001b[43mdictionary\u001b[49m\u001b[43m)\u001b[49m\n\u001b[1;32m      4\u001b[0m \u001b[38;5;66;03m# Save pyLDA plot as html file\u001b[39;00m\n\u001b[1;32m      5\u001b[0m pyLDAvis\u001b[38;5;241m.\u001b[39msave_html(plot, \u001b[38;5;124m'\u001b[39m\u001b[38;5;124mLDA_NYT.html\u001b[39m\u001b[38;5;124m'\u001b[39m)\n",
      "\u001b[0;31mTypeError\u001b[0m: prepare() missing 2 required positional arguments: 'vocab' and 'term_frequency'"
     ]
    }
   ],
   "source": [
    "# # To plot at Jupyter notebook\n",
    "# pyLDAvis.enable_notebook()\n",
    "# plot = pyLDAvis.prepare(lda_model, bow, dictionary, vocab=)\n",
    "# # Save pyLDA plot as html file\n",
    "# pyLDAvis.save_html(plot, 'LDA_NYT.html')\n",
    "# plot"
   ]
  },
  {
   "cell_type": "markdown",
   "id": "ea3555c8",
   "metadata": {},
   "source": [
    "> Coherence value : Choosing the Best Number of Topics"
   ]
  },
  {
   "cell_type": "code",
   "execution_count": 160,
   "id": "15299054",
   "metadata": {},
   "outputs": [],
   "source": [
    "# def compute_coherence_values(dictionary, corpus, texts, \n",
    "#                              cohere, limit, start=2, step=2):\n",
    "#     iterations = 100\n",
    "#     temp = dictionary[0]\n",
    "#     id2word = dictionary.id2token\n",
    "\n",
    "#     coherence_values = []\n",
    "\n",
    "#     for num_topics in range(start, limit, step):\n",
    "#         model = LdaModel(corpus=corpus, \n",
    "#                          id2word=dictionary, \n",
    "#                          num_topics=num_topics,\n",
    "#                          chunksize=chunksize,\n",
    "#                          alpha='auto',\n",
    "#                          eta='auto',\n",
    "#                          iterations=iterations,\n",
    "#                          passes=passes,\n",
    "#                          eval_every=1,\n",
    "#                          random_state=42,)\n",
    "#         coherencemodel = CoherenceModel(model=model, \n",
    "#                                         texts=texts, \n",
    "#                                         dictionary=dictionary, \n",
    "#                                         coherence=cohere)\n",
    "#         coherence_values.append(coherencemodel.get_coherence())\n",
    "\n",
    "#     return coherence_values"
   ]
  },
  {
   "cell_type": "code",
   "execution_count": 161,
   "id": "a4c7d398",
   "metadata": {},
   "outputs": [
    {
     "data": {
      "text/plain": [
       "<matplotlib.legend.Legend at 0x7f50531f4be0>"
      ]
     },
     "execution_count": 161,
     "metadata": {},
     "output_type": "execute_result"
    },
    {
     "data": {
      "image/png": "[encoded data removed]",
      "text/plain": [
       "<Figure size 576x360 with 1 Axes>"
      ]
     },
     "metadata": {
      "needs_background": "light"
     },
     "output_type": "display_data"
    }
   ],
   "source": [
    "##### 30 min to run, in 8G RAM ####\n",
    "\n",
    "# limit=50\n",
    "# start=2\n",
    "# step=2\n",
    "# corpus = bow\n",
    "# texts = text_split\n",
    "\n",
    "# coherence_values = compute_coherence_values(dictionary=dictionary, \n",
    "#                                             corpus=corpus, \n",
    "#                                             texts=texts, \n",
    "#                                             cohere='c_v', \n",
    "#                                             start=start, \n",
    "#                                             limit=limit, \n",
    "#                                             step=step)\n",
    "\n",
    "# plt.figure(figsize=(8,5))\n",
    "\n",
    "# # Create a custom x-axis\n",
    "# x = range(start, limit, step)\n",
    "\n",
    "# # Build the line plot\n",
    "# ax = sns.lineplot(x=x, y=coherence_values, color='#238C8C')\n",
    "\n",
    "# # Set titles and labels\n",
    "# plt.title(\"Best Number of Topics for LDA Model\")\n",
    "# plt.xlabel(\"Num Topics\")\n",
    "# plt.ylabel(\"Coherence score\")\n",
    "# plt.xlim(start, limit)\n",
    "# plt.xticks(range(2, limit, step))\n",
    "\n",
    "# # Add a vertical line to show the optimum number of topics\n",
    "# plt.axvline(x[np.argmax(coherence_values)], \n",
    "#             color='#F26457', linestyle='--')\n",
    "\n",
    "# # Draw a custom legend\n",
    "# legend_elements = [Line2D([0], [0], color='#238C8C', \n",
    "#                           ls='-', label='Coherence Value (c_v)'),\n",
    "#                    Line2D([0], [1], color='#F26457', \n",
    "#                           ls='--', label='Optimal Number of Topics')]\n",
    "\n",
    "# ax.legend(handles=legend_elements, loc='upper right')"
   ]
  },
  {
   "cell_type": "markdown",
   "id": "0764e669",
   "metadata": {},
   "source": [
    "Display topics visually"
   ]
  }
 ],
 "metadata": {
  "kernelspec": {
   "display_name": "Python 3 (ipykernel)",
   "language": "python",
   "name": "python3"
  },
  "language_info": {
   "codemirror_mode": {
    "name": "ipython",
    "version": 3
   },
   "file_extension": ".py",
   "mimetype": "text/x-python",
   "name": "python",
   "nbconvert_exporter": "python",
   "pygments_lexer": "ipython3",
   "version": "3.8.12"
  },
  "toc": {
   "base_numbering": 1,
   "nav_menu": {},
   "number_sections": true,
   "sideBar": true,
   "skip_h1_title": false,
   "title_cell": "Table of Contents",
   "title_sidebar": "Contents",
   "toc_cell": false,
   "toc_position": {},
   "toc_section_display": true,
   "toc_window_display": true
  }
 },
 "nbformat": 4,
 "nbformat_minor": 5
}
