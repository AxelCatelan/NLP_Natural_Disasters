{
 "cells": [
  {
   "cell_type": "markdown",
   "id": "5b1880cc",
   "metadata": {
    "ExecuteTime": {
     "end_time": "2022-04-11T12:24:20.918287Z",
     "start_time": "2022-04-11T12:24:20.911235Z"
    }
   },
   "source": [
    "# MODELE EMBEDDING GLOVE avec .py"
   ]
  },
  {
   "cell_type": "markdown",
   "id": "084e5458",
   "metadata": {},
   "source": [
    "## **Librairies à importer**"
   ]
  },
  {
   "cell_type": "code",
   "execution_count": 1,
   "id": "6ab7ad6d",
   "metadata": {
    "ExecuteTime": {
     "end_time": "2022-04-11T12:40:05.932665Z",
     "start_time": "2022-04-11T12:40:01.782881Z"
    }
   },
   "outputs": [],
   "source": [
    "from NLP_Natural_Disasters.data import get_data, clean_data\n",
    "from NLP_Natural_Disasters.token_glove import create_list, token_ize, voc_token, dict_token, token_tweet, glove_vector"
   ]
  },
  {
   "cell_type": "markdown",
   "id": "34afb6da",
   "metadata": {},
   "source": [
    "## Data Cleaning"
   ]
  },
  {
   "cell_type": "code",
   "execution_count": 2,
   "id": "5989ac59",
   "metadata": {
    "ExecuteTime": {
     "end_time": "2022-04-11T12:40:10.844953Z",
     "start_time": "2022-04-11T12:40:08.056964Z"
    }
   },
   "outputs": [],
   "source": [
    "df = get_data()\n",
    "c_df = clean_data(df)"
   ]
  },
  {
   "cell_type": "markdown",
   "id": "1a6d1a78",
   "metadata": {},
   "source": [
    "## Token"
   ]
  },
  {
   "cell_type": "code",
   "execution_count": 4,
   "id": "013d35fd",
   "metadata": {
    "ExecuteTime": {
     "end_time": "2022-04-11T12:41:12.750101Z",
     "start_time": "2022-04-11T12:41:12.554916Z"
    }
   },
   "outputs": [],
   "source": [
    "text = create_list(c_df['text'])\n",
    "token = token_ize()\n",
    "X = token_tweet(text, token)"
   ]
  },
  {
   "cell_type": "markdown",
   "id": "1355cc3c",
   "metadata": {},
   "source": [
    "## GloVE"
   ]
  },
  {
   "cell_type": "code",
   "execution_count": 5,
   "id": "da223538",
   "metadata": {
    "ExecuteTime": {
     "end_time": "2022-04-11T12:42:09.374678Z",
     "start_time": "2022-04-11T12:41:25.008118Z"
    }
   },
   "outputs": [],
   "source": [
    "word_vector_matrix = glove_vector(token)"
   ]
  }
 ],
 "metadata": {
  "kernelspec": {
   "display_name": "Python 3 (ipykernel)",
   "language": "python",
   "name": "python3"
  },
  "language_info": {
   "codemirror_mode": {
    "name": "ipython",
    "version": 3
   },
   "file_extension": ".py",
   "mimetype": "text/x-python",
   "name": "python",
   "nbconvert_exporter": "python",
   "pygments_lexer": "ipython3",
   "version": "3.8.12"
  },
  "latex_envs": {
   "LaTeX_envs_menu_present": true,
   "autoclose": false,
   "autocomplete": true,
   "bibliofile": "biblio.bib",
   "cite_by": "apalike",
   "current_citInitial": 1,
   "eqLabelWithNumbers": true,
   "eqNumInitial": 1,
   "hotkeys": {
    "equation": "Ctrl-E",
    "itemize": "Ctrl-I"
   },
   "labels_anchors": false,
   "latex_user_defs": false,
   "report_style_numbering": false,
   "user_envs_cfg": false
  },
  "toc": {
   "base_numbering": 1,
   "nav_menu": {},
   "number_sections": true,
   "sideBar": true,
   "skip_h1_title": false,
   "title_cell": "Table of Contents",
   "title_sidebar": "Contents",
   "toc_cell": false,
   "toc_position": {},
   "toc_section_display": true,
   "toc_window_display": false
  }
 },
 "nbformat": 4,
 "nbformat_minor": 5
}
