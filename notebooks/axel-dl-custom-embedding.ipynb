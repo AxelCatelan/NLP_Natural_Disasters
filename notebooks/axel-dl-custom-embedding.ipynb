{
 "cells": [
  {
   "cell_type": "markdown",
   "id": "ab7c00c2",
   "metadata": {},
   "source": [
    "# Import and Setup"
   ]
  },
  {
   "cell_type": "code",
   "execution_count": 87,
   "id": "c9693f6a",
   "metadata": {
    "ExecuteTime": {
     "end_time": "2022-04-08T12:43:38.922768Z",
     "start_time": "2022-04-08T12:43:38.917835Z"
    }
   },
   "outputs": [],
   "source": [
    "from tensorflow.keras.preprocessing.text import Tokenizer\n",
    "from tensorflow.keras.preprocessing.sequence import pad_sequences\n",
    "from tensorflow.keras.models import Sequential\n",
    "from tensorflow.keras.layers import Dense, Flatten, Embedding, Activation, Dropout\n",
    "from tensorflow.keras.layers import Conv1D, MaxPooling1D, GlobalMaxPooling1D\n",
    "from tensorflow.keras.callbacks import EarlyStopping\n",
    "from tensorflow.keras.optimizers import Adam\n",
    "\n",
    "from sklearn.model_selection import train_test_split\n",
    "import numpy as np\n",
    "from numpy import array\n",
    "import pandas as pd"
   ]
  },
  {
   "cell_type": "code",
   "execution_count": 88,
   "id": "88164d79",
   "metadata": {
    "ExecuteTime": {
     "end_time": "2022-04-08T12:43:38.929806Z",
     "start_time": "2022-04-08T12:43:38.924720Z"
    }
   },
   "outputs": [],
   "source": [
    "from NLP_Natural_Disasters.data import get_data, clean_data"
   ]
  },
  {
   "cell_type": "code",
   "execution_count": 111,
   "id": "0a157884",
   "metadata": {
    "ExecuteTime": {
     "end_time": "2022-04-08T12:48:57.600301Z",
     "start_time": "2022-04-08T12:48:55.893008Z"
    }
   },
   "outputs": [
    {
     "data": {
      "text/html": [
       "<div>\n",
       "<style scoped>\n",
       "    .dataframe tbody tr th:only-of-type {\n",
       "        vertical-align: middle;\n",
       "    }\n",
       "\n",
       "    .dataframe tbody tr th {\n",
       "        vertical-align: top;\n",
       "    }\n",
       "\n",
       "    .dataframe thead th {\n",
       "        text-align: right;\n",
       "    }\n",
       "</style>\n",
       "<table border=\"1\" class=\"dataframe\">\n",
       "  <thead>\n",
       "    <tr style=\"text-align: right;\">\n",
       "      <th></th>\n",
       "      <th>id</th>\n",
       "      <th>text</th>\n",
       "      <th>target</th>\n",
       "    </tr>\n",
       "  </thead>\n",
       "  <tbody>\n",
       "    <tr>\n",
       "      <th>0</th>\n",
       "      <td>1</td>\n",
       "      <td>deed reason earthquake may allah forgive u</td>\n",
       "      <td>1</td>\n",
       "    </tr>\n",
       "    <tr>\n",
       "      <th>1</th>\n",
       "      <td>4</td>\n",
       "      <td>forest fire near la canada</td>\n",
       "      <td>1</td>\n",
       "    </tr>\n",
       "    <tr>\n",
       "      <th>2</th>\n",
       "      <td>5</td>\n",
       "      <td>resident asked shelter place officer evacuatio...</td>\n",
       "      <td>1</td>\n",
       "    </tr>\n",
       "    <tr>\n",
       "      <th>3</th>\n",
       "      <td>6</td>\n",
       "      <td>people receive wildfire evacuation order calif...</td>\n",
       "      <td>1</td>\n",
       "    </tr>\n",
       "    <tr>\n",
       "      <th>4</th>\n",
       "      <td>7</td>\n",
       "      <td>got sent photo alaska smoke wildfire school</td>\n",
       "      <td>1</td>\n",
       "    </tr>\n",
       "    <tr>\n",
       "      <th>...</th>\n",
       "      <td>...</td>\n",
       "      <td>...</td>\n",
       "      <td>...</td>\n",
       "    </tr>\n",
       "    <tr>\n",
       "      <th>7608</th>\n",
       "      <td>10869</td>\n",
       "      <td>two giant crane holding bridge collapse nearby...</td>\n",
       "      <td>1</td>\n",
       "    </tr>\n",
       "    <tr>\n",
       "      <th>7609</th>\n",
       "      <td>10870</td>\n",
       "      <td>control wild fire california even northern par...</td>\n",
       "      <td>1</td>\n",
       "    </tr>\n",
       "    <tr>\n",
       "      <th>7610</th>\n",
       "      <td>10871</td>\n",
       "      <td>utckm volcano hawaii</td>\n",
       "      <td>1</td>\n",
       "    </tr>\n",
       "    <tr>\n",
       "      <th>7611</th>\n",
       "      <td>10872</td>\n",
       "      <td>police investigating ebike collided car little...</td>\n",
       "      <td>1</td>\n",
       "    </tr>\n",
       "    <tr>\n",
       "      <th>7612</th>\n",
       "      <td>10873</td>\n",
       "      <td>latest home razed northern california wildfire...</td>\n",
       "      <td>1</td>\n",
       "    </tr>\n",
       "  </tbody>\n",
       "</table>\n",
       "<p>7603 rows × 3 columns</p>\n",
       "</div>"
      ],
      "text/plain": [
       "         id                                               text  target\n",
       "0         1         deed reason earthquake may allah forgive u       1\n",
       "1         4                         forest fire near la canada       1\n",
       "2         5  resident asked shelter place officer evacuatio...       1\n",
       "3         6  people receive wildfire evacuation order calif...       1\n",
       "4         7        got sent photo alaska smoke wildfire school       1\n",
       "...     ...                                                ...     ...\n",
       "7608  10869  two giant crane holding bridge collapse nearby...       1\n",
       "7609  10870  control wild fire california even northern par...       1\n",
       "7610  10871                               utckm volcano hawaii       1\n",
       "7611  10872  police investigating ebike collided car little...       1\n",
       "7612  10873  latest home razed northern california wildfire...       1\n",
       "\n",
       "[7603 rows x 3 columns]"
      ]
     },
     "execution_count": 111,
     "metadata": {},
     "output_type": "execute_result"
    }
   ],
   "source": [
    "df = clean_data(get_data())\n",
    "df"
   ]
  },
  {
   "cell_type": "markdown",
   "id": "cb6d0875",
   "metadata": {},
   "source": [
    "# Embedding"
   ]
  },
  {
   "cell_type": "code",
   "execution_count": 112,
   "id": "320424f7",
   "metadata": {
    "ExecuteTime": {
     "end_time": "2022-04-08T12:48:57.605089Z",
     "start_time": "2022-04-08T12:48:57.602617Z"
    }
   },
   "outputs": [],
   "source": [
    "X = df['text']\n",
    "y = df['target']"
   ]
  },
  {
   "cell_type": "code",
   "execution_count": 113,
   "id": "94658fd7",
   "metadata": {
    "ExecuteTime": {
     "end_time": "2022-04-08T12:48:57.691743Z",
     "start_time": "2022-04-08T12:48:57.606748Z"
    }
   },
   "outputs": [
    {
     "data": {
      "text/plain": [
       "5573"
      ]
     },
     "execution_count": 113,
     "metadata": {},
     "output_type": "execute_result"
    }
   ],
   "source": [
    "tokenizer = Tokenizer()\n",
    "tokenizer.fit_on_texts(X)\n",
    "vocab_size = len(tokenizer.word_index)\n",
    "vocab_size"
   ]
  },
  {
   "cell_type": "code",
   "execution_count": 114,
   "id": "f1aa1732",
   "metadata": {
    "ExecuteTime": {
     "end_time": "2022-04-08T12:48:57.769400Z",
     "start_time": "2022-04-08T12:48:57.694254Z"
    }
   },
   "outputs": [],
   "source": [
    "max_length = 20\n",
    "X_token = tokenizer.texts_to_sequences(X)\n",
    "X_pad = pad_sequences(X_token, dtype='float32', padding='post', maxlen=max_length)"
   ]
  },
  {
   "cell_type": "code",
   "execution_count": 143,
   "id": "a4febe63",
   "metadata": {
    "ExecuteTime": {
     "end_time": "2022-04-08T14:49:45.095771Z",
     "start_time": "2022-04-08T14:49:44.952109Z"
    }
   },
   "outputs": [
    {
     "data": {
      "image/png": "[encoded data removed]",
      "text/plain": [
       "<Figure size 432x288 with 1 Axes>"
      ]
     },
     "metadata": {
      "needs_background": "light"
     },
     "output_type": "display_data"
    }
   ],
   "source": [
    "import matplotlib.pyplot as plt\n",
    "%matplotlib inline\n",
    "\n",
    "def plot_hist(X):\n",
    "    len_ = [len(_) for _ in X]\n",
    "    plt.hist(len_)\n",
    "    plt.title('Number of sentences that contains X words')\n",
    "    plt.show()\n",
    "    \n",
    "plot_hist(X_token)"
   ]
  },
  {
   "cell_type": "markdown",
   "id": "03ad42c2",
   "metadata": {
    "ExecuteTime": {
     "end_time": "2022-04-07T10:53:50.358369Z",
     "start_time": "2022-04-07T10:53:50.334067Z"
    }
   },
   "source": [
    "# TF2.0 and Keras Model Building"
   ]
  },
  {
   "cell_type": "code",
   "execution_count": 116,
   "id": "82c184b7",
   "metadata": {
    "ExecuteTime": {
     "end_time": "2022-04-08T12:48:57.916236Z",
     "start_time": "2022-04-08T12:48:57.911083Z"
    }
   },
   "outputs": [],
   "source": [
    "from keras import backend as K\n",
    "\n",
    "def recall_m(y_true, y_pred):\n",
    "    true_positives = K.sum(K.round(K.clip(y_true * y_pred, 0, 1)))\n",
    "    possible_positives = K.sum(K.round(K.clip(y_true, 0, 1)))\n",
    "    recall = true_positives / (possible_positives + K.epsilon())\n",
    "    return recall\n",
    "\n",
    "def precision_m(y_true, y_pred):\n",
    "    true_positives = K.sum(K.round(K.clip(y_true * y_pred, 0, 1)))\n",
    "    predicted_positives = K.sum(K.round(K.clip(y_pred, 0, 1)))\n",
    "    precision = true_positives / (predicted_positives + K.epsilon())\n",
    "    return precision\n",
    "\n",
    "def f1_m(y_true, y_pred):\n",
    "    precision = precision_m(y_true, y_pred)\n",
    "    recall = recall_m(y_true, y_pred)\n",
    "    return 2*((precision*recall)/(precision+recall+K.epsilon()))"
   ]
  },
  {
   "cell_type": "code",
   "execution_count": 117,
   "id": "d05f156c",
   "metadata": {
    "ExecuteTime": {
     "end_time": "2022-04-08T12:48:58.371253Z",
     "start_time": "2022-04-08T12:48:58.364564Z"
    }
   },
   "outputs": [],
   "source": [
    "X_train, X_test, y_train, y_test = train_test_split(X_pad, y, random_state=42, test_size= 0.2, stratify = y)\n",
    "vec_size = 200"
   ]
  },
  {
   "cell_type": "code",
   "execution_count": 135,
   "id": "566806c0",
   "metadata": {
    "ExecuteTime": {
     "end_time": "2022-04-08T13:52:17.573780Z",
     "start_time": "2022-04-08T13:51:42.988422Z"
    }
   },
   "outputs": [
    {
     "name": "stdout",
     "output_type": "stream",
     "text": [
      "Epoch 1/100\n",
      "267/267 [==============================] - 4s 11ms/step - loss: 0.6881 - acc: 0.5539 - f1_m: 0.3055 - precision_m: 0.4374 - recall_m: 0.3225 - val_loss: 0.6844 - val_acc: 0.5666 - val_f1_m: 0.0000e+00 - val_precision_m: 0.0000e+00 - val_recall_m: 0.0000e+00\n",
      "Epoch 2/100\n",
      "267/267 [==============================] - 3s 10ms/step - loss: 0.6779 - acc: 0.5758 - f1_m: 0.0460 - precision_m: 0.1667 - recall_m: 0.0272 - val_loss: 0.6821 - val_acc: 0.5677 - val_f1_m: 0.0047 - val_precision_m: 0.0174 - val_recall_m: 0.0027\n",
      "Epoch 3/100\n",
      "267/267 [==============================] - 3s 10ms/step - loss: 0.6699 - acc: 0.6007 - f1_m: 0.1955 - precision_m: 0.4942 - recall_m: 0.1308 - val_loss: 0.6694 - val_acc: 0.5890 - val_f1_m: 0.0854 - val_precision_m: 0.2957 - val_recall_m: 0.0512\n",
      "Epoch 4/100\n",
      "267/267 [==============================] - 3s 10ms/step - loss: 0.6333 - acc: 0.6810 - f1_m: 0.4953 - precision_m: 0.7181 - recall_m: 0.4114 - val_loss: 0.6225 - val_acc: 0.7425 - val_f1_m: 0.5839 - val_precision_m: 0.8447 - val_recall_m: 0.4718\n",
      "Epoch 5/100\n",
      "267/267 [==============================] - 3s 10ms/step - loss: 0.5462 - acc: 0.7693 - f1_m: 0.6710 - precision_m: 0.8018 - recall_m: 0.6182 - val_loss: 0.5442 - val_acc: 0.7770 - val_f1_m: 0.6956 - val_precision_m: 0.7923 - val_recall_m: 0.6486\n",
      "Epoch 6/100\n",
      "267/267 [==============================] - 3s 10ms/step - loss: 0.4559 - acc: 0.8252 - f1_m: 0.7533 - precision_m: 0.8450 - recall_m: 0.7049 - val_loss: 0.4999 - val_acc: 0.7901 - val_f1_m: 0.7216 - val_precision_m: 0.7931 - val_recall_m: 0.6925\n",
      "Epoch 7/100\n",
      "267/267 [==============================] - 3s 10ms/step - loss: 0.3919 - acc: 0.8558 - f1_m: 0.8016 - precision_m: 0.8916 - recall_m: 0.7519 - val_loss: 0.4802 - val_acc: 0.7945 - val_f1_m: 0.7256 - val_precision_m: 0.8085 - val_recall_m: 0.6901\n",
      "Epoch 8/100\n",
      "267/267 [==============================] - 3s 10ms/step - loss: 0.3376 - acc: 0.8823 - f1_m: 0.8434 - precision_m: 0.9196 - recall_m: 0.7989 - val_loss: 0.4984 - val_acc: 0.7786 - val_f1_m: 0.7282 - val_precision_m: 0.7365 - val_recall_m: 0.7541\n",
      "Epoch 9/100\n",
      "267/267 [==============================] - 3s 10ms/step - loss: 0.3012 - acc: 0.8973 - f1_m: 0.8598 - precision_m: 0.9269 - recall_m: 0.8198 - val_loss: 0.5129 - val_acc: 0.7748 - val_f1_m: 0.7254 - val_precision_m: 0.7345 - val_recall_m: 0.7549\n",
      "Epoch 10/100\n",
      "267/267 [==============================] - 3s 10ms/step - loss: 0.2661 - acc: 0.9152 - f1_m: 0.8823 - precision_m: 0.9487 - recall_m: 0.8404 - val_loss: 0.5229 - val_acc: 0.7737 - val_f1_m: 0.7244 - val_precision_m: 0.7335 - val_recall_m: 0.7517\n",
      "Epoch 11/100\n",
      "267/267 [==============================] - 3s 10ms/step - loss: 0.2433 - acc: 0.9201 - f1_m: 0.8921 - precision_m: 0.9495 - recall_m: 0.8567 - val_loss: 0.5300 - val_acc: 0.7742 - val_f1_m: 0.7202 - val_precision_m: 0.7404 - val_recall_m: 0.7345\n",
      "Epoch 12/100\n",
      "267/267 [==============================] - 3s 10ms/step - loss: 0.2087 - acc: 0.9345 - f1_m: 0.9134 - precision_m: 0.9668 - recall_m: 0.8771 - val_loss: 0.5615 - val_acc: 0.7710 - val_f1_m: 0.7185 - val_precision_m: 0.7302 - val_recall_m: 0.7383\n"
     ]
    }
   ],
   "source": [
    "model = Sequential()\n",
    "\n",
    "model.add(Embedding(\n",
    "    input_dim=vocab_size+1,\n",
    "    input_length=max_length,\n",
    "    output_dim=vec_size,\n",
    "    mask_zero=True\n",
    "))\n",
    "\n",
    "model.add(Conv1D(64, 8, activation ='relu'))\n",
    "model.add(MaxPooling1D(2))\n",
    "model.add(Dropout(0.5))\n",
    "\n",
    "model.add(Dense(32, activation='relu'))\n",
    "model.add(Dropout(0.5))\n",
    "\n",
    "model.add(Dense(16, activation='relu'))\n",
    "\n",
    "model.add(GlobalMaxPooling1D())\n",
    "\n",
    "model.add(Dense(1, activation='sigmoid'))\n",
    "\n",
    "model.compile(optimizer=Adam(learning_rate = 0.0001), loss = 'binary_crossentropy', metrics = ['acc',f1_m,precision_m, recall_m])\n",
    "\n",
    "es = EarlyStopping(patience=5)\n",
    "history = model.fit(\n",
    "    X_train, \n",
    "    y_train, \n",
    "    validation_split=0.3, \n",
    "    batch_size=16, \n",
    "    epochs=100, \n",
    "    callbacks=[es], \n",
    "    validation_data = (X_test, y_test)\n",
    ")"
   ]
  },
  {
   "cell_type": "code",
   "execution_count": 136,
   "id": "cb5bfe41",
   "metadata": {
    "ExecuteTime": {
     "end_time": "2022-04-08T13:52:17.707363Z",
     "start_time": "2022-04-08T13:52:17.575962Z"
    }
   },
   "outputs": [
    {
     "name": "stdout",
     "output_type": "stream",
     "text": [
      "48/48 [==============================] - 0s 2ms/step - loss: 0.5687 - acc: 0.7666 - f1_m: 0.7287 - precision_m: 0.7180 - recall_m: 0.7559\n"
     ]
    }
   ],
   "source": [
    "loss, accuracy, f1_score, precision, recall = model.evaluate(X_test, y_test)"
   ]
  },
  {
   "cell_type": "code",
   "execution_count": 137,
   "id": "e0f35f24",
   "metadata": {
    "ExecuteTime": {
     "end_time": "2022-04-08T13:52:17.712910Z",
     "start_time": "2022-04-08T13:52:17.709030Z"
    }
   },
   "outputs": [
    {
     "data": {
      "text/plain": [
       "0.7286819815635681"
      ]
     },
     "execution_count": 137,
     "metadata": {},
     "output_type": "execute_result"
    }
   ],
   "source": [
    "f1_score"
   ]
  },
  {
   "cell_type": "code",
   "execution_count": 138,
   "id": "6efbdaf8",
   "metadata": {
    "ExecuteTime": {
     "end_time": "2022-04-08T13:52:17.719029Z",
     "start_time": "2022-04-08T13:52:17.715382Z"
    }
   },
   "outputs": [
    {
     "data": {
      "text/plain": [
       "0.718026340007782"
      ]
     },
     "execution_count": 138,
     "metadata": {},
     "output_type": "execute_result"
    }
   ],
   "source": [
    "precision"
   ]
  },
  {
   "cell_type": "code",
   "execution_count": 139,
   "id": "ea7bb7de",
   "metadata": {
    "ExecuteTime": {
     "end_time": "2022-04-08T13:52:17.723794Z",
     "start_time": "2022-04-08T13:52:17.720585Z"
    }
   },
   "outputs": [
    {
     "data": {
      "text/plain": [
       "0.7666009068489075"
      ]
     },
     "execution_count": 139,
     "metadata": {},
     "output_type": "execute_result"
    }
   ],
   "source": [
    "accuracy"
   ]
  },
  {
   "cell_type": "code",
   "execution_count": 140,
   "id": "4e2b48a6",
   "metadata": {
    "ExecuteTime": {
     "end_time": "2022-04-08T13:52:17.732238Z",
     "start_time": "2022-04-08T13:52:17.725487Z"
    }
   },
   "outputs": [
    {
     "data": {
      "text/plain": [
       "array([[ 149.,  764.,  632.,  707.,    0.,    0.,    0.,    0.,    0.,\n",
       "           0.,    0.,    0.,    0.,    0.,    0.,    0.,    0.,    0.,\n",
       "           0.,    0.],\n",
       "       [1086.,   19.,   56.,    0.,    0.,    0.,    0.,    0.,    0.,\n",
       "           0.,    0.,    0.,    0.,    0.,    0.,    0.,    0.,    0.,\n",
       "           0.,    0.],\n",
       "       [ 441.,  273.,    0.,    0.,    0.,    0.,    0.,    0.,    0.,\n",
       "           0.,    0.,    0.,    0.,    0.,    0.,    0.,    0.,    0.,\n",
       "           0.,    0.],\n",
       "       [ 153.,  737.,  985.,    0.,    0.,    0.,    0.,    0.,    0.,\n",
       "           0.,    0.,    0.,    0.,    0.,    0.,    0.,    0.,    0.,\n",
       "           0.,    0.]], dtype=float32)"
      ]
     },
     "execution_count": 140,
     "metadata": {},
     "output_type": "execute_result"
    }
   ],
   "source": [
    "test = [\n",
    "    \"Truck driver lost control vehicule\", \n",
    "    \"It's a nice day today\", \n",
    "    \"Volcano erupting island\", \n",
    "    \"Earthquake magnitude east coast\"\n",
    "]\n",
    "test_tk = tokenizer.texts_to_sequences(test)\n",
    "test_pad = pad_sequences(test_tk, dtype='float32', padding='post', maxlen=max_length)\n",
    "test_pad"
   ]
  },
  {
   "cell_type": "code",
   "execution_count": 141,
   "id": "4f118478",
   "metadata": {
    "ExecuteTime": {
     "end_time": "2022-04-08T13:52:17.831045Z",
     "start_time": "2022-04-08T13:52:17.733931Z"
    }
   },
   "outputs": [
    {
     "data": {
      "text/plain": [
       "array([[0.9394452 ],\n",
       "       [0.20882004],\n",
       "       [0.23833847],\n",
       "       [0.9549391 ]], dtype=float32)"
      ]
     },
     "execution_count": 141,
     "metadata": {},
     "output_type": "execute_result"
    }
   ],
   "source": [
    "model.predict(test_pad)"
   ]
  }
 ],
 "metadata": {
  "kernelspec": {
   "display_name": "Python 3 (ipykernel)",
   "language": "python",
   "name": "python3"
  },
  "language_info": {
   "codemirror_mode": {
    "name": "ipython",
    "version": 3
   },
   "file_extension": ".py",
   "mimetype": "text/x-python",
   "name": "python",
   "nbconvert_exporter": "python",
   "pygments_lexer": "ipython3",
   "version": "3.8.12"
  },
  "latex_envs": {
   "LaTeX_envs_menu_present": true,
   "autoclose": false,
   "autocomplete": true,
   "bibliofile": "biblio.bib",
   "cite_by": "apalike",
   "current_citInitial": 1,
   "eqLabelWithNumbers": true,
   "eqNumInitial": 1,
   "hotkeys": {
    "equation": "Ctrl-E",
    "itemize": "Ctrl-I"
   },
   "labels_anchors": false,
   "latex_user_defs": false,
   "report_style_numbering": false,
   "user_envs_cfg": false
  },
  "toc": {
   "base_numbering": 1,
   "nav_menu": {},
   "number_sections": true,
   "sideBar": true,
   "skip_h1_title": false,
   "title_cell": "Table of Contents",
   "title_sidebar": "Contents",
   "toc_cell": false,
   "toc_position": {},
   "toc_section_display": true,
   "toc_window_display": false
  }
 },
 "nbformat": 4,
 "nbformat_minor": 5
}
