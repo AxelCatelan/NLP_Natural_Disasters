{
 "cells": [
  {
   "cell_type": "markdown",
   "id": "41b7acab",
   "metadata": {},
   "source": [
    "# BERT"
   ]
  },
  {
   "cell_type": "markdown",
   "id": "98db32fb",
   "metadata": {},
   "source": [
    "Bidirectional Encoder Representations from Transformers"
   ]
  },
  {
   "cell_type": "code",
   "execution_count": null,
   "id": "bbc96aef",
   "metadata": {
    "ExecuteTime": {
     "start_time": "2022-04-12T06:27:36.880Z"
    }
   },
   "outputs": [],
   "source": [
    "from tensorflow.keras.preprocessing.text import Tokenizer\n",
    "from tensorflow.keras.preprocessing.sequence import pad_sequences\n",
    "from tensorflow.keras.models import Sequential\n",
    "from tensorflow.keras import Model\n",
    "from tensorflow.keras.layers import Dense, Flatten, Embedding, Activation, Dropout, LSTM, Input\n",
    "from tensorflow.keras.layers import Conv1D, MaxPooling1D, GlobalMaxPooling1D\n",
    "from tensorflow.keras.optimizers import Adam\n",
    "from tensorflow.keras.callbacks import EarlyStopping\n",
    "from tensorflow.keras import backend as K\n",
    "from tensorflow import string"
   ]
  },
  {
   "cell_type": "code",
   "execution_count": 8,
   "id": "4ac3c000",
   "metadata": {
    "ExecuteTime": {
     "end_time": "2022-04-11T16:28:23.729114Z",
     "start_time": "2022-04-11T16:28:22.622792Z"
    }
   },
   "outputs": [],
   "source": [
    "from NLP_Natural_Disasters.data import get_data, clean_data"
   ]
  },
  {
   "cell_type": "code",
   "execution_count": 3,
   "id": "2a117811",
   "metadata": {
    "ExecuteTime": {
     "end_time": "2022-04-11T15:05:44.357349Z",
     "start_time": "2022-04-11T15:05:40.298509Z"
    }
   },
   "outputs": [],
   "source": [
    "import tensorflow_hub as hub\n",
    "import tensorflow_text as text"
   ]
  },
  {
   "cell_type": "code",
   "execution_count": 4,
   "id": "43c14b57",
   "metadata": {
    "ExecuteTime": {
     "end_time": "2022-04-11T15:06:33.847445Z",
     "start_time": "2022-04-11T15:06:33.842816Z"
    }
   },
   "outputs": [],
   "source": [
    "preprocess_url = \"https://tfhub.dev/tensorflow/bert_en_uncased_preprocess/3\"\n",
    "encoder_url = \"https://tfhub.dev/tensorflow/bert_en_uncased_L-12_H-768_A-12/4\""
   ]
  },
  {
   "cell_type": "code",
   "execution_count": 11,
   "id": "0c58136a",
   "metadata": {
    "ExecuteTime": {
     "end_time": "2022-04-11T16:28:55.539690Z",
     "start_time": "2022-04-11T16:28:52.749058Z"
    }
   },
   "outputs": [],
   "source": [
    "df = get_data()\n",
    "cleaned_df = clean_data(df)"
   ]
  },
  {
   "cell_type": "code",
   "execution_count": 26,
   "id": "4d39d3de",
   "metadata": {
    "ExecuteTime": {
     "end_time": "2022-04-11T16:54:43.409484Z",
     "start_time": "2022-04-11T16:54:43.400138Z"
    }
   },
   "outputs": [],
   "source": [
    "def build_classifier_model():\n",
    "    text_input = Input(shape=(), dtype=string, name='text')\n",
    "    preprocessing_layer = hub.KerasLayer(preprocess_url, name='preprocessing')\n",
    "    encoder_inputs = preprocessing_layer(text_input)\n",
    "    encoder = hub.KerasLayer(encoder_url, trainable=True, name='BERT_encoder')\n",
    "    outputs = encoder(encoder_inputs)\n",
    "    net = outputs['pooled_output']\n",
    "    net = Dropout(0.1)(net)\n",
    "    net = Dense(1, activation=None, name='classifier')(net)\n",
    "    return Model(text_input, net)"
   ]
  },
  {
   "cell_type": "code",
   "execution_count": 27,
   "id": "3ce3852b",
   "metadata": {
    "ExecuteTime": {
     "end_time": "2022-04-11T16:55:01.810797Z",
     "start_time": "2022-04-11T16:54:44.363193Z"
    }
   },
   "outputs": [],
   "source": [
    "bert_model = build_classifier_model()"
   ]
  },
  {
   "cell_type": "code",
   "execution_count": null,
   "id": "48aed39f",
   "metadata": {
    "ExecuteTime": {
     "start_time": "2022-04-11T16:56:50.925Z"
    }
   },
   "outputs": [],
   "source": [
    "bert_results = bert_model(cleaned_df['text'])"
   ]
  },
  {
   "cell_type": "raw",
   "id": "b082a35e",
   "metadata": {},
   "source": []
  }
 ],
 "metadata": {
  "kernelspec": {
   "display_name": "Python 3 (ipykernel)",
   "language": "python",
   "name": "python3"
  },
  "language_info": {
   "codemirror_mode": {
    "name": "ipython",
    "version": 3
   },
   "file_extension": ".py",
   "mimetype": "text/x-python",
   "name": "python",
   "nbconvert_exporter": "python",
   "pygments_lexer": "ipython3",
   "version": "3.8.12"
  },
  "latex_envs": {
   "LaTeX_envs_menu_present": true,
   "autoclose": false,
   "autocomplete": true,
   "bibliofile": "biblio.bib",
   "cite_by": "apalike",
   "current_citInitial": 1,
   "eqLabelWithNumbers": true,
   "eqNumInitial": 1,
   "hotkeys": {
    "equation": "Ctrl-E",
    "itemize": "Ctrl-I"
   },
   "labels_anchors": false,
   "latex_user_defs": false,
   "report_style_numbering": false,
   "user_envs_cfg": false
  },
  "toc": {
   "base_numbering": 1,
   "nav_menu": {},
   "number_sections": true,
   "sideBar": true,
   "skip_h1_title": false,
   "title_cell": "Table of Contents",
   "title_sidebar": "Contents",
   "toc_cell": false,
   "toc_position": {},
   "toc_section_display": true,
   "toc_window_display": false
  }
 },
 "nbformat": 4,
 "nbformat_minor": 5
}
