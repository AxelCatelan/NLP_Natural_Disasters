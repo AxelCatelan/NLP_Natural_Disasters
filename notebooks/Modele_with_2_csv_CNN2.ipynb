{
  "nbformat": 4,
  "nbformat_minor": 0,
  "metadata": {
    "colab": {
      "name": "Modele_with_2_csv_CNN2.ipynb",
      "provenance": [],
      "collapsed_sections": []
    },
    "kernelspec": {
      "name": "python3",
      "display_name": "Python 3"
    },
    "language_info": {
      "name": "python"
    }
  },
  "cells": [
    {
      "cell_type": "code",
      "execution_count": 1,
      "metadata": {
        "id": "E3NHcOhaMWY3"
      },
      "outputs": [],
      "source": [
        "from tensorflow.keras.preprocessing.text import Tokenizer\n",
        "from tensorflow.keras.preprocessing.sequence import pad_sequences"
      ]
    },
    {
      "cell_type": "code",
      "source": [
        "import numpy as np\n",
        "max_long = 25"
      ],
      "metadata": {
        "id": "04LHeI1KMgDg"
      },
      "execution_count": 2,
      "outputs": []
    },
    {
      "cell_type": "code",
      "source": [
        "from google.colab import drive\n",
        "drive.mount('/content/gdrive')"
      ],
      "metadata": {
        "colab": {
          "base_uri": "https://localhost:8080/"
        },
        "id": "DlfgqbAtMj_R",
        "outputId": "8322849b-84b7-4423-9652-2724bc4012af"
      },
      "execution_count": 3,
      "outputs": [
        {
          "output_type": "stream",
          "name": "stdout",
          "text": [
            "Mounted at /content/gdrive\n"
          ]
        }
      ]
    },
    {
      "cell_type": "code",
      "source": [
        "import sys\n",
        "sys.path.append('/content/gdrive/My Drive')"
      ],
      "metadata": {
        "id": "r_b4a-wBMqWT"
      },
      "execution_count": 4,
      "outputs": []
    },
    {
      "cell_type": "code",
      "source": [
        "!pip install unidecode"
      ],
      "metadata": {
        "colab": {
          "base_uri": "https://localhost:8080/"
        },
        "id": "1upxosMNMv3e",
        "outputId": "666a4d58-b602-419b-858e-a7c18d4194e6"
      },
      "execution_count": 5,
      "outputs": [
        {
          "output_type": "stream",
          "name": "stdout",
          "text": [
            "Collecting unidecode\n",
            "  Downloading Unidecode-1.3.4-py3-none-any.whl (235 kB)\n",
            "\u001b[?25l\r\u001b[K     |█▍                              | 10 kB 22.8 MB/s eta 0:00:01\r\u001b[K     |██▉                             | 20 kB 13.4 MB/s eta 0:00:01\r\u001b[K     |████▏                           | 30 kB 9.3 MB/s eta 0:00:01\r\u001b[K     |█████▋                          | 40 kB 3.8 MB/s eta 0:00:01\r\u001b[K     |███████                         | 51 kB 3.8 MB/s eta 0:00:01\r\u001b[K     |████████▍                       | 61 kB 4.4 MB/s eta 0:00:01\r\u001b[K     |█████████▊                      | 71 kB 4.7 MB/s eta 0:00:01\r\u001b[K     |███████████▏                    | 81 kB 4.9 MB/s eta 0:00:01\r\u001b[K     |████████████▌                   | 92 kB 5.4 MB/s eta 0:00:01\r\u001b[K     |██████████████                  | 102 kB 4.4 MB/s eta 0:00:01\r\u001b[K     |███████████████▎                | 112 kB 4.4 MB/s eta 0:00:01\r\u001b[K     |████████████████▊               | 122 kB 4.4 MB/s eta 0:00:01\r\u001b[K     |██████████████████              | 133 kB 4.4 MB/s eta 0:00:01\r\u001b[K     |███████████████████▌            | 143 kB 4.4 MB/s eta 0:00:01\r\u001b[K     |████████████████████▉           | 153 kB 4.4 MB/s eta 0:00:01\r\u001b[K     |██████████████████████▎         | 163 kB 4.4 MB/s eta 0:00:01\r\u001b[K     |███████████████████████▋        | 174 kB 4.4 MB/s eta 0:00:01\r\u001b[K     |█████████████████████████       | 184 kB 4.4 MB/s eta 0:00:01\r\u001b[K     |██████████████████████████▍     | 194 kB 4.4 MB/s eta 0:00:01\r\u001b[K     |███████████████████████████▉    | 204 kB 4.4 MB/s eta 0:00:01\r\u001b[K     |█████████████████████████████▏  | 215 kB 4.4 MB/s eta 0:00:01\r\u001b[K     |██████████████████████████████▋ | 225 kB 4.4 MB/s eta 0:00:01\r\u001b[K     |████████████████████████████████| 235 kB 4.4 MB/s eta 0:00:01\r\u001b[K     |████████████████████████████████| 235 kB 4.4 MB/s \n",
            "\u001b[?25hInstalling collected packages: unidecode\n",
            "Successfully installed unidecode-1.3.4\n"
          ]
        }
      ]
    },
    {
      "cell_type": "code",
      "source": [
        "import data\n",
        "data.get_data, data.clean_data"
      ],
      "metadata": {
        "colab": {
          "base_uri": "https://localhost:8080/"
        },
        "id": "dXK0lbrpMx2l",
        "outputId": "5973ce6f-8b5c-4356-f894-4b15e50a2543"
      },
      "execution_count": 6,
      "outputs": [
        {
          "output_type": "execute_result",
          "data": {
            "text/plain": [
              "(<function data.get_data>, <function data.clean_data>)"
            ]
          },
          "metadata": {},
          "execution_count": 6
        }
      ]
    },
    {
      "cell_type": "code",
      "source": [
        "import token_glove\n",
        "token_glove.create_list, token_glove.token_ize, token_glove.voc_token, token_glove.dict_token, token_glove.token_tweet, token_glove.glove_vector"
      ],
      "metadata": {
        "colab": {
          "base_uri": "https://localhost:8080/"
        },
        "id": "eq9WBI45M0i8",
        "outputId": "261d3025-2f65-4a75-b2ed-0d283d6ff0f0"
      },
      "execution_count": 7,
      "outputs": [
        {
          "output_type": "execute_result",
          "data": {
            "text/plain": [
              "(<function token_glove.create_list>,\n",
              " <function token_glove.token_ize>,\n",
              " <function token_glove.voc_token>,\n",
              " <function token_glove.dict_token>,\n",
              " <function token_glove.token_tweet>,\n",
              " <function token_glove.glove_vector>)"
            ]
          },
          "metadata": {},
          "execution_count": 7
        }
      ]
    },
    {
      "cell_type": "code",
      "source": [
        "import metrics\n",
        "metrics.recall_m, metrics.precision_m, metrics.f1_m"
      ],
      "metadata": {
        "colab": {
          "base_uri": "https://localhost:8080/"
        },
        "id": "yywkD2XOM3OE",
        "outputId": "a12705b5-14d0-430e-e6b0-0d927df1810b"
      },
      "execution_count": 8,
      "outputs": [
        {
          "output_type": "execute_result",
          "data": {
            "text/plain": [
              "(<function metrics.recall_m>,\n",
              " <function metrics.precision_m>,\n",
              " <function metrics.f1_m>)"
            ]
          },
          "metadata": {},
          "execution_count": 8
        }
      ]
    },
    {
      "cell_type": "code",
      "source": [
        "import nltk\n",
        "nltk.download('stopwords')\n",
        "nltk.download('wordnet')\n",
        "nltk.download('punkt')\n",
        "nltk.download('averaged_perceptron_tagger')"
      ],
      "metadata": {
        "colab": {
          "base_uri": "https://localhost:8080/"
        },
        "id": "CjETzcPbM5M1",
        "outputId": "7d3539e6-9f8a-4924-a78a-78884b4a4c61"
      },
      "execution_count": 9,
      "outputs": [
        {
          "output_type": "stream",
          "name": "stdout",
          "text": [
            "[nltk_data] Downloading package stopwords to /root/nltk_data...\n",
            "[nltk_data]   Unzipping corpora/stopwords.zip.\n",
            "[nltk_data] Downloading package wordnet to /root/nltk_data...\n",
            "[nltk_data]   Unzipping corpora/wordnet.zip.\n",
            "[nltk_data] Downloading package punkt to /root/nltk_data...\n",
            "[nltk_data]   Unzipping tokenizers/punkt.zip.\n",
            "[nltk_data] Downloading package averaged_perceptron_tagger to\n",
            "[nltk_data]     /root/nltk_data...\n",
            "[nltk_data]   Unzipping taggers/averaged_perceptron_tagger.zip.\n"
          ]
        },
        {
          "output_type": "execute_result",
          "data": {
            "text/plain": [
              "True"
            ]
          },
          "metadata": {},
          "execution_count": 9
        }
      ]
    },
    {
      "cell_type": "code",
      "source": [
        "df = data.get_data(addon=True)\n",
        "cleaned_df = data.clean_data(df)"
      ],
      "metadata": {
        "id": "lToUcBtUM7BW"
      },
      "execution_count": 10,
      "outputs": []
    },
    {
      "cell_type": "code",
      "source": [
        "cleaned_df"
      ],
      "metadata": {
        "colab": {
          "base_uri": "https://localhost:8080/",
          "height": 423
        },
        "id": "pzpI9qe0B0PB",
        "outputId": "d5586f82-63aa-45cb-bc21-c3465be7f5f9"
      },
      "execution_count": 11,
      "outputs": [
        {
          "output_type": "execute_result",
          "data": {
            "text/plain": [
              "          id                                               text  target\n",
              "0          1         deed reason earthquake may allah forgive u       1\n",
              "1          4                         forest fire near la canada       1\n",
              "2          5  resident asked shelter place notified officer ...       1\n",
              "3          6  people receive wildfire evacuation order calif...       1\n",
              "4          7        got sent photo alaska smoke wildfire school       1\n",
              "...      ...                                                ...     ...\n",
              "11365  11365  medium warned u well advance wrecked whole nig...       0\n",
              "11366  11366  feel directly attacked consider moonbin amp ji...       0\n",
              "11367  11367  feel directly attacked consider moonbin amp ji...       0\n",
              "11368  11368  ok remember outcast nd au au wrecked nerve nd ...       0\n",
              "11369  11369                            jake wrecked running th       1\n",
              "\n",
              "[18956 rows x 3 columns]"
            ],
            "text/html": [
              "\n",
              "  <div id=\"df-98cd475d-cd3e-4413-8b3e-d062bc59c362\">\n",
              "    <div class=\"colab-df-container\">\n",
              "      <div>\n",
              "<style scoped>\n",
              "    .dataframe tbody tr th:only-of-type {\n",
              "        vertical-align: middle;\n",
              "    }\n",
              "\n",
              "    .dataframe tbody tr th {\n",
              "        vertical-align: top;\n",
              "    }\n",
              "\n",
              "    .dataframe thead th {\n",
              "        text-align: right;\n",
              "    }\n",
              "</style>\n",
              "<table border=\"1\" class=\"dataframe\">\n",
              "  <thead>\n",
              "    <tr style=\"text-align: right;\">\n",
              "      <th></th>\n",
              "      <th>id</th>\n",
              "      <th>text</th>\n",
              "      <th>target</th>\n",
              "    </tr>\n",
              "  </thead>\n",
              "  <tbody>\n",
              "    <tr>\n",
              "      <th>0</th>\n",
              "      <td>1</td>\n",
              "      <td>deed reason earthquake may allah forgive u</td>\n",
              "      <td>1</td>\n",
              "    </tr>\n",
              "    <tr>\n",
              "      <th>1</th>\n",
              "      <td>4</td>\n",
              "      <td>forest fire near la canada</td>\n",
              "      <td>1</td>\n",
              "    </tr>\n",
              "    <tr>\n",
              "      <th>2</th>\n",
              "      <td>5</td>\n",
              "      <td>resident asked shelter place notified officer ...</td>\n",
              "      <td>1</td>\n",
              "    </tr>\n",
              "    <tr>\n",
              "      <th>3</th>\n",
              "      <td>6</td>\n",
              "      <td>people receive wildfire evacuation order calif...</td>\n",
              "      <td>1</td>\n",
              "    </tr>\n",
              "    <tr>\n",
              "      <th>4</th>\n",
              "      <td>7</td>\n",
              "      <td>got sent photo alaska smoke wildfire school</td>\n",
              "      <td>1</td>\n",
              "    </tr>\n",
              "    <tr>\n",
              "      <th>...</th>\n",
              "      <td>...</td>\n",
              "      <td>...</td>\n",
              "      <td>...</td>\n",
              "    </tr>\n",
              "    <tr>\n",
              "      <th>11365</th>\n",
              "      <td>11365</td>\n",
              "      <td>medium warned u well advance wrecked whole nig...</td>\n",
              "      <td>0</td>\n",
              "    </tr>\n",
              "    <tr>\n",
              "      <th>11366</th>\n",
              "      <td>11366</td>\n",
              "      <td>feel directly attacked consider moonbin amp ji...</td>\n",
              "      <td>0</td>\n",
              "    </tr>\n",
              "    <tr>\n",
              "      <th>11367</th>\n",
              "      <td>11367</td>\n",
              "      <td>feel directly attacked consider moonbin amp ji...</td>\n",
              "      <td>0</td>\n",
              "    </tr>\n",
              "    <tr>\n",
              "      <th>11368</th>\n",
              "      <td>11368</td>\n",
              "      <td>ok remember outcast nd au au wrecked nerve nd ...</td>\n",
              "      <td>0</td>\n",
              "    </tr>\n",
              "    <tr>\n",
              "      <th>11369</th>\n",
              "      <td>11369</td>\n",
              "      <td>jake wrecked running th</td>\n",
              "      <td>1</td>\n",
              "    </tr>\n",
              "  </tbody>\n",
              "</table>\n",
              "<p>18956 rows × 3 columns</p>\n",
              "</div>\n",
              "      <button class=\"colab-df-convert\" onclick=\"convertToInteractive('df-98cd475d-cd3e-4413-8b3e-d062bc59c362')\"\n",
              "              title=\"Convert this dataframe to an interactive table.\"\n",
              "              style=\"display:none;\">\n",
              "        \n",
              "  <svg xmlns=\"http://www.w3.org/2000/svg\" height=\"24px\"viewBox=\"0 0 24 24\"\n",
              "       width=\"24px\">\n",
              "    <path d=\"M0 0h24v24H0V0z\" fill=\"none\"/>\n",
              "    <path d=\"M18.56 5.44l.94 2.06.94-2.06 2.06-.94-2.06-.94-.94-2.06-.94 2.06-2.06.94zm-11 1L8.5 8.5l.94-2.06 2.06-.94-2.06-.94L8.5 2.5l-.94 2.06-2.06.94zm10 10l.94 2.06.94-2.06 2.06-.94-2.06-.94-.94-2.06-.94 2.06-2.06.94z\"/><path d=\"M17.41 7.96l-1.37-1.37c-.4-.4-.92-.59-1.43-.59-.52 0-1.04.2-1.43.59L10.3 9.45l-7.72 7.72c-.78.78-.78 2.05 0 2.83L4 21.41c.39.39.9.59 1.41.59.51 0 1.02-.2 1.41-.59l7.78-7.78 2.81-2.81c.8-.78.8-2.07 0-2.86zM5.41 20L4 18.59l7.72-7.72 1.47 1.35L5.41 20z\"/>\n",
              "  </svg>\n",
              "      </button>\n",
              "      \n",
              "  <style>\n",
              "    .colab-df-container {\n",
              "      display:flex;\n",
              "      flex-wrap:wrap;\n",
              "      gap: 12px;\n",
              "    }\n",
              "\n",
              "    .colab-df-convert {\n",
              "      background-color: #E8F0FE;\n",
              "      border: none;\n",
              "      border-radius: 50%;\n",
              "      cursor: pointer;\n",
              "      display: none;\n",
              "      fill: #1967D2;\n",
              "      height: 32px;\n",
              "      padding: 0 0 0 0;\n",
              "      width: 32px;\n",
              "    }\n",
              "\n",
              "    .colab-df-convert:hover {\n",
              "      background-color: #E2EBFA;\n",
              "      box-shadow: 0px 1px 2px rgba(60, 64, 67, 0.3), 0px 1px 3px 1px rgba(60, 64, 67, 0.15);\n",
              "      fill: #174EA6;\n",
              "    }\n",
              "\n",
              "    [theme=dark] .colab-df-convert {\n",
              "      background-color: #3B4455;\n",
              "      fill: #D2E3FC;\n",
              "    }\n",
              "\n",
              "    [theme=dark] .colab-df-convert:hover {\n",
              "      background-color: #434B5C;\n",
              "      box-shadow: 0px 1px 3px 1px rgba(0, 0, 0, 0.15);\n",
              "      filter: drop-shadow(0px 1px 2px rgba(0, 0, 0, 0.3));\n",
              "      fill: #FFFFFF;\n",
              "    }\n",
              "  </style>\n",
              "\n",
              "      <script>\n",
              "        const buttonEl =\n",
              "          document.querySelector('#df-98cd475d-cd3e-4413-8b3e-d062bc59c362 button.colab-df-convert');\n",
              "        buttonEl.style.display =\n",
              "          google.colab.kernel.accessAllowed ? 'block' : 'none';\n",
              "\n",
              "        async function convertToInteractive(key) {\n",
              "          const element = document.querySelector('#df-98cd475d-cd3e-4413-8b3e-d062bc59c362');\n",
              "          const dataTable =\n",
              "            await google.colab.kernel.invokeFunction('convertToInteractive',\n",
              "                                                     [key], {});\n",
              "          if (!dataTable) return;\n",
              "\n",
              "          const docLinkHtml = 'Like what you see? Visit the ' +\n",
              "            '<a target=\"_blank\" href=https://colab.research.google.com/notebooks/data_table.ipynb>data table notebook</a>'\n",
              "            + ' to learn more about interactive tables.';\n",
              "          element.innerHTML = '';\n",
              "          dataTable['output_type'] = 'display_data';\n",
              "          await google.colab.output.renderOutput(dataTable, element);\n",
              "          const docLink = document.createElement('div');\n",
              "          docLink.innerHTML = docLinkHtml;\n",
              "          element.appendChild(docLink);\n",
              "        }\n",
              "      </script>\n",
              "    </div>\n",
              "  </div>\n",
              "  "
            ]
          },
          "metadata": {},
          "execution_count": 11
        }
      ]
    },
    {
      "cell_type": "code",
      "source": [
        "text = token_glove.create_list(cleaned_df['text'])\n",
        "token = token_glove.token_ize(text)\n",
        "X = token_glove.token_tweet(text, token)"
      ],
      "metadata": {
        "id": "9HhWN4-6M9Za"
      },
      "execution_count": 12,
      "outputs": []
    },
    {
      "cell_type": "code",
      "source": [
        "word_vector_matrix = token_glove.glove_vector(token)"
      ],
      "metadata": {
        "id": "Ecw82wPcNAH7"
      },
      "execution_count": 13,
      "outputs": []
    },
    {
      "cell_type": "code",
      "source": [
        "from tensorflow.keras.preprocessing.text import Tokenizer\n",
        "from tensorflow.keras.preprocessing.sequence import pad_sequences\n",
        "from tensorflow.keras.models import Sequential\n",
        "from tensorflow.keras.layers import Dense, Flatten, Embedding, Activation, Dropout, LSTM\n",
        "from tensorflow.keras.layers import Conv1D, MaxPooling1D, GlobalMaxPooling1D\n",
        "from tensorflow.keras.optimizers import Adam\n",
        "from tensorflow.keras.callbacks import EarlyStopping\n",
        "from tensorflow.keras import backend as K\n",
        "\n",
        "from sklearn.model_selection import train_test_split\n",
        "from sklearn.metrics import f1_score\n",
        "\n",
        "import numpy as np\n",
        "from numpy import array\n",
        "import pandas as pd\n",
        "import matplotlib.pyplot as plt\n",
        "%matplotlib inline"
      ],
      "metadata": {
        "id": "m7taHkuzNCQd"
      },
      "execution_count": 14,
      "outputs": []
    },
    {
      "cell_type": "code",
      "source": [
        "vocab_size = token_glove.voc_token(token)\n",
        "vec_size = 200"
      ],
      "metadata": {
        "id": "2f0zN-_ANuJL"
      },
      "execution_count": 15,
      "outputs": []
    },
    {
      "cell_type": "code",
      "source": [
        "y = cleaned_df['target']\n",
        "X_train, X_test, y_train, y_test = train_test_split(X, y, random_state=42, test_size= 0.3, stratify = y)"
      ],
      "metadata": {
        "id": "hb0VrCOBENc-"
      },
      "execution_count": 16,
      "outputs": []
    },
    {
      "cell_type": "markdown",
      "source": [
        "# **CNN**"
      ],
      "metadata": {
        "id": "y4Kxn-M3EE76"
      }
    },
    {
      "cell_type": "code",
      "source": [
        "model = Sequential()\n",
        "\n",
        "es = EarlyStopping(patience=10, restore_best_weights= True)\n",
        "\n",
        "model.add(Embedding(vocab_size, vec_size, input_length=max_long, weights = [word_vector_matrix], trainable = True))\n",
        "model.add(Conv1D(128, 16, activation ='relu'))\n",
        "model.add(MaxPooling1D(2))\n",
        "model.add(Dropout(0.5))\n",
        "model.add(Dense(128, activation='relu'))\n",
        "model.add(Dropout(0.5))\n",
        "model.add(Dense(32, activation='relu'))\n",
        "model.add(Dropout(0.5))\n",
        "model.add(Dense(16, activation='relu'))\n",
        "model.add(GlobalMaxPooling1D())\n",
        "model.add(Dense(1, activation='sigmoid'))\n",
        "model.compile(optimizer=Adam(learning_rate = 0.0001), loss = 'binary_crossentropy', metrics = [metrics.f1_m])\n",
        "history = model.fit(X_train, y_train, batch_size=64, epochs = 400, validation_data = (X_test, y_test), callbacks = [es])"
      ],
      "metadata": {
        "id": "JAJkAKMpNyte",
        "colab": {
          "base_uri": "https://localhost:8080/"
        },
        "outputId": "ab94a4bc-8f65-4b9f-93e7-b794d51b1246"
      },
      "execution_count": 18,
      "outputs": [
        {
          "output_type": "stream",
          "name": "stdout",
          "text": [
            "Epoch 1/400\n",
            "208/208 [==============================] - 28s 122ms/step - loss: 0.6291 - f1_m: 0.1737 - val_loss: 0.5745 - val_f1_m: 0.0153\n",
            "Epoch 2/400\n",
            "208/208 [==============================] - 25s 120ms/step - loss: 0.5304 - f1_m: 0.3122 - val_loss: 0.4989 - val_f1_m: 0.4921\n",
            "Epoch 3/400\n",
            "208/208 [==============================] - 24s 117ms/step - loss: 0.4765 - f1_m: 0.5221 - val_loss: 0.4748 - val_f1_m: 0.6261\n",
            "Epoch 4/400\n",
            "208/208 [==============================] - 24s 118ms/step - loss: 0.4498 - f1_m: 0.5818 - val_loss: 0.4586 - val_f1_m: 0.6328\n",
            "Epoch 5/400\n",
            "208/208 [==============================] - 24s 117ms/step - loss: 0.4296 - f1_m: 0.6139 - val_loss: 0.4487 - val_f1_m: 0.6454\n",
            "Epoch 6/400\n",
            "208/208 [==============================] - 24s 116ms/step - loss: 0.4175 - f1_m: 0.6280 - val_loss: 0.4405 - val_f1_m: 0.6498\n",
            "Epoch 7/400\n",
            "208/208 [==============================] - 24s 117ms/step - loss: 0.4025 - f1_m: 0.6496 - val_loss: 0.4371 - val_f1_m: 0.6524\n",
            "Epoch 8/400\n",
            "208/208 [==============================] - 24s 118ms/step - loss: 0.3887 - f1_m: 0.6644 - val_loss: 0.4318 - val_f1_m: 0.6638\n",
            "Epoch 9/400\n",
            "208/208 [==============================] - 25s 121ms/step - loss: 0.3732 - f1_m: 0.6864 - val_loss: 0.4214 - val_f1_m: 0.6702\n",
            "Epoch 10/400\n",
            "208/208 [==============================] - 25s 119ms/step - loss: 0.3611 - f1_m: 0.7100 - val_loss: 0.4110 - val_f1_m: 0.6713\n",
            "Epoch 11/400\n",
            "208/208 [==============================] - 25s 118ms/step - loss: 0.3472 - f1_m: 0.7110 - val_loss: 0.4076 - val_f1_m: 0.6762\n",
            "Epoch 12/400\n",
            "208/208 [==============================] - 25s 118ms/step - loss: 0.3307 - f1_m: 0.7273 - val_loss: 0.4031 - val_f1_m: 0.6829\n",
            "Epoch 13/400\n",
            "208/208 [==============================] - 25s 118ms/step - loss: 0.3131 - f1_m: 0.7482 - val_loss: 0.4008 - val_f1_m: 0.6828\n",
            "Epoch 14/400\n",
            "208/208 [==============================] - 25s 118ms/step - loss: 0.2989 - f1_m: 0.7593 - val_loss: 0.3945 - val_f1_m: 0.6844\n",
            "Epoch 15/400\n",
            "208/208 [==============================] - 25s 119ms/step - loss: 0.2781 - f1_m: 0.7783 - val_loss: 0.3956 - val_f1_m: 0.6938\n",
            "Epoch 16/400\n",
            "208/208 [==============================] - 25s 119ms/step - loss: 0.2638 - f1_m: 0.7961 - val_loss: 0.3909 - val_f1_m: 0.6960\n",
            "Epoch 17/400\n",
            "208/208 [==============================] - 25s 119ms/step - loss: 0.2469 - f1_m: 0.8102 - val_loss: 0.4007 - val_f1_m: 0.6988\n",
            "Epoch 18/400\n",
            "208/208 [==============================] - 25s 118ms/step - loss: 0.2296 - f1_m: 0.8275 - val_loss: 0.3995 - val_f1_m: 0.6951\n",
            "Epoch 19/400\n",
            "208/208 [==============================] - 25s 118ms/step - loss: 0.2134 - f1_m: 0.8422 - val_loss: 0.4036 - val_f1_m: 0.6928\n",
            "Epoch 20/400\n",
            "208/208 [==============================] - 25s 119ms/step - loss: 0.2002 - f1_m: 0.8540 - val_loss: 0.4322 - val_f1_m: 0.6958\n",
            "Epoch 21/400\n",
            "208/208 [==============================] - 25s 118ms/step - loss: 0.1881 - f1_m: 0.8640 - val_loss: 0.4175 - val_f1_m: 0.6903\n",
            "Epoch 22/400\n",
            "208/208 [==============================] - 25s 119ms/step - loss: 0.1670 - f1_m: 0.8834 - val_loss: 0.4370 - val_f1_m: 0.6895\n",
            "Epoch 23/400\n",
            "208/208 [==============================] - 25s 119ms/step - loss: 0.1539 - f1_m: 0.8944 - val_loss: 0.4482 - val_f1_m: 0.6821\n",
            "Epoch 24/400\n",
            "208/208 [==============================] - 25s 119ms/step - loss: 0.1423 - f1_m: 0.9013 - val_loss: 0.4607 - val_f1_m: 0.6882\n",
            "Epoch 25/400\n",
            "208/208 [==============================] - 25s 120ms/step - loss: 0.1332 - f1_m: 0.9143 - val_loss: 0.4823 - val_f1_m: 0.6885\n",
            "Epoch 26/400\n",
            "208/208 [==============================] - 25s 119ms/step - loss: 0.1220 - f1_m: 0.9204 - val_loss: 0.4874 - val_f1_m: 0.6775\n"
          ]
        }
      ]
    },
    {
      "cell_type": "code",
      "source": [
        ""
      ],
      "metadata": {
        "id": "PExhsUcNEIld"
      },
      "execution_count": null,
      "outputs": []
    }
  ]
}