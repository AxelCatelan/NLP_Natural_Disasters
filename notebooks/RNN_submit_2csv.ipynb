{
  "nbformat": 4,
  "nbformat_minor": 0,
  "metadata": {
    "colab": {
      "name": "RNN_submit_2csv.ipynb",
      "provenance": [],
      "collapsed_sections": []
    },
    "kernelspec": {
      "name": "python3",
      "display_name": "Python 3"
    },
    "language_info": {
      "name": "python"
    }
  },
  "cells": [
    {
      "cell_type": "code",
      "execution_count": 3,
      "metadata": {
        "id": "E3NHcOhaMWY3"
      },
      "outputs": [],
      "source": [
        "from tensorflow.keras.preprocessing.text import Tokenizer\n",
        "from tensorflow.keras.preprocessing.sequence import pad_sequences"
      ]
    },
    {
      "cell_type": "code",
      "source": [
        "import numpy as np\n",
        "max_long = 25"
      ],
      "metadata": {
        "id": "04LHeI1KMgDg"
      },
      "execution_count": 4,
      "outputs": []
    },
    {
      "cell_type": "code",
      "source": [
        "from google.colab import drive\n",
        "drive.mount('/content/gdrive')"
      ],
      "metadata": {
        "colab": {
          "base_uri": "https://localhost:8080/"
        },
        "id": "DlfgqbAtMj_R",
        "outputId": "58a55d16-8cee-4e44-b4fa-11429fd00f9d"
      },
      "execution_count": 5,
      "outputs": [
        {
          "output_type": "stream",
          "name": "stdout",
          "text": [
            "Mounted at /content/gdrive\n"
          ]
        }
      ]
    },
    {
      "cell_type": "code",
      "source": [
        "import sys\n",
        "sys.path.append('/content/gdrive/My Drive')"
      ],
      "metadata": {
        "id": "r_b4a-wBMqWT"
      },
      "execution_count": 6,
      "outputs": []
    },
    {
      "cell_type": "code",
      "source": [
        "!pip install unidecode"
      ],
      "metadata": {
        "colab": {
          "base_uri": "https://localhost:8080/"
        },
        "id": "1upxosMNMv3e",
        "outputId": "1c9a5eba-6953-48d4-bee9-be8fc123b35c"
      },
      "execution_count": 7,
      "outputs": [
        {
          "output_type": "stream",
          "name": "stdout",
          "text": [
            "Collecting unidecode\n",
            "  Downloading Unidecode-1.3.4-py3-none-any.whl (235 kB)\n",
            "\u001b[?25l\r\u001b[K     |█▍                              | 10 kB 29.8 MB/s eta 0:00:01\r\u001b[K     |██▉                             | 20 kB 32.6 MB/s eta 0:00:01\r\u001b[K     |████▏                           | 30 kB 20.7 MB/s eta 0:00:01\r\u001b[K     |█████▋                          | 40 kB 17.3 MB/s eta 0:00:01\r\u001b[K     |███████                         | 51 kB 12.6 MB/s eta 0:00:01\r\u001b[K     |████████▍                       | 61 kB 14.7 MB/s eta 0:00:01\r\u001b[K     |█████████▊                      | 71 kB 13.4 MB/s eta 0:00:01\r\u001b[K     |███████████▏                    | 81 kB 14.8 MB/s eta 0:00:01\r\u001b[K     |████████████▌                   | 92 kB 16.3 MB/s eta 0:00:01\r\u001b[K     |██████████████                  | 102 kB 13.4 MB/s eta 0:00:01\r\u001b[K     |███████████████▎                | 112 kB 13.4 MB/s eta 0:00:01\r\u001b[K     |████████████████▊               | 122 kB 13.4 MB/s eta 0:00:01\r\u001b[K     |██████████████████              | 133 kB 13.4 MB/s eta 0:00:01\r\u001b[K     |███████████████████▌            | 143 kB 13.4 MB/s eta 0:00:01\r\u001b[K     |████████████████████▉           | 153 kB 13.4 MB/s eta 0:00:01\r\u001b[K     |██████████████████████▎         | 163 kB 13.4 MB/s eta 0:00:01\r\u001b[K     |███████████████████████▋        | 174 kB 13.4 MB/s eta 0:00:01\r\u001b[K     |█████████████████████████       | 184 kB 13.4 MB/s eta 0:00:01\r\u001b[K     |██████████████████████████▍     | 194 kB 13.4 MB/s eta 0:00:01\r\u001b[K     |███████████████████████████▉    | 204 kB 13.4 MB/s eta 0:00:01\r\u001b[K     |█████████████████████████████▏  | 215 kB 13.4 MB/s eta 0:00:01\r\u001b[K     |██████████████████████████████▋ | 225 kB 13.4 MB/s eta 0:00:01\r\u001b[K     |████████████████████████████████| 235 kB 13.4 MB/s eta 0:00:01\r\u001b[K     |████████████████████████████████| 235 kB 13.4 MB/s \n",
            "\u001b[?25hInstalling collected packages: unidecode\n",
            "Successfully installed unidecode-1.3.4\n"
          ]
        }
      ]
    },
    {
      "cell_type": "code",
      "source": [
        "import data\n",
        "data.get_data, data.clean_data"
      ],
      "metadata": {
        "colab": {
          "base_uri": "https://localhost:8080/"
        },
        "id": "dXK0lbrpMx2l",
        "outputId": "29f3faab-c604-4dfa-ac38-0147ede30199"
      },
      "execution_count": 8,
      "outputs": [
        {
          "output_type": "execute_result",
          "data": {
            "text/plain": [
              "(<function data.get_data>, <function data.clean_data>)"
            ]
          },
          "metadata": {},
          "execution_count": 8
        }
      ]
    },
    {
      "cell_type": "code",
      "source": [
        "import token_glove\n",
        "token_glove.create_list, token_glove.token_ize, token_glove.voc_token, token_glove.dict_token, token_glove.token_tweet, token_glove.glove_vector"
      ],
      "metadata": {
        "colab": {
          "base_uri": "https://localhost:8080/"
        },
        "id": "eq9WBI45M0i8",
        "outputId": "23fd5be0-066a-4123-e4cf-a1838e0db6b1"
      },
      "execution_count": 9,
      "outputs": [
        {
          "output_type": "execute_result",
          "data": {
            "text/plain": [
              "(<function token_glove.create_list>,\n",
              " <function token_glove.token_ize>,\n",
              " <function token_glove.voc_token>,\n",
              " <function token_glove.dict_token>,\n",
              " <function token_glove.token_tweet>,\n",
              " <function token_glove.glove_vector>)"
            ]
          },
          "metadata": {},
          "execution_count": 9
        }
      ]
    },
    {
      "cell_type": "code",
      "source": [
        "import metrics\n",
        "metrics.recall_m, metrics.precision_m, metrics.f1_m"
      ],
      "metadata": {
        "colab": {
          "base_uri": "https://localhost:8080/"
        },
        "id": "yywkD2XOM3OE",
        "outputId": "1d3e7c2d-6cbb-4746-e60b-d2b2a15f9e53"
      },
      "execution_count": 10,
      "outputs": [
        {
          "output_type": "execute_result",
          "data": {
            "text/plain": [
              "(<function metrics.recall_m>,\n",
              " <function metrics.precision_m>,\n",
              " <function metrics.f1_m>)"
            ]
          },
          "metadata": {},
          "execution_count": 10
        }
      ]
    },
    {
      "cell_type": "code",
      "source": [
        "import nltk\n",
        "nltk.download('stopwords')\n",
        "nltk.download('wordnet')\n",
        "nltk.download('punkt')\n",
        "nltk.download('averaged_perceptron_tagger')"
      ],
      "metadata": {
        "colab": {
          "base_uri": "https://localhost:8080/"
        },
        "id": "CjETzcPbM5M1",
        "outputId": "a31db74b-a9f8-4c76-e7a2-d562e790a0a7"
      },
      "execution_count": 11,
      "outputs": [
        {
          "output_type": "stream",
          "name": "stdout",
          "text": [
            "[nltk_data] Downloading package stopwords to /root/nltk_data...\n",
            "[nltk_data]   Unzipping corpora/stopwords.zip.\n",
            "[nltk_data] Downloading package wordnet to /root/nltk_data...\n",
            "[nltk_data]   Unzipping corpora/wordnet.zip.\n",
            "[nltk_data] Downloading package punkt to /root/nltk_data...\n",
            "[nltk_data]   Unzipping tokenizers/punkt.zip.\n",
            "[nltk_data] Downloading package averaged_perceptron_tagger to\n",
            "[nltk_data]     /root/nltk_data...\n",
            "[nltk_data]   Unzipping taggers/averaged_perceptron_tagger.zip.\n"
          ]
        },
        {
          "output_type": "execute_result",
          "data": {
            "text/plain": [
              "True"
            ]
          },
          "metadata": {},
          "execution_count": 11
        }
      ]
    },
    {
      "cell_type": "code",
      "source": [
        "df = data.get_data(addon=True)\n",
        "cleaned_df = data.clean_data(df)"
      ],
      "metadata": {
        "id": "lToUcBtUM7BW"
      },
      "execution_count": 12,
      "outputs": []
    },
    {
      "cell_type": "code",
      "source": [
        "text = token_glove.create_list(cleaned_df['text'])\n",
        "token = token_glove.token_ize(text)\n",
        "X = token_glove.token_tweet(text, token)"
      ],
      "metadata": {
        "id": "9HhWN4-6M9Za"
      },
      "execution_count": 13,
      "outputs": []
    },
    {
      "cell_type": "code",
      "source": [
        "word_vector_matrix = token_glove.glove_vector(token)"
      ],
      "metadata": {
        "id": "Ecw82wPcNAH7"
      },
      "execution_count": 14,
      "outputs": []
    },
    {
      "cell_type": "code",
      "source": [
        "from tensorflow.keras.preprocessing.text import Tokenizer\n",
        "from tensorflow.keras.preprocessing.sequence import pad_sequences\n",
        "from tensorflow.keras.models import Sequential\n",
        "from tensorflow.keras.layers import Dense, Flatten, Embedding, Activation, Dropout, LSTM\n",
        "from tensorflow.keras.layers import Conv1D, MaxPooling1D, GlobalMaxPooling1D\n",
        "from tensorflow.keras.optimizers import Adam\n",
        "from tensorflow.keras.callbacks import EarlyStopping\n",
        "from tensorflow.keras import backend as K\n",
        "\n",
        "from sklearn.model_selection import train_test_split\n",
        "from sklearn.metrics import f1_score\n",
        "\n",
        "import numpy as np\n",
        "from numpy import array\n",
        "import pandas as pd\n",
        "import matplotlib.pyplot as plt\n",
        "%matplotlib inline"
      ],
      "metadata": {
        "id": "m7taHkuzNCQd"
      },
      "execution_count": 15,
      "outputs": []
    },
    {
      "cell_type": "code",
      "source": [
        "vocab_size = token_glove.voc_token(token)\n",
        "vec_size = 200"
      ],
      "metadata": {
        "id": "2f0zN-_ANuJL"
      },
      "execution_count": 16,
      "outputs": []
    },
    {
      "cell_type": "code",
      "source": [
        "y = cleaned_df['target']"
      ],
      "metadata": {
        "id": "dGnLdKJiLgAQ"
      },
      "execution_count": 17,
      "outputs": []
    },
    {
      "cell_type": "code",
      "source": [
        "model = Sequential()\n",
        "\n",
        "model.add(Embedding(vocab_size, vec_size, input_length=max_long, weights = [word_vector_matrix], trainable = True))\n",
        "model.add(LSTM(128,return_sequences = True))\n",
        "model.add(Dropout(0.5))\n",
        "model.add(LSTM(32, return_sequences = False))\n",
        "model.add(Dropout(0.4))\n",
        "model.add(Dense(32, activation = 'relu'))\n",
        "model.add(Dropout(0.2))\n",
        "model.add(Dense(1, activation = 'sigmoid'))\n",
        "model.compile(loss='binary_crossentropy',optimizer=Adam(learning_rate = 0.0001),metrics=[metrics.f1_m])\n",
        "history = model.fit(X, y, batch_size=16, epochs = 7)"
      ],
      "metadata": {
        "id": "JAJkAKMpNyte",
        "colab": {
          "base_uri": "https://localhost:8080/"
        },
        "outputId": "cb689187-3a2d-4e8a-d274-c0e226f77335"
      },
      "execution_count": 19,
      "outputs": [
        {
          "output_type": "stream",
          "name": "stdout",
          "text": [
            "Epoch 1/7\n",
            "1187/1187 [==============================] - 64s 51ms/step - loss: 0.4465 - f1_m: 0.5781\n",
            "Epoch 2/7\n",
            "1187/1187 [==============================] - 55s 46ms/step - loss: 0.3868 - f1_m: 0.6608\n",
            "Epoch 3/7\n",
            "1187/1187 [==============================] - 55s 46ms/step - loss: 0.3544 - f1_m: 0.6872\n",
            "Epoch 4/7\n",
            "1187/1187 [==============================] - 55s 47ms/step - loss: 0.3215 - f1_m: 0.7223\n",
            "Epoch 5/7\n",
            "1187/1187 [==============================] - 56s 47ms/step - loss: 0.2971 - f1_m: 0.7469\n",
            "Epoch 6/7\n",
            "1187/1187 [==============================] - 56s 47ms/step - loss: 0.2709 - f1_m: 0.7704\n",
            "Epoch 7/7\n",
            "1187/1187 [==============================] - 56s 47ms/step - loss: 0.2471 - f1_m: 0.7973\n"
          ]
        }
      ]
    },
    {
      "cell_type": "markdown",
      "source": [
        "#Phase de Test"
      ],
      "metadata": {
        "id": "0m2Q_V5pbyWa"
      }
    },
    {
      "cell_type": "code",
      "source": [
        "df = data.get_data(test=True)\n",
        "test_df = data.clean_data(df)"
      ],
      "metadata": {
        "id": "Y-En_56pL7e-"
      },
      "execution_count": 20,
      "outputs": []
    },
    {
      "cell_type": "code",
      "source": [
        "text_test = token_glove.create_list(test_df['text'])\n",
        "token_test = token_glove.token_ize(text_test)\n",
        "X_test = token_glove.token_tweet(text_test, token_test)"
      ],
      "metadata": {
        "id": "geeRkNRub5C7"
      },
      "execution_count": 21,
      "outputs": []
    },
    {
      "cell_type": "code",
      "source": [
        "results = model.predict(X_test)"
      ],
      "metadata": {
        "id": "jW3LCAOVb7xi"
      },
      "execution_count": 23,
      "outputs": []
    },
    {
      "cell_type": "code",
      "source": [
        "results"
      ],
      "metadata": {
        "colab": {
          "base_uri": "https://localhost:8080/"
        },
        "id": "1nRbOqgNPDiX",
        "outputId": "f484f55f-148c-45b0-8627-fb3b66632985"
      },
      "execution_count": 33,
      "outputs": [
        {
          "output_type": "execute_result",
          "data": {
            "text/plain": [
              "array([[0.5386539 ],\n",
              "       [0.17089102],\n",
              "       [0.04549998],\n",
              "       ...,\n",
              "       [0.0556531 ],\n",
              "       [0.41681018],\n",
              "       [0.06549841]], dtype=float32)"
            ]
          },
          "metadata": {},
          "execution_count": 33
        }
      ]
    },
    {
      "cell_type": "code",
      "source": [
        "def arrondi(n):\n",
        "  if n >= 0.55:\n",
        "    return 1\n",
        "  else :\n",
        "    return 0"
      ],
      "metadata": {
        "id": "M10H6gMEb-iR"
      },
      "execution_count": 24,
      "outputs": []
    },
    {
      "cell_type": "code",
      "source": [
        "to_submit = [arrondi(x[0]) for x in results]"
      ],
      "metadata": {
        "id": "VWx8Q_aHx19C"
      },
      "execution_count": 25,
      "outputs": []
    },
    {
      "cell_type": "code",
      "source": [
        "to_submit_df = pd.DataFrame(to_submit)"
      ],
      "metadata": {
        "id": "asgKlq7Nx3qL"
      },
      "execution_count": 26,
      "outputs": []
    },
    {
      "cell_type": "code",
      "source": [
        "to_submit_df.rename(columns={0: 'target'}, inplace=True)"
      ],
      "metadata": {
        "id": "bLTj5gVmx7zB"
      },
      "execution_count": 27,
      "outputs": []
    },
    {
      "cell_type": "code",
      "source": [
        "to_submit_df['id'] = test_df.id"
      ],
      "metadata": {
        "id": "7tbP_LU3x9nQ"
      },
      "execution_count": 28,
      "outputs": []
    },
    {
      "cell_type": "code",
      "source": [
        "to_submit_df = to_submit_df.set_index('id')"
      ],
      "metadata": {
        "id": "1V4Mf71Dx_lh"
      },
      "execution_count": 29,
      "outputs": []
    },
    {
      "cell_type": "code",
      "source": [
        "to_submit_df.to_csv('/content/gdrive/My Drive/submission2.csv')"
      ],
      "metadata": {
        "id": "kgEYLW1oyBiq"
      },
      "execution_count": 31,
      "outputs": []
    },
    {
      "cell_type": "code",
      "source": [
        "model.save('/content/gdrive/My Drive/RNN_camille_2CSV_v2')"
      ],
      "metadata": {
        "colab": {
          "base_uri": "https://localhost:8080/"
        },
        "id": "kJVHF8tryC82",
        "outputId": "5569b725-dfc3-4b9a-fdc3-3a0bc9154736"
      },
      "execution_count": 32,
      "outputs": [
        {
          "output_type": "stream",
          "name": "stderr",
          "text": [
            "WARNING:absl:Found untraced functions such as lstm_cell_2_layer_call_fn, lstm_cell_2_layer_call_and_return_conditional_losses, lstm_cell_3_layer_call_fn, lstm_cell_3_layer_call_and_return_conditional_losses while saving (showing 4 of 4). These functions will not be directly callable after loading.\n"
          ]
        },
        {
          "output_type": "stream",
          "name": "stdout",
          "text": [
            "INFO:tensorflow:Assets written to: /content/gdrive/My Drive/RNN_camille_2CSV_v2/assets\n"
          ]
        },
        {
          "output_type": "stream",
          "name": "stderr",
          "text": [
            "INFO:tensorflow:Assets written to: /content/gdrive/My Drive/RNN_camille_2CSV_v2/assets\n",
            "WARNING:absl:<keras.layers.recurrent.LSTMCell object at 0x7f37cdefcb10> has the same name 'LSTMCell' as a built-in Keras object. Consider renaming <class 'keras.layers.recurrent.LSTMCell'> to avoid naming conflicts when loading with `tf.keras.models.load_model`. If renaming is not possible, pass the object in the `custom_objects` parameter of the load function.\n",
            "WARNING:absl:<keras.layers.recurrent.LSTMCell object at 0x7f37ce20cfd0> has the same name 'LSTMCell' as a built-in Keras object. Consider renaming <class 'keras.layers.recurrent.LSTMCell'> to avoid naming conflicts when loading with `tf.keras.models.load_model`. If renaming is not possible, pass the object in the `custom_objects` parameter of the load function.\n"
          ]
        }
      ]
    },
    {
      "cell_type": "code",
      "source": [
        ""
      ],
      "metadata": {
        "id": "6klp42l_z7td"
      },
      "execution_count": null,
      "outputs": []
    }
  ]
}