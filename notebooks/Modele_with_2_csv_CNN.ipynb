{
  "nbformat": 4,
  "nbformat_minor": 0,
  "metadata": {
    "colab": {
      "name": "Modele_with_2_csv_CNN.ipynb",
      "provenance": [],
      "collapsed_sections": []
    },
    "kernelspec": {
      "name": "python3",
      "display_name": "Python 3"
    },
    "language_info": {
      "name": "python"
    }
  },
  "cells": [
    {
      "cell_type": "code",
      "execution_count": 19,
      "metadata": {
        "id": "E3NHcOhaMWY3"
      },
      "outputs": [],
      "source": [
        "from tensorflow.keras.preprocessing.text import Tokenizer\n",
        "from tensorflow.keras.preprocessing.sequence import pad_sequences"
      ]
    },
    {
      "cell_type": "code",
      "source": [
        "import numpy as np\n",
        "max_long = 25"
      ],
      "metadata": {
        "id": "04LHeI1KMgDg"
      },
      "execution_count": 20,
      "outputs": []
    },
    {
      "cell_type": "code",
      "source": [
        "from google.colab import drive\n",
        "drive.mount('/content/gdrive')"
      ],
      "metadata": {
        "colab": {
          "base_uri": "https://localhost:8080/"
        },
        "id": "DlfgqbAtMj_R",
        "outputId": "d332fc35-b24c-41d5-9428-4b14e392a08a"
      },
      "execution_count": 21,
      "outputs": [
        {
          "output_type": "stream",
          "name": "stdout",
          "text": [
            "Drive already mounted at /content/gdrive; to attempt to forcibly remount, call drive.mount(\"/content/gdrive\", force_remount=True).\n"
          ]
        }
      ]
    },
    {
      "cell_type": "code",
      "source": [
        "import sys\n",
        "sys.path.append('/content/gdrive/My Drive')"
      ],
      "metadata": {
        "id": "r_b4a-wBMqWT"
      },
      "execution_count": 22,
      "outputs": []
    },
    {
      "cell_type": "code",
      "source": [
        "!pip install unidecode"
      ],
      "metadata": {
        "colab": {
          "base_uri": "https://localhost:8080/"
        },
        "id": "1upxosMNMv3e",
        "outputId": "7f828251-8406-45e9-ac4c-28883041bdec"
      },
      "execution_count": 23,
      "outputs": [
        {
          "output_type": "stream",
          "name": "stdout",
          "text": [
            "Requirement already satisfied: unidecode in /usr/local/lib/python3.7/dist-packages (1.3.4)\n"
          ]
        }
      ]
    },
    {
      "cell_type": "code",
      "source": [
        "import data\n",
        "data.get_data, data.clean_data"
      ],
      "metadata": {
        "colab": {
          "base_uri": "https://localhost:8080/"
        },
        "id": "dXK0lbrpMx2l",
        "outputId": "f5b28619-6930-4cc3-900b-7d1286dbb2f7"
      },
      "execution_count": 24,
      "outputs": [
        {
          "output_type": "execute_result",
          "data": {
            "text/plain": [
              "(<function data.get_data>, <function data.clean_data>)"
            ]
          },
          "metadata": {},
          "execution_count": 24
        }
      ]
    },
    {
      "cell_type": "code",
      "source": [
        "import token_glove\n",
        "token_glove.create_list, token_glove.token_ize, token_glove.voc_token, token_glove.dict_token, token_glove.token_tweet, token_glove.glove_vector"
      ],
      "metadata": {
        "colab": {
          "base_uri": "https://localhost:8080/"
        },
        "id": "eq9WBI45M0i8",
        "outputId": "82f814f5-df96-4b0a-cf77-786da8209263"
      },
      "execution_count": 25,
      "outputs": [
        {
          "output_type": "execute_result",
          "data": {
            "text/plain": [
              "(<function token_glove.create_list>,\n",
              " <function token_glove.token_ize>,\n",
              " <function token_glove.voc_token>,\n",
              " <function token_glove.dict_token>,\n",
              " <function token_glove.token_tweet>,\n",
              " <function token_glove.glove_vector>)"
            ]
          },
          "metadata": {},
          "execution_count": 25
        }
      ]
    },
    {
      "cell_type": "code",
      "source": [
        "import metrics\n",
        "metrics.recall_m, metrics.precision_m, metrics.f1_m"
      ],
      "metadata": {
        "colab": {
          "base_uri": "https://localhost:8080/"
        },
        "id": "yywkD2XOM3OE",
        "outputId": "0b9f159f-89c9-4a2e-e658-91e2d8d82abb"
      },
      "execution_count": 26,
      "outputs": [
        {
          "output_type": "execute_result",
          "data": {
            "text/plain": [
              "(<function metrics.recall_m>,\n",
              " <function metrics.precision_m>,\n",
              " <function metrics.f1_m>)"
            ]
          },
          "metadata": {},
          "execution_count": 26
        }
      ]
    },
    {
      "cell_type": "code",
      "source": [
        "import nltk\n",
        "nltk.download('stopwords')\n",
        "nltk.download('wordnet')\n",
        "nltk.download('punkt')\n",
        "nltk.download('averaged_perceptron_tagger')"
      ],
      "metadata": {
        "colab": {
          "base_uri": "https://localhost:8080/"
        },
        "id": "CjETzcPbM5M1",
        "outputId": "5bfc7ab2-e246-4a66-f470-264433fa0e08"
      },
      "execution_count": 27,
      "outputs": [
        {
          "output_type": "stream",
          "name": "stdout",
          "text": [
            "[nltk_data] Downloading package stopwords to /root/nltk_data...\n",
            "[nltk_data]   Package stopwords is already up-to-date!\n",
            "[nltk_data] Downloading package wordnet to /root/nltk_data...\n",
            "[nltk_data]   Package wordnet is already up-to-date!\n",
            "[nltk_data] Downloading package punkt to /root/nltk_data...\n",
            "[nltk_data]   Package punkt is already up-to-date!\n",
            "[nltk_data] Downloading package averaged_perceptron_tagger to\n",
            "[nltk_data]     /root/nltk_data...\n",
            "[nltk_data]   Package averaged_perceptron_tagger is already up-to-\n",
            "[nltk_data]       date!\n"
          ]
        },
        {
          "output_type": "execute_result",
          "data": {
            "text/plain": [
              "True"
            ]
          },
          "metadata": {},
          "execution_count": 27
        }
      ]
    },
    {
      "cell_type": "code",
      "source": [
        "df = data.get_data(addon=True)\n",
        "cleaned_df = data.clean_data(df)"
      ],
      "metadata": {
        "id": "lToUcBtUM7BW"
      },
      "execution_count": 28,
      "outputs": []
    },
    {
      "cell_type": "code",
      "source": [
        "cleaned_df"
      ],
      "metadata": {
        "colab": {
          "base_uri": "https://localhost:8080/",
          "height": 423
        },
        "id": "pzpI9qe0B0PB",
        "outputId": "d0696952-548c-452c-ec02-049b66bf4d03"
      },
      "execution_count": 29,
      "outputs": [
        {
          "output_type": "execute_result",
          "data": {
            "text/plain": [
              "          id                                               text  target\n",
              "0          1         deed reason earthquake may allah forgive u       1\n",
              "1          4                         forest fire near la canada       1\n",
              "2          5  resident asked shelter place notified officer ...       1\n",
              "3          6  people receive wildfire evacuation order calif...       1\n",
              "4          7        got sent photo alaska smoke wildfire school       1\n",
              "...      ...                                                ...     ...\n",
              "11365  11365  medium warned u well advance wrecked whole nig...       0\n",
              "11366  11366  feel directly attacked consider moonbin amp ji...       0\n",
              "11367  11367  feel directly attacked consider moonbin amp ji...       0\n",
              "11368  11368  ok remember outcast nd au au wrecked nerve nd ...       0\n",
              "11369  11369                            jake wrecked running th       1\n",
              "\n",
              "[18956 rows x 3 columns]"
            ],
            "text/html": [
              "\n",
              "  <div id=\"df-74741bd5-6f9a-4f6d-a62b-6a74b369b665\">\n",
              "    <div class=\"colab-df-container\">\n",
              "      <div>\n",
              "<style scoped>\n",
              "    .dataframe tbody tr th:only-of-type {\n",
              "        vertical-align: middle;\n",
              "    }\n",
              "\n",
              "    .dataframe tbody tr th {\n",
              "        vertical-align: top;\n",
              "    }\n",
              "\n",
              "    .dataframe thead th {\n",
              "        text-align: right;\n",
              "    }\n",
              "</style>\n",
              "<table border=\"1\" class=\"dataframe\">\n",
              "  <thead>\n",
              "    <tr style=\"text-align: right;\">\n",
              "      <th></th>\n",
              "      <th>id</th>\n",
              "      <th>text</th>\n",
              "      <th>target</th>\n",
              "    </tr>\n",
              "  </thead>\n",
              "  <tbody>\n",
              "    <tr>\n",
              "      <th>0</th>\n",
              "      <td>1</td>\n",
              "      <td>deed reason earthquake may allah forgive u</td>\n",
              "      <td>1</td>\n",
              "    </tr>\n",
              "    <tr>\n",
              "      <th>1</th>\n",
              "      <td>4</td>\n",
              "      <td>forest fire near la canada</td>\n",
              "      <td>1</td>\n",
              "    </tr>\n",
              "    <tr>\n",
              "      <th>2</th>\n",
              "      <td>5</td>\n",
              "      <td>resident asked shelter place notified officer ...</td>\n",
              "      <td>1</td>\n",
              "    </tr>\n",
              "    <tr>\n",
              "      <th>3</th>\n",
              "      <td>6</td>\n",
              "      <td>people receive wildfire evacuation order calif...</td>\n",
              "      <td>1</td>\n",
              "    </tr>\n",
              "    <tr>\n",
              "      <th>4</th>\n",
              "      <td>7</td>\n",
              "      <td>got sent photo alaska smoke wildfire school</td>\n",
              "      <td>1</td>\n",
              "    </tr>\n",
              "    <tr>\n",
              "      <th>...</th>\n",
              "      <td>...</td>\n",
              "      <td>...</td>\n",
              "      <td>...</td>\n",
              "    </tr>\n",
              "    <tr>\n",
              "      <th>11365</th>\n",
              "      <td>11365</td>\n",
              "      <td>medium warned u well advance wrecked whole nig...</td>\n",
              "      <td>0</td>\n",
              "    </tr>\n",
              "    <tr>\n",
              "      <th>11366</th>\n",
              "      <td>11366</td>\n",
              "      <td>feel directly attacked consider moonbin amp ji...</td>\n",
              "      <td>0</td>\n",
              "    </tr>\n",
              "    <tr>\n",
              "      <th>11367</th>\n",
              "      <td>11367</td>\n",
              "      <td>feel directly attacked consider moonbin amp ji...</td>\n",
              "      <td>0</td>\n",
              "    </tr>\n",
              "    <tr>\n",
              "      <th>11368</th>\n",
              "      <td>11368</td>\n",
              "      <td>ok remember outcast nd au au wrecked nerve nd ...</td>\n",
              "      <td>0</td>\n",
              "    </tr>\n",
              "    <tr>\n",
              "      <th>11369</th>\n",
              "      <td>11369</td>\n",
              "      <td>jake wrecked running th</td>\n",
              "      <td>1</td>\n",
              "    </tr>\n",
              "  </tbody>\n",
              "</table>\n",
              "<p>18956 rows × 3 columns</p>\n",
              "</div>\n",
              "      <button class=\"colab-df-convert\" onclick=\"convertToInteractive('df-74741bd5-6f9a-4f6d-a62b-6a74b369b665')\"\n",
              "              title=\"Convert this dataframe to an interactive table.\"\n",
              "              style=\"display:none;\">\n",
              "        \n",
              "  <svg xmlns=\"http://www.w3.org/2000/svg\" height=\"24px\"viewBox=\"0 0 24 24\"\n",
              "       width=\"24px\">\n",
              "    <path d=\"M0 0h24v24H0V0z\" fill=\"none\"/>\n",
              "    <path d=\"M18.56 5.44l.94 2.06.94-2.06 2.06-.94-2.06-.94-.94-2.06-.94 2.06-2.06.94zm-11 1L8.5 8.5l.94-2.06 2.06-.94-2.06-.94L8.5 2.5l-.94 2.06-2.06.94zm10 10l.94 2.06.94-2.06 2.06-.94-2.06-.94-.94-2.06-.94 2.06-2.06.94z\"/><path d=\"M17.41 7.96l-1.37-1.37c-.4-.4-.92-.59-1.43-.59-.52 0-1.04.2-1.43.59L10.3 9.45l-7.72 7.72c-.78.78-.78 2.05 0 2.83L4 21.41c.39.39.9.59 1.41.59.51 0 1.02-.2 1.41-.59l7.78-7.78 2.81-2.81c.8-.78.8-2.07 0-2.86zM5.41 20L4 18.59l7.72-7.72 1.47 1.35L5.41 20z\"/>\n",
              "  </svg>\n",
              "      </button>\n",
              "      \n",
              "  <style>\n",
              "    .colab-df-container {\n",
              "      display:flex;\n",
              "      flex-wrap:wrap;\n",
              "      gap: 12px;\n",
              "    }\n",
              "\n",
              "    .colab-df-convert {\n",
              "      background-color: #E8F0FE;\n",
              "      border: none;\n",
              "      border-radius: 50%;\n",
              "      cursor: pointer;\n",
              "      display: none;\n",
              "      fill: #1967D2;\n",
              "      height: 32px;\n",
              "      padding: 0 0 0 0;\n",
              "      width: 32px;\n",
              "    }\n",
              "\n",
              "    .colab-df-convert:hover {\n",
              "      background-color: #E2EBFA;\n",
              "      box-shadow: 0px 1px 2px rgba(60, 64, 67, 0.3), 0px 1px 3px 1px rgba(60, 64, 67, 0.15);\n",
              "      fill: #174EA6;\n",
              "    }\n",
              "\n",
              "    [theme=dark] .colab-df-convert {\n",
              "      background-color: #3B4455;\n",
              "      fill: #D2E3FC;\n",
              "    }\n",
              "\n",
              "    [theme=dark] .colab-df-convert:hover {\n",
              "      background-color: #434B5C;\n",
              "      box-shadow: 0px 1px 3px 1px rgba(0, 0, 0, 0.15);\n",
              "      filter: drop-shadow(0px 1px 2px rgba(0, 0, 0, 0.3));\n",
              "      fill: #FFFFFF;\n",
              "    }\n",
              "  </style>\n",
              "\n",
              "      <script>\n",
              "        const buttonEl =\n",
              "          document.querySelector('#df-74741bd5-6f9a-4f6d-a62b-6a74b369b665 button.colab-df-convert');\n",
              "        buttonEl.style.display =\n",
              "          google.colab.kernel.accessAllowed ? 'block' : 'none';\n",
              "\n",
              "        async function convertToInteractive(key) {\n",
              "          const element = document.querySelector('#df-74741bd5-6f9a-4f6d-a62b-6a74b369b665');\n",
              "          const dataTable =\n",
              "            await google.colab.kernel.invokeFunction('convertToInteractive',\n",
              "                                                     [key], {});\n",
              "          if (!dataTable) return;\n",
              "\n",
              "          const docLinkHtml = 'Like what you see? Visit the ' +\n",
              "            '<a target=\"_blank\" href=https://colab.research.google.com/notebooks/data_table.ipynb>data table notebook</a>'\n",
              "            + ' to learn more about interactive tables.';\n",
              "          element.innerHTML = '';\n",
              "          dataTable['output_type'] = 'display_data';\n",
              "          await google.colab.output.renderOutput(dataTable, element);\n",
              "          const docLink = document.createElement('div');\n",
              "          docLink.innerHTML = docLinkHtml;\n",
              "          element.appendChild(docLink);\n",
              "        }\n",
              "      </script>\n",
              "    </div>\n",
              "  </div>\n",
              "  "
            ]
          },
          "metadata": {},
          "execution_count": 29
        }
      ]
    },
    {
      "cell_type": "code",
      "source": [
        "text = token_glove.create_list(cleaned_df['text'])\n",
        "token = token_glove.token_ize(text)\n",
        "X = token_glove.token_tweet(text, token)"
      ],
      "metadata": {
        "id": "9HhWN4-6M9Za"
      },
      "execution_count": 30,
      "outputs": []
    },
    {
      "cell_type": "code",
      "source": [
        "word_vector_matrix = token_glove.glove_vector(token)"
      ],
      "metadata": {
        "id": "Ecw82wPcNAH7"
      },
      "execution_count": 31,
      "outputs": []
    },
    {
      "cell_type": "code",
      "source": [
        "from tensorflow.keras.preprocessing.text import Tokenizer\n",
        "from tensorflow.keras.preprocessing.sequence import pad_sequences\n",
        "from tensorflow.keras.models import Sequential\n",
        "from tensorflow.keras.layers import Dense, Flatten, Embedding, Activation, Dropout, LSTM\n",
        "from tensorflow.keras.layers import Conv1D, MaxPooling1D, GlobalMaxPooling1D\n",
        "from tensorflow.keras.optimizers import Adam\n",
        "from tensorflow.keras.callbacks import EarlyStopping\n",
        "from tensorflow.keras import backend as K\n",
        "\n",
        "from sklearn.model_selection import train_test_split\n",
        "from sklearn.metrics import f1_score\n",
        "\n",
        "import numpy as np\n",
        "from numpy import array\n",
        "import pandas as pd\n",
        "import matplotlib.pyplot as plt\n",
        "%matplotlib inline"
      ],
      "metadata": {
        "id": "m7taHkuzNCQd"
      },
      "execution_count": 32,
      "outputs": []
    },
    {
      "cell_type": "code",
      "source": [
        "vocab_size = token_glove.voc_token(token)\n",
        "vec_size = 200"
      ],
      "metadata": {
        "id": "2f0zN-_ANuJL"
      },
      "execution_count": 33,
      "outputs": []
    },
    {
      "cell_type": "code",
      "source": [
        "y = cleaned_df['target']\n",
        "X_train, X_test, y_train, y_test = train_test_split(X, y, random_state=42, test_size= 0.3, stratify = y)"
      ],
      "metadata": {
        "id": "hb0VrCOBENc-"
      },
      "execution_count": 34,
      "outputs": []
    },
    {
      "cell_type": "markdown",
      "source": [
        "# **CNN**"
      ],
      "metadata": {
        "id": "y4Kxn-M3EE76"
      }
    },
    {
      "cell_type": "code",
      "source": [
        "model = Sequential()\n",
        "\n",
        "es = EarlyStopping(patience=10, restore_best_weights= True)\n",
        "\n",
        "model.add(Embedding(vocab_size, vec_size, input_length=max_long, weights = [word_vector_matrix], trainable = True))\n",
        "model.add(Conv1D(64, 8, activation ='relu'))\n",
        "model.add(MaxPooling1D(2))\n",
        "model.add(Dropout(0.5))\n",
        "model.add(Dense(32, activation='relu'))\n",
        "model.add(Dropout(0.5))\n",
        "model.add(Dense(16, activation='relu'))\n",
        "model.add(GlobalMaxPooling1D())\n",
        "model.add(Dense(1, activation='sigmoid'))\n",
        "model.compile(optimizer=Adam(learning_rate = 0.0001), loss = 'binary_crossentropy', metrics = [metrics.f1_m])\n",
        "history = model.fit(X_train, y_train, batch_size=64, epochs = 400, validation_data = (X_test, y_test), callbacks = [es])"
      ],
      "metadata": {
        "id": "JAJkAKMpNyte",
        "colab": {
          "base_uri": "https://localhost:8080/"
        },
        "outputId": "bdbb7cf8-b6b4-4574-a307-5d2b9fd58288"
      },
      "execution_count": 35,
      "outputs": [
        {
          "output_type": "stream",
          "name": "stdout",
          "text": [
            "Epoch 1/400\n",
            "208/208 [==============================] - 16s 71ms/step - loss: 0.6204 - f1_m: 0.1375 - val_loss: 0.5798 - val_f1_m: 0.1179\n",
            "Epoch 2/400\n",
            "208/208 [==============================] - 15s 73ms/step - loss: 0.5498 - f1_m: 0.2157 - val_loss: 0.5163 - val_f1_m: 0.5035\n",
            "Epoch 3/400\n",
            "208/208 [==============================] - 15s 70ms/step - loss: 0.5023 - f1_m: 0.4291 - val_loss: 0.4758 - val_f1_m: 0.6079\n",
            "Epoch 4/400\n",
            "208/208 [==============================] - 14s 67ms/step - loss: 0.4724 - f1_m: 0.5226 - val_loss: 0.4549 - val_f1_m: 0.6273\n",
            "Epoch 5/400\n",
            "208/208 [==============================] - 15s 71ms/step - loss: 0.4545 - f1_m: 0.5530 - val_loss: 0.4456 - val_f1_m: 0.6455\n",
            "Epoch 6/400\n",
            "208/208 [==============================] - 15s 74ms/step - loss: 0.4367 - f1_m: 0.5910 - val_loss: 0.4376 - val_f1_m: 0.6485\n",
            "Epoch 7/400\n",
            "208/208 [==============================] - 14s 69ms/step - loss: 0.4242 - f1_m: 0.6077 - val_loss: 0.4340 - val_f1_m: 0.6641\n",
            "Epoch 8/400\n",
            "208/208 [==============================] - 15s 71ms/step - loss: 0.4117 - f1_m: 0.6352 - val_loss: 0.4280 - val_f1_m: 0.6617\n",
            "Epoch 9/400\n",
            "208/208 [==============================] - 15s 72ms/step - loss: 0.4021 - f1_m: 0.6398 - val_loss: 0.4279 - val_f1_m: 0.6721\n",
            "Epoch 10/400\n",
            "208/208 [==============================] - 15s 72ms/step - loss: 0.3928 - f1_m: 0.6587 - val_loss: 0.4224 - val_f1_m: 0.6759\n",
            "Epoch 11/400\n",
            "208/208 [==============================] - 15s 72ms/step - loss: 0.3868 - f1_m: 0.6662 - val_loss: 0.4157 - val_f1_m: 0.6699\n",
            "Epoch 12/400\n",
            "208/208 [==============================] - 15s 73ms/step - loss: 0.3729 - f1_m: 0.6835 - val_loss: 0.4103 - val_f1_m: 0.6776\n",
            "Epoch 13/400\n",
            "208/208 [==============================] - 15s 73ms/step - loss: 0.3659 - f1_m: 0.6910 - val_loss: 0.4086 - val_f1_m: 0.6771\n",
            "Epoch 14/400\n",
            "208/208 [==============================] - 15s 71ms/step - loss: 0.3553 - f1_m: 0.7035 - val_loss: 0.4070 - val_f1_m: 0.6784\n",
            "Epoch 15/400\n",
            "208/208 [==============================] - 15s 73ms/step - loss: 0.3426 - f1_m: 0.7119 - val_loss: 0.4044 - val_f1_m: 0.6884\n",
            "Epoch 16/400\n",
            "208/208 [==============================] - 14s 68ms/step - loss: 0.3356 - f1_m: 0.7214 - val_loss: 0.3996 - val_f1_m: 0.6809\n",
            "Epoch 17/400\n",
            "208/208 [==============================] - 14s 67ms/step - loss: 0.3267 - f1_m: 0.7320 - val_loss: 0.4000 - val_f1_m: 0.6892\n",
            "Epoch 18/400\n",
            "208/208 [==============================] - 15s 72ms/step - loss: 0.3177 - f1_m: 0.7386 - val_loss: 0.3966 - val_f1_m: 0.6900\n",
            "Epoch 19/400\n",
            "208/208 [==============================] - 14s 69ms/step - loss: 0.3026 - f1_m: 0.7559 - val_loss: 0.3942 - val_f1_m: 0.6866\n",
            "Epoch 20/400\n",
            "208/208 [==============================] - 15s 71ms/step - loss: 0.2938 - f1_m: 0.7668 - val_loss: 0.3949 - val_f1_m: 0.6895\n",
            "Epoch 21/400\n",
            "208/208 [==============================] - 15s 73ms/step - loss: 0.2862 - f1_m: 0.7780 - val_loss: 0.3955 - val_f1_m: 0.6893\n",
            "Epoch 22/400\n",
            "208/208 [==============================] - 15s 73ms/step - loss: 0.2689 - f1_m: 0.7909 - val_loss: 0.3919 - val_f1_m: 0.6888\n",
            "Epoch 23/400\n",
            "208/208 [==============================] - 14s 66ms/step - loss: 0.2646 - f1_m: 0.7965 - val_loss: 0.4021 - val_f1_m: 0.6970\n",
            "Epoch 24/400\n",
            "208/208 [==============================] - 15s 71ms/step - loss: 0.2536 - f1_m: 0.8063 - val_loss: 0.3981 - val_f1_m: 0.6966\n",
            "Epoch 25/400\n",
            "208/208 [==============================] - 15s 71ms/step - loss: 0.2460 - f1_m: 0.8122 - val_loss: 0.3960 - val_f1_m: 0.6974\n",
            "Epoch 26/400\n",
            "208/208 [==============================] - 15s 70ms/step - loss: 0.2345 - f1_m: 0.8225 - val_loss: 0.4024 - val_f1_m: 0.7000\n",
            "Epoch 27/400\n",
            "208/208 [==============================] - 14s 69ms/step - loss: 0.2220 - f1_m: 0.8319 - val_loss: 0.4084 - val_f1_m: 0.6985\n",
            "Epoch 28/400\n",
            "208/208 [==============================] - 15s 71ms/step - loss: 0.2165 - f1_m: 0.8401 - val_loss: 0.4052 - val_f1_m: 0.6962\n",
            "Epoch 29/400\n",
            "208/208 [==============================] - 15s 73ms/step - loss: 0.2072 - f1_m: 0.8454 - val_loss: 0.4057 - val_f1_m: 0.6935\n",
            "Epoch 30/400\n",
            "208/208 [==============================] - 15s 73ms/step - loss: 0.1942 - f1_m: 0.8598 - val_loss: 0.4136 - val_f1_m: 0.6977\n",
            "Epoch 31/400\n",
            "208/208 [==============================] - 14s 70ms/step - loss: 0.1887 - f1_m: 0.8656 - val_loss: 0.4224 - val_f1_m: 0.6973\n",
            "Epoch 32/400\n",
            "208/208 [==============================] - 14s 69ms/step - loss: 0.1784 - f1_m: 0.8755 - val_loss: 0.4271 - val_f1_m: 0.6941\n"
          ]
        }
      ]
    },
    {
      "cell_type": "code",
      "source": [
        ""
      ],
      "metadata": {
        "id": "PExhsUcNEIld"
      },
      "execution_count": null,
      "outputs": []
    }
  ]
}